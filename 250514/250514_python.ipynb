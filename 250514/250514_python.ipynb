{
  "nbformat": 4,
  "nbformat_minor": 0,
  "metadata": {
    "colab": {
      "provenance": []
    },
    "kernelspec": {
      "name": "python3",
      "display_name": "Python 3"
    },
    "language_info": {
      "name": "python"
    }
  },
  "cells": [
    {
      "cell_type": "markdown",
      "source": [
        "- colab의 좋은 점: 시각화가 잘 되어 있고, 설치가 필요 없고, 학습을 빠르게 할 수 있다.(학습에 좋은 환경)\n",
        "- .py에 좋은 점: 실무에서는 colab으로 개발하는 것이 아니다. py로 만들어서 개발해야 한다"
      ],
      "metadata": {
        "id": "oX3LU70fZSb1"
      }
    },
    {
      "cell_type": "markdown",
      "source": [
        "# colab\n",
        "\n",
        "- gooogle id만 있으면 ram을 12G, disk를 100G나 되는 원격\n",
        "컴퓨터를 무료로 준다!\n",
        "- 여기에는 Python 환경이 모두 설정이 되어 있어서 별도의 설정이 필요없다!\n",
        "- google drive가 자동 연동되어서 별도로 다운로드 해서 저장할 필요가 없다!\n",
        "- Ctrl + Enter: 현재 셀 실행\n",
        "- Alt + Enter: 현재 셀 실행 + 아래 셀 하나 만들기"
      ],
      "metadata": {
        "id": "bRJQLwL5Io3M"
      }
    },
    {
      "cell_type": "markdown",
      "source": [
        "# 마크업과 마크다운\n",
        "\n",
        "```\n",
        "- HTML은 웹 브라우저나 고급 문서를 표현\n",
        "<h1>hello world</h1>\n",
        "<h2>hello world</h2>\n",
        "<p>hello world</p>\n",
        "\n",
        "- Markdown은 서식이 필요치 않은 문서를 표현\n",
        "# hello world\n",
        "## hello world\n",
        "```\n",
        "## 마크다운 문법(우리가 사용할 문법)\n",
        "```\n",
        "# hello world\n",
        "## hello world\n",
        "### hello world\n",
        "\n",
        "- hello world\n",
        "- hello world\n",
        "- hello world\n",
        "\n",
        "1. hello world\n",
        "2. hello world\n",
        "3. hello world\n",
        "```"
      ],
      "metadata": {
        "id": "tyBBwTZnFRTR"
      }
    },
    {
      "cell_type": "markdown",
      "source": [
        "# range"
      ],
      "metadata": {
        "id": "9qrzu5zgQZKX"
      }
    },
    {
      "cell_type": "code",
      "source": [
        "range(1, 10, 2) #start, stop, step"
      ],
      "metadata": {
        "colab": {
          "base_uri": "https://localhost:8080/"
        },
        "id": "JkFxwBYdZ6zn",
        "outputId": "573c4e5d-0e8b-4649-c64a-17b82d57d5d1"
      },
      "execution_count": null,
      "outputs": [
        {
          "output_type": "execute_result",
          "data": {
            "text/plain": [
              "range(1, 10, 2)"
            ]
          },
          "metadata": {},
          "execution_count": 113
        }
      ]
    },
    {
      "cell_type": "code",
      "source": [
        "l = [10, 20, 30, 40]\n",
        "l # 이렇게 마지막 라인에 한하여 print를 안해도 출력이 됩니다."
      ],
      "metadata": {
        "colab": {
          "base_uri": "https://localhost:8080/"
        },
        "id": "ZVk4uk3JJhtY",
        "outputId": "777b7df5-8757-4b2a-deef-6312f4fa1b27"
      },
      "execution_count": null,
      "outputs": [
        {
          "output_type": "execute_result",
          "data": {
            "text/plain": [
              "[10, 20, 30, 40]"
            ]
          },
          "metadata": {},
          "execution_count": 1
        }
      ]
    },
    {
      "cell_type": "code",
      "source": [
        "range(0, 10)\n",
        "[0, 1, 2, 3, 4, 5, 6, 7, 8, 9] # 아니 이렇게 왜 안나오는 거지?"
      ],
      "metadata": {
        "colab": {
          "base_uri": "https://localhost:8080/"
        },
        "id": "pMd_tfKvKHMN",
        "outputId": "c2086ac5-ef95-40bd-aedc-7aa1bc295a6c"
      },
      "execution_count": null,
      "outputs": [
        {
          "output_type": "execute_result",
          "data": {
            "text/plain": [
              "range(0, 10)"
            ]
          },
          "metadata": {},
          "execution_count": 2
        }
      ]
    },
    {
      "cell_type": "code",
      "source": [
        "# range()는 python 2.x에서는 list였습니다?!\n",
        "type(range(0,10)) # 왜 range 라는 타입일까요? (별도의 자료형이다)"
      ],
      "metadata": {
        "colab": {
          "base_uri": "https://localhost:8080/"
        },
        "id": "lBnUXKHTKfY4",
        "outputId": "6f7095dc-345a-40eb-a903-7696286e2693"
      },
      "execution_count": null,
      "outputs": [
        {
          "output_type": "execute_result",
          "data": {
            "text/plain": [
              "range"
            ]
          },
          "metadata": {},
          "execution_count": 4
        }
      ]
    },
    {
      "cell_type": "code",
      "source": [
        "# 파이썬은 속도를 올리기 위한 작업을 매 버전마다 해왔습니다.\n",
        "# 그래서 최종 목표는 C의 속도를 따라잡는 것입니다.\n",
        "# range(100000000000000) 이렇게 데이터를 생성한다고 생각해보세요.\n",
        "# 0 - 100000000000000에 숫자를 모두 메모리에 올려야 합니다.\n",
        "# xrange()라는 것을 만들어서 이를 해결했습니다.\n",
        "# xrange는 숫자를 생성하지 않고, start, stop, step 값으로 호출을 할 때 하나씩 생성을 하는 방식을 새롭게 도입했습니다.\n",
        "# xrange가 3.x로 오면서 range가 된 것입니다!"
      ],
      "metadata": {
        "id": "9iJjYDP8LDjH"
      },
      "execution_count": null,
      "outputs": []
    },
    {
      "cell_type": "code",
      "source": [
        "# range()의 인덱싱\n",
        "range(100)[3]\n",
        "range(100, 1000, 100)[3]"
      ],
      "metadata": {
        "colab": {
          "base_uri": "https://localhost:8080/"
        },
        "id": "Pih71KRLPeJx",
        "outputId": "c0fbd4b6-2d1d-4e4a-bd68-9eafd0d67a44"
      },
      "execution_count": null,
      "outputs": [
        {
          "output_type": "execute_result",
          "data": {
            "text/plain": [
              "400"
            ]
          },
          "metadata": {},
          "execution_count": 7
        }
      ]
    },
    {
      "cell_type": "code",
      "source": [
        "# range()의 슬라이싱\n",
        "range(100)[1:10]"
      ],
      "metadata": {
        "colab": {
          "base_uri": "https://localhost:8080/"
        },
        "id": "1FHx01tMPmfm",
        "outputId": "2815b0d4-d259-4aff-c80c-2c6e96663811"
      },
      "execution_count": null,
      "outputs": [
        {
          "output_type": "execute_result",
          "data": {
            "text/plain": [
              "range(1, 10)"
            ]
          },
          "metadata": {},
          "execution_count": 6
        }
      ]
    },
    {
      "cell_type": "code",
      "source": [
        "# range의 step 음수 값\n",
        "list(range(100, 9, -10))"
      ],
      "metadata": {
        "colab": {
          "base_uri": "https://localhost:8080/"
        },
        "id": "jumWaAyxP6kB",
        "outputId": "d12c9b6d-d05a-4358-87d1-b2b575e3f966"
      },
      "execution_count": null,
      "outputs": [
        {
          "output_type": "execute_result",
          "data": {
            "text/plain": [
              "[100, 90, 80, 70, 60, 50, 40, 30, 20, 10]"
            ]
          },
          "metadata": {},
          "execution_count": 10
        }
      ]
    },
    {
      "cell_type": "markdown",
      "source": [
        "# function(함수)"
      ],
      "metadata": {
        "id": "lgjKLPzSQgbV"
      }
    },
    {
      "cell_type": "code",
      "source": [
        "# function이라는 것이 왜 필요했을까?\n",
        "\n",
        "# 첫 번째 이유\n",
        "# 반복된 코드가 줄어든다\n",
        "def hello():\n",
        "\n",
        "    x = 10 # 이 코드가 반복되니 이 코드의 이름을 hello라고 하고, 이 코드 자리에 hello를 놓자!\n",
        "    y = 20\n",
        "    print(x + y)\n",
        "\n",
        "hello()\n",
        "\n",
        "hello()\n",
        "a = 10\n",
        "\n",
        "hello()\n",
        "b = 20\n",
        "\n",
        "hello()\n",
        "a + b\n",
        "\n",
        "hello()\n",
        "a - b"
      ],
      "metadata": {
        "colab": {
          "base_uri": "https://localhost:8080/"
        },
        "id": "dXMyOOgb5I_i",
        "outputId": "18d481f5-fb95-4f28-e7a1-63e59a2ca672"
      },
      "execution_count": null,
      "outputs": [
        {
          "output_type": "stream",
          "name": "stdout",
          "text": [
            "30\n"
          ]
        }
      ]
    },
    {
      "cell_type": "code",
      "source": [
        "# 두 번째 이유\n",
        "# 수만줄의 코드도 아래와 같이 함수로 쌓여있으면 '구조를 파악'하기 쉽습니다.\n",
        "# 함수로 쓰는 연습을 자주 하라\n",
        "\n",
        "땅파기()\n",
        "땅다지기()\n",
        "상하수도설치()\n",
        "벽돌쌓기()\n",
        "지붕올리기()\n",
        "내부인테리어()"
      ],
      "metadata": {
        "id": "P1Aed2xX6DRz"
      },
      "execution_count": null,
      "outputs": []
    },
    {
      "cell_type": "code",
      "source": [
        "# 세 번째 이유\n",
        "# 알지 않아도 되는 코드를 들여다보지 않을 수 있다.\n",
        "# 추상화\n",
        "# 자동차를 운전할 때 자동차 패달을 밟는다 해서\n",
        "# 엔진을 뜯어볼 필요가 있나? (X)\n",
        "# (내부 구현을 숨기고 필요한 기능만 외부에 노출시켜\n",
        "# 코드를 더 이해하기 쉽고 사용하기 편리하게 만드는 개념입니다.)\n",
        "\n",
        "땅파기()\n",
        "땅다지기()\n",
        "상하수도설치()\n",
        "벽돌쌓기() # 내 과업은 벽돌쌓기를 수정하는 것이다.\n",
        "지붕올리기()\n",
        "내부인테리어()"
      ],
      "metadata": {
        "id": "wiwtw1fa6YNO"
      },
      "execution_count": null,
      "outputs": []
    },
    {
      "cell_type": "code",
      "source": [
        "def hello():\n",
        "    x = 10\n",
        "    y= 20\n",
        "    return x + y"
      ],
      "metadata": {
        "id": "SIhrExLhQkWm"
      },
      "execution_count": null,
      "outputs": []
    },
    {
      "cell_type": "code",
      "source": [
        "# 파라미터와 아규먼트\n",
        "# 함수는 이름만 변수로 등록하고, 밑의 코드를 읽지 않는다!\n",
        "\n",
        "def xysum(x, y): # 함수를 정의하는 부분 (호출되기 전 까지는 읽지 않는다!)\n",
        "    return x + y\n",
        "\n",
        "xysum(10, 20) # 함수를 호출하는 부분 (아규먼트)"
      ],
      "metadata": {
        "id": "_H4xNppg7kn0"
      },
      "execution_count": null,
      "outputs": []
    },
    {
      "cell_type": "code",
      "source": [
        "# 파선아실 (파라미터는 선언할 때, 아규먼트는 실행 할 때)\n",
        "\n",
        "def xysum(x, y): # 함수를 정의하는 부분 (파라미터)\n",
        "    return x + y\n",
        "\n",
        "xysum(10, 20) # 함수를 호출하는 부분 (아규먼트)"
      ],
      "metadata": {
        "id": "ct97GqUh8WCr"
      },
      "execution_count": null,
      "outputs": []
    },
    {
      "cell_type": "code",
      "source": [
        "def xysum(x, y):\n",
        "    return (x + y) # 나를 호출한 곳에 그대로 이 값을 넣어주세요 # print는 에러가 난다\n",
        "\n",
        "result = xysum(10, 20) + xysum(30, 40) + xysum(50, 60)\n",
        "result"
      ],
      "metadata": {
        "colab": {
          "base_uri": "https://localhost:8080/"
        },
        "id": "oAJr-KXf8-tI",
        "outputId": "bddc1107-6ed0-4cca-e5b4-40f86e06e6f8"
      },
      "execution_count": null,
      "outputs": [
        {
          "output_type": "execute_result",
          "data": {
            "text/plain": [
              "210"
            ]
          },
          "metadata": {},
          "execution_count": 114
        }
      ]
    },
    {
      "cell_type": "code",
      "source": [
        "def xysum(x, y):\n",
        "    print(x + y) # 나를 호출한 곳에 그대로 이 값을 넣어주세요 # print는 에러가 난다\n",
        "\n",
        "result = xysum(10, 20) + xysum(30, 40) + xysum(50, 60) # None +None는 에러가 난다\n",
        "result"
      ],
      "metadata": {
        "colab": {
          "base_uri": "https://localhost:8080/",
          "height": 239
        },
        "id": "LVqvwVkLdBFx",
        "outputId": "7529bb59-8a19-4653-ba05-b1f4b5f2970e"
      },
      "execution_count": null,
      "outputs": [
        {
          "output_type": "stream",
          "name": "stdout",
          "text": [
            "30\n",
            "70\n"
          ]
        },
        {
          "output_type": "error",
          "ename": "TypeError",
          "evalue": "unsupported operand type(s) for +: 'NoneType' and 'NoneType'",
          "traceback": [
            "\u001b[0;31m---------------------------------------------------------------------------\u001b[0m",
            "\u001b[0;31mTypeError\u001b[0m                                 Traceback (most recent call last)",
            "\u001b[0;32m<ipython-input-115-35c75baf183b>\u001b[0m in \u001b[0;36m<cell line: 0>\u001b[0;34m()\u001b[0m\n\u001b[1;32m      2\u001b[0m     \u001b[0mprint\u001b[0m\u001b[0;34m(\u001b[0m\u001b[0mx\u001b[0m \u001b[0;34m+\u001b[0m \u001b[0my\u001b[0m\u001b[0;34m)\u001b[0m \u001b[0;31m# 나를 호출한 곳에 그대로 이 값을 넣어주세요 # print는 에러가 난다\u001b[0m\u001b[0;34m\u001b[0m\u001b[0;34m\u001b[0m\u001b[0m\n\u001b[1;32m      3\u001b[0m \u001b[0;34m\u001b[0m\u001b[0m\n\u001b[0;32m----> 4\u001b[0;31m \u001b[0mresult\u001b[0m \u001b[0;34m=\u001b[0m \u001b[0mxysum\u001b[0m\u001b[0;34m(\u001b[0m\u001b[0;36m10\u001b[0m\u001b[0;34m,\u001b[0m \u001b[0;36m20\u001b[0m\u001b[0;34m)\u001b[0m \u001b[0;34m+\u001b[0m \u001b[0mxysum\u001b[0m\u001b[0;34m(\u001b[0m\u001b[0;36m30\u001b[0m\u001b[0;34m,\u001b[0m \u001b[0;36m40\u001b[0m\u001b[0;34m)\u001b[0m \u001b[0;34m+\u001b[0m \u001b[0mxysum\u001b[0m\u001b[0;34m(\u001b[0m\u001b[0;36m50\u001b[0m\u001b[0;34m,\u001b[0m \u001b[0;36m60\u001b[0m\u001b[0;34m)\u001b[0m\u001b[0;34m\u001b[0m\u001b[0;34m\u001b[0m\u001b[0m\n\u001b[0m\u001b[1;32m      5\u001b[0m \u001b[0mresult\u001b[0m\u001b[0;34m\u001b[0m\u001b[0;34m\u001b[0m\u001b[0m\n",
            "\u001b[0;31mTypeError\u001b[0m: unsupported operand type(s) for +: 'NoneType' and 'NoneType'"
          ]
        }
      ]
    },
    {
      "cell_type": "code",
      "source": [
        "print(None)"
      ],
      "metadata": {
        "colab": {
          "base_uri": "https://localhost:8080/"
        },
        "id": "PtK51PwU9xSX",
        "outputId": "176e24db-6f91-41e3-9c00-163bee04403f"
      },
      "execution_count": null,
      "outputs": [
        {
          "output_type": "stream",
          "name": "stdout",
          "text": [
            "None\n"
          ]
        }
      ]
    },
    {
      "cell_type": "code",
      "source": [
        "def a(x, y):\n",
        "    z = x + y\n",
        "\n",
        "print(a(10, 20)) # None"
      ],
      "metadata": {
        "colab": {
          "base_uri": "https://localhost:8080/"
        },
        "id": "WSiC77CO9pBt",
        "outputId": "ffaddf8e-d2ec-4241-f3d5-c0058f603254"
      },
      "execution_count": null,
      "outputs": [
        {
          "output_type": "stream",
          "name": "stdout",
          "text": [
            "None\n"
          ]
        }
      ]
    },
    {
      "cell_type": "code",
      "source": [
        "def a(x, y):\n",
        "    z = x + y\n",
        "    return = None\n",
        "\n",
        "print(a(10, 20))"
      ],
      "metadata": {
        "id": "ljkYNCa196UH"
      },
      "execution_count": null,
      "outputs": []
    },
    {
      "cell_type": "code",
      "source": [
        "print(print(print('hello')))"
      ],
      "metadata": {
        "colab": {
          "base_uri": "https://localhost:8080/"
        },
        "id": "1bRFxEMW9_UE",
        "outputId": "8da949de-a2dc-4aeb-9e9e-97277f262b0f"
      },
      "execution_count": null,
      "outputs": [
        {
          "output_type": "stream",
          "name": "stdout",
          "text": [
            "hello\n",
            "None\n",
            "None\n"
          ]
        }
      ]
    },
    {
      "cell_type": "code",
      "source": [
        "# 파라미터가 있는 함수\n",
        "def hello(a):\n",
        "    return a\n",
        "\n",
        "#파라미터가 없는 함수\n",
        "def hello():\n",
        "    return 'hello world'"
      ],
      "metadata": {
        "id": "deXviHvQ_DVh"
      },
      "execution_count": null,
      "outputs": []
    },
    {
      "cell_type": "code",
      "source": [
        "# 리턴값이 있는 함수\n",
        "def add(a, b):\n",
        "    return a + b\n",
        "\n",
        "# 리턴값이 없는 함수 (None이 자동으로 들어간다)\n",
        "def add(a, b):\n",
        "    print(a + b)"
      ],
      "metadata": {
        "id": "3v4NqUul_GG6"
      },
      "execution_count": null,
      "outputs": []
    },
    {
      "cell_type": "code",
      "source": [
        "# 문제1: 2x + 15 방정식이 주어졌을 때, x값이 10일때 y값이 얼마인지 구하는 함수를 만드세요.\n",
        "\n",
        "def solution(x):\n",
        "    return 2 * x + 15\n",
        "\n",
        "solution(10)"
      ],
      "metadata": {
        "colab": {
          "base_uri": "https://localhost:8080/"
        },
        "id": "KcwGDM5F_xJm",
        "outputId": "816beb01-7838-427d-bac9-db40ea02a950"
      },
      "execution_count": null,
      "outputs": [
        {
          "output_type": "execute_result",
          "data": {
            "text/plain": [
              "35"
            ]
          },
          "metadata": {},
          "execution_count": 83
        }
      ]
    },
    {
      "cell_type": "code",
      "source": [
        "# map을 아직 안배웠어요!\n",
        "# map은 나중에 할 예정입니다. 지금 이 코드는 '어떻게 활용하는가?'에 대한 얘기입니다.\n",
        "list(map(solution, range(10)))"
      ],
      "metadata": {
        "colab": {
          "base_uri": "https://localhost:8080/"
        },
        "id": "Vq2DHuaPKGYp",
        "outputId": "44312bf7-d8ae-4ce2-c0ab-8fe640c7a628"
      },
      "execution_count": null,
      "outputs": [
        {
          "output_type": "execute_result",
          "data": {
            "text/plain": [
              "[15, 17, 19, 21, 23, 25, 27, 29, 31, 33]"
            ]
          },
          "metadata": {},
          "execution_count": 86
        }
      ]
    },
    {
      "cell_type": "code",
      "source": [
        "# 실제 모의 주식 그래프는 아래와 같이 그립니다. 이런 식으로 해서 그립니다.\n",
        "import random\n",
        "\n",
        "l = [15, 17, 19, 21, 23, 25, 27, 29, 31, 33]\n",
        "result = []\n",
        "for i in l:\n",
        "    result = result + [i + random.randint(-5, 5)]\n",
        "result"
      ],
      "metadata": {
        "colab": {
          "base_uri": "https://localhost:8080/"
        },
        "id": "Y_K3aEROKmLF",
        "outputId": "7b5519f6-db5e-485a-99da-16bd065b6979"
      },
      "execution_count": null,
      "outputs": [
        {
          "output_type": "execute_result",
          "data": {
            "text/plain": [
              "[17, 18, 16, 23, 27, 21, 32, 30, 28, 29]"
            ]
          },
          "metadata": {},
          "execution_count": 87
        }
      ]
    },
    {
      "cell_type": "code",
      "source": [
        "# 문제2: [10, 20, 30] + [1, 2, 3]이라고 했을 때 이 두 행렬을 요소별로 더하는 함수를 만드세요.\n",
        "# 관습적으로 안쓰는 코드는 변수 _ 에 할당합니다\n",
        "def solution(a, b):\n",
        "    for i, v in enumerate(a):\n",
        "        a[i] = v + b[i]\n",
        "    return a\n",
        "\n",
        "solution([10, 20, 30], [1, 2, 3])"
      ],
      "metadata": {
        "colab": {
          "base_uri": "https://localhost:8080/"
        },
        "id": "s4johU99APFg",
        "outputId": "f2b13347-a306-40d7-8d66-d8c6ecfc124f"
      },
      "execution_count": null,
      "outputs": [
        {
          "output_type": "execute_result",
          "data": {
            "text/plain": [
              "[11, 22, 33]"
            ]
          },
          "metadata": {},
          "execution_count": 88
        }
      ]
    },
    {
      "cell_type": "code",
      "source": [
        "# 문제2: [10, 20, 30] + [1, 2, 3]이라고 했을 때 이 두 행렬을 요소별로 더하는 함수를 만드세요.\n",
        "# 두번째 풀이\n",
        "def solution(a, b):\n",
        "    result = []\n",
        "    for i, _ in enumerate(a):\n",
        "        result.append(a[i] + b[i])\n",
        "    return result\n",
        "\n",
        "solution([10, 20, 30], [1, 2, 3])"
      ],
      "metadata": {
        "id": "Jjb7eVDRMbi0"
      },
      "execution_count": null,
      "outputs": []
    },
    {
      "cell_type": "code",
      "source": [
        "# 문제2: [10, 20, 30] + [1, 2, 3]이라고 했을 때 이 두 행렬을 요소별로 더하는 함수를 만드세요.\n",
        "# 좀 더 우아한 풀이\n",
        "\n",
        "def solution(a, b):\n",
        "    return list(map(sum, zip([10, 20, 30], [1, 2, 3])))\n",
        "\n",
        "solution([10, 20, 30], [1, 2, 3])"
      ],
      "metadata": {
        "colab": {
          "base_uri": "https://localhost:8080/"
        },
        "id": "DU4rU6iSNhUO",
        "outputId": "54a22760-14a5-4b5d-a4cd-7f124cd3146f"
      },
      "execution_count": null,
      "outputs": [
        {
          "output_type": "execute_result",
          "data": {
            "text/plain": [
              "[11, 22, 33]"
            ]
          },
          "metadata": {},
          "execution_count": 93
        }
      ]
    },
    {
      "cell_type": "code",
      "source": [
        "list(map(sum, zip([10, 20, 30], [1, 2, 3])))"
      ],
      "metadata": {
        "colab": {
          "base_uri": "https://localhost:8080/"
        },
        "id": "fvpNr0Z4NTl-",
        "outputId": "fd481c46-e729-49fd-e4a1-d5dda91d39e7"
      },
      "execution_count": null,
      "outputs": [
        {
          "output_type": "execute_result",
          "data": {
            "text/plain": [
              "[11, 22, 33]"
            ]
          },
          "metadata": {},
          "execution_count": 92
        }
      ]
    },
    {
      "cell_type": "code",
      "source": [
        "# 문제3: 행렬(리스트의 리스트)의 모든 요소에 특정 숫자를 곱하는 함수를 만드세요.\n",
        "# 예: [1, 2, 3, 4] * 2 = [2, 4, 6, 8]\n",
        "\n",
        "def solution(matrix, multiplier):\n",
        "    result = []\n",
        "    for i in matrix:\n",
        "        result.append(i * multiplier)\n",
        "    return result\n",
        "\n",
        "solution([1, 2, 3, 4], 2)"
      ],
      "metadata": {
        "colab": {
          "base_uri": "https://localhost:8080/"
        },
        "id": "lSRq9mTNBEb3",
        "outputId": "06ccf0e1-2cb5-425b-dfdd-e75f83ff26c9"
      },
      "execution_count": null,
      "outputs": [
        {
          "output_type": "execute_result",
          "data": {
            "text/plain": [
              "[2, 4, 6, 8]"
            ]
          },
          "metadata": {},
          "execution_count": 94
        }
      ]
    },
    {
      "cell_type": "code",
      "source": [
        "# 고급풀이\n",
        "def solution(matrix, multiplier):\n",
        "    return [i * multiplier for i in matrix]\n",
        "\n",
        "solution([1, 2, 3, 4], 2)"
      ],
      "metadata": {
        "colab": {
          "base_uri": "https://localhost:8080/"
        },
        "id": "R45SanIGOsI8",
        "outputId": "1132dce6-9447-49e7-c1b6-5940b1082470"
      },
      "execution_count": null,
      "outputs": [
        {
          "output_type": "execute_result",
          "data": {
            "text/plain": [
              "[2, 4, 6, 8]"
            ]
          },
          "metadata": {},
          "execution_count": 95
        }
      ]
    },
    {
      "cell_type": "code",
      "source": [
        "s = []\n",
        "for i in range(1, 10, 2):\n",
        "    s.append(i)\n",
        "s"
      ],
      "metadata": {
        "colab": {
          "base_uri": "https://localhost:8080/"
        },
        "id": "KCezWyOEPRg4",
        "outputId": "b4870966-ff5f-4cba-ce74-3c0852d4a581"
      },
      "execution_count": null,
      "outputs": [
        {
          "output_type": "execute_result",
          "data": {
            "text/plain": [
              "[1, 3, 5, 7, 9]"
            ]
          },
          "metadata": {},
          "execution_count": 97
        }
      ]
    },
    {
      "cell_type": "code",
      "source": [
        "[i for i in range(1, 10, 2)] # 리스트 컴프리핸션"
      ],
      "metadata": {
        "colab": {
          "base_uri": "https://localhost:8080/"
        },
        "id": "pjztqmYDPcgp",
        "outputId": "a8022dba-3ae7-406c-d894-c160eac60a0e"
      },
      "execution_count": null,
      "outputs": [
        {
          "output_type": "execute_result",
          "data": {
            "text/plain": [
              "[1, 3, 5, 7, 9]"
            ]
          },
          "metadata": {},
          "execution_count": 99
        }
      ]
    },
    {
      "cell_type": "code",
      "source": [
        "# 아래와 같은 코드는 가독성이 떨어지기 때문에 좋은 코드라고 보기 어렵다.\n",
        "# 파이썬에서는 읽기 좋은 코드에 가치를 높게 평가한다\n",
        "[f\"{i} X {j} = {i * j}\" for i in range(2, 10) for j in range(1, 10)]"
      ],
      "metadata": {
        "colab": {
          "base_uri": "https://localhost:8080/"
        },
        "id": "8YqXIt8_PoXE",
        "outputId": "72f1fb67-b684-4bef-a2b7-ac59539f6a86"
      },
      "execution_count": null,
      "outputs": [
        {
          "output_type": "execute_result",
          "data": {
            "text/plain": [
              "['2 X 1 = 2',\n",
              " '2 X 2 = 4',\n",
              " '2 X 3 = 6',\n",
              " '2 X 4 = 8',\n",
              " '2 X 5 = 10',\n",
              " '2 X 6 = 12',\n",
              " '2 X 7 = 14',\n",
              " '2 X 8 = 16',\n",
              " '2 X 9 = 18',\n",
              " '3 X 1 = 3',\n",
              " '3 X 2 = 6',\n",
              " '3 X 3 = 9',\n",
              " '3 X 4 = 12',\n",
              " '3 X 5 = 15',\n",
              " '3 X 6 = 18',\n",
              " '3 X 7 = 21',\n",
              " '3 X 8 = 24',\n",
              " '3 X 9 = 27',\n",
              " '4 X 1 = 4',\n",
              " '4 X 2 = 8',\n",
              " '4 X 3 = 12',\n",
              " '4 X 4 = 16',\n",
              " '4 X 5 = 20',\n",
              " '4 X 6 = 24',\n",
              " '4 X 7 = 28',\n",
              " '4 X 8 = 32',\n",
              " '4 X 9 = 36',\n",
              " '5 X 1 = 5',\n",
              " '5 X 2 = 10',\n",
              " '5 X 3 = 15',\n",
              " '5 X 4 = 20',\n",
              " '5 X 5 = 25',\n",
              " '5 X 6 = 30',\n",
              " '5 X 7 = 35',\n",
              " '5 X 8 = 40',\n",
              " '5 X 9 = 45',\n",
              " '6 X 1 = 6',\n",
              " '6 X 2 = 12',\n",
              " '6 X 3 = 18',\n",
              " '6 X 4 = 24',\n",
              " '6 X 5 = 30',\n",
              " '6 X 6 = 36',\n",
              " '6 X 7 = 42',\n",
              " '6 X 8 = 48',\n",
              " '6 X 9 = 54',\n",
              " '7 X 1 = 7',\n",
              " '7 X 2 = 14',\n",
              " '7 X 3 = 21',\n",
              " '7 X 4 = 28',\n",
              " '7 X 5 = 35',\n",
              " '7 X 6 = 42',\n",
              " '7 X 7 = 49',\n",
              " '7 X 8 = 56',\n",
              " '7 X 9 = 63',\n",
              " '8 X 1 = 8',\n",
              " '8 X 2 = 16',\n",
              " '8 X 3 = 24',\n",
              " '8 X 4 = 32',\n",
              " '8 X 5 = 40',\n",
              " '8 X 6 = 48',\n",
              " '8 X 7 = 56',\n",
              " '8 X 8 = 64',\n",
              " '8 X 9 = 72',\n",
              " '9 X 1 = 9',\n",
              " '9 X 2 = 18',\n",
              " '9 X 3 = 27',\n",
              " '9 X 4 = 36',\n",
              " '9 X 5 = 45',\n",
              " '9 X 6 = 54',\n",
              " '9 X 7 = 63',\n",
              " '9 X 8 = 72',\n",
              " '9 X 9 = 81']"
            ]
          },
          "metadata": {},
          "execution_count": 101
        }
      ]
    },
    {
      "cell_type": "code",
      "source": [
        "# 문제4: 프로그래머스 (카카오 코딩 테스트 보는 공간)에 문제 하나 풀기.\n",
        "# 기업에서 이런식으로 알고리즘 테스트가 나옵니다. (알고리즘은 암기과목..)\n",
        "# https://school.programmers.co.kr/learn/courses/30/lessons/181928\n",
        "\n",
        "def solution(num_list):\n",
        "    짝수 = ''\n",
        "    홀수 = ''\n",
        "    for i in num_list:\n",
        "        if i % 2 == 0:\n",
        "            짝수 += str(i)\n",
        "        else:\n",
        "            홀수 += str(i)\n",
        "    answer = int(짝수) + int(홀수)\n",
        "    return answer\n",
        "\n",
        "solution([3, 4, 5, 2, 1])"
      ],
      "metadata": {
        "colab": {
          "base_uri": "https://localhost:8080/"
        },
        "id": "5yoLyzTnB--K",
        "outputId": "2e90ae47-91d4-494e-fd23-9920fd7690ee"
      },
      "execution_count": null,
      "outputs": [
        {
          "output_type": "execute_result",
          "data": {
            "text/plain": [
              "393"
            ]
          },
          "metadata": {},
          "execution_count": 102
        }
      ]
    },
    {
      "cell_type": "code",
      "source": [
        "# 파라미터에 기본값이 정해져 있는 경우!\n",
        "def add(x = 10, y = 20):\n",
        "    return x + y\n",
        "\n",
        "add()"
      ],
      "metadata": {
        "colab": {
          "base_uri": "https://localhost:8080/"
        },
        "id": "PYsLx1tHUgFN",
        "outputId": "c8203fbb-a7ef-4c1d-a543-6d38cec8410c"
      },
      "execution_count": null,
      "outputs": [
        {
          "output_type": "execute_result",
          "data": {
            "text/plain": [
              "30"
            ]
          },
          "metadata": {},
          "execution_count": 103
        }
      ]
    },
    {
      "cell_type": "code",
      "source": [
        "# 지역변수 전역변수\n",
        "# 함수에서 선언된 변수들은 휘발된다\n",
        "\n",
        "x = 10\n",
        "\n",
        "def hello():\n",
        "    print(x) # 밖에 있는 변수는 읽을 수는 있다\n",
        "\n",
        "hello()"
      ],
      "metadata": {
        "colab": {
          "base_uri": "https://localhost:8080/"
        },
        "id": "ZhdAFaBHVszL",
        "outputId": "edb6e165-19b5-44e5-d7c7-4461e00b8d5d"
      },
      "execution_count": null,
      "outputs": [
        {
          "output_type": "stream",
          "name": "stdout",
          "text": [
            "10\n"
          ]
        }
      ]
    },
    {
      "cell_type": "code",
      "source": [
        "x = 10\n",
        "\n",
        "def hello():\n",
        "    x += 1 # 밖에 있는 변수를 수정할 수 는 없다\n",
        "\n",
        "hello()"
      ],
      "metadata": {
        "colab": {
          "base_uri": "https://localhost:8080/",
          "height": 312
        },
        "id": "zWnANLoxWgGp",
        "outputId": "79bdb36a-a45d-441e-8b54-f836ab8762ce"
      },
      "execution_count": null,
      "outputs": [
        {
          "output_type": "error",
          "ename": "UnboundLocalError",
          "evalue": "cannot access local variable 'x' where it is not associated with a value",
          "traceback": [
            "\u001b[0;31m---------------------------------------------------------------------------\u001b[0m",
            "\u001b[0;31mUnboundLocalError\u001b[0m                         Traceback (most recent call last)",
            "\u001b[0;32m<ipython-input-108-a43cceaab16a>\u001b[0m in \u001b[0;36m<cell line: 0>\u001b[0;34m()\u001b[0m\n\u001b[1;32m      4\u001b[0m     \u001b[0mx\u001b[0m \u001b[0;34m+=\u001b[0m \u001b[0;36m1\u001b[0m \u001b[0;31m# 밖에 있는 변수를 수정할 수 는 없다\u001b[0m\u001b[0;34m\u001b[0m\u001b[0;34m\u001b[0m\u001b[0m\n\u001b[1;32m      5\u001b[0m \u001b[0;34m\u001b[0m\u001b[0m\n\u001b[0;32m----> 6\u001b[0;31m \u001b[0mhello\u001b[0m\u001b[0;34m(\u001b[0m\u001b[0;34m)\u001b[0m\u001b[0;34m\u001b[0m\u001b[0;34m\u001b[0m\u001b[0m\n\u001b[0m",
            "\u001b[0;32m<ipython-input-108-a43cceaab16a>\u001b[0m in \u001b[0;36mhello\u001b[0;34m()\u001b[0m\n\u001b[1;32m      2\u001b[0m \u001b[0;34m\u001b[0m\u001b[0m\n\u001b[1;32m      3\u001b[0m \u001b[0;32mdef\u001b[0m \u001b[0mhello\u001b[0m\u001b[0;34m(\u001b[0m\u001b[0;34m)\u001b[0m\u001b[0;34m:\u001b[0m\u001b[0;34m\u001b[0m\u001b[0;34m\u001b[0m\u001b[0m\n\u001b[0;32m----> 4\u001b[0;31m     \u001b[0mx\u001b[0m \u001b[0;34m+=\u001b[0m \u001b[0;36m1\u001b[0m \u001b[0;31m# 밖에 있는 변수를 수정할 수 는 없다\u001b[0m\u001b[0;34m\u001b[0m\u001b[0;34m\u001b[0m\u001b[0m\n\u001b[0m\u001b[1;32m      5\u001b[0m \u001b[0;34m\u001b[0m\u001b[0m\n\u001b[1;32m      6\u001b[0m \u001b[0mhello\u001b[0m\u001b[0;34m(\u001b[0m\u001b[0;34m)\u001b[0m\u001b[0;34m\u001b[0m\u001b[0;34m\u001b[0m\u001b[0m\n",
            "\u001b[0;31mUnboundLocalError\u001b[0m: cannot access local variable 'x' where it is not associated with a value"
          ]
        }
      ]
    },
    {
      "cell_type": "code",
      "source": [
        "x = 10 # 전역변수\n",
        "\n",
        "def hello():\n",
        "    x = 100 # 지역변수(함수내부에서 선언되는 변수) 100\n",
        "    # return None은 생략 가능하다.\n",
        "\n",
        "hello()\n",
        "print(x)"
      ],
      "metadata": {
        "colab": {
          "base_uri": "https://localhost:8080/"
        },
        "id": "vdB_2EvVWqBm",
        "outputId": "6cf01ed6-aafe-4392-9461-d9aae0c0d035"
      },
      "execution_count": null,
      "outputs": [
        {
          "output_type": "stream",
          "name": "stdout",
          "text": [
            "10\n"
          ]
        }
      ]
    },
    {
      "cell_type": "code",
      "source": [
        "x = 10 # 전역변수\n",
        "\n",
        "def hello(input_x):\n",
        "    input_x += 10\n",
        "    return input_x\n",
        "\n",
        "x = hello(x) # 초급자: 아니? 이렇게 불편하게 써야하나?\n",
        "print(x)"
      ],
      "metadata": {
        "id": "pzVv2dfKXYnN"
      },
      "execution_count": null,
      "outputs": []
    },
    {
      "cell_type": "code",
      "source": [
        "# 초급자의 마음: 이렇게하면 되잖아?(아님)\n",
        "# ->아주 짧은 코드에서는 맞는 이야기 이지만\n",
        "# 실무에서는 깨끗한 코드, 구조화 되어있는 코드, 견고한 코드가 필요하다.\n",
        "x = 10\n",
        "x += 10\n",
        "\n",
        "print(x)"
      ],
      "metadata": {
        "id": "CKJlURgkXnfu"
      },
      "execution_count": null,
      "outputs": []
    },
    {
      "cell_type": "code",
      "source": [
        "# 대부분 아래 코드는 안좋은 사례로 꼽힙니다.\n",
        "\n",
        "x = 10\n",
        "def hello():\n",
        "    global x\n",
        "    x += 100\n",
        "\n",
        "hello()\n",
        "print(x)"
      ],
      "metadata": {
        "colab": {
          "base_uri": "https://localhost:8080/"
        },
        "id": "1Xehw3U_YGif",
        "outputId": "a636f394-27e9-48d6-a752-64e0ca8256d3"
      },
      "execution_count": null,
      "outputs": [
        {
          "output_type": "stream",
          "name": "stdout",
          "text": [
            "110\n"
          ]
        }
      ]
    },
    {
      "cell_type": "code",
      "source": [
        "# 자주 사용하지는 않음. (실무에서 쓰면 난리남.)\n",
        "# locals()\n",
        "# globals()"
      ],
      "metadata": {
        "id": "xZugiXHmY1Vc"
      },
      "execution_count": null,
      "outputs": []
    },
    {
      "cell_type": "code",
      "source": [
        "def add(a, b):\n",
        "    z = a + b\n",
        "    print(locals())\n",
        "    return z\n",
        "\n",
        "add(10, 20)"
      ],
      "metadata": {
        "colab": {
          "base_uri": "https://localhost:8080/"
        },
        "id": "d-QTEIPXY6b7",
        "outputId": "e9ee0f8b-0a1c-4a9b-e011-5c3802691759"
      },
      "execution_count": null,
      "outputs": [
        {
          "output_type": "stream",
          "name": "stdout",
          "text": [
            "{'a': 10, 'b': 20, 'z': 30}\n"
          ]
        },
        {
          "output_type": "execute_result",
          "data": {
            "text/plain": [
              "30"
            ]
          },
          "metadata": {},
          "execution_count": 112
        }
      ]
    },
    {
      "cell_type": "code",
      "source": [
        "# hello라는 것은 무엇일까?\n",
        "# print라는 것은 무엇일까?\n",
        "\n",
        "# hello든 print든 변수입니다! 함수의 이름은 변수입니다."
      ],
      "metadata": {
        "id": "SZdYGqATQt_M"
      },
      "execution_count": null,
      "outputs": []
    },
    {
      "cell_type": "code",
      "source": [
        "a = print\n",
        "a('hello world')"
      ],
      "metadata": {
        "colab": {
          "base_uri": "https://localhost:8080/"
        },
        "id": "5HjZaaGtQ7uf",
        "outputId": "f85980e7-afe0-4841-c7cf-14c86208ca10"
      },
      "execution_count": null,
      "outputs": [
        {
          "output_type": "stream",
          "name": "stdout",
          "text": [
            "hello world\n"
          ]
        }
      ]
    },
    {
      "cell_type": "code",
      "source": [
        " l = [a, a, a, a, a]\n",
        " l[0]('hello')"
      ],
      "metadata": {
        "colab": {
          "base_uri": "https://localhost:8080/"
        },
        "id": "6-YbiQ81RCYU",
        "outputId": "8e5012a9-f8ca-4fb3-9a2e-035f148aa06e"
      },
      "execution_count": null,
      "outputs": [
        {
          "output_type": "stream",
          "name": "stdout",
          "text": [
            "hello\n"
          ]
        }
      ]
    },
    {
      "cell_type": "markdown",
      "source": [
        "## 함수과제(0512)"
      ],
      "metadata": {
        "id": "9JkTcZRNiSbi"
      }
    },
    {
      "cell_type": "code",
      "source": [
        "# 문제1: 두 수를 더하는 함수를 만드세요.\n",
        "def solution(a, b):\n",
        "    return a + b\n",
        "\n",
        "solution(5, 3)  # 결과: 8"
      ],
      "metadata": {
        "colab": {
          "base_uri": "https://localhost:8080/"
        },
        "id": "6nju8cTLiPXG",
        "outputId": "813c75fd-1c13-49c0-c4ee-e378bc548cbf"
      },
      "execution_count": null,
      "outputs": [
        {
          "output_type": "execute_result",
          "data": {
            "text/plain": [
              "8"
            ]
          },
          "metadata": {},
          "execution_count": 116
        }
      ]
    },
    {
      "cell_type": "code",
      "source": [
        "# 문제2: 두 수를 곱하는 함수를 만드세요.\n",
        "def solution(a, b):\n",
        "    return a * b\n",
        "\n",
        "solution(4, 7)  # 결과: 28"
      ],
      "metadata": {
        "colab": {
          "base_uri": "https://localhost:8080/"
        },
        "id": "uM0yuEy3iRNo",
        "outputId": "f3aa29a5-d9f0-41b8-fa9b-aeb29c537519"
      },
      "execution_count": null,
      "outputs": [
        {
          "output_type": "execute_result",
          "data": {
            "text/plain": [
              "28"
            ]
          },
          "metadata": {},
          "execution_count": 117
        }
      ]
    },
    {
      "cell_type": "code",
      "source": [
        "# 문제3: 리스트의 모든 숫자를 더하는 함수를 만드세요.\n",
        "def solution(numbers):\n",
        "    return sum(numbers)\n",
        "\n",
        "solution([1, 2, 3, 4, 5])  # 결과: 15"
      ],
      "metadata": {
        "colab": {
          "base_uri": "https://localhost:8080/"
        },
        "id": "PZb06oVVic9b",
        "outputId": "0b57dae2-dfb7-4494-cb37-c8879c5cbee4"
      },
      "execution_count": null,
      "outputs": [
        {
          "output_type": "execute_result",
          "data": {
            "text/plain": [
              "15"
            ]
          },
          "metadata": {},
          "execution_count": 119
        }
      ]
    },
    {
      "cell_type": "code",
      "source": [
        "# 문제3번 다른풀이 (for문 활용)\n",
        "def solution(numbers):\n",
        "    result = 0\n",
        "    for i in numbers:\n",
        "        result += i\n",
        "    return result\n",
        "\n",
        "solution([1, 2, 3, 4, 5])  # 결과: 15"
      ],
      "metadata": {
        "colab": {
          "base_uri": "https://localhost:8080/"
        },
        "id": "AvRwStrfPGU1",
        "outputId": "79f27af3-040c-42f8-d24d-a326253a6f59"
      },
      "execution_count": null,
      "outputs": [
        {
          "output_type": "execute_result",
          "data": {
            "text/plain": [
              "15"
            ]
          },
          "metadata": {},
          "execution_count": 2
        }
      ]
    },
    {
      "cell_type": "code",
      "source": [
        "# 문제4: 리스트의 평균값을 계산하는 함수를 만드세요.\n",
        "def solution(numbers):\n",
        "    return sum(numbers) / len(numbers)\n",
        "\n",
        "solution([10, 20, 30, 40])  # 결과: 25.0"
      ],
      "metadata": {
        "colab": {
          "base_uri": "https://localhost:8080/"
        },
        "id": "wyfbm1KpieMp",
        "outputId": "d2c9532a-1959-41c7-abed-01312c09fac5"
      },
      "execution_count": null,
      "outputs": [
        {
          "output_type": "execute_result",
          "data": {
            "text/plain": [
              "25.0"
            ]
          },
          "metadata": {},
          "execution_count": 4
        }
      ]
    },
    {
      "cell_type": "code",
      "source": [
        "# 문제4 다른풀이 (for문 활용)\n",
        "def solution(numbers):\n",
        "    result = 0\n",
        "    for i in numbers:\n",
        "        result += i\n",
        "    return result / len(numbers)\n",
        "\n",
        "solution([10, 20, 30, 40])  # 결과: 25.0"
      ],
      "metadata": {
        "colab": {
          "base_uri": "https://localhost:8080/"
        },
        "id": "RKRUkfdPPtv0",
        "outputId": "5753bab7-117e-4dbe-8f55-b72e6ee23192"
      },
      "execution_count": null,
      "outputs": [
        {
          "output_type": "execute_result",
          "data": {
            "text/plain": [
              "25.0"
            ]
          },
          "metadata": {},
          "execution_count": 3
        }
      ]
    },
    {
      "cell_type": "code",
      "source": [
        "# 문제5: 문자열의 길이를 반환하는 함수를 만드세요.\n",
        "def solution(text):\n",
        "    return len(text)\n",
        "\n",
        "solution(\"파이썬\")  # 결과: 3"
      ],
      "metadata": {
        "colab": {
          "base_uri": "https://localhost:8080/"
        },
        "id": "rZwtVRElifgp",
        "outputId": "d1b11378-a3bf-42e6-d8c0-6ed1181ef55a"
      },
      "execution_count": null,
      "outputs": [
        {
          "output_type": "execute_result",
          "data": {
            "text/plain": [
              "3"
            ]
          },
          "metadata": {},
          "execution_count": 121
        }
      ]
    },
    {
      "cell_type": "code",
      "source": [
        "# 문제5 다른풀이 (for문 활용)\n",
        "def solution(text):\n",
        "    count = 0\n",
        "    for _ in text: # i가 안쓰이면 _(언더바)처리 하는게 관습적이다.\n",
        "        count += 1\n",
        "    return count\n",
        "\n",
        "solution(\"파이썬\")  # 결과: 3"
      ],
      "metadata": {
        "colab": {
          "base_uri": "https://localhost:8080/"
        },
        "id": "RkAT0fMGQuYE",
        "outputId": "133f13c8-a002-4c16-a732-d2c2f45766e6"
      },
      "execution_count": null,
      "outputs": [
        {
          "output_type": "execute_result",
          "data": {
            "text/plain": [
              "3"
            ]
          },
          "metadata": {},
          "execution_count": 5
        }
      ]
    },
    {
      "cell_type": "code",
      "source": [
        "# 문제6: 리스트에서 가장 큰 수를 찾는 함수를 만드세요.\n",
        "def solution(numbers):\n",
        "    return max(numbers)\n",
        "\n",
        "solution([7, 12, 3, 8, 4])  # 결과: 12"
      ],
      "metadata": {
        "colab": {
          "base_uri": "https://localhost:8080/"
        },
        "id": "KR3GYklAigwv",
        "outputId": "fa7097cf-72be-4f17-9462-358c49ae175f"
      },
      "execution_count": null,
      "outputs": [
        {
          "output_type": "execute_result",
          "data": {
            "text/plain": [
              "12"
            ]
          },
          "metadata": {},
          "execution_count": 123
        }
      ]
    },
    {
      "cell_type": "code",
      "source": [
        "# 문제6 다른풀이 ()\n",
        "# sorted나 max와 같은 것을 쓰지 않고 반복문 만으로 풀어보기\n",
        "# 단, 실제 문제를 이렇게 풀진 않는다.\n",
        "# 원리에 다가간다는 의의가 있다.\n",
        "# 최댓값 => 최솟값을 먼저 저장\n",
        "# 최솟값 => 최댓값을 먼저 저장\n",
        "def solution(numbers):\n",
        "    max_value = float('-inf') # 최솟값\n",
        "    for i in numbers:\n",
        "        if i > max_value:\n",
        "            max_value = i\n",
        "    return max_value\n",
        "\n",
        "\n",
        "solution([7, 12, 3, 8, 4])  # 결과: 12"
      ],
      "metadata": {
        "colab": {
          "base_uri": "https://localhost:8080/"
        },
        "id": "a_GyyPu6RN-R",
        "outputId": "ef729fe8-a366-4c5c-f5f6-5f94ed935b8c"
      },
      "execution_count": null,
      "outputs": [
        {
          "output_type": "execute_result",
          "data": {
            "text/plain": [
              "12"
            ]
          },
          "metadata": {},
          "execution_count": 8
        }
      ]
    },
    {
      "cell_type": "code",
      "source": [
        "float('inf') > 10 # True\n",
        "float('-inf') > 10 # False"
      ],
      "metadata": {
        "colab": {
          "base_uri": "https://localhost:8080/"
        },
        "id": "NqL_iBfsSAA8",
        "outputId": "3350183f-e917-445e-8244-be9542e104b1"
      },
      "execution_count": null,
      "outputs": [
        {
          "output_type": "execute_result",
          "data": {
            "text/plain": [
              "False"
            ]
          },
          "metadata": {},
          "execution_count": 7
        }
      ]
    },
    {
      "cell_type": "code",
      "source": [
        "# 문제7: 리스트에서 가장 작은 수를 찾는 함수를 만드세요.\n",
        "def solution(numbers):\n",
        "    return min(numbers)\n",
        "\n",
        "solution([7, 12, 3, 8, 4])  # 결과: 3"
      ],
      "metadata": {
        "colab": {
          "base_uri": "https://localhost:8080/"
        },
        "id": "FdIi1zvEih6H",
        "outputId": "4a429317-cc34-433c-a6ff-b6d455b5f024"
      },
      "execution_count": null,
      "outputs": [
        {
          "output_type": "execute_result",
          "data": {
            "text/plain": [
              "3"
            ]
          },
          "metadata": {},
          "execution_count": 124
        }
      ]
    },
    {
      "cell_type": "code",
      "source": [
        "# 문제7 다른풀이\n",
        "def solution(numbers):\n",
        "    min_value = float('inf')\n",
        "    for i in numbers:\n",
        "        if i < min_value:\n",
        "            min_value = i\n",
        "    return min_value\n",
        "\n",
        "solution([7, 12, 3, 8, 4])  # 결과: 3"
      ],
      "metadata": {
        "colab": {
          "base_uri": "https://localhost:8080/"
        },
        "id": "2987bIGwSw0L",
        "outputId": "35c7b595-e27c-4e99-d688-e72be7516997"
      },
      "execution_count": null,
      "outputs": [
        {
          "output_type": "execute_result",
          "data": {
            "text/plain": [
              "3"
            ]
          },
          "metadata": {},
          "execution_count": 11
        }
      ]
    },
    {
      "cell_type": "code",
      "source": [
        "# 문제8: 문자열을 n번 반복하는 함수를 만드세요.\n",
        "def solution(text, n):\n",
        "    return text * n\n",
        "\n",
        "solution(\"안녕\", 3)  # 결과: \"안녕안녕안녕\""
      ],
      "metadata": {
        "colab": {
          "base_uri": "https://localhost:8080/",
          "height": 35
        },
        "id": "r68n-99EijPU",
        "outputId": "71f69663-9df6-40f3-8ebc-90af21733906"
      },
      "execution_count": null,
      "outputs": [
        {
          "output_type": "execute_result",
          "data": {
            "text/plain": [
              "'안녕안녕안녕'"
            ],
            "application/vnd.google.colaboratory.intrinsic+json": {
              "type": "string"
            }
          },
          "metadata": {},
          "execution_count": 125
        }
      ]
    },
    {
      "cell_type": "code",
      "source": [
        "# 문제9: 주어진 숫자가 짝수인지 확인하는 함수를 만드세요. (짝수면 True, 홀수면 False 반환)\n",
        "def solution(number):\n",
        "    if number % 2 == 0:\n",
        "        return True\n",
        "    else:\n",
        "        return False\n",
        "\n",
        "solution(6)  # 결과: True\n",
        "solution(9)  # 결과: False"
      ],
      "metadata": {
        "colab": {
          "base_uri": "https://localhost:8080/"
        },
        "id": "7MH6oliYikTE",
        "outputId": "28811975-3709-4ee8-c68a-08a478b85129"
      },
      "execution_count": null,
      "outputs": [
        {
          "output_type": "execute_result",
          "data": {
            "text/plain": [
              "False"
            ]
          },
          "metadata": {},
          "execution_count": 129
        }
      ]
    },
    {
      "cell_type": "markdown",
      "source": [
        "# 변수"
      ],
      "metadata": {
        "id": "5iKSItxdRyF0"
      }
    },
    {
      "cell_type": "code",
      "source": [
        "a = 10\n",
        "b = a\n",
        "c = b\n",
        "\n",
        "c\n",
        "\n",
        "# 화살표는 어떻게 그려지는 것일까요? 답은 2번입니다!\n",
        "# 1번 c -> b -> a -> 10\n",
        "# 2번:\n",
        "# a -> 10\n",
        "# b -> 10\n",
        "# c -> 10"
      ],
      "metadata": {
        "colab": {
          "base_uri": "https://localhost:8080/"
        },
        "id": "2BGbjXvrRzoR",
        "outputId": "f99cb259-e08d-4063-869c-7c1004006ad2"
      },
      "execution_count": null,
      "outputs": [
        {
          "output_type": "execute_result",
          "data": {
            "text/plain": [
              "10"
            ]
          },
          "metadata": {},
          "execution_count": 14
        }
      ]
    },
    {
      "cell_type": "code",
      "source": [
        "# 증명\n",
        "a = 10\n",
        "b = a\n",
        "c = b\n",
        "\n",
        "c"
      ],
      "metadata": {
        "colab": {
          "base_uri": "https://localhost:8080/"
        },
        "id": "g8QWxtYFSdMn",
        "outputId": "878653c0-e0dd-47d1-8293-2a5f98e50cef"
      },
      "execution_count": null,
      "outputs": [
        {
          "output_type": "execute_result",
          "data": {
            "text/plain": [
              "10"
            ]
          },
          "metadata": {},
          "execution_count": 15
        }
      ]
    },
    {
      "cell_type": "code",
      "source": [
        "b = 100\n",
        "c"
      ],
      "metadata": {
        "colab": {
          "base_uri": "https://localhost:8080/"
        },
        "id": "pRG66gHnSgu9",
        "outputId": "1c66c27d-1626-4c10-de79-45d813ead2c3"
      },
      "execution_count": null,
      "outputs": [
        {
          "output_type": "execute_result",
          "data": {
            "text/plain": [
              "10"
            ]
          },
          "metadata": {},
          "execution_count": 16
        }
      ]
    },
    {
      "cell_type": "code",
      "source": [
        "a = [1, 2, 3]\n",
        "b = a\n",
        "id(a), id(b)\n",
        "\n",
        "a.append(10)\n",
        "b"
      ],
      "metadata": {
        "colab": {
          "base_uri": "https://localhost:8080/"
        },
        "id": "ScwYDcwOkJBg",
        "outputId": "6804e9c5-ed67-44cf-9140-95d41059ddde"
      },
      "execution_count": null,
      "outputs": [
        {
          "output_type": "execute_result",
          "data": {
            "text/plain": [
              "[1, 2, 3, 10]"
            ]
          },
          "metadata": {},
          "execution_count": 48
        }
      ]
    },
    {
      "cell_type": "markdown",
      "source": [
        "# type, dir, id\n",
        "\n",
        "- type은 앞으로도 자주 사용되니다. 왜냐하면 우리가 앞으로 사용할 데이터 자료형은 기본 자료형이 아닌 경우가 많기 때문이다.\n",
        "\n",
        "- dir은 해당 자료형에 있는 속성들을 파악하기 좋다.\n",
        "- id는 해당 자료형이 무엇을 가리키고 있는지 확인하기 좋다."
      ],
      "metadata": {
        "id": "j6lYmfDBT-bO"
      }
    },
    {
      "cell_type": "code",
      "source": [
        "l = [10, 20, 30, 40]\n",
        "print(type(l)) # print와 print를 안하는 것은 왜 차이가 있죠?"
      ],
      "metadata": {
        "colab": {
          "base_uri": "https://localhost:8080/"
        },
        "id": "3cI2JhMWUPHH",
        "outputId": "f77f79d4-f552-4fb7-db04-6b581ccba94c"
      },
      "execution_count": null,
      "outputs": [
        {
          "output_type": "stream",
          "name": "stdout",
          "text": [
            "<class 'list'>\n"
          ]
        }
      ]
    },
    {
      "cell_type": "code",
      "source": [
        "print(type(hello))"
      ],
      "metadata": {
        "colab": {
          "base_uri": "https://localhost:8080/"
        },
        "id": "-0jbxqdmUhEQ",
        "outputId": "79cc3e7a-4fde-47f4-ee36-e0b677539205"
      },
      "execution_count": null,
      "outputs": [
        {
          "output_type": "stream",
          "name": "stdout",
          "text": [
            "<class 'function'>\n"
          ]
        }
      ]
    },
    {
      "cell_type": "code",
      "source": [
        "a = 10\n",
        "print(type(a))"
      ],
      "metadata": {
        "colab": {
          "base_uri": "https://localhost:8080/"
        },
        "id": "P9wqOUdqUvne",
        "outputId": "13f1bf35-a6d5-4a11-ef53-d99f10df818b"
      },
      "execution_count": null,
      "outputs": [
        {
          "output_type": "stream",
          "name": "stdout",
          "text": [
            "<class 'int'>\n"
          ]
        }
      ]
    },
    {
      "cell_type": "code",
      "source": [
        "print(a)"
      ],
      "metadata": {
        "colab": {
          "base_uri": "https://localhost:8080/"
        },
        "id": "uxEjnXCtU-NM",
        "outputId": "9b12b121-2396-49d3-9b72-26b7d4b8893e"
      },
      "execution_count": null,
      "outputs": [
        {
          "output_type": "stream",
          "name": "stdout",
          "text": [
            "10\n"
          ]
        }
      ]
    },
    {
      "cell_type": "code",
      "source": [],
      "metadata": {
        "id": "LDOu6aczOyTg"
      },
      "execution_count": null,
      "outputs": []
    },
    {
      "cell_type": "code",
      "source": [
        "# 타입 확인이 이만큼 중요하다는 것을 보여드리기 위한 예제 개\n",
        "# 예) 1) 눈으로 10으로 보인다고 해서 int형이라고 생각하지 마세요.\n",
        "import numpy as np\n",
        "\n",
        "data = np.array(10)\n",
        "print(data)\n",
        "print(type(data)) # 눈으로 볼 때는 정수형이지만 type을 보면 아님을 알 수 있다."
      ],
      "metadata": {
        "colab": {
          "base_uri": "https://localhost:8080/"
        },
        "id": "zHv0VLmrVH3f",
        "outputId": "9ca6ea7c-9a46-4832-a358-bbe405a5fabb"
      },
      "execution_count": null,
      "outputs": [
        {
          "output_type": "stream",
          "name": "stdout",
          "text": [
            "1\n",
            "<class 'numpy.ndarray'>\n"
          ]
        }
      ]
    },
    {
      "cell_type": "code",
      "source": [
        "# 예 2) 타입을 확인해야 하는 이유는 아래와 같아요. 기본 연산이 다르게 때문이죠.\n",
        "print([1, 2, 3] + [4, 5, 6])\n",
        "print(np.array([1, 2, 3]) + np.array([4, 5, 6]))"
      ],
      "metadata": {
        "colab": {
          "base_uri": "https://localhost:8080/"
        },
        "id": "WgK0ysvvVpwS",
        "outputId": "23cf3992-4244-4165-807f-bbc363199c68"
      },
      "execution_count": null,
      "outputs": [
        {
          "output_type": "stream",
          "name": "stdout",
          "text": [
            "[1, 2, 3, 4, 5, 6]\n",
            "[5 7 9]\n"
          ]
        }
      ]
    },
    {
      "cell_type": "code",
      "source": [
        "l = [1, 2, 3, 4]\n",
        "dir(l) # 메서드 + 멤버\n",
        "\n",
        "# 이게 왜 중요할까? 코딩하다가 메서드 까먹을까봐?"
      ],
      "metadata": {
        "colab": {
          "base_uri": "https://localhost:8080/"
        },
        "id": "wIitPPk9Wfpu",
        "outputId": "dabdd3cb-22de-45dc-f8b0-457dd10d1776"
      },
      "execution_count": null,
      "outputs": [
        {
          "output_type": "execute_result",
          "data": {
            "text/plain": [
              "['__add__',\n",
              " '__class__',\n",
              " '__class_getitem__',\n",
              " '__contains__',\n",
              " '__delattr__',\n",
              " '__delitem__',\n",
              " '__dir__',\n",
              " '__doc__',\n",
              " '__eq__',\n",
              " '__format__',\n",
              " '__ge__',\n",
              " '__getattribute__',\n",
              " '__getitem__',\n",
              " '__getstate__',\n",
              " '__gt__',\n",
              " '__hash__',\n",
              " '__iadd__',\n",
              " '__imul__',\n",
              " '__init__',\n",
              " '__init_subclass__',\n",
              " '__iter__',\n",
              " '__le__',\n",
              " '__len__',\n",
              " '__lt__',\n",
              " '__mul__',\n",
              " '__ne__',\n",
              " '__new__',\n",
              " '__reduce__',\n",
              " '__reduce_ex__',\n",
              " '__repr__',\n",
              " '__reversed__',\n",
              " '__rmul__',\n",
              " '__setattr__',\n",
              " '__setitem__',\n",
              " '__sizeof__',\n",
              " '__str__',\n",
              " '__subclasshook__',\n",
              " 'append',\n",
              " 'clear',\n",
              " 'copy',\n",
              " 'count',\n",
              " 'extend',\n",
              " 'index',\n",
              " 'insert',\n",
              " 'pop',\n",
              " 'remove',\n",
              " 'reverse',\n",
              " 'sort']"
            ]
          },
          "metadata": {},
          "execution_count": 30
        }
      ]
    },
    {
      "cell_type": "code",
      "source": [
        "# 이 빌트인 펑션이 왜 중요하냐면, 앞으로 우리가 만날 자료형들은\n",
        "# 새롭게 만나는 자료형들이다.\n",
        "# 예를 들어, 아래 타입을 한 번 살펴보도록\n",
        "\n",
        "import numpy as np\n",
        "\n",
        "data = np.array([[10, 20, 30], [ 40, 50, 60]])\n",
        "dir(data)\n",
        "# 아래 목록만 봐도 어떤 자료형인지 알 수 있고\n",
        "# 원하는 메서드를 바로 발견할 수도 있다.\n",
        "\n",
        "print(data.T)"
      ],
      "metadata": {
        "colab": {
          "base_uri": "https://localhost:8080/"
        },
        "id": "Bm23hIwCYJ01",
        "outputId": "8f6cad54-bdec-4e60-d9ea-0a2946588516"
      },
      "execution_count": null,
      "outputs": [
        {
          "output_type": "stream",
          "name": "stdout",
          "text": [
            "[[10 40]\n",
            " [20 50]\n",
            " [30 60]]\n"
          ]
        }
      ]
    },
    {
      "cell_type": "code",
      "source": [
        "# id\n",
        "\n",
        "a = 10\n",
        "b = a\n",
        "c = b\n",
        "\n",
        "# 화살표는 어떻게 그렸죠?\n",
        "id(a), id(b), id(c)\n",
        "\n",
        "# id는 해당 변수가 가리키고 있는 최종 목적지를 가리킨다."
      ],
      "metadata": {
        "colab": {
          "base_uri": "https://localhost:8080/"
        },
        "id": "rjXMZwWzdMh4",
        "outputId": "e920634c-44b6-4d8b-a537-72eb00d6ccc8"
      },
      "execution_count": null,
      "outputs": [
        {
          "output_type": "execute_result",
          "data": {
            "text/plain": [
              "(10751144, 10751144, 10751144)"
            ]
          },
          "metadata": {},
          "execution_count": 35
        }
      ]
    },
    {
      "cell_type": "code",
      "source": [
        "a = 10\n",
        "b = 10\n",
        "\n",
        "id(a), id(b) # 다른 언어에서는 이 값이 다르다! 그러면 파이썬에서는 같은가? 아니다.\n",
        "# 아니 같게 나왔는데..?\n",
        "# 파이썬에서 메모리 효율을 높이기 위해서 자주 사용되는 숫자들을 같은 값을 가르키게 한다."
      ],
      "metadata": {
        "colab": {
          "base_uri": "https://localhost:8080/"
        },
        "id": "cqwpKf76dypD",
        "outputId": "dc6c18ea-0cc1-4bad-ec60-5a8afed427c7"
      },
      "execution_count": null,
      "outputs": [
        {
          "output_type": "execute_result",
          "data": {
            "text/plain": [
              "(10751144, 10751144)"
            ]
          },
          "metadata": {},
          "execution_count": 36
        }
      ]
    },
    {
      "cell_type": "code",
      "source": [
        "a = 10000\n",
        "b = 10000\n",
        "\n",
        "id(a), id(b)\n",
        "# 다르게 나왔다?"
      ],
      "metadata": {
        "colab": {
          "base_uri": "https://localhost:8080/"
        },
        "id": "gRM5_6o7eaBG",
        "outputId": "7b8671f6-70e7-4a1d-abb4-87ac19881b35"
      },
      "execution_count": null,
      "outputs": [
        {
          "output_type": "execute_result",
          "data": {
            "text/plain": [
              "(140387348358352, 140387348350544)"
            ]
          },
          "metadata": {},
          "execution_count": 37
        }
      ]
    },
    {
      "cell_type": "markdown",
      "source": [
        "# print와 print를 안하는 것에 차이\n",
        "\n",
        "- print     -> 해당 인스턴스에 __str__ 함수 호출\n",
        "- 그냥 출력 -> 해당 인스턴스에 __repr__ 함수 호출\n",
        "\n"
      ],
      "metadata": {
        "id": "yy6mAp3gcrsJ"
      }
    },
    {
      "cell_type": "code",
      "source": [
        "# 아직 class를 안배웠지만, 이 차이를 설명하기 위해 잠시 이 코드를 사용하겠습니다.\n",
        "\n",
        "class CustomInt:\n",
        "    def __repr__(self):\n",
        "        return 'hello'\n",
        "\n",
        "    def __str__(self):\n",
        "        return 'hello world'\n",
        "\n",
        "    def __len__(self):\n",
        "        return 100"
      ],
      "metadata": {
        "id": "OiOlrROze62k"
      },
      "execution_count": null,
      "outputs": []
    },
    {
      "cell_type": "code",
      "source": [
        "a = CustomInt()\n",
        "\n",
        "a"
      ],
      "metadata": {
        "colab": {
          "base_uri": "https://localhost:8080/"
        },
        "id": "r9qTcV-OfZZl",
        "outputId": "c0848b19-dedb-4a66-b42a-98d256c914de"
      },
      "execution_count": null,
      "outputs": [
        {
          "output_type": "execute_result",
          "data": {
            "text/plain": [
              "hello"
            ]
          },
          "metadata": {},
          "execution_count": 39
        }
      ]
    },
    {
      "cell_type": "code",
      "source": [
        "print(a)"
      ],
      "metadata": {
        "colab": {
          "base_uri": "https://localhost:8080/"
        },
        "id": "BiN7Qn3efhK7",
        "outputId": "fc21437f-ae22-444d-ccd6-8eb791529402"
      },
      "execution_count": null,
      "outputs": [
        {
          "output_type": "stream",
          "name": "stdout",
          "text": [
            "hello world\n"
          ]
        }
      ]
    },
    {
      "cell_type": "code",
      "source": [
        "a = 10\n",
        "print(type(a))\n",
        "print(a)"
      ],
      "metadata": {
        "colab": {
          "base_uri": "https://localhost:8080/"
        },
        "id": "I7ZBdkqhf2sD",
        "outputId": "1a1caa50-b986-454f-ed70-12b00ee5f312"
      },
      "execution_count": null,
      "outputs": [
        {
          "output_type": "stream",
          "name": "stdout",
          "text": [
            "<class 'int'>\n",
            "10\n"
          ]
        }
      ]
    },
    {
      "cell_type": "code",
      "source": [
        "a"
      ],
      "metadata": {
        "colab": {
          "base_uri": "https://localhost:8080/"
        },
        "id": "fjpjoZQUg0nF",
        "outputId": "3ed51b58-0d3d-42c6-e85a-80cd20fe920e"
      },
      "execution_count": null,
      "outputs": [
        {
          "output_type": "execute_result",
          "data": {
            "text/plain": [
              "10"
            ]
          },
          "metadata": {},
          "execution_count": 43
        }
      ]
    },
    {
      "cell_type": "code",
      "source": [
        "# 아직 class를 안배웠지만, 이 차이를 설명하기 위해 잠시 이 코드를 사용하겠습니다.\n",
        "# repr이 있으면 str이 없어도 repr이 대체를 해줍니다!\n",
        "class CustomInt:\n",
        "    def __repr__(self):\n",
        "        return 'hello'\n",
        "\n",
        "test = CustomInt()\n",
        "# test\n",
        "print(test)"
      ],
      "metadata": {
        "colab": {
          "base_uri": "https://localhost:8080/"
        },
        "id": "vbpUFSong1fL",
        "outputId": "7f87579c-62d5-4e03-d8a7-309fea2989d2"
      },
      "execution_count": null,
      "outputs": [
        {
          "output_type": "stream",
          "name": "stdout",
          "text": [
            "hello\n"
          ]
        }
      ]
    },
    {
      "cell_type": "code",
      "source": [
        "# print     -> 해당 인스턴스에 __str__ 호출\n",
        "# 그냥 출력 -> 해당 인스턴스에 __repr__ 호출"
      ],
      "metadata": {
        "id": "o3BUXKoOhO93"
      },
      "execution_count": null,
      "outputs": []
    },
    {
      "cell_type": "code",
      "source": [
        "a = 10\n",
        "dir(a)\n",
        "# a.__repr__() # 그냥 출력! 했을 때 실제 실행되는 함수\n",
        "# a.__str__() print()로 출력! 했을 때 실제 실행되는 함수"
      ],
      "metadata": {
        "colab": {
          "base_uri": "https://localhost:8080/",
          "height": 35
        },
        "id": "hM-xZDvRiI1L",
        "outputId": "3f8a82a1-24c2-466e-a483-7c8dd943bb40"
      },
      "execution_count": null,
      "outputs": [
        {
          "output_type": "execute_result",
          "data": {
            "text/plain": [
              "'10'"
            ],
            "application/vnd.google.colaboratory.intrinsic+json": {
              "type": "string"
            }
          },
          "metadata": {},
          "execution_count": 46
        }
      ]
    },
    {
      "cell_type": "markdown",
      "source": [
        "# python built-in functions\n",
        "\n",
        "* 링크: https://docs.python.org/3/library/functions.html"
      ],
      "metadata": {
        "id": "fUyeFHprjv7U"
      }
    },
    {
      "cell_type": "code",
      "source": [
        "# 자주 사용하는 functions\n",
        "abs\n",
        "all\n",
        "any\n",
        "bin\n",
        "enumerate\n",
        "len\n",
        "format\n",
        "input\n",
        "range\n",
        "\n",
        "sorted\n",
        "reversed\n",
        "\n",
        "filter\n",
        "map\n",
        "zip\n",
        "\n",
        "# isinstance # class 파트에서 해드리겠습니다!\n",
        "# issubclass\n",
        "\n",
        "iter\n",
        "next\n",
        "\n",
        "locals\n",
        "globals\n",
        "\n",
        "max\n",
        "min\n",
        "sum"
      ],
      "metadata": {
        "id": "yHxzo_sXjvor"
      },
      "execution_count": null,
      "outputs": []
    },
    {
      "cell_type": "markdown",
      "source": [
        "### abs, all, any, bin"
      ],
      "metadata": {
        "id": "iG7ZMMDywlT4"
      }
    },
    {
      "cell_type": "code",
      "source": [
        "abs(-10) # 절대값\n",
        "all([True, True, False]) # 안에 있는 값이 다 True 여야 True!\n",
        "any([True, True, False]) # 하나라도 True라면 True!\n",
        "bin(10) # 2진수로 바꿔준다. 알고리즘 문제에서 아주 간혹 출제! 실무에서는 거의 쓸 일이 없다.\n",
        "# oct()\n",
        "# hex()\n",
        "\n",
        "# 2진수 => 10진수\n",
        "int('1010',2)"
      ],
      "metadata": {
        "id": "ZmEh8-nVm85b",
        "colab": {
          "base_uri": "https://localhost:8080/"
        },
        "outputId": "da609fa1-7643-4139-cb91-17abd1220e80"
      },
      "execution_count": null,
      "outputs": [
        {
          "output_type": "execute_result",
          "data": {
            "text/plain": [
              "10"
            ]
          },
          "metadata": {},
          "execution_count": 13
        }
      ]
    },
    {
      "cell_type": "code",
      "source": [
        "# 자료형을 만드는 built-in functions\n",
        "# int\n",
        "# str\n",
        "# complex\n",
        "# list\n",
        "# tuple\n",
        "# dict\n",
        "# set"
      ],
      "metadata": {
        "id": "0elzJ7bCkxtI"
      },
      "execution_count": null,
      "outputs": []
    },
    {
      "cell_type": "code",
      "source": [
        "# 언패킹\n",
        "a, b = [10, 20]\n",
        "a, b, c, d, e = range(5)\n",
        "a, b = (10, 20)\n",
        "a, b ={\n",
        "    'a': 10,\n",
        "    'b': 20\n",
        "}\n"
      ],
      "metadata": {
        "colab": {
          "base_uri": "https://localhost:8080/",
          "height": 35
        },
        "id": "dXBxn6ZiYY8j",
        "outputId": "5dfa84b3-fbde-4df7-f810-7ce2ad84b6f1"
      },
      "execution_count": null,
      "outputs": [
        {
          "output_type": "execute_result",
          "data": {
            "text/plain": [
              "'a'"
            ],
            "application/vnd.google.colaboratory.intrinsic+json": {
              "type": "string"
            }
          },
          "metadata": {},
          "execution_count": 21
        }
      ]
    },
    {
      "cell_type": "markdown",
      "source": [
        "### enumerate"
      ],
      "metadata": {
        "id": "01MILGE4wv8U"
      }
    },
    {
      "cell_type": "code",
      "source": [
        "# enumerate\n",
        "# 순서가 있는 자료형(list, set, tuple, dictionary, string)을 입력으로 받았을 때,\n",
        "# 인덱스와 값을 포함하여 리턴\n",
        "# for문과 함께 자주 사용됨\n",
        "# 인덱스와 값을 동시에 접근하면서 루프를 돌리고 싶을 때 사용\n",
        "list(enumerate('hello'))\n",
        "list(enumerate('hello',100))\n",
        "\n",
        "for i in enumerate('hello'):\n",
        "    print(i)\n",
        "\n",
        "for index, value in enumerate('hello'):\n",
        "    print(index, value)\n",
        "\n",
        "for i, v in enumerate('hello'):\n",
        "    print(i)\n",
        "\n",
        "for i in range(len('hello')): # 이렇게 쓸 거면\n",
        "    print(i)\n",
        "\n",
        "for i, _ in enumerate('hello'): # 이렇게 쓰는 것을 권장\n",
        "    print(i)"
      ],
      "metadata": {
        "id": "E5djSZ_mmE7R",
        "colab": {
          "base_uri": "https://localhost:8080/"
        },
        "outputId": "206fb646-1ccc-493f-b520-04db13918125"
      },
      "execution_count": null,
      "outputs": [
        {
          "output_type": "stream",
          "name": "stdout",
          "text": [
            "(0, 'h')\n",
            "(1, 'e')\n",
            "(2, 'l')\n",
            "(3, 'l')\n",
            "(4, 'o')\n",
            "0 h\n",
            "1 e\n",
            "2 l\n",
            "3 l\n",
            "4 o\n",
            "0\n",
            "1\n",
            "2\n",
            "3\n",
            "4\n",
            "0\n",
            "1\n",
            "2\n",
            "3\n",
            "4\n",
            "0\n",
            "1\n",
            "2\n",
            "3\n",
            "4\n"
          ]
        }
      ]
    },
    {
      "cell_type": "markdown",
      "source": [
        "### len"
      ],
      "metadata": {
        "id": "FmYKYHnMw4ZP"
      }
    },
    {
      "cell_type": "code",
      "source": [
        "# len # 객체의 길이\n",
        "len([10, 20, 30])\n",
        "\n",
        "# format # 뒤에 정해진 양식대로 앞 값을 바꾸는 것\n",
        "format(10, 'b')\n",
        "format(100000000, ',') # 이코드 정말 많이 쓰인다!\n",
        "\n",
        "# input\n",
        "input('입력하세요!') # 주의할점: 숫자를 입력대호 문자로 입력받는다.\n",
        "\n",
        "# range\n",
        "# range(start, stop, step)\n",
        "# range는 리스트가 아니라 range타입 이다 (2.x에서는 리스트였다.)"
      ],
      "metadata": {
        "colab": {
          "base_uri": "https://localhost:8080/",
          "height": 54
        },
        "id": "RYz4ZxdiZfVW",
        "outputId": "bf5a1977-9173-481b-c96f-e731e08605a4"
      },
      "execution_count": null,
      "outputs": [
        {
          "name": "stdout",
          "output_type": "stream",
          "text": [
            "입력하세요!ㅂㅈㄷ\n"
          ]
        },
        {
          "output_type": "execute_result",
          "data": {
            "text/plain": [
              "'ㅂㅈㄷ'"
            ],
            "application/vnd.google.colaboratory.intrinsic+json": {
              "type": "string"
            }
          },
          "metadata": {},
          "execution_count": 29
        }
      ]
    },
    {
      "cell_type": "markdown",
      "source": [
        "### sorted (매우매우매우중요)"
      ],
      "metadata": {
        "id": "ieT6rqmurmis"
      }
    },
    {
      "cell_type": "code",
      "source": [
        "# sorted (외우는 것을 권한다)\n",
        "# 별표 5개\n",
        "\n",
        "s = [10, 20, 5, 4, 3, 8, 19, 3, 2]\n",
        "sorted(s) # 오름차순\n",
        "sorted(s, reverse=True) # 내림차순\n",
        "\n",
        "# 이게 왜 중요할까? 이런 정렬을 할 때가 많다.\n",
        "# 실무에세도 많고, 알고리즘 문제에서도 많다"
      ],
      "metadata": {
        "colab": {
          "base_uri": "https://localhost:8080/"
        },
        "id": "WINKcJI9asvp",
        "outputId": "9359a264-9d55-41ff-edd9-2069b252e98b"
      },
      "execution_count": null,
      "outputs": [
        {
          "output_type": "execute_result",
          "data": {
            "text/plain": [
              "[20, 19, 10, 8, 5, 4, 3, 3, 2]"
            ]
          },
          "metadata": {},
          "execution_count": 31
        }
      ]
    },
    {
      "cell_type": "code",
      "source": [
        "# 학년, 반, 번, 이름, 국어, 영어, 수학\n",
        "data = [\n",
        "    [1, 1, 5, '홍길동', 78, 54, 39],          # 3\n",
        "    [1, 1, 2, '김철수', 92, 88, 75],          # 3\n",
        "    [1, 2, 7, '이', 87, 91, 82],              # 1\n",
        "    [1, 2, 3, '박민수', 65, 72, 84],          # 3\n",
        "    [1, 1, 8, '정수진', 91, 85, 93],          # 3\n",
        "    [1, 3, 1, '강', 76, 79, 88],              # 1\n",
        "    [1, 2, 4, '윤서연미래별하', 89, 94, 90],  # 7\n",
        "    [1, 3, 6, '장현우', 82, 67, 71],          # 3\n",
        "    [1, 1, 10, '조', 95, 89, 97],             # 1\n",
        "    [1, 3, 9, '최준호빛나라', 73, 80, 76]     # 6\n",
        "]\n",
        "\n",
        "# 문제 1: 이름의 글자수 대로 정렬해주세요.\n",
        "def f(x):\n",
        "    return len(x[3])\n",
        "\n",
        "sorted(data, key=f)\n",
        "# key를 기준으로 삼아서 데이터를 정렬 (f는 함수)\n",
        "# key = (    )괄호에 들어가는 건 정렬 기준이 되는 함수이다."
      ],
      "metadata": {
        "colab": {
          "base_uri": "https://localhost:8080/"
        },
        "id": "g7gk4ZdSbahN",
        "outputId": "923f12be-f9b9-42f3-9ea8-dd9e37ec8cb9"
      },
      "execution_count": null,
      "outputs": [
        {
          "output_type": "execute_result",
          "data": {
            "text/plain": [
              "[[1, 2, 7, '이', 87, 91, 82],\n",
              " [1, 3, 1, '강', 76, 79, 88],\n",
              " [1, 1, 10, '조', 95, 89, 97],\n",
              " [1, 1, 5, '홍길동', 78, 54, 39],\n",
              " [1, 1, 2, '김철수', 92, 88, 75],\n",
              " [1, 2, 3, '박민수', 65, 72, 84],\n",
              " [1, 1, 8, '정수진', 91, 85, 93],\n",
              " [1, 3, 6, '장현우', 82, 67, 71],\n",
              " [1, 3, 9, '최준호빛나라', 73, 80, 76],\n",
              " [1, 2, 4, '윤서연미래별하', 89, 94, 90]]"
            ]
          },
          "metadata": {},
          "execution_count": 32
        }
      ]
    },
    {
      "cell_type": "code",
      "source": [
        "# 학년, 반, 번, 이름, 국어, 영어, 수학\n",
        "data = [\n",
        "    [1, 1, 5, '홍길동', 78, 54, 39],          # 3\n",
        "    [1, 1, 2, '김철수', 92, 88, 75],          # 3\n",
        "    [1, 2, 7, '이', 87, 91, 82],              # 1\n",
        "    [1, 2, 3, '박민수', 65, 72, 84],          # 3\n",
        "    [1, 1, 8, '정수진', 91, 85, 93],          # 3\n",
        "    [1, 3, 1, '강', 76, 79, 88],              # 1\n",
        "    [1, 2, 4, '윤서연미래별하', 89, 94, 90],  # 7\n",
        "    [1, 3, 6, '장현우', 82, 67, 71],          # 3\n",
        "    [1, 1, 10, '조', 95, 89, 97],             # 1\n",
        "    [1, 3, 9, '최준호빛나라', 73, 80, 76]     # 6\n",
        "]\n",
        "\n",
        "# 문제 2: 평균대로 정렬해주세요.\n",
        "# 코딩에선 굳이 나누기 할 필요가 없다!\n",
        "def f(x):\n",
        "     return (x[4]+x[5]+x[6]) / 3\n",
        "# sum(x[4:]) 현실적인 코드\n",
        "sorted(data, key=f, reverse=True)"
      ],
      "metadata": {
        "colab": {
          "base_uri": "https://localhost:8080/"
        },
        "id": "MyV1vIQIiIWF",
        "outputId": "631b071b-74a3-41ef-ab9f-915f2fd3e92f"
      },
      "execution_count": null,
      "outputs": [
        {
          "output_type": "execute_result",
          "data": {
            "text/plain": [
              "[[1, 1, 10, '조', 95, 89, 97],\n",
              " [1, 2, 4, '윤서연미래별하', 89, 94, 90],\n",
              " [1, 1, 8, '정수진', 91, 85, 93],\n",
              " [1, 2, 7, '이', 87, 91, 82],\n",
              " [1, 1, 2, '김철수', 92, 88, 75],\n",
              " [1, 3, 1, '강', 76, 79, 88],\n",
              " [1, 3, 9, '최준호빛나라', 73, 80, 76],\n",
              " [1, 2, 3, '박민수', 65, 72, 84],\n",
              " [1, 3, 6, '장현우', 82, 67, 71],\n",
              " [1, 1, 5, '홍길동', 78, 54, 39]]"
            ]
          },
          "metadata": {},
          "execution_count": 44
        }
      ]
    },
    {
      "cell_type": "code",
      "source": [
        "# 학년, 반, 번, 이름, 국어, 영어, 수학\n",
        "data = [\n",
        "    [1, 1, 5, '홍길동', 78, 54, 39],          # 3\n",
        "    [1, 1, 2, '김철수', 92, 88, 75],          # 3\n",
        "    [1, 2, 7, '이', 87, 91, 82],              # 1\n",
        "    [1, 2, 3, '박민수', 65, 72, 84],          # 3\n",
        "    [1, 1, 8, '정수진', 91, 85, 93],          # 3\n",
        "    [1, 3, 1, '강', 76, 79, 88],              # 1\n",
        "    [1, 2, 4, '윤서연미래별하', 89, 94, 90],  # 7\n",
        "    [1, 3, 6, '장현우', 82, 67, 71],          # 3\n",
        "    [1, 1, 10, '조', 95, 89, 97],             # 1\n",
        "    [1, 3, 9, '최준호빛나라', 73, 80, 76]     # 6\n",
        "]\n",
        "\n",
        "# 문제 3: 국어 점수와 수학 점수가 가장 점수차가 큰 순서대로 정렬해주세요\n",
        "def f(x):\n",
        "     return abs(x[4] - x[6])\n",
        "sorted(data, key=f, reverse=True)"
      ],
      "metadata": {
        "colab": {
          "base_uri": "https://localhost:8080/"
        },
        "id": "iR6L0zIMmNsS",
        "outputId": "a9cee5e1-1395-44a2-9dd9-a363f2bf45b5"
      },
      "execution_count": null,
      "outputs": [
        {
          "output_type": "execute_result",
          "data": {
            "text/plain": [
              "[[1, 1, 5, '홍길동', 78, 54, 39],\n",
              " [1, 2, 3, '박민수', 65, 72, 84],\n",
              " [1, 1, 2, '김철수', 92, 88, 75],\n",
              " [1, 3, 1, '강', 76, 79, 88],\n",
              " [1, 3, 6, '장현우', 82, 67, 71],\n",
              " [1, 2, 7, '이', 87, 91, 82],\n",
              " [1, 3, 9, '최준호빛나라', 73, 80, 76],\n",
              " [1, 1, 8, '정수진', 91, 85, 93],\n",
              " [1, 1, 10, '조', 95, 89, 97],\n",
              " [1, 2, 4, '윤서연미래별하', 89, 94, 90]]"
            ]
          },
          "metadata": {},
          "execution_count": 50
        }
      ]
    },
    {
      "cell_type": "code",
      "source": [
        "# 1차원의 점들이 주어졌을 때,\n",
        "# 그 중 가장 거리가 짧은 것의 쌍을 출력하는 함수를 작성하시오.\n",
        "# (단 점들의 배열은 모두 정렬되어있다고 가정한다.)\n",
        "\n",
        "# 예를들어 S={1, 3, 4, 8, 13, 17, 20} 이 주어졌다면, 결과값은 (3, 4)가 될 것이다.\n",
        "\n",
        "\n",
        "# 이렇게 풀지 마세요 파이써닉하지 않다.\n",
        "s = [1, 3, 4, 8, 13, 17, 20]\n",
        "for i in range(len(s)):\n",
        "    pass"
      ],
      "metadata": {
        "id": "WNJeAJ3hns25"
      },
      "execution_count": null,
      "outputs": []
    },
    {
      "cell_type": "code",
      "source": [
        "# 문제풀이\n",
        "data = [\n",
        "    [1, 3],\n",
        "    [3, 4],\n",
        "    [4, 8],\n",
        "    [8, 13],\n",
        "    [13, 17],\n",
        "    [17, 20],\n",
        "]\n",
        "def f(x):\n",
        "    return x[1] - x[0]\n",
        "sorted(data, key=f)"
      ],
      "metadata": {
        "colab": {
          "base_uri": "https://localhost:8080/"
        },
        "id": "YB7BqAb3oYFV",
        "outputId": "85cea2f1-757d-461b-cfab-61b16586e397"
      },
      "execution_count": null,
      "outputs": [
        {
          "output_type": "execute_result",
          "data": {
            "text/plain": [
              "[[3, 4], [1, 3], [17, 20], [4, 8], [13, 17], [8, 13]]"
            ]
          },
          "metadata": {},
          "execution_count": 51
        }
      ]
    },
    {
      "cell_type": "code",
      "source": [
        "# 더 쉽게\n",
        "s = [1, 3, 4, 8, 13, 17, 20]\n",
        "\n",
        "def f(x):\n",
        "    return x[1] - x[0]\n",
        "\n",
        "sorted(zip(s, s[1:]), key=f)"
      ],
      "metadata": {
        "colab": {
          "base_uri": "https://localhost:8080/"
        },
        "id": "L59CDvl5pCxW",
        "outputId": "56ef57e5-210b-4b80-e46c-0d2d06b0117b"
      },
      "execution_count": null,
      "outputs": [
        {
          "output_type": "execute_result",
          "data": {
            "text/plain": [
              "[(3, 4), (1, 3), (17, 20), (4, 8), (13, 17), (8, 13)]"
            ]
          },
          "metadata": {},
          "execution_count": 53
        }
      ]
    },
    {
      "cell_type": "code",
      "source": [
        "# sorted에서 자주 나오는 유형2번째!\n",
        "# 정렬 기준이 나에게 없는경우!?\n",
        "\n",
        "data1 = [\n",
        "    'Moby Dick',              # 1851\n",
        "    'To Kill a Mockingbird',  # 1960\n",
        "    '1984'                    # 1949\n",
        "    ]\n",
        "data2 = {'Moby Dick': 1851, 'To Kill a Mockingbird': 1960, '1984': 1949}\n",
        "\n",
        "def f(x):\n",
        "    return data2[x]\n",
        "\n",
        "sorted(data1, key=f)"
      ],
      "metadata": {
        "colab": {
          "base_uri": "https://localhost:8080/"
        },
        "id": "oCiGe5I_pcho",
        "outputId": "d1cf6491-add2-4890-f6d2-7219f0cafd1a"
      },
      "execution_count": 1,
      "outputs": [
        {
          "output_type": "execute_result",
          "data": {
            "text/plain": [
              "['Moby Dick', '1984', 'To Kill a Mockingbird']"
            ]
          },
          "metadata": {},
          "execution_count": 1
        }
      ]
    },
    {
      "cell_type": "code",
      "source": [
        "# 우편번호 정렬\n",
        "# 우편번호 오름차순 순서대로 주소를 정렬하는 코드\n",
        "data = [\n",
        "    ['A동',\n",
        "     'B동',\n",
        "     'C동'],\n",
        "    {'A동': 63007, 'B동': 63010, 'C동': 63002}\n",
        "]\n",
        "# data1 = data[0]\n",
        "# data2 = data[1] # 언패킹 하는것도 방법이다.\n",
        "\n",
        "def f(x):\n",
        "    return data[1][x] # 왜 data[1][x]인가?\n",
        "\n",
        "sorted(data[0],key=f)"
      ],
      "metadata": {
        "colab": {
          "base_uri": "https://localhost:8080/"
        },
        "id": "GCvY_LUDrgv7",
        "outputId": "9da9bc77-1909-4328-8f94-871ed1820ba3"
      },
      "execution_count": null,
      "outputs": [
        {
          "output_type": "execute_result",
          "data": {
            "text/plain": [
              "['C동', 'A동', 'B동']"
            ]
          },
          "metadata": {},
          "execution_count": 62
        }
      ]
    },
    {
      "cell_type": "code",
      "source": [
        "# 특정 형태의 함수가 들어가야 하나요? X\n",
        "# 일반 def되는 함수 또는 lambda 함수 모두 함수의 형태면 가능합니다!\n",
        "# 이 함수의 return되는 값에 따라 절렬을 해줍니다."
      ],
      "metadata": {
        "id": "saDxHvhQfO9T"
      },
      "execution_count": null,
      "outputs": []
    },
    {
      "cell_type": "code",
      "source": [
        "# 학년, 반, 번, 이름, 국어, 영어, 수학\n",
        "data = [\n",
        "    [1, 1, 5, '홍길동', 78, 54, 39],          # [1, 2, 3]\n",
        "    [1, 1, 2, '김철수', 92, 88, 75],          # [1, 2, 3]\n",
        "    [1, 2, 7, '이', 87, 91, 82],              # [1, 2, 3]\n",
        "    [1, 2, 3, '박민수', 65, 72, 84],          # [1, 2, 3]\n",
        "    [1, 1, 8, '정수진', 91, 85, 93],          # [1, 2, 3]\n",
        "    [1, 3, 1, '강', 76, 79, 88],              # [1, 2, 3]\n",
        "    [1, 2, 4, '윤서연미래별하', 89, 94, 90],  # [1, 2, 3]\n",
        "    [1, 3, 6, '장현우', 82, 67, 71],          # [1, 2, 3]\n",
        "    [1, 1, 10, '조', 95, 89, 97],             # [1, 2, 3]\n",
        "    [1, 3, 9, '최준호빛나라', 73, 80, 76]     # [1, 2, 3]\n",
        "]\n",
        "\n",
        "# Q&A 반환값이 아래와 같이 동일하면 어떻게 되나요? 그대로 줍니다.\n",
        "def f(x):\n",
        "    return [1, 2, 3]\n",
        "\n",
        "sorted(data, key=f)"
      ],
      "metadata": {
        "id": "Fl4yMfYCiWtO"
      },
      "execution_count": null,
      "outputs": []
    },
    {
      "cell_type": "code",
      "source": [
        "def user_f(aaa, bbb=100):\n",
        "    return aaa + bbb\n",
        "\n",
        "user_f(1000, bbb=10000)"
      ],
      "metadata": {
        "colab": {
          "base_uri": "https://localhost:8080/"
        },
        "id": "n46IAi7Od6Fz",
        "outputId": "9a559a53-13ad-4d47-98c5-b42eed12ecd5"
      },
      "execution_count": null,
      "outputs": [
        {
          "output_type": "execute_result",
          "data": {
            "text/plain": [
              "11000"
            ]
          },
          "metadata": {},
          "execution_count": 35
        }
      ]
    },
    {
      "cell_type": "code",
      "source": [
        "# 학년, 반, 번, 이름, 국어, 영어, 수학\n",
        "data = [\n",
        "    [1, 1, 5, '홍길동', 78, 54, 39],          # 10\n",
        "    [1, 1, 2, '김철수', 92, 88, 75],          # 10\n",
        "    [1, 2, 7, '이', 87, 91, 82],              # 10\n",
        "    [1, 2, 3, '박민수', 65, 72, 84],          # 10\n",
        "    [1, 1, 8, '정수진', 91, 85, 93],          # 10\n",
        "    [1, 3, 1, '강', 76, 79, 88],              # 10\n",
        "    [1, 2, 4, '윤서연미래별하', 89, 94, 90],  # 10\n",
        "    [1, 3, 6, '장현우', 82, 67, 71],          # 10\n",
        "    [1, 1, 10, '조', 95, 89, 97],             # 10\n",
        "    [1, 3, 9, '최준호빛나라', 73, 80, 76]     # 10\n",
        "]\n",
        "\n",
        "# Q&A 글자에서 1이 얼마나 들어가는지만 카운트 하는 sorted를 구현하고 싶다면 어떻게 해야 하나요?\n",
        "def user_count(x):\n",
        "    return ''.join(map(str, x)).count('1')\n",
        "\n",
        "sorted(data, key=user_count)"
      ],
      "metadata": {
        "colab": {
          "base_uri": "https://localhost:8080/"
        },
        "id": "aN3uizhCdu5o",
        "outputId": "6cb0db4e-2487-493c-9496-e0a3b148e722"
      },
      "execution_count": null,
      "outputs": [
        {
          "output_type": "execute_result",
          "data": {
            "text/plain": [
              "[[1, 2, 3, '박민수', 65, 72, 84],\n",
              " [1, 2, 4, '윤서연미래별하', 89, 94, 90],\n",
              " [1, 3, 9, '최준호빛나라', 73, 80, 76],\n",
              " [1, 1, 5, '홍길동', 78, 54, 39],\n",
              " [1, 1, 2, '김철수', 92, 88, 75],\n",
              " [1, 2, 7, '이', 87, 91, 82],\n",
              " [1, 3, 1, '강', 76, 79, 88],\n",
              " [1, 3, 6, '장현우', 82, 67, 71],\n",
              " [1, 1, 8, '정수진', 91, 85, 93],\n",
              " [1, 1, 10, '조', 95, 89, 97]]"
            ]
          },
          "metadata": {},
          "execution_count": 37
        }
      ]
    },
    {
      "cell_type": "code",
      "source": [
        "# Q&A 구현한 함수 말고 built-in functions 그대로 사용할 수 있나요? 네!\n",
        "data = [\n",
        "    '홍',\n",
        "    '홍길동',\n",
        "    '길동',\n",
        "    '장현우',\n",
        "    '조'\n",
        "]\n",
        "\n",
        "\n",
        "sorted(data, key=len)"
      ],
      "metadata": {
        "colab": {
          "base_uri": "https://localhost:8080/"
        },
        "id": "VIw-N2Oth7Kh",
        "outputId": "68c545c6-3fde-44ae-c490-d9a807d5a754"
      },
      "execution_count": null,
      "outputs": [
        {
          "output_type": "execute_result",
          "data": {
            "text/plain": [
              "['홍', '조', '길동', '홍길동', '장현우']"
            ]
          },
          "metadata": {},
          "execution_count": 38
        }
      ]
    },
    {
      "cell_type": "code",
      "source": [
        "# ''.join([1, 1, 5, '홍길동', 78, 54, 39])\n",
        "''.join(map(str, [1, 1, 5, '홍길동', 78, 54, 39])).count('1')"
      ],
      "metadata": {
        "colab": {
          "base_uri": "https://localhost:8080/"
        },
        "id": "gfsm8a4hidFi",
        "outputId": "6710c273-225b-493e-f2c7-fe909583125b"
      },
      "execution_count": null,
      "outputs": [
        {
          "output_type": "execute_result",
          "data": {
            "text/plain": [
              "2"
            ]
          },
          "metadata": {},
          "execution_count": 39
        }
      ]
    },
    {
      "cell_type": "markdown",
      "source": [
        "### reversed"
      ],
      "metadata": {
        "id": "89zVzuFjw9kd"
      }
    },
    {
      "cell_type": "code",
      "source": [
        "list(reversed([10, 20, 30])) # 뒤집는 것"
      ],
      "metadata": {
        "colab": {
          "base_uri": "https://localhost:8080/"
        },
        "id": "4pevhrzPtsx7",
        "outputId": "52d488f1-d3a8-4f9f-f261-f5f8a6146981"
      },
      "execution_count": null,
      "outputs": [
        {
          "output_type": "execute_result",
          "data": {
            "text/plain": [
              "[30, 20, 10]"
            ]
          },
          "metadata": {},
          "execution_count": 64
        }
      ]
    },
    {
      "cell_type": "code",
      "source": [
        "list(range(10)) # 성능 저하 (좋은 문법은 아니다)"
      ],
      "metadata": {
        "colab": {
          "base_uri": "https://localhost:8080/"
        },
        "id": "ihtL6oOJt8no",
        "outputId": "dde51fbf-e0ea-49f0-84c2-0030c5ee62f1"
      },
      "execution_count": null,
      "outputs": [
        {
          "output_type": "execute_result",
          "data": {
            "text/plain": [
              "[0, 1, 2, 3, 4, 5, 6, 7, 8, 9]"
            ]
          },
          "metadata": {},
          "execution_count": 65
        }
      ]
    },
    {
      "cell_type": "code",
      "source": [
        "reversed([10, 20, 30]) # (메모리 보존이 용이)"
      ],
      "metadata": {
        "colab": {
          "base_uri": "https://localhost:8080/"
        },
        "id": "L2YFLaPFuTgh",
        "outputId": "b41479c1-ed6f-4950-c7a7-c99e710f909c"
      },
      "execution_count": null,
      "outputs": [
        {
          "output_type": "execute_result",
          "data": {
            "text/plain": [
              "<list_reverseiterator at 0x7c397244b3d0>"
            ]
          },
          "metadata": {},
          "execution_count": 66
        }
      ]
    },
    {
      "cell_type": "markdown",
      "source": [
        "### filter"
      ],
      "metadata": {
        "id": "0g4Eky7dxBoK"
      }
    },
    {
      "cell_type": "code",
      "source": [
        "filter\n",
        "# filter(적용시킬 함수, 적용할 요소들)\n",
        "# 필터의 결과 데이터 타입은 filter 타입"
      ],
      "metadata": {
        "id": "RxIJPsr_uas8"
      },
      "execution_count": null,
      "outputs": []
    },
    {
      "cell_type": "code",
      "source": [
        "result = 0\n",
        "for i in range(1,11):\n",
        "    if i % 2 == 0:\n",
        "        result +=i\n",
        "\n",
        "result"
      ],
      "metadata": {
        "colab": {
          "base_uri": "https://localhost:8080/"
        },
        "id": "QbU7DEvaukMl",
        "outputId": "56c941f7-14b0-473a-9f40-7ab866c39af6"
      },
      "execution_count": null,
      "outputs": [
        {
          "output_type": "execute_result",
          "data": {
            "text/plain": [
              "30"
            ]
          },
          "metadata": {},
          "execution_count": 69
        }
      ]
    },
    {
      "cell_type": "code",
      "source": [
        "def f(x):\n",
        "    return x % 2 == 0\n",
        "\n",
        "\n",
        "\n",
        "list(filter(f, range(1, 11)))"
      ],
      "metadata": {
        "colab": {
          "base_uri": "https://localhost:8080/"
        },
        "id": "oGhtMMliu8uF",
        "outputId": "23d3aa29-38fd-4c52-cad2-847de5ba671b"
      },
      "execution_count": null,
      "outputs": [
        {
          "output_type": "execute_result",
          "data": {
            "text/plain": [
              "[2, 4, 6, 8, 10]"
            ]
          },
          "metadata": {},
          "execution_count": 73
        }
      ]
    },
    {
      "cell_type": "code",
      "source": [
        "def f(x):\n",
        "    return x % 2 == 0\n",
        "\n",
        "\n",
        "\n",
        "sum(filter(f, range(1, 11)))"
      ],
      "metadata": {
        "colab": {
          "base_uri": "https://localhost:8080/"
        },
        "id": "xmQtqGorvb7M",
        "outputId": "3923fd52-a46e-49a1-98a3-6cc81d2f2001"
      },
      "execution_count": null,
      "outputs": [
        {
          "output_type": "execute_result",
          "data": {
            "text/plain": [
              "30"
            ]
          },
          "metadata": {},
          "execution_count": 74
        }
      ]
    },
    {
      "cell_type": "code",
      "source": [
        "# 항공사, 편명, 좌석번호, 이름, 나이, 짐무게(kg), 마일리지\n",
        "data = [\n",
        "    ['대한항공', 'KE607', '12A', '김민준', 42, 23, 5280],\n",
        "    ['아시아나', 'OZ721', '8C', '이', 29, 18, 3450],\n",
        "    ['제주항공', '7C101', '15F', '박지민', 35, 15, 720],\n",
        "    ['진에어', 'LJ211', '4D', '최서우미래한별', 51, 27, 8900],\n",
        "    ['에어부산', 'BX213', '21B', '정', 24, 12, 1250],\n",
        "    ['티웨이', 'TW305', '19E', '강민석', 38, 20, 2760],\n",
        "    ['에어서울', 'RS808', '3C', '윤지현', 47, 16, 4320],\n",
        "    ['대한항공', 'KE123', '7F', '송', 33, 21, 6780],\n",
        "    ['아시아나', 'OZ562', '11D', '장하은별님달빛', 26, 19, 1890],\n",
        "    ['제주항공', '7C505', '17B', '황수진', 40, 14, 940]\n",
        "]\n",
        "\n",
        "def f(x):\n",
        "    return x[4] >=30\n",
        "\n",
        "for i in filter(f, data):\n",
        "    print(i)"
      ],
      "metadata": {
        "colab": {
          "base_uri": "https://localhost:8080/"
        },
        "id": "TgBiMvcRwB9B",
        "outputId": "fdc446fc-8904-4d1f-83bd-fc4175099e43"
      },
      "execution_count": null,
      "outputs": [
        {
          "output_type": "stream",
          "name": "stdout",
          "text": [
            "['대한항공', 'KE607', '12A', '김민준', 42, 23, 5280]\n",
            "['제주항공', '7C101', '15F', '박지민', 35, 15, 720]\n",
            "['진에어', 'LJ211', '4D', '최서우미래한별', 51, 27, 8900]\n",
            "['티웨이', 'TW305', '19E', '강민석', 38, 20, 2760]\n",
            "['에어서울', 'RS808', '3C', '윤지현', 47, 16, 4320]\n",
            "['대한항공', 'KE123', '7F', '송', 33, 21, 6780]\n",
            "['제주항공', '7C505', '17B', '황수진', 40, 14, 940]\n"
          ]
        }
      ]
    },
    {
      "cell_type": "markdown",
      "source": [
        "### map"
      ],
      "metadata": {
        "id": "vaD_cKQMF-dn"
      }
    },
    {
      "cell_type": "code",
      "source": [
        "# list로 변환하는 것은 하나씩 순회르 돌며 메모리에 적제하기 때문에\n",
        "# 효율이 나쁘다\n",
        "# map(함수, itserable)\n",
        "# filter는 return값이 True이면 True인 객채를 반환\n",
        "# map은 새로운 리스트를 반환한다.\n",
        "\n",
        "def f(x):\n",
        "    return x ** 2\n",
        "\n",
        "list(map(f, [1, 2, 3, 4]))"
      ],
      "metadata": {
        "colab": {
          "base_uri": "https://localhost:8080/"
        },
        "id": "GLXnuLG1F7Rt",
        "outputId": "1f06b796-6566-4b45-e224-bde1cdeb302e"
      },
      "execution_count": null,
      "outputs": [
        {
          "output_type": "execute_result",
          "data": {
            "text/plain": [
              "[1, 4, 9, 16]"
            ]
          },
          "metadata": {},
          "execution_count": 78
        }
      ]
    },
    {
      "cell_type": "code",
      "source": [
        "# map은 어떤 데이터를 '추출'할 때 많이 사용합니다.\n",
        "# 프론트엔드는 입사문제로 map을 자주 출제한다."
      ],
      "metadata": {
        "id": "MVv7THrEH5JV"
      },
      "execution_count": null,
      "outputs": []
    },
    {
      "cell_type": "code",
      "source": [
        "# 항공사, 편명, 좌석번호, 이름, 나이, 짐무게(kg), 마일리지\n",
        "data = [\n",
        "    ['대한항공', 'KE607', '12A', '김민준', 42, 23, 5280],\n",
        "    ['아시아나', 'OZ721', '8C', '이', 29, 18, 3450],\n",
        "    ['제주항공', '7C101', '15F', '박지민', 35, 15, 720],\n",
        "    ['진에어', 'LJ211', '4D', '최서우미래한별', 51, 27, 8900],\n",
        "    ['에어부산', 'BX213', '21B', '정', 24, 12, 1250],\n",
        "    ['티웨이', 'TW305', '19E', '강민석', 38, 20, 2760],\n",
        "    ['에어서울', 'RS808', '3C', '윤지현', 47, 16, 4320],\n",
        "    ['대한항공', 'KE123', '7F', '송', 33, 21, 6780],\n",
        "    ['아시아나', 'OZ562', '11D', '장하은별님달빛', 26, 19, 1890],\n",
        "    ['제주항공', '7C505', '17B', '황수진', 40, 14, 940]\n",
        "]\n",
        "\n",
        "# filter와 동일한 함수를 썼을 경우\n",
        "def f(x):\n",
        "    return x[4] >=30\n",
        "\n",
        "list(map(f, data)) # [True, False, True, True, False, True, True, True, False, True]"
      ],
      "metadata": {
        "colab": {
          "base_uri": "https://localhost:8080/"
        },
        "id": "lOPAv8xSHmBY",
        "outputId": "abf371aa-fde2-4291-9e4e-6a35fd429736"
      },
      "execution_count": null,
      "outputs": [
        {
          "output_type": "execute_result",
          "data": {
            "text/plain": [
              "[True, False, True, True, False, True, True, True, False, True]"
            ]
          },
          "metadata": {},
          "execution_count": 80
        }
      ]
    },
    {
      "cell_type": "code",
      "source": [
        "# 항공사, 편명, 좌석번호, 이름, 나이, 짐무게(kg), 마일리지\n",
        "data = [\n",
        "    ['대한항공', 'KE607', '12A', '김민준', 42, 23, 5280],\n",
        "    ['아시아나', 'OZ721', '8C', '이', 29, 18, 3450],\n",
        "    ['제주항공', '7C101', '15F', '박지민', 35, 15, 720],\n",
        "    ['진에어', 'LJ211', '4D', '최서우미래한별', 51, 27, 8900],\n",
        "    ['에어부산', 'BX213', '21B', '정', 24, 12, 1250],\n",
        "    ['티웨이', 'TW305', '19E', '강민석', 38, 20, 2760],\n",
        "    ['에어서울', 'RS808', '3C', '윤지현', 47, 16, 4320],\n",
        "    ['대한항공', 'KE123', '7F', '송', 33, 21, 6780],\n",
        "    ['아시아나', 'OZ562', '11D', '장하은별님달빛', 26, 19, 1890],\n",
        "    ['제주항공', '7C505', '17B', '황수진', 40, 14, 940]\n",
        "]\n",
        "\n",
        "# 새로운 리스트를 만들 값을 return 해줬을 때\n",
        "def f(x):\n",
        "    return x[4]\n",
        "\n",
        "list(map(f, data)) # [42, 29, 35, 51, 24, 38, 47, 33, 26, 40]"
      ],
      "metadata": {
        "colab": {
          "base_uri": "https://localhost:8080/"
        },
        "id": "2asEgu-JIQ3R",
        "outputId": "ba23effe-8878-4a00-ab0b-5c10c1739f35"
      },
      "execution_count": null,
      "outputs": [
        {
          "output_type": "execute_result",
          "data": {
            "text/plain": [
              "[42, 29, 35, 51, 24, 38, 47, 33, 26, 40]"
            ]
          },
          "metadata": {},
          "execution_count": 81
        }
      ]
    },
    {
      "cell_type": "code",
      "source": [
        "# 항공사, 편명, 좌석번호, 이름, 나이, 짐무게(kg), 마일리지\n",
        "data = [\n",
        "    ['대한항공', 'KE607', '12A', '김민준', 42, 23, 5280],\n",
        "    ['아시아나', 'OZ721', '8C', '이', 29, 18, 3450],\n",
        "    ['제주항공', '7C101', '15F', '박지민', 35, 15, 720],\n",
        "    ['진에어', 'LJ211', '4D', '최서우미래한별', 51, 27, 8900],\n",
        "    ['에어부산', 'BX213', '21B', '정', 24, 12, 1250],\n",
        "    ['티웨이', 'TW305', '19E', '강민석', 38, 20, 2760],\n",
        "    ['에어서울', 'RS808', '3C', '윤지현', 47, 16, 4320],\n",
        "    ['대한항공', 'KE123', '7F', '송', 33, 21, 6780],\n",
        "    ['아시아나', 'OZ562', '11D', '장하은별님달빛', 26, 19, 1890],\n",
        "    ['제주항공', '7C505', '17B', '황수진', 40, 14, 940]\n",
        "]\n",
        "\n",
        "#\n",
        "def f(x):\n",
        "    return 1\n",
        "\n",
        "list(map(f, data)) # [1, 1, 1, 1, 1....]"
      ],
      "metadata": {
        "colab": {
          "base_uri": "https://localhost:8080/"
        },
        "id": "109QAtk2Ihdv",
        "outputId": "c6af2776-677e-4955-a0dd-f1f7228722e8"
      },
      "execution_count": null,
      "outputs": [
        {
          "output_type": "execute_result",
          "data": {
            "text/plain": [
              "[1, 1, 1, 1, 1, 1, 1, 1, 1, 1]"
            ]
          },
          "metadata": {},
          "execution_count": 82
        }
      ]
    },
    {
      "cell_type": "code",
      "source": [
        "# 항공사, 편명, 좌석번호, 이름, 나이, 짐무게(kg), 마일리지\n",
        "data = [\n",
        "    ['대한항공', 'KE607', '12A', '김민준', 42, 23, 5280],\n",
        "    ['아시아나', 'OZ721', '8C', '이', 29, 18, 3450],\n",
        "    ['제주항공', '7C101', '15F', '박지민', 35, 15, 720],\n",
        "    ['진에어', 'LJ211', '4D', '최서우미래한별', 51, 27, 8900],\n",
        "    ['에어부산', 'BX213', '21B', '정', 24, 12, 1250],\n",
        "    ['티웨이', 'TW305', '19E', '강민석', 38, 20, 2760],\n",
        "    ['에어서울', 'RS808', '3C', '윤지현', 47, 16, 4320],\n",
        "    ['대한항공', 'KE123', '7F', '송', 33, 21, 6780],\n",
        "    ['아시아나', 'OZ562', '11D', '장하은별님달빛', 26, 19, 1890],\n",
        "    ['제주항공', '7C505', '17B', '황수진', 40, 14, 940]\n",
        "]\n",
        "\n",
        "# 문제: 편명과 이름으로 된 새로운 리스트를 만들어주세요.\n",
        "# [['KE607', '김민준'] ...] 이런식으로 나와야 합니다.\n",
        "def f(x):\n",
        "    return [x[1],x[3]]\n",
        "\n",
        "list(map(f, data))"
      ],
      "metadata": {
        "colab": {
          "base_uri": "https://localhost:8080/"
        },
        "id": "ii80hskiIwKp",
        "outputId": "4bf50e3b-8790-4730-f194-14e4f684bf81"
      },
      "execution_count": null,
      "outputs": [
        {
          "output_type": "execute_result",
          "data": {
            "text/plain": [
              "[['KE607', '김민준'],\n",
              " ['OZ721', '이'],\n",
              " ['7C101', '박지민'],\n",
              " ['LJ211', '최서우미래한별'],\n",
              " ['BX213', '정'],\n",
              " ['TW305', '강민석'],\n",
              " ['RS808', '윤지현'],\n",
              " ['KE123', '송'],\n",
              " ['OZ562', '장하은별님달빛'],\n",
              " ['7C505', '황수진']]"
            ]
          },
          "metadata": {},
          "execution_count": 86
        }
      ]
    },
    {
      "cell_type": "code",
      "source": [
        "# 문제: 30살 이상인 사람들의 나이 합을 구해라\n",
        "# 30살 이상인 사람을 filter해서 나이를 다 더한 다음 필터링 한 사람들의 합을 구하면 되겠다\n",
        "# 방법1: 나이만 map 해서 뽑고 filter로 30살 이상인 사람 추출해서 sum\n",
        "# 방법2: filter로 30살 이상인 사람 추출한 다음 map으로 나이만 뽑고 sum\n",
        "\n",
        "# 일부러 f, ff 이런식으로 함수명을 작성하고 있는데\n",
        "# 실무에서는 실제 기능에 맞춰 함수명을 작성한다.\\\n",
        "# 함수명을 작성하는 것 부터 큰 스트레스이다.\n",
        "# ChatGPT로 많이해서 요즘은 좀 덜하긴 하다.\n",
        "# 방법 1\n",
        "def f(x):\n",
        "    return x[4]\n",
        "\n",
        "def ff(x):\n",
        "    return x >=30\n",
        "sum(filter(ff, map(f, data)))\n",
        "\n",
        "# 방법2\n",
        "def f(x):\n",
        "    return x[4] >=30\n",
        "\n",
        "def ff(x):\n",
        "    return x[4]\n",
        "\n",
        "sum(map(ff, filter(f, data)))\n",
        "# sum(list(map(ff, filter(f, data)))) # 실제로는 list써서 확인하지 않는다\n"
      ],
      "metadata": {
        "colab": {
          "base_uri": "https://localhost:8080/"
        },
        "id": "d4uDZ0Q3Km4D",
        "outputId": "19e6bbf6-aaab-42d2-90ac-dd5304929427"
      },
      "execution_count": null,
      "outputs": [
        {
          "output_type": "execute_result",
          "data": {
            "text/plain": [
              "286"
            ]
          },
          "metadata": {},
          "execution_count": 90
        }
      ]
    },
    {
      "cell_type": "code",
      "source": [
        "# 항공사, 편명, 좌석번호, 이름, 나이, 짐무게(kg), 마일리지\n",
        "data = [\n",
        "    ['대한항공', 'KE607', '12A', '김민준', 42, 23, 5280],\n",
        "    ['아시아나', 'OZ721', '8C', '이', 29, 18, 3450],\n",
        "    ['제주항공', '7C101', '15F', '박지민', 35, 15, 720],\n",
        "    ['진에어', 'LJ211', '4D', '최서우미래한별', 51, 27, 8900],\n",
        "    ['에어부산', 'BX213', '21B', '정', 24, 12, 1250],\n",
        "    ['티웨이', 'TW305', '19E', '강민석', 38, 20, 2760],\n",
        "    ['에어서울', 'RS808', '3C', '윤지현', 47, 16, 4320],\n",
        "    ['대한항공', 'KE123', '7F', '송', 33, 21, 6780],\n",
        "    ['아시아나', 'OZ562', '11D', '장하은별님달빛', 26, 19, 1890],\n",
        "    ['제주항공', '7C505', '17B', '황수진', 40, 14, 940]\n",
        "]\n",
        "# 문제 1: 짐무게가 20kg 이상인 승객들의 // 마일리지 평균을 구해주세요!\n",
        "# 문제 2: 아시아나 항공을 이용하는 40세 미만 승객들의 이름 길이 합을 구해주세요!"
      ],
      "metadata": {
        "colab": {
          "base_uri": "https://localhost:8080/"
        },
        "id": "pzrxT6X8O5y7",
        "outputId": "e154ca34-839e-4bd4-b218-59334c83472a"
      },
      "execution_count": null,
      "outputs": [
        {
          "output_type": "execute_result",
          "data": {
            "text/plain": [
              "4"
            ]
          },
          "metadata": {},
          "execution_count": 93
        }
      ]
    },
    {
      "cell_type": "code",
      "source": [
        "# 문제 1: 짐무게가 20kg 이상인 승객들의 // 마일리지 평균을 구해주세요!\n",
        "def f(x):\n",
        "    return x[5] >=20 # filter로 짐무게가 20kg 이상인 승객 추출\n",
        "\n",
        "def ff(x):\n",
        "    return x[6] # map으로 마일리지만 뽑아 sum\n",
        "\n",
        "sum(map(ff, filter(f, data))) / len(list(filter(f, data)))"
      ],
      "metadata": {
        "colab": {
          "base_uri": "https://localhost:8080/"
        },
        "id": "GGUiV-IkQJ9Y",
        "outputId": "a04eef47-28c9-4021-f9e2-fdc324a77df6"
      },
      "execution_count": null,
      "outputs": [
        {
          "output_type": "execute_result",
          "data": {
            "text/plain": [
              "5930.0"
            ]
          },
          "metadata": {},
          "execution_count": 100
        }
      ]
    },
    {
      "cell_type": "code",
      "source": [
        "# 강사님 풀이 (문제1)\n",
        "# 방법1\n",
        "def f(x):\n",
        "    return x[-2] >= 20\n",
        "def ff(x):\n",
        "    return x[-1]\n",
        "\n",
        "filtering_data = list(map(ff, filter(f, data))) # list 변환? 흠..\n",
        "sum(filtering_data) / len(filtering_data) # sum을 했어? 흠..\n",
        "\n",
        "# 방법 2\n",
        "\n",
        "def f(x):\n",
        "    return x[-2] >= 20\n",
        "def ff(x):\n",
        "    return x[-1]\n",
        "\n",
        "count = 0\n",
        "sum_result = 0\n",
        "for i in map(ff, filter(f, data)): # 2번 순회를 돌아야 하는 것을 1번만\n",
        "    count += 1\n",
        "    sum_result += i\n",
        "\n",
        "sum_result / count"
      ],
      "metadata": {
        "colab": {
          "base_uri": "https://localhost:8080/"
        },
        "id": "-EvyPKsYS6QC",
        "outputId": "462f539d-f452-4e5f-ceb1-71ebc4a828b1"
      },
      "execution_count": null,
      "outputs": [
        {
          "output_type": "execute_result",
          "data": {
            "text/plain": [
              "5930.0"
            ]
          },
          "metadata": {},
          "execution_count": 107
        }
      ]
    },
    {
      "cell_type": "code",
      "source": [
        "# 문제 2: 아시아나 항공을 이용하는 40세 미만 승객들의 이름 길이 합을 구해주세요!\n",
        "def f(x):\n",
        "    return x[0] == '아시아나' and x[4] < 40 #아시아나를 이용하고, 나이가 40세 미만인 승객\n",
        "\n",
        "def ff(x):\n",
        "    return len(x[3]) # map으로 이름 길이만 뽑아 sum\n",
        "\n",
        "sum(map(ff, filter(f, data)))"
      ],
      "metadata": {
        "colab": {
          "base_uri": "https://localhost:8080/"
        },
        "id": "wgjd7LFORhv-",
        "outputId": "b3683a99-4e71-4b54-f9ae-0497b02811f1"
      },
      "execution_count": null,
      "outputs": [
        {
          "output_type": "execute_result",
          "data": {
            "text/plain": [
              "8"
            ]
          },
          "metadata": {},
          "execution_count": 101
        }
      ]
    },
    {
      "cell_type": "code",
      "source": [
        "# 강사님 풀이 (문제2)\n",
        "def f(x):\n",
        "    return x[0] == '아시아나' and x[4] < 40\n",
        "\n",
        "def ff(x):\n",
        "    return x[3]\n",
        "\n",
        "len(''.join(map(ff, filter(f, data)))) ## 이게 맞았나?"
      ],
      "metadata": {
        "colab": {
          "base_uri": "https://localhost:8080/"
        },
        "id": "3Rqq0TTuUyYt",
        "outputId": "f430bb68-bac0-4b60-c98d-1e52ec6b8e44"
      },
      "execution_count": null,
      "outputs": [
        {
          "output_type": "execute_result",
          "data": {
            "text/plain": [
              "8"
            ]
          },
          "metadata": {},
          "execution_count": 109
        }
      ]
    },
    {
      "cell_type": "markdown",
      "source": [
        "### zip, iter, next"
      ],
      "metadata": {
        "id": "_wIMsNGDVmN9"
      }
    },
    {
      "cell_type": "code",
      "source": [
        "# zip\n",
        "a = [10, 20, 30]\n",
        "b = (100, 200, 300)\n",
        "c = 'hello wolrd'\n",
        "\n",
        "list(zip(a, b, c))"
      ],
      "metadata": {
        "colab": {
          "base_uri": "https://localhost:8080/"
        },
        "id": "-f0Iek20Vp1n",
        "outputId": "7289c68a-ca09-49fc-b45d-4229cd0f1c67"
      },
      "execution_count": null,
      "outputs": [
        {
          "output_type": "execute_result",
          "data": {
            "text/plain": [
              "[(10, 100, 'h'), (20, 200, 'e'), (30, 300, 'l')]"
            ]
          },
          "metadata": {},
          "execution_count": 110
        }
      ]
    },
    {
      "cell_type": "code",
      "source": [
        "a = [10, 20, 30]\n",
        "b = (100, 200, 300)\n",
        "c = 'hello wolrd'\n",
        "\n",
        "s = zip(a, b, c) # zip은 대부분 변수로 할당하지 않고 사용한다\n",
        "\n",
        "for i in s:\n",
        "    print(i)\n",
        "\n",
        "# 왜 map이나 zip, filter는 변수로 할당하면 한 번 밖에 순회를 못돈다!\n",
        "# 해당 객체에서 다시 순회를 돌 수 있도록 초기화를 해줘야 하는데\n",
        "# 초기화를 해주지 않는 함수이다\n",
        "\n",
        "for i in zip(a, b, c):\n",
        "    print(i)"
      ],
      "metadata": {
        "colab": {
          "base_uri": "https://localhost:8080/"
        },
        "id": "aK-dxRd4WDaw",
        "outputId": "7721c55b-5dee-4eea-c9ef-f5d34352040c"
      },
      "execution_count": null,
      "outputs": [
        {
          "output_type": "stream",
          "name": "stdout",
          "text": [
            "(10, 100, 'h')\n",
            "(20, 200, 'e')\n",
            "(30, 300, 'l')\n",
            "(10, 100, 'h')\n",
            "(20, 200, 'e')\n",
            "(30, 300, 'l')\n"
          ]
        }
      ]
    },
    {
      "cell_type": "code",
      "source": [
        "iter # iter는 반복을 끝낼 값을 지정하면 특정 값이 나올 때 반복을 끝낸다.\n",
        "next # next는 한 글자씩 뽑아낸다. StopIteration\n",
        "# for문에 이용된다.\n",
        "for i in range(10):\n",
        "    print(i)\n",
        "\n",
        "s = 'hello'\n",
        "ss = iter(s) # 나는 이제 값을 순차적으로 꺼낼테니까 꺼낼 준비를 해라!\n",
        "next(ss) # 다음 값을 꺼내라!"
      ],
      "metadata": {
        "colab": {
          "base_uri": "https://localhost:8080/",
          "height": 219
        },
        "id": "eTOByRiEVzBJ",
        "outputId": "0d225199-fd04-4308-ac12-27f43c6b0388"
      },
      "execution_count": null,
      "outputs": [
        {
          "output_type": "stream",
          "name": "stdout",
          "text": [
            "0\n",
            "1\n",
            "2\n",
            "3\n",
            "4\n",
            "5\n",
            "6\n",
            "7\n",
            "8\n",
            "9\n"
          ]
        },
        {
          "output_type": "execute_result",
          "data": {
            "text/plain": [
              "'h'"
            ],
            "application/vnd.google.colaboratory.intrinsic+json": {
              "type": "string"
            }
          },
          "metadata": {},
          "execution_count": 140
        }
      ]
    },
    {
      "cell_type": "code",
      "source": [
        "next(ss)"
      ],
      "metadata": {
        "colab": {
          "base_uri": "https://localhost:8080/",
          "height": 147
        },
        "id": "wcwlgMVUXK1_",
        "outputId": "093de773-2dec-42b9-bd29-deafa4849f43"
      },
      "execution_count": null,
      "outputs": [
        {
          "output_type": "error",
          "ename": "StopIteration",
          "evalue": "",
          "traceback": [
            "\u001b[0;31m---------------------------------------------------------------------------\u001b[0m",
            "\u001b[0;31mStopIteration\u001b[0m                             Traceback (most recent call last)",
            "\u001b[0;32m<ipython-input-136-d2551d6ade9e>\u001b[0m in \u001b[0;36m<cell line: 0>\u001b[0;34m()\u001b[0m\n\u001b[0;32m----> 1\u001b[0;31m \u001b[0mnext\u001b[0m\u001b[0;34m(\u001b[0m\u001b[0mss\u001b[0m\u001b[0;34m)\u001b[0m\u001b[0;34m\u001b[0m\u001b[0;34m\u001b[0m\u001b[0m\n\u001b[0m",
            "\u001b[0;31mStopIteration\u001b[0m: "
          ]
        }
      ]
    },
    {
      "cell_type": "markdown",
      "source": [
        "# 반복문(while)"
      ],
      "metadata": {
        "id": "y2ULkczR4bAX"
      }
    },
    {
      "cell_type": "code",
      "source": [
        "# 언제 for를 사용하고 언제 while을 사용하나요?\n",
        "# for는 객체를 순회할 때\n",
        "# while은 정해진 수만큼 순회를 하거나, 무한 반복을 할 때\n",
        "# 상호 호환 가능\n",
        "\n",
        "# 다만 for로 무한반복 구현이 불가능한 것은 아니다."
      ],
      "metadata": {
        "id": "4dT-X9fIY88N"
      },
      "execution_count": null,
      "outputs": []
    },
    {
      "cell_type": "code",
      "source": [
        "x = 0\n",
        "\n",
        "while x < 10: # x가 True인 동안에\n",
        "    print(x)\n",
        "    x += 1 # 반드시 종료할 수 있는 연산을 줘야한다"
      ],
      "metadata": {
        "colab": {
          "base_uri": "https://localhost:8080/"
        },
        "id": "6PTKhmmJZzrn",
        "outputId": "6ab34e31-ff41-4960-c1b5-5268ebf8ef80"
      },
      "execution_count": null,
      "outputs": [
        {
          "output_type": "stream",
          "name": "stdout",
          "text": [
            "0\n",
            "1\n",
            "2\n",
            "3\n",
            "4\n",
            "5\n",
            "6\n",
            "7\n",
            "8\n",
            "9\n"
          ]
        }
      ]
    },
    {
      "cell_type": "code",
      "source": [
        "# 1부터 100까지 짝수만 더하는 코드를 while문으로 작성해주세요.\n",
        "# 좋지 않은 코드\n",
        "x = 0\n",
        "result = 0\n",
        "\n",
        "while x < 11:\n",
        "    if x % 2 == 0:\n",
        "        result += x\n",
        "    x += 1 # 종료할 수 있는 연산\n",
        "\n",
        "result\n",
        "# ================================================================\n",
        "# 위의 코드보다 좋은 코드\n",
        "x = 0\n",
        "result = 0\n",
        "\n",
        "while x < 11:\n",
        "    result += x\n",
        "    x += 2 # 종료할 수 있는 연산\n",
        "\n",
        "result"
      ],
      "metadata": {
        "colab": {
          "base_uri": "https://localhost:8080/"
        },
        "id": "oAPSXZApcwRx",
        "outputId": "b28d9cc3-6585-4f4a-a030-c8d66aabf59f"
      },
      "execution_count": null,
      "outputs": [
        {
          "output_type": "execute_result",
          "data": {
            "text/plain": [
              "30"
            ]
          },
          "metadata": {},
          "execution_count": 152
        }
      ]
    },
    {
      "cell_type": "code",
      "source": [
        "# 주의해야 할 점\n",
        "i = 2\n",
        "j = 1\n",
        "\n",
        "# 왜 2단밖에 출력하지 않을까?\n",
        "# 내부 while문을 실행하고 나면 j는 10이 되기 때문에\n",
        "# 내부 while문의 조건인 j < 10을 만족하지 않게 되어서 실행되지 않습니다\n",
        "while i < 10:\n",
        "    while j < 10:\n",
        "        print(i, j, i*j)\n",
        "        j += 1\n",
        "    i += 1\n",
        "    j = 1"
      ],
      "metadata": {
        "collapsed": true,
        "id": "Simh9hEHecRo"
      },
      "execution_count": null,
      "outputs": []
    },
    {
      "cell_type": "code",
      "source": [
        "import random\n",
        "\n",
        "result = random.randint(1, 100)\n",
        "\n",
        "while True:\n",
        "    user_input = int(input('1부터 100까지 숫자를 입력하세요.'))\n",
        "    if user_input > result:\n",
        "        print('더 작은 숫자를 입력하세요.')\n",
        "    elif user_input < result:\n",
        "        print('더 큰 숫자를 입력하세요.')\n",
        "    else:\n",
        "        print('정답입니다!')\n",
        "        break"
      ],
      "metadata": {
        "colab": {
          "base_uri": "https://localhost:8080/"
        },
        "id": "shlwVGibZW69",
        "outputId": "65900501-b2aa-4ece-ca70-96d9c6d72852"
      },
      "execution_count": 4,
      "outputs": [
        {
          "output_type": "stream",
          "name": "stdout",
          "text": [
            "1부터 100까지 숫자를 입력하세요.30\n",
            "더 작은 숫자를 입력하세요.\n",
            "1부터 100까지 숫자를 입력하세요.25\n",
            "더 작은 숫자를 입력하세요.\n",
            "1부터 100까지 숫자를 입력하세요.15\n",
            "더 작은 숫자를 입력하세요.\n",
            "1부터 100까지 숫자를 입력하세요.10\n",
            "더 작은 숫자를 입력하세요.\n",
            "1부터 100까지 숫자를 입력하세요.9\n",
            "정답입니다!\n"
          ]
        }
      ]
    },
    {
      "cell_type": "code",
      "source": [
        "# break, continue는 while과 for에서 모두 쓸 수 있다.\n",
        "# break은 반복문을 중단하는 것이고\n",
        "# continue는 다음 반복문으로 넘어가는 것이다.\n",
        "\n",
        "# for i in range(10):\n",
        "#     if i == 3:\n",
        "#         break\n",
        "#     print(i)\n",
        "\n",
        "for i in range(10):\n",
        "    if i == 3:\n",
        "        continue\n",
        "    print(i)"
      ],
      "metadata": {
        "colab": {
          "base_uri": "https://localhost:8080/"
        },
        "id": "M_fq7w3uZ9wH",
        "outputId": "06e96471-c14e-4dae-b8e6-12f3d15adbdd"
      },
      "execution_count": 2,
      "outputs": [
        {
          "output_type": "stream",
          "name": "stdout",
          "text": [
            "0\n",
            "1\n",
            "2\n",
            "4\n",
            "5\n",
            "6\n",
            "7\n",
            "8\n",
            "9\n"
          ]
        }
      ]
    },
    {
      "cell_type": "markdown",
      "source": [
        "# 조건문(match)"
      ],
      "metadata": {
        "id": "2MRrJ2Vl4cw-"
      }
    },
    {
      "cell_type": "code",
      "source": [
        "day = '토'\n",
        "\n",
        "match day:\n",
        "    case \"월\" | \"화\" | \"수\" | \"목\" | \"금\":\n",
        "        print(\"평일\")\n",
        "    case \"토\" | \"일\":\n",
        "        print(\"주말\")\n",
        "    case _:\n",
        "        print(\"올바른 요일을 입력하세요\")"
      ],
      "metadata": {
        "colab": {
          "base_uri": "https://localhost:8080/"
        },
        "id": "A868m3x3fyBs",
        "outputId": "0cb3ffe6-3627-4279-9a59-314e1e338111"
      },
      "execution_count": null,
      "outputs": [
        {
          "output_type": "stream",
          "name": "stdout",
          "text": [
            "주말\n"
          ]
        }
      ]
    },
    {
      "cell_type": "code",
      "source": [
        "# 이전에는 어떻게 사용했는가?\n",
        "\n",
        "today = '일'\n",
        "\n",
        "day = {\n",
        "    '월': '평일',\n",
        "    '화': '평일',\n",
        "    '수': '평일',\n",
        "    '목': '평일',\n",
        "    '금': '평일',\n",
        "    '토': '주말',\n",
        "    '일': '주말',\n",
        "}\n",
        "\n",
        "day.get(today, '제대로 입력하세요!')"
      ],
      "metadata": {
        "colab": {
          "base_uri": "https://localhost:8080/",
          "height": 35
        },
        "id": "NxFH9C_thePq",
        "outputId": "917b5915-3843-4b87-d378-a2aba54a3a34"
      },
      "execution_count": null,
      "outputs": [
        {
          "output_type": "execute_result",
          "data": {
            "text/plain": [
              "'주말'"
            ],
            "application/vnd.google.colaboratory.intrinsic+json": {
              "type": "string"
            }
          },
          "metadata": {},
          "execution_count": 162
        }
      ]
    },
    {
      "cell_type": "markdown",
      "source": [
        "# 클래스\n",
        "- 클래스는 설계도면이다.\n",
        "- 클래스대로 생산된 생산물을 \"인스턴스\" 라고 한다.\n",
        "- 파이썬의 꽃 (가장 중요함!)"
      ],
      "metadata": {
        "id": "p1Tmfp44izxZ"
      }
    },
    {
      "cell_type": "code",
      "source": [
        "# 클래스 - 설계 도면\n",
        "# 인스턴스 - 생산품\n",
        "\n",
        "# 클래스 내의 변수 - 멤버 또는 애트리뷰트\n",
        "# 클래스 내의 함수 - 메서드\n",
        "\n",
        "# 자동차!\n",
        "# 데이터(멤버, 애트리뷰트) # 클래스 내 변수로 선언됩니다. 이것을 멤버 또는 애트리뷰트라고 합니다.\n",
        "#   * 최대 속도\n",
        "#   * 최대 탑승객\n",
        "\n",
        "# 기능(메서드) # 클래스 내 함수로 선언됩니다. 이것을 메서드라고 합니다.\n",
        "#   * 출발\n",
        "#   * 정지"
      ],
      "metadata": {
        "id": "YjnFEsOxk1po"
      },
      "execution_count": null,
      "outputs": []
    },
    {
      "cell_type": "code",
      "source": [
        "class Car:\n",
        "    max_speed = 300     # 멤버 or 애트리뷰트\n",
        "    max_people = 5\n",
        "\n",
        "    def start(self):\n",
        "        print('출발!')    # 메서드\n",
        "\n",
        "    def stop(self):\n",
        "        print('정지!')\n",
        "\n",
        "car1 = Car()  # Car는 클래스, # car1는 인스턴스\n",
        "car2 = Car()\n",
        "\n",
        "print(car1.max_speed)\n",
        "car1.start() # 어디서 많이 본 형태인데...?"
      ],
      "metadata": {
        "colab": {
          "base_uri": "https://localhost:8080/"
        },
        "id": "9gGIva0olK0a",
        "outputId": "b340aa9f-cb1f-4e3e-b293-3191da1a9e3f"
      },
      "execution_count": null,
      "outputs": [
        {
          "output_type": "stream",
          "name": "stdout",
          "text": [
            "300\n",
            "출발!\n"
          ]
        }
      ]
    },
    {
      "cell_type": "code",
      "source": [
        "dir(car1)"
      ],
      "metadata": {
        "collapsed": true,
        "colab": {
          "base_uri": "https://localhost:8080/"
        },
        "id": "wxCFCJ3vm4ir",
        "outputId": "c4155cce-d88a-4415-d6d3-859f9f7a5101"
      },
      "execution_count": null,
      "outputs": [
        {
          "output_type": "execute_result",
          "data": {
            "text/plain": [
              "['__class__',\n",
              " '__delattr__',\n",
              " '__dict__',\n",
              " '__dir__',\n",
              " '__doc__',\n",
              " '__eq__',\n",
              " '__format__',\n",
              " '__ge__',\n",
              " '__getattribute__',\n",
              " '__getstate__',\n",
              " '__gt__',\n",
              " '__hash__',\n",
              " '__init__',\n",
              " '__init_subclass__',\n",
              " '__le__',\n",
              " '__lt__',\n",
              " '__module__',\n",
              " '__ne__',\n",
              " '__new__',\n",
              " '__reduce__',\n",
              " '__reduce_ex__',\n",
              " '__repr__',\n",
              " '__setattr__',\n",
              " '__sizeof__',\n",
              " '__str__',\n",
              " '__subclasshook__',\n",
              " '__weakref__',\n",
              " 'max_people',\n",
              " 'max_speed',\n",
              " 'start',\n",
              " 'stop']"
            ]
          },
          "metadata": {},
          "execution_count": 168
        }
      ]
    },
    {
      "cell_type": "code",
      "source": [
        "l = [10, 20, 30] # l은 리스트 and '인스턴스'\n",
        "dir(l)\n",
        "\n",
        "# l에 더하기도 필요 없습니다.\n",
        "# l에 곱하기도 필요 없습니다.\n",
        "# l에 remove도 필요 없습니다.\n",
        "# .....\n",
        "\n",
        "# 클래스는 데이터가 크면 클 수록 필요한 기능만 메서드만 쓸 수 있게 만들 수 있다\n",
        "\n",
        "l = [1, 2, 3]\n",
        "ll = [1, 2, 3]\n",
        "\n",
        "l == ll\n",
        "\n",
        "a = 10000\n",
        "b = 10000\n",
        "\n",
        "id(a) == id(b) # False\n",
        "# python은 실제 값을 비교해준다"
      ],
      "metadata": {
        "colab": {
          "base_uri": "https://localhost:8080/"
        },
        "collapsed": true,
        "id": "2WuvxDs7ma0F",
        "outputId": "22e1a2be-3995-430e-ad3e-cec37b698a45"
      },
      "execution_count": 148,
      "outputs": [
        {
          "output_type": "execute_result",
          "data": {
            "text/plain": [
              "False"
            ]
          },
          "metadata": {},
          "execution_count": 148
        }
      ]
    },
    {
      "cell_type": "code",
      "source": [
        "# car1은 Car의 인스턴스입니다!\n",
        "value = 10 # value = int(value)\n",
        "# value는 int의 인스턴스입니다!\n",
        "value = 10.0 # value = float(value)\n",
        "# value는 float의 인스턴스입니다!\n",
        "value = [10, 20, 30]\n",
        "# value는 list의 인스턴스입니다!\n",
        "value = (10, 20, 30)\n",
        "# value는 tuple의 인스턴스입니다!"
      ],
      "metadata": {
        "id": "M18urZN2m7e0"
      },
      "execution_count": 146,
      "outputs": []
    },
    {
      "cell_type": "markdown",
      "source": [
        "## 클래스 변수와 인스턴스 변수"
      ],
      "metadata": {
        "id": "NSVJjNvve39_"
      }
    },
    {
      "cell_type": "code",
      "source": [
        "# 클래스 변수\n",
        "# - 설계 도면에 포함되어야 하는 것,\n",
        "# - 클래스 바로 아래 선언합니다.\n",
        "# - 모든 인스턴스가 이 변수를 공유합니다.\n",
        "\n",
        "# 인스턴스 변수\n",
        "# - 생산품에 포함되어야 하는 것\n",
        "# - 보통 __init__ 아래 선언합니다.\n",
        "# - 인스턴스 고유의 영역입니다.\n",
        "\n",
        "class Car:\n",
        "    # 클래스 변수 위치\n",
        "    max_speed = 300\n",
        "    max_people = 5\n",
        "\n",
        "modelx = Car()"
      ],
      "metadata": {
        "id": "YqTJWu7wed4h"
      },
      "execution_count": 149,
      "outputs": []
    },
    {
      "cell_type": "code",
      "source": [
        "Car.max_speed"
      ],
      "metadata": {
        "colab": {
          "base_uri": "https://localhost:8080/"
        },
        "id": "BHsGUNrBhyo_",
        "outputId": "6f249c00-d25d-423a-f2de-996132d11566"
      },
      "execution_count": 7,
      "outputs": [
        {
          "output_type": "execute_result",
          "data": {
            "text/plain": [
              "300"
            ]
          },
          "metadata": {},
          "execution_count": 7
        }
      ]
    },
    {
      "cell_type": "code",
      "source": [
        "Car.max_people"
      ],
      "metadata": {
        "colab": {
          "base_uri": "https://localhost:8080/"
        },
        "id": "tYV9WgRgh4CW",
        "outputId": "96beeffe-d36e-4d9c-d9fb-e0f378c57da4"
      },
      "execution_count": 8,
      "outputs": [
        {
          "output_type": "execute_result",
          "data": {
            "text/plain": [
              "5"
            ]
          },
          "metadata": {},
          "execution_count": 8
        }
      ]
    },
    {
      "cell_type": "code",
      "source": [
        "# self의 정체! - self는 해당 인스턴스를 의미합니다.\n",
        "\n",
        "\n",
        "class Car:\n",
        "    # 클래스 변수 위치\n",
        "    max_speed = 300\n",
        "    max_people = 5\n",
        "\n",
        "    def __init__(self, 구매자):\n",
        "        # __init__ => 매직 메서드: 호출하는 용도가 아니라 클래스가 인스턴스를 찍어낼 때 자동으로 실행\n",
        "        # 인스턴스 변수 위치    # self는 인스턴스에 있는 파라미터 # 여기선 modela이다\n",
        "        # 'self.변수이름'의 형태\n",
        "        self.차구매자 = 구매자\n",
        "\n",
        "\n",
        "\n",
        "\n",
        "modela = Car('구매자1') # Car.__init__(modela, '구매자1') 이렇게 들어가는 것처럼 작동한다.\n",
        "modelb = Car('구매자2')\n",
        "\n",
        "modela.차구매자\n",
        "modelb.차구매자\n",
        "\n",
        "# 인스턴스 변수를 이렇게 넣을 수도 있습니다!\n",
        "modela.스마트키 = '키티 스마트키'\n",
        "modela.스마트키\n",
        "# .으로 접근하는 것이 생소하다면 => list나 tuple, dict 생각하라\n",
        "# l.append()과 같은 원리"
      ],
      "metadata": {
        "colab": {
          "base_uri": "https://localhost:8080/",
          "height": 35
        },
        "id": "kvWXnTP5h83e",
        "outputId": "74c9bec4-92db-4815-b311-d745385fe4c2"
      },
      "execution_count": 12,
      "outputs": [
        {
          "output_type": "execute_result",
          "data": {
            "text/plain": [
              "'키티 스마트키'"
            ],
            "application/vnd.google.colaboratory.intrinsic+json": {
              "type": "string"
            }
          },
          "metadata": {},
          "execution_count": 12
        }
      ]
    },
    {
      "cell_type": "code",
      "source": [
        "# 비교해보면...\n",
        "# 초급자의 마음:\n",
        "# 클래스가 더 복잡하고 난해하다\n",
        "# 굳이 이렇게 해야 하나..?\n",
        "\n",
        "# 항공사, 편명, 좌석번호, 이름, 나이, 짐무게(kg), 마일리지\n",
        "data = [\n",
        "    ['대한항공', 'KE607', '12A', '김민준', 42, 23, 5280],\n",
        "    ['아시아나', 'OZ721', '8C', '이', 29, 18, 3450],\n",
        "    ['제주항공', '7C101', '15F', '박지민', 35, 15, 720],\n",
        "    ['진에어', 'LJ211', '4D', '최서우미래한별', 51, 27, 8900],\n",
        "    ['에어부산', 'BX213', '21B', '정', 24, 12, 1250],\n",
        "    ['티웨이', 'TW305', '19E', '강민석', 38, 20, 2760],\n",
        "    ['에어서울', 'RS808', '3C', '윤지현', 47, 16, 4320],\n",
        "    ['대한항공', 'KE123', '7F', '송', 33, 21, 6780],\n",
        "    ['아시아나', 'OZ562', '11D', '장하은별님달빛', 26, 19, 1890],\n",
        "    ['제주항공', '7C505', '17B', '황수진', 40, 14, 940]\n",
        "]\n",
        "\n",
        "# 항공사, 편명, 좌석번호, 이름, 나이, 짐무게(kg), 마일리지\n",
        "class Passenger:\n",
        "    def __init__(self, 항공사, 편명, 좌석번호, 이름, 나이, 짐무게, 마일리지):\n",
        "        self.항공사 = 항공사\n",
        "        self.편명 = 편명\n",
        "        self.좌석번호 = 좌석번호\n",
        "        self.이름 = 이름\n",
        "        self.나이 = 나이\n",
        "        self.짐무게 = 짐무게\n",
        "        self.마일리지 = 마일리지\n",
        "\n",
        "p1 = Passenger('대한항공', 'KE607', '12A', '김민준', 42, 23, 5280)\n",
        "p2 = Passenger('아시아나', 'OZ721', '8C', '이', 29, 18, 3450)\n",
        "p3 = Passenger('제주항공', '7C101', '15F', '박지민', 35, 15, 720)\n",
        "\n",
        "p1.이름\n"
      ],
      "metadata": {
        "colab": {
          "base_uri": "https://localhost:8080/",
          "height": 35
        },
        "id": "A3YL2HGDlTdx",
        "outputId": "89a6e16d-6ab0-4753-8c37-8c67968b04c6"
      },
      "execution_count": 13,
      "outputs": [
        {
          "output_type": "execute_result",
          "data": {
            "text/plain": [
              "'김민준'"
            ],
            "application/vnd.google.colaboratory.intrinsic+json": {
              "type": "string"
            }
          },
          "metadata": {},
          "execution_count": 13
        }
      ]
    },
    {
      "cell_type": "code",
      "source": [
        "# 중급자 입장:\n",
        "# 1. 예를 들어서 print로 출력을 했을 때 출력되는 길이가 너무 긴 경우가 있을 수 있다\n",
        "# 2. 예를 들어 data끼리 더해야 될 때가 있다\n",
        "\n",
        "# 항공사, 편명, 좌석번호, 이름, 나이, 짐무게(kg), 마일리지\n",
        "data = [\n",
        "    ['대한항공', 'KE607', '12A', '김민준', 42, 23, 5280],\n",
        "    ['아시아나', 'OZ721', '8C', '이', 29, 18, 3450],\n",
        "    ['제주항공', '7C101', '15F', '박지민', 35, 15, 720],\n",
        "    ['진에어', 'LJ211', '4D', '최서우미래한별', 51, 27, 8900],\n",
        "    ['에어부산', 'BX213', '21B', '정', 24, 12, 1250],\n",
        "    ['티웨이', 'TW305', '19E', '강민석', 38, 20, 2760],\n",
        "    ['에어서울', 'RS808', '3C', '윤지현', 47, 16, 4320],\n",
        "    ['대한항공', 'KE123', '7F', '송', 33, 21, 6780],\n",
        "    ['아시아나', 'OZ562', '11D', '장하은별님달빛', 26, 19, 1890],\n",
        "    ['제주항공', '7C505', '17B', '황수진', 40, 14, 940]\n",
        "]\n",
        "\n",
        "data[0] # 1 수천 자 출력할 수도 있다...\n",
        "data[0] + data[1] # 2 나는 마일리지 더하기를 하고 싶었는데?"
      ],
      "metadata": {
        "colab": {
          "base_uri": "https://localhost:8080/"
        },
        "id": "jJ4NCdH-mt9b",
        "outputId": "1dd795aa-3cb0-45c3-8e23-d06513175fbe"
      },
      "execution_count": 150,
      "outputs": [
        {
          "output_type": "execute_result",
          "data": {
            "text/plain": [
              "['대한항공',\n",
              " 'KE607',\n",
              " '12A',\n",
              " '김민준',\n",
              " 42,\n",
              " 23,\n",
              " 5280,\n",
              " '아시아나',\n",
              " 'OZ721',\n",
              " '8C',\n",
              " '이',\n",
              " 29,\n",
              " 18,\n",
              " 3450]"
            ]
          },
          "metadata": {},
          "execution_count": 150
        }
      ]
    },
    {
      "cell_type": "code",
      "source": [
        "# 중급자의 해결법\n",
        "\n",
        "class Passenger:\n",
        "    def __init__(self, 항공사, 편명, 좌석번호, 이름, 나이, 짐무게, 마일리지):\n",
        "        self.항공사 = 항공사\n",
        "        self.편명 = 편명\n",
        "        self.좌석번호 = 좌석번호\n",
        "        self.이름 = 이름\n",
        "        self.나이 = 나이\n",
        "        self.짐무게 = 짐무게\n",
        "        self.마일리지 = 마일리지\n",
        "\n",
        "    def __str__(self):\n",
        "        return f'{self.이름}, {self.나이}!!'\n",
        "\n",
        "\n",
        "    def __add__(self,next):\n",
        "        return self.마일리지 + next.마일리지\n",
        "\n",
        "p1 = Passenger('대한항공', 'KE607', '12A', '김민준', 42, 23, 5280)\n",
        "p2 = Passenger('아시아나', 'OZ721', '8C', '이', 29, 18, 3450)\n",
        "p3 = Passenger('제주항공', '7C101', '15F', '박지민', 35, 15, 720)\n",
        "\n",
        "print(p1)\n",
        "p1 + p2 # 마일리지 점수끼리 합한 것"
      ],
      "metadata": {
        "colab": {
          "base_uri": "https://localhost:8080/"
        },
        "id": "peMzvcbrnc4v",
        "outputId": "31f41ef8-3b12-4875-86ab-134283b052de"
      },
      "execution_count": 16,
      "outputs": [
        {
          "output_type": "stream",
          "name": "stdout",
          "text": [
            "김민준, 42!!\n"
          ]
        },
        {
          "output_type": "execute_result",
          "data": {
            "text/plain": [
              "8730"
            ]
          },
          "metadata": {},
          "execution_count": 16
        }
      ]
    },
    {
      "cell_type": "code",
      "source": [
        "# 어려운 길을 만날 때마다 느끼는 나의 마음\n",
        "\n",
        "# 이게 과연 나의 길일까?\n",
        "# 내가 할 수 있을까?\n",
        "# 내가 해야 할까?\n",
        "\n",
        "# 어려운 것을 만나면 더 어려운 부분을 찾아보자.\n",
        "# 왜냐하면 그것이 차이를 만들어 낼테니까\n",
        "# 남들도 어려우니\n",
        "\n",
        "# 이 차이가 '경쟁력'이 되는 것이고\n",
        "# 많은 경우에 '경제력'도 된다\n",
        "\n",
        "# 어려움이 가치를 만들어내는 경우가 많다"
      ],
      "metadata": {
        "id": "oKmsVXSGrNRK"
      },
      "execution_count": null,
      "outputs": []
    },
    {
      "cell_type": "code",
      "source": [
        "class Dot:\n",
        "\n",
        "    def __init__(self, x, y):\n",
        "        self.x = x\n",
        "        self.y = y\n",
        "\n",
        "a = Dot(1, 1)\n",
        "b = Dot(2, 2)\n",
        "\n",
        "a + b # '+'기호는 a에 __add__를 실행합니다!"
      ],
      "metadata": {
        "colab": {
          "base_uri": "https://localhost:8080/",
          "height": 184
        },
        "id": "TUb7rhX_o9qf",
        "outputId": "a22a9449-7127-4b43-b39e-fd347995bd03"
      },
      "execution_count": 20,
      "outputs": [
        {
          "output_type": "error",
          "ename": "TypeError",
          "evalue": "unsupported operand type(s) for +: 'Dot' and 'Dot'",
          "traceback": [
            "\u001b[0;31m---------------------------------------------------------------------------\u001b[0m",
            "\u001b[0;31mTypeError\u001b[0m                                 Traceback (most recent call last)",
            "\u001b[0;32m<ipython-input-20-821f71a93882>\u001b[0m in \u001b[0;36m<cell line: 0>\u001b[0;34m()\u001b[0m\n\u001b[1;32m      8\u001b[0m \u001b[0mb\u001b[0m \u001b[0;34m=\u001b[0m \u001b[0mDot\u001b[0m\u001b[0;34m(\u001b[0m\u001b[0;36m2\u001b[0m\u001b[0;34m,\u001b[0m \u001b[0;36m2\u001b[0m\u001b[0;34m)\u001b[0m\u001b[0;34m\u001b[0m\u001b[0;34m\u001b[0m\u001b[0m\n\u001b[1;32m      9\u001b[0m \u001b[0;34m\u001b[0m\u001b[0m\n\u001b[0;32m---> 10\u001b[0;31m \u001b[0ma\u001b[0m \u001b[0;34m+\u001b[0m \u001b[0mb\u001b[0m \u001b[0;31m# '+'기호는 Dot에 __add__를 실행합니다!\u001b[0m\u001b[0;34m\u001b[0m\u001b[0;34m\u001b[0m\u001b[0m\n\u001b[0m",
            "\u001b[0;31mTypeError\u001b[0m: unsupported operand type(s) for +: 'Dot' and 'Dot'"
          ]
        }
      ]
    },
    {
      "cell_type": "code",
      "source": [
        "class Dot:\n",
        "\n",
        "    def __init__(self, x, y):\n",
        "        self.x = x\n",
        "        self.y = y\n",
        "\n",
        "    def __add__(self, next):\n",
        "        return [self.x + next.x, self.y + next.y]\n",
        "\n",
        "    def __mul__(self, next):\n",
        "        return [self.x * next.x, self.y * next.y]\n",
        "\n",
        "a = Dot(1, 1)\n",
        "b = Dot(2, 2)\n",
        "\n",
        "a + b # '+'기호는 a에 __add__를 실행합니다!\n",
        "a * b # '*'기호는 a에 __mul__를 실행합니다!"
      ],
      "metadata": {
        "colab": {
          "base_uri": "https://localhost:8080/"
        },
        "id": "5A0iLt-PvqHk",
        "outputId": "32858c67-e92a-4db6-8a2b-f85e540360c6"
      },
      "execution_count": 25,
      "outputs": [
        {
          "output_type": "execute_result",
          "data": {
            "text/plain": [
              "[2, 2]"
            ]
          },
          "metadata": {},
          "execution_count": 25
        }
      ]
    },
    {
      "cell_type": "code",
      "source": [
        "a = 10 # a는 int라는 클래스에 인스턴스입니다!\n",
        "b = 20 # b는 int라는 클래스에 인스턴스입니다!\n",
        "\n",
        "a + b # a인스턴스의 __add__를 실행시킨 결과를 보여주세요!\n",
        "a * b # a인스턴스의 __mul__를 실행시킨 결과를 보여주세요!"
      ],
      "metadata": {
        "colab": {
          "base_uri": "https://localhost:8080/"
        },
        "id": "LV_ITKuMwywY",
        "outputId": "1310056c-ade8-404e-d0d9-9ecb9e180f42"
      },
      "execution_count": 24,
      "outputs": [
        {
          "output_type": "execute_result",
          "data": {
            "text/plain": [
              "30"
            ]
          },
          "metadata": {},
          "execution_count": 24
        }
      ]
    },
    {
      "cell_type": "code",
      "source": [
        "class Dot:\n",
        "\n",
        "    def __init__(self, x, y):\n",
        "        self.x = x\n",
        "        self.y = y\n",
        "\n",
        "    def __eq__(self, next):\n",
        "        # return False\n",
        "        return self.x == next.x and self.y == next.y\n",
        "\n",
        "a = Dot(1, 1)\n",
        "b = Dot(1, 2)\n",
        "\n",
        "a == b # '=='기호는 a에 __eq__를 실행합니다!"
      ],
      "metadata": {
        "colab": {
          "base_uri": "https://localhost:8080/"
        },
        "id": "N3wtGEEIylKJ",
        "outputId": "cf7421fb-bd34-47e2-c9ff-5adbb3c6b1b3"
      },
      "execution_count": 40,
      "outputs": [
        {
          "output_type": "execute_result",
          "data": {
            "text/plain": [
              "False"
            ]
          },
          "metadata": {},
          "execution_count": 40
        }
      ]
    },
    {
      "cell_type": "code",
      "source": [
        "l = [10, 20] # l은 list라는 클래스에 인스턴스이다!\n",
        "ll = [10, 20] # ll은 list라는 클래스에 인스턴스이다!\n",
        "\n",
        "l == ll # l인스턴스의 __eq__를 실행시킨 결과를 보여주세요!"
      ],
      "metadata": {
        "colab": {
          "base_uri": "https://localhost:8080/"
        },
        "id": "XkRVnbSGx_ar",
        "outputId": "917c04f8-0af9-4433-8c09-e4a0595846a1"
      },
      "execution_count": 26,
      "outputs": [
        {
          "output_type": "execute_result",
          "data": {
            "text/plain": [
              "True"
            ]
          },
          "metadata": {},
          "execution_count": 26
        }
      ]
    },
    {
      "cell_type": "code",
      "source": [
        "dir(l) # __add__가 있기 때문에 +가 되는 자료형이라는 것을 알 수 있다"
      ],
      "metadata": {
        "colab": {
          "base_uri": "https://localhost:8080/"
        },
        "collapsed": true,
        "id": "gW7grOpMzoP7",
        "outputId": "7e066ab7-2002-44e0-8eea-107309361552"
      },
      "execution_count": 41,
      "outputs": [
        {
          "output_type": "execute_result",
          "data": {
            "text/plain": [
              "['__add__',\n",
              " '__class__',\n",
              " '__class_getitem__',\n",
              " '__contains__',\n",
              " '__delattr__',\n",
              " '__delitem__',\n",
              " '__dir__',\n",
              " '__doc__',\n",
              " '__eq__',\n",
              " '__format__',\n",
              " '__ge__',\n",
              " '__getattribute__',\n",
              " '__getitem__',\n",
              " '__getstate__',\n",
              " '__gt__',\n",
              " '__hash__',\n",
              " '__iadd__',\n",
              " '__imul__',\n",
              " '__init__',\n",
              " '__init_subclass__',\n",
              " '__iter__',\n",
              " '__le__',\n",
              " '__len__',\n",
              " '__lt__',\n",
              " '__mul__',\n",
              " '__ne__',\n",
              " '__new__',\n",
              " '__reduce__',\n",
              " '__reduce_ex__',\n",
              " '__repr__',\n",
              " '__reversed__',\n",
              " '__rmul__',\n",
              " '__setattr__',\n",
              " '__setitem__',\n",
              " '__sizeof__',\n",
              " '__str__',\n",
              " '__subclasshook__',\n",
              " 'append',\n",
              " 'clear',\n",
              " 'copy',\n",
              " 'count',\n",
              " 'extend',\n",
              " 'index',\n",
              " 'insert',\n",
              " 'pop',\n",
              " 'remove',\n",
              " 'reverse',\n",
              " 'sort']"
            ]
          },
          "metadata": {},
          "execution_count": 41
        }
      ]
    },
    {
      "cell_type": "code",
      "source": [
        "class Dot:\n",
        "\n",
        "    def __init__(self, x, y):\n",
        "        self.x = x\n",
        "        self.y = y\n",
        "\n",
        "\n",
        "\n",
        "\n",
        "a = Dot(1, 1)\n",
        "\n",
        "\n",
        "print(a) # <__main__.Dot object at 0x7bbe6db08710> 나는 이렇게 출력하고 싶지 않은데?\n",
        "# [1, 1] 리스트와 형태가 비슷하네?\n",
        "# (1, 1) 튜플과 형태가 비슷하네?\n",
        "# {1, 1} 딕트와 형태가 비슷하네?\n",
        "#\n",
        "#"
      ],
      "metadata": {
        "colab": {
          "base_uri": "https://localhost:8080/"
        },
        "id": "fZVgSXmHzv_7",
        "outputId": "79c5d99f-698c-4f2c-f800-1875f0476bf6"
      },
      "execution_count": 44,
      "outputs": [
        {
          "output_type": "stream",
          "name": "stdout",
          "text": [
            "<__main__.Dot object at 0x7bbe5e8fed90>\n"
          ]
        }
      ]
    },
    {
      "cell_type": "code",
      "source": [
        "class Dot:\n",
        "\n",
        "    def __init__(self, x, y):\n",
        "        self.x = x\n",
        "        self.y = y\n",
        "\n",
        "    def __str__(self):\n",
        "        # return f'<{self.x}, {self.y}>'\n",
        "        return 'hello world'\n",
        "\n",
        "a = Dot(1, 1)\n",
        "b = Dot(2, 2)\n",
        "\n",
        "print(a) # print는 a의 __str__을 실행합니다.\n",
        "print(b) # print는 a의 __str__을 실행합니다."
      ],
      "metadata": {
        "colab": {
          "base_uri": "https://localhost:8080/"
        },
        "id": "jFp3eTtj1CYE",
        "outputId": "9064c5b8-99a5-448e-872d-965c23cb1dab"
      },
      "execution_count": 45,
      "outputs": [
        {
          "output_type": "stream",
          "name": "stdout",
          "text": [
            "hello world\n"
          ]
        }
      ]
    },
    {
      "cell_type": "code",
      "source": [
        "a = 10\n",
        "# a는 무엇이죠?\n",
        "# a는 int 클래스의 인스턴스 입니다.\n",
        "\n",
        "print(a)\n",
        "# 출력되는 결과는 무엇이죠?\n",
        "# a 인스턴스의 __str__를 실행시킨 결과(__str__ 메서드의 return)입니다.\n",
        "# 그 return 값은 10입니다."
      ],
      "metadata": {
        "id": "3JSwAi051VMy"
      },
      "execution_count": null,
      "outputs": []
    },
    {
      "cell_type": "markdown",
      "source": [
        "## 클래스 연습문제"
      ],
      "metadata": {
        "id": "rUYbseS830GT"
      }
    },
    {
      "cell_type": "code",
      "source": [
        "## 문제 1: 간단한 Book 클래스 만들기\n",
        "# 책을 표현하는 Book 클래스를 만들어보세요.\n",
        "# 책은 제목, 저자, 페이지 수를 가지며, 책 정보를 출력하는 기능이 있어야 합니다.\n",
        "\n",
        "\n",
        "# Book 클래스를 구현하세요\n",
        "# 요구사항:\n",
        "# 1. 제목(title), 저자(author), 페이지 수(pages)를 속성으로 가짐  ##(인스턴스 변수로 들어가야 한다)\n",
        "# 2. __str__ 메서드를 구현하여 책 정보를 \"제목 (저자, 페이지수 쪽)\" 형식으로 출력\n",
        "# 3. book1과 book2를 비교했을 때 페이지 수가 많은 책이 \"더 큰\" 책이 되도록 __gt__ 메서드 구현\n",
        "\n",
        "\n",
        "class Book():\n",
        "    def __init__(self, title, author, pages):\n",
        "        # 보일러 플레이트 코드 (매번 반복적으로 써야 하는 고드)\n",
        "        self.title = title\n",
        "        self.author = author\n",
        "        self.pages = pages\n",
        "\n",
        "    def __str__(self):\n",
        "        return f'{self.title} ({self.author}, {self.pages} 쪽)'\n",
        "\n",
        "    def __gt__(self,next):\n",
        "        return self.pages > next.pages\n",
        "\n",
        "# 예시 실행 코드\n",
        "book1 = Book(\"파이썬 기초\", \"김코딩\", 200)\n",
        "book2 = Book(\"자바 기초\", \"이자바\", 300)\n",
        "\n",
        "print(book1)  # 출력 예상: 파이썬 기초 (김코딩, 200 쪽)\n",
        "print(book2 > book1)  # 출력 예상: True (300 > 200)"
      ],
      "metadata": {
        "colab": {
          "base_uri": "https://localhost:8080/"
        },
        "id": "sjJP-OJp37no",
        "outputId": "1c53ebc4-d1df-462a-c606-5633cd247ad4"
      },
      "execution_count": 73,
      "outputs": [
        {
          "output_type": "stream",
          "name": "stdout",
          "text": [
            "파이썬 기초 (김코딩, 200 쪽)\n",
            "True\n"
          ]
        }
      ]
    },
    {
      "cell_type": "code",
      "source": [
        "# ---------------------------------------------\n",
        "## 문제 2: 계산기 클래스 만들기\n",
        "# 사칙연산을 수행할 수 있는 Calculator 클래스를 만들어보세요.\n",
        "\n",
        "# Calculator 클래스를 구현하세요\n",
        "# 요구사항:\n",
        "# 1. 덧셈, 뺄셈, 곱셈, 나눗셈 기능 구현\n",
        "# 2. 계산 기록을 저장하는 기능 추가\n",
        "# 3. 마지막 계산 결과를 기억하고 있어야 함\n",
        "\n",
        "# 문제가 있는 문제입니다.\n",
        "# 앞에서 book은 확실히 데이터가 찍어낼 필요가 있는 데이터\n",
        "# 이러한 계산기는 그냥 함수로 구현하시면 됩니다.\n",
        "# 굳이 class로 '찍어낼 필요'가 있진 않아요.\n",
        "\n",
        "class Calculator:\n",
        "    def __init__(self):\n",
        "        self.history = []\n",
        "\n",
        "    def add(self, a, b):\n",
        "        self.history.append(f'{a} + {b} = {a + b}')\n",
        "        return a + b\n",
        "\n",
        "    def subtract(self, a, b):\n",
        "        self.history.append(f'{a} - {b} = {a - b}')\n",
        "        return a - b\n",
        "\n",
        "    def multiply(self, a, b):\n",
        "        self.history.append(f'{a} * {b} = {a * b}')\n",
        "        return a * b\n",
        "\n",
        "    def divide(self, a, b):\n",
        "        self.history.append(f'{a} / {b} = {a / b}')\n",
        "        return a / b\n",
        "\n",
        "    def get_history(self):\n",
        "        return self.history\n",
        "\n",
        "    def get_last_result(self):\n",
        "        return self.history[-1]\n",
        "\n",
        "# 예시 실행 코드\n",
        "calc = Calculator()\n",
        "print(calc.add(5, 3))  # 출력 예상: 8\n",
        "print(calc.subtract(10, 7))  # 출력 예상: 3\n",
        "print(calc.multiply(4, 2))  # 출력 예상: 8\n",
        "print(calc.divide(9, 3))  # 출력 예상: 3.0\n",
        "print(calc.get_history())  # 출력 예상: ['5 + 3 = 8', '10 - 7 = 3', '4 * 2 = 8', '9 / 3 = 3.0']\n",
        "print(calc.get_last_result())  # 출력 예상: 3.0"
      ],
      "metadata": {
        "colab": {
          "base_uri": "https://localhost:8080/"
        },
        "id": "5o6p9wnL4XFQ",
        "outputId": "90f07762-56a1-4de2-e12d-d2703c3b54c3"
      },
      "execution_count": 79,
      "outputs": [
        {
          "output_type": "stream",
          "name": "stdout",
          "text": [
            "8\n",
            "3\n",
            "8\n",
            "3.0\n",
            "['5 + 3 = 8', '10 - 7 = 3', '4 * 2 = 8', '9 / 3 = 3.0']\n",
            "9 / 3 = 3.0\n"
          ]
        }
      ]
    },
    {
      "cell_type": "code",
      "source": [
        "# ---------------------------------------------\n",
        "## 문제 3: 간단한 학생 성적 관리 클래스 만들기\n",
        "# 학생들의 성적을 관리하는 GradeBook 클래스를 만들어보세요.\n",
        "\n",
        "# GradeBook 클래스를 구현하세요\n",
        "# 요구사항:\n",
        "# 1. 학생 이름과 점수를 추가하는 기능\n",
        "# 2. 전체 학생 목록과 점수를 출력하는 기능\n",
        "# 3. 최고 점수와 해당 학생 이름을 반환하는 기능\n",
        "# 4. 평균 점수를 계산하는 기능\n",
        "\n",
        "class GradeBook:\n",
        "    def __init__(self):\n",
        "        self.students = []\n",
        "\n",
        "    def add_student(self):\n",
        "        pass\n",
        "\n",
        "    def print_grades(self):\n",
        "        pass\n",
        "\n",
        "    def get_highest_grade(self):\n",
        "        pass\n",
        "\n",
        "    def get_average(self):\n",
        "        pass\n",
        "\n",
        "\n",
        "# 예시 실행 코드\n",
        "gradebook = GradeBook()\n",
        "gradebook.add_student(\"김철수\", 85)\n",
        "gradebook.add_student(\"이영희\", 92)\n",
        "gradebook.add_student(\"박민수\", 78)\n",
        "gradebook.add_student(\"정지원\", 95)\n",
        "\n",
        "gradebook.print_grades()  # 모든 학생의 이름과 점수 출력\n",
        "print(f\"최고 점수: {gradebook.get_highest_grade()}\")  # 출력 예상: 최고 점수: ('정지원', 95)\n",
        "print(f\"평균 점수: {gradebook.get_average()}\")  # 출력 예상: 평균 점수: 87.5"
      ],
      "metadata": {
        "colab": {
          "base_uri": "https://localhost:8080/",
          "height": 239
        },
        "id": "G5q3qDPm4aMP",
        "outputId": "6f17b3f6-2e9d-4335-cacc-af6ef55a2646"
      },
      "execution_count": 59,
      "outputs": [
        {
          "output_type": "error",
          "ename": "TypeError",
          "evalue": "GradeBook.__init__() missing 4 required positional arguments: 'add_student', 'print_grades', 'get_highest_grade', and 'get_average'",
          "traceback": [
            "\u001b[0;31m---------------------------------------------------------------------------\u001b[0m",
            "\u001b[0;31mTypeError\u001b[0m                                 Traceback (most recent call last)",
            "\u001b[0;32m<ipython-input-59-a4688387a6bb>\u001b[0m in \u001b[0;36m<cell line: 0>\u001b[0;34m()\u001b[0m\n\u001b[1;32m     28\u001b[0m \u001b[0;34m\u001b[0m\u001b[0m\n\u001b[1;32m     29\u001b[0m \u001b[0;31m# 예시 실행 코드\u001b[0m\u001b[0;34m\u001b[0m\u001b[0;34m\u001b[0m\u001b[0m\n\u001b[0;32m---> 30\u001b[0;31m \u001b[0mgradebook\u001b[0m \u001b[0;34m=\u001b[0m \u001b[0mGradeBook\u001b[0m\u001b[0;34m(\u001b[0m\u001b[0;34m)\u001b[0m\u001b[0;34m\u001b[0m\u001b[0;34m\u001b[0m\u001b[0m\n\u001b[0m\u001b[1;32m     31\u001b[0m \u001b[0mgradebook\u001b[0m\u001b[0;34m.\u001b[0m\u001b[0madd_student\u001b[0m\u001b[0;34m(\u001b[0m\u001b[0;34m\"김철수\"\u001b[0m\u001b[0;34m,\u001b[0m \u001b[0;36m85\u001b[0m\u001b[0;34m)\u001b[0m\u001b[0;34m\u001b[0m\u001b[0;34m\u001b[0m\u001b[0m\n\u001b[1;32m     32\u001b[0m \u001b[0mgradebook\u001b[0m\u001b[0;34m.\u001b[0m\u001b[0madd_student\u001b[0m\u001b[0;34m(\u001b[0m\u001b[0;34m\"이영희\"\u001b[0m\u001b[0;34m,\u001b[0m \u001b[0;36m92\u001b[0m\u001b[0;34m)\u001b[0m\u001b[0;34m\u001b[0m\u001b[0;34m\u001b[0m\u001b[0m\n",
            "\u001b[0;31mTypeError\u001b[0m: GradeBook.__init__() missing 4 required positional arguments: 'add_student', 'print_grades', 'get_highest_grade', and 'get_average'"
          ]
        }
      ]
    },
    {
      "cell_type": "code",
      "source": [
        "# ---------------------------------------------\n",
        "## 문제 3: 간단한 학생 성적 관리 클래스 만들기\n",
        "# 학생들의 성적을 관리하는 GradeBook 클래스를 만들어보세요.\n",
        "\n",
        "# GradeBook 클래스를 구현하세요\n",
        "# 요구사항:\n",
        "# 1. 학생 이름과 점수를 추가하는 기능\n",
        "# 2. 전체 학생 목록과 점수를 출력하는 기능\n",
        "# 3. 최고 점수와 해당 학생 이름을 반환하는 기능\n",
        "# 4. 평균 점수를 계산하는 기능\n",
        "\n",
        "class GradeBook:\n",
        "    def __init__(self):\n",
        "        self.students = []\n",
        "\n",
        "    def add_student(self, name, score):\n",
        "        self.students.append((name, score))\n",
        "\n",
        "    def print_grades(self):\n",
        "        return self.students\n",
        "\n",
        "    def get_highest_grade(self):\n",
        "        def f(x):\n",
        "            return x[1]\n",
        "        return sorted(self.students, key=f, reverse=True)[0]\n",
        "\n",
        "    def get_average(self):\n",
        "        def f(x):\n",
        "            return x[1]\n",
        "        return sum(map(f, self.students)) / len(self.students)\n",
        "\n",
        "\n",
        "# 예시 실행 코드\n",
        "gradebook = GradeBook()\n",
        "gradebook.add_student(\"김철수\", 85)\n",
        "gradebook.add_student(\"이영희\", 92)\n",
        "gradebook.add_student(\"박민수\", 78)\n",
        "gradebook.add_student(\"정지원\", 95)\n",
        "\n",
        "gradebook.print_grades()  # 모든 학생의 이름과 점수 출력\n",
        "print(f\"최고 점수: {gradebook.get_highest_grade()}\")  # 출력 예상: 최고 점수: ('정지원', 95)\n",
        "print(f\"평균 점수: {gradebook.get_average()}\")  # 출력 예상: 평균 점수: 87.5"
      ],
      "metadata": {
        "colab": {
          "base_uri": "https://localhost:8080/"
        },
        "id": "5DRxrBIFVFVh",
        "outputId": "c241dfcb-f286-474c-f568-28e53d27259e"
      },
      "execution_count": 83,
      "outputs": [
        {
          "output_type": "stream",
          "name": "stdout",
          "text": [
            "최고 점수: ('정지원', 95)\n",
            "평균 점수: 87.5\n"
          ]
        }
      ]
    },
    {
      "cell_type": "code",
      "source": [
        "# ---------------------------------------------\n",
        "## 나아가기\n",
        "## 실무라면 어떻게 하는 것이 좋았을까요?\n",
        "## => class로 변환할 수 있는 것은 모두 클래스로 변경했을 것입니다.\n",
        "\n",
        "class Student:\n",
        "    def __init__(self, name, score, phone='000-0000-0000', email=''):\n",
        "        self.name = name\n",
        "        self.score = score\n",
        "        self.phone = phone\n",
        "        self.email = email\n",
        "\n",
        "    def __str__(self): # print를 하면 출력해주는 문자열\n",
        "        return f'{self.name}'\n",
        "\n",
        "    def __repr__(self): # 이 객체를 대표하는 문자열, print를 안하고 출력하면 이 문자열을 출력합니다.\n",
        "        return f'{self.name}'\n",
        "\n",
        "class GradeBook:\n",
        "    def __init__(self):\n",
        "        self.students = []\n",
        "\n",
        "    def add_student(self, name, score, phone='000-0000-0000', email=''):\n",
        "        self.students.append(Student(name, score, phone, email))\n",
        "\n",
        "    def print_grades(self):\n",
        "        return self.students\n",
        "\n",
        "# 예시 실행 코드\n",
        "gradebook = GradeBook()\n",
        "gradebook.add_student(\"김철수\", 85, '010-5044-2903')\n",
        "gradebook.add_student(\"이영희\", 92)\n",
        "gradebook.add_student(\"박민수\", 78)\n",
        "gradebook.add_student(\"정지원\", 95)\n",
        "\n",
        "gradebook.print_grades()\n",
        "\n",
        "data = gradebook.print_grades()\n",
        "data[0].score\n",
        "data[0].phone"
      ],
      "metadata": {
        "colab": {
          "base_uri": "https://localhost:8080/",
          "height": 35
        },
        "id": "fikk_bfqY-vo",
        "outputId": "da73ac05-493c-480c-b332-e6959e3a3542"
      },
      "execution_count": 93,
      "outputs": [
        {
          "output_type": "execute_result",
          "data": {
            "text/plain": [
              "'010-5044-2903'"
            ],
            "application/vnd.google.colaboratory.intrinsic+json": {
              "type": "string"
            }
          },
          "metadata": {},
          "execution_count": 93
        }
      ]
    },
    {
      "cell_type": "markdown",
      "source": [
        "# 상속\n",
        "- 부모 클래스(또는 기본 클래스, 슈퍼 클래스): 특성이 상속되는 클래스.\n",
        "\n",
        "- 자식 클래스(또는 파생 클래스, 서브 클래스): 부모 클래스의 특성을 상속받는 클래스."
      ],
      "metadata": {
        "id": "Bo9sKYolhTkf"
      }
    },
    {
      "cell_type": "code",
      "source": [
        "# 국내 학생\n",
        "\n",
        "class Student:\n",
        "    def __init__(self, name, score, phone, email):\n",
        "        self.name = name\n",
        "        self.score = score\n",
        "        self.phone = phone\n",
        "        self.email = email\n",
        "\n",
        "    def __repr__(self):\n",
        "        return self.name\n",
        "\n",
        "# 외국학생이 들어왔습니다!? 1 / 10000 명이 들어왔어요.\n",
        "# 이 한 명을 위해 이 class를 바꾸는 것이 바람직할까요?\n",
        "# 그래서 이렇게 하고 싶은겁니다. Student에 있는 것을 그대로 사용하고\n",
        "# 국적만 추가해주는 다른 class를 만드는 것입니다.\n",
        "\n",
        "class ForeignStudent(Student):\n",
        "    def __init__(self, name, score, phone, email, country):\n",
        "        super().__init__(name, score, phone, email)\n",
        "        self.country = country\n",
        "\n",
        "data = [\n",
        "    Student(\"김민준\", 85, \"010-1234-5678\", \"minjun@example.kr\"),\n",
        "    Student(\"이서연\", 92, \"010-2345-6789\", \"seoyeon@example.kr\"),\n",
        "\n",
        "]\n",
        "# 그럼 이제 학생들 관리할 때 아래와 같이 관리할 수 있을 겁니다.\n",
        "\n",
        "data = [\n",
        "    Student(\"김민준\", 85, \"010-1234-5678\", \"minjun@example.kr\"),\n",
        "    Student(\"이서연\", 92, \"010-2345-6789\", \"seoyeon@example.kr\"),\n",
        "    Student(\"박지훈\", 78, \"010-3456-7890\", \"jihoon@example.kr\"),\n",
        "    Student(\"최수아\", 88, \"010-4567-8901\", \"sua@example.kr\"),\n",
        "    Student(\"정도현\", 95, \"010-5678-9012\", \"dohyun@example.kr\"),\n",
        "    Student(\"강하은\", 82, \"010-6789-0123\", \"haeun@example.kr\"),\n",
        "    Student(\"윤지우\", 90, \"010-7890-1234\", \"jiwoo@example.kr\"),\n",
        "    Student(\"임서진\", 79, \"010-8901-2345\", \"seojin@example.kr\"),\n",
        "    ForeignStudent(\"Emma Wilson\", 87, \"010-9012-3456\", \"emma@example.com\", \"USA\"),\n",
        "    Student(\"한유진\", 93, \"010-0123-4567\", \"yujin@example.kr\")\n",
        "]\n",
        "\n",
        "data\n",
        "\n",
        "# for i in data:\n",
        "#     print(i.name, i.email)"
      ],
      "metadata": {
        "colab": {
          "base_uri": "https://localhost:8080/"
        },
        "id": "zqcdclPLhVJ-",
        "outputId": "d80fffe8-e203-4143-ae66-9ad50b5a9be8"
      },
      "execution_count": 116,
      "outputs": [
        {
          "output_type": "execute_result",
          "data": {
            "text/plain": [
              "[김민준, 이서연, 박지훈, 최수아, 정도현, 강하은, 윤지우, 임서진, Emma Wilson, 한유진]"
            ]
          },
          "metadata": {},
          "execution_count": 116
        }
      ]
    },
    {
      "cell_type": "code",
      "source": [
        "class A:\n",
        "    pass\n",
        "\n",
        "class B:\n",
        "    pass\n",
        "\n",
        "class C:\n",
        "    pass"
      ],
      "metadata": {
        "id": "3TdAca0Am3gb"
      },
      "execution_count": null,
      "outputs": []
    },
    {
      "cell_type": "code",
      "source": [
        "class A:\n",
        "    def move(self):\n",
        "        print('움직여요!')\n",
        "\n",
        "class B(A):\n",
        "    pass\n",
        "\n",
        "class C(B):\n",
        "    pass\n",
        "\n",
        "a = A()\n",
        "b = B()\n",
        "c = C()\n",
        "\n",
        "a.move()\n",
        "b.move()\n",
        "c.move()"
      ],
      "metadata": {
        "colab": {
          "base_uri": "https://localhost:8080/"
        },
        "id": "aJog5lg-m-kv",
        "outputId": "8d89c965-041a-44f6-dbb9-1668b5e9d174"
      },
      "execution_count": 118,
      "outputs": [
        {
          "output_type": "stream",
          "name": "stdout",
          "text": [
            "움직여요!\n",
            "움직여요!\n",
            "움직여요!\n"
          ]
        }
      ]
    },
    {
      "cell_type": "code",
      "source": [
        "class A:\n",
        "    num = 100\n",
        "    def move(self):\n",
        "        print('움직여요!')\n",
        "\n",
        "class B(A):\n",
        "    pass\n",
        "\n",
        "class C(B):\n",
        "    pass\n",
        "\n",
        "a = A()\n",
        "b = B()\n",
        "c = C()\n",
        "\n",
        "a.num\n",
        "b.num\n",
        "c.num"
      ],
      "metadata": {
        "colab": {
          "base_uri": "https://localhost:8080/"
        },
        "id": "jo5k36cFnWui",
        "outputId": "17132b79-8fac-438c-e5c9-0590c47ecdbc"
      },
      "execution_count": 121,
      "outputs": [
        {
          "output_type": "execute_result",
          "data": {
            "text/plain": [
              "100"
            ]
          },
          "metadata": {},
          "execution_count": 121
        }
      ]
    },
    {
      "cell_type": "code",
      "source": [
        "class A:\n",
        "    a = 100\n",
        "\n",
        "class B(A):\n",
        "    b = 200\n",
        "\n",
        "class C(B,A):\n",
        "    pass\n",
        "\n",
        "c = C()\n",
        "\n",
        "c.a\n",
        "c.b"
      ],
      "metadata": {
        "colab": {
          "base_uri": "https://localhost:8080/"
        },
        "id": "bpSnmiA_ov4o",
        "outputId": "f7a66f3b-2cbc-4351-94b8-a08fabd628c4"
      },
      "execution_count": 134,
      "outputs": [
        {
          "output_type": "execute_result",
          "data": {
            "text/plain": [
              "200"
            ]
          },
          "metadata": {},
          "execution_count": 134
        }
      ]
    },
    {
      "cell_type": "markdown",
      "source": [
        "# 메서드 오버라이딩\n",
        "- 덮어쓰기"
      ],
      "metadata": {
        "id": "nSx4wz0DpObr"
      }
    },
    {
      "cell_type": "code",
      "source": [
        "class A:\n",
        "    def move(self):\n",
        "        print('출발!')\n",
        "\n",
        "\n",
        "class B(A):\n",
        "    def move(self):\n",
        "        print('덮어썼지롱!')\n",
        "\n",
        "b = B()\n",
        "b.move()\n",
        "\n",
        "    # black formatter"
      ],
      "metadata": {
        "colab": {
          "base_uri": "https://localhost:8080/"
        },
        "id": "04-0RMTppeB9",
        "outputId": "c9d85287-d709-4105-db55-8627f8ccb22d"
      },
      "execution_count": 135,
      "outputs": [
        {
          "output_type": "stream",
          "name": "stdout",
          "text": [
            "덮어썼지롱!\n"
          ]
        }
      ]
    },
    {
      "cell_type": "code",
      "source": [
        "# 절대 실행시키지 마세요!!\n",
        "'''\n",
        "class int(int):\n",
        "    def __add__(self, a):\n",
        "        return self * a\n",
        "\n",
        "int('10') + int('10')\n",
        "'''"
      ],
      "metadata": {
        "id": "iVt2VAl4q8O5"
      },
      "execution_count": null,
      "outputs": []
    },
    {
      "cell_type": "code",
      "source": [
        "class MyClass:\n",
        "    def __init__(self, c, d, e):\n",
        "        self.__c = c\n",
        "        self.d = d\n",
        "        self._ = e\n",
        "\n",
        "c = MyClass(30, 40, 50)\n",
        "c._\n",
        "# c.__c # error # __ 언더바 두개=> 비공개 속성: 클래스 내부에서만 접근 가능!"
      ],
      "metadata": {
        "colab": {
          "base_uri": "https://localhost:8080/"
        },
        "id": "nn1RVZO8sf_l",
        "outputId": "573772eb-72a5-4286-900f-5fd0f79ff58e"
      },
      "execution_count": 137,
      "outputs": [
        {
          "output_type": "execute_result",
          "data": {
            "text/plain": [
              "50"
            ]
          },
          "metadata": {},
          "execution_count": 137
        }
      ]
    },
    {
      "cell_type": "markdown",
      "source": [
        "# lambda"
      ],
      "metadata": {
        "id": "bAspCAjJVsiU"
      }
    },
    {
      "cell_type": "code",
      "source": [
        "# 이름이 없는 함수!\n",
        "# 함수는 => 재사용이 목적!\n",
        "# 이름이 없 는 함수인 lambda는 재사용이 목적이 아니라 함수 기능 자체에 목적이 있다!\n",
        "\n",
        "def f(x): # 이 f함수를 거의 재사용하지 않는다! 1번만 사용하는 경우가 많다\n",
        "    return x ** 2\n",
        "\n",
        "list(map(f, [1, 2, 3, 4]))"
      ],
      "metadata": {
        "colab": {
          "base_uri": "https://localhost:8080/"
        },
        "id": "kw7WTlSvbgru",
        "outputId": "05f249c3-e8b8-45b4-9356-1486062b0568"
      },
      "execution_count": 95,
      "outputs": [
        {
          "output_type": "execute_result",
          "data": {
            "text/plain": [
              "[1, 4, 9, 16]"
            ]
          },
          "metadata": {},
          "execution_count": 95
        }
      ]
    },
    {
      "cell_type": "code",
      "source": [
        "list(map(lambda x: x ** 2, [1, 2, 3, 4]))\n",
        "# lambda (input) : (return값이 True인 것만 출력)"
      ],
      "metadata": {
        "colab": {
          "base_uri": "https://localhost:8080/"
        },
        "id": "2hRKTkPZb5mW",
        "outputId": "42279b62-07d5-46ee-f80a-5f2c8c1aa465"
      },
      "execution_count": 98,
      "outputs": [
        {
          "output_type": "execute_result",
          "data": {
            "text/plain": [
              "[1, 4, 9, 16]"
            ]
          },
          "metadata": {},
          "execution_count": 98
        }
      ]
    },
    {
      "cell_type": "code",
      "source": [
        "# lambda가 자주 사용되는 곳은?\n",
        "\n",
        "# map\n",
        "# filter\n",
        "# sorted\n",
        "\n",
        "# 다만, 고급 프로그래머는 시도 때도 없이 lambda를 사용한다\n",
        "# 그리고 한줄로만 코딩을 하려는 이상한 분들이 있으시다. => 권하지 않는다\n",
        "# 가독성은 중요하다! lambda를 너무 겹쳐서 쓰면 가독성이 깨진다"
      ],
      "metadata": {
        "id": "kwHjiRmjcJlA"
      },
      "execution_count": null,
      "outputs": []
    },
    {
      "cell_type": "code",
      "source": [
        "# [2, 5, 3, 7, 5, 3, 4, 1, 2, 3]에서 4 이상인 값을 모두 출력하세요. lambda를 통해 구현하세요.\n",
        "\n",
        "list(filter(lambda x: x >=4, [2, 5, 3, 7, 5, 3, 4, 1, 2, 3] ))"
      ],
      "metadata": {
        "colab": {
          "base_uri": "https://localhost:8080/"
        },
        "id": "EcdWfSJfc5ft",
        "outputId": "a1191db7-ba6d-400d-d24e-fd054a3c5884"
      },
      "execution_count": 104,
      "outputs": [
        {
          "output_type": "execute_result",
          "data": {
            "text/plain": [
              "[5, 7, 5, 4]"
            ]
          },
          "metadata": {},
          "execution_count": 104
        }
      ]
    },
    {
      "cell_type": "code",
      "source": [
        "# lambda를 이름 있는 함수로?\n",
        "\n",
        "f = lambda num: num >= 4\n",
        "\n",
        "def f(num):\n",
        "    return num >=4"
      ],
      "metadata": {
        "id": "6vHu-G8nfPsd"
      },
      "execution_count": 105,
      "outputs": []
    },
    {
      "cell_type": "code",
      "source": [
        "# 가독성이 매우 떨어지는 코드\n",
        "\n",
        "# 가독성이 매우 떨어지는 중첩 lambda 예시 (이게 다 한줄...)\n",
        "process_data = lambda data: list(map(\n",
        "    lambda x: (lambda y: (lambda z: z ** 2)(y * 3) if y % 2 == 0 else (lambda w: w + 10)(y))(\n",
        "        (lambda a: a + 5 if a > 10 else (lambda b: b * 2)(a))(x)\n",
        "    ),\n",
        "    filter(lambda n: (lambda p: p > 0)(n) and (lambda q: q < 100)(n) and (lambda r: r % 3 != 0 or r % 5 == 0)(n), data)\n",
        "))\n",
        "\n",
        "# 사용 예시\n",
        "numbers = list(range(-10, 30))\n",
        "result = process_data(numbers)\n",
        "print(result)"
      ],
      "metadata": {
        "colab": {
          "base_uri": "https://localhost:8080/"
        },
        "collapsed": true,
        "id": "IooxgPEKfwBg",
        "outputId": "bcca76d3-58ac-4093-b2b3-8ab1ef84cb24"
      },
      "execution_count": 106,
      "outputs": [
        {
          "output_type": "stream",
          "name": "stdout",
          "text": [
            "[36, 144, 576, 900, 1764, 2304, 3600, 2304, 2916, 29, 3600, 31, 4356, 5184, 35, 37, 7056, 8100, 41, 43, 10404]\n"
          ]
        }
      ]
    },
    {
      "cell_type": "code",
      "source": [
        "# 주로 쓰이는 매직메서드\n",
        "\n",
        "# __init__(self, ...)\n",
        "# __str__(self)\n",
        "# __repr__(self)\n",
        "# __len__(self)"
      ],
      "metadata": {
        "id": "INLC3luwgRaT"
      },
      "execution_count": null,
      "outputs": []
    },
    {
      "cell_type": "code",
      "source": [],
      "metadata": {
        "id": "uWfufQgGhLI1"
      },
      "execution_count": null,
      "outputs": []
    }
  ]
}