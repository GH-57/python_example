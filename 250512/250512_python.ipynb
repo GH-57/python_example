{
  "nbformat": 4,
  "nbformat_minor": 0,
  "metadata": {
    "colab": {
      "provenance": []
    },
    "kernelspec": {
      "name": "python3",
      "display_name": "Python 3"
    },
    "language_info": {
      "name": "python"
    }
  },
  "cells": [
    {
      "cell_type": "markdown",
      "source": [
        "- colab의 좋은 점: 시각화가 잘 되어 있고, 설치가 필요 없고, 학습을 빠르게 할 수 있다.(학습에 좋은 환경)\n",
        "- .py에 좋은 점: 실무에서는 colab으로 개발하는 것이 아니다. py로 만들어서 개발해야 한다"
      ],
      "metadata": {
        "id": "oX3LU70fZSb1"
      }
    },
    {
      "cell_type": "markdown",
      "source": [
        "# colab\n",
        "\n",
        "- gooogle id만 있으면 ram을 12G, disk를 100G나 되는 원격\n",
        "컴퓨터를 무료로 준다!\n",
        "- 여기에는 Python 환경이 모두 설정이 되어 있어서 별도의 설정이 필요없다!\n",
        "- google drive가 자동 연동되어서 별도로 다운로드 해서 저장할 필요가 없다!\n",
        "- Ctrl + Enter: 현재 셀 실행\n",
        "- Alt + Enter: 현재 셀 실행 + 아래 셀 하나 만들기"
      ],
      "metadata": {
        "id": "bRJQLwL5Io3M"
      }
    },
    {
      "cell_type": "markdown",
      "source": [
        "# 마크업과 마크다운\n",
        "\n",
        "```\n",
        "- HTML은 웹 브라우저나 고급 문서를 표현\n",
        "<h1>hello world</h1>\n",
        "<h2>hello world</h2>\n",
        "<p>hello world</p>\n",
        "\n",
        "- Markdown은 서식이 필요치 않은 문서를 표현\n",
        "# hello world\n",
        "## hello world\n",
        "```\n",
        "## 마크다운 문법(우리가 사용할 문법)\n",
        "```\n",
        "# hello world\n",
        "## hello world\n",
        "### hello world\n",
        "\n",
        "- hello world\n",
        "- hello world\n",
        "- hello world\n",
        "\n",
        "1. hello world\n",
        "2. hello world\n",
        "3. hello world\n",
        "```"
      ],
      "metadata": {
        "id": "tyBBwTZnFRTR"
      }
    },
    {
      "cell_type": "markdown",
      "source": [
        "# range"
      ],
      "metadata": {
        "id": "9qrzu5zgQZKX"
      }
    },
    {
      "cell_type": "code",
      "source": [
        "range(1, 10, 2) #start, stop, step"
      ],
      "metadata": {
        "colab": {
          "base_uri": "https://localhost:8080/"
        },
        "id": "JkFxwBYdZ6zn",
        "outputId": "573c4e5d-0e8b-4649-c64a-17b82d57d5d1"
      },
      "execution_count": 113,
      "outputs": [
        {
          "output_type": "execute_result",
          "data": {
            "text/plain": [
              "range(1, 10, 2)"
            ]
          },
          "metadata": {},
          "execution_count": 113
        }
      ]
    },
    {
      "cell_type": "code",
      "source": [
        "l = [10, 20, 30, 40]\n",
        "l # 이렇게 마지막 라인에 한하여 print를 안해도 출력이 됩니다."
      ],
      "metadata": {
        "colab": {
          "base_uri": "https://localhost:8080/"
        },
        "id": "ZVk4uk3JJhtY",
        "outputId": "777b7df5-8757-4b2a-deef-6312f4fa1b27"
      },
      "execution_count": 1,
      "outputs": [
        {
          "output_type": "execute_result",
          "data": {
            "text/plain": [
              "[10, 20, 30, 40]"
            ]
          },
          "metadata": {},
          "execution_count": 1
        }
      ]
    },
    {
      "cell_type": "code",
      "source": [
        "range(0, 10)\n",
        "[0, 1, 2, 3, 4, 5, 6, 7, 8, 9] # 아니 이렇게 왜 안나오는 거지?"
      ],
      "metadata": {
        "colab": {
          "base_uri": "https://localhost:8080/"
        },
        "id": "pMd_tfKvKHMN",
        "outputId": "c2086ac5-ef95-40bd-aedc-7aa1bc295a6c"
      },
      "execution_count": 2,
      "outputs": [
        {
          "output_type": "execute_result",
          "data": {
            "text/plain": [
              "range(0, 10)"
            ]
          },
          "metadata": {},
          "execution_count": 2
        }
      ]
    },
    {
      "cell_type": "code",
      "source": [
        "# range()는 python 2.x에서는 list였습니다?!\n",
        "type(range(0,10)) # 왜 range 라는 타입일까요? (별도의 자료형이다)"
      ],
      "metadata": {
        "colab": {
          "base_uri": "https://localhost:8080/"
        },
        "id": "lBnUXKHTKfY4",
        "outputId": "6f7095dc-345a-40eb-a903-7696286e2693"
      },
      "execution_count": 4,
      "outputs": [
        {
          "output_type": "execute_result",
          "data": {
            "text/plain": [
              "range"
            ]
          },
          "metadata": {},
          "execution_count": 4
        }
      ]
    },
    {
      "cell_type": "code",
      "source": [
        "# 파이썬은 속도를 올리기 위한 작업을 매 버전마다 해왔습니다.\n",
        "# 그래서 최종 목표는 C의 속도를 따라잡는 것입니다.\n",
        "# range(100000000000000) 이렇게 데이터를 생성한다고 생각해보세요.\n",
        "# 0 - 100000000000000에 숫자를 모두 메모리에 올려야 합니다.\n",
        "# xrange()라는 것을 만들어서 이를 해결했습니다.\n",
        "# xrange는 숫자를 생성하지 않고, start, stop, step 값으로 호출을 할 때 하나씩 생성을 하는 방식을 새롭게 도입했습니다.\n",
        "# xrange가 3.x로 오면서 range가 된 것입니다!"
      ],
      "metadata": {
        "id": "9iJjYDP8LDjH"
      },
      "execution_count": null,
      "outputs": []
    },
    {
      "cell_type": "code",
      "source": [
        "# range()의 인덱싱\n",
        "range(100)[3]\n",
        "range(100, 1000, 100)[3]"
      ],
      "metadata": {
        "colab": {
          "base_uri": "https://localhost:8080/"
        },
        "id": "Pih71KRLPeJx",
        "outputId": "c0fbd4b6-2d1d-4e4a-bd68-9eafd0d67a44"
      },
      "execution_count": 7,
      "outputs": [
        {
          "output_type": "execute_result",
          "data": {
            "text/plain": [
              "400"
            ]
          },
          "metadata": {},
          "execution_count": 7
        }
      ]
    },
    {
      "cell_type": "code",
      "source": [
        "# range()의 슬라이싱\n",
        "range(100)[1:10]"
      ],
      "metadata": {
        "colab": {
          "base_uri": "https://localhost:8080/"
        },
        "id": "1FHx01tMPmfm",
        "outputId": "2815b0d4-d259-4aff-c80c-2c6e96663811"
      },
      "execution_count": 6,
      "outputs": [
        {
          "output_type": "execute_result",
          "data": {
            "text/plain": [
              "range(1, 10)"
            ]
          },
          "metadata": {},
          "execution_count": 6
        }
      ]
    },
    {
      "cell_type": "code",
      "source": [
        "# range의 step 음수 값\n",
        "list(range(100, 9, -10))"
      ],
      "metadata": {
        "colab": {
          "base_uri": "https://localhost:8080/"
        },
        "id": "jumWaAyxP6kB",
        "outputId": "d12c9b6d-d05a-4358-87d1-b2b575e3f966"
      },
      "execution_count": 10,
      "outputs": [
        {
          "output_type": "execute_result",
          "data": {
            "text/plain": [
              "[100, 90, 80, 70, 60, 50, 40, 30, 20, 10]"
            ]
          },
          "metadata": {},
          "execution_count": 10
        }
      ]
    },
    {
      "cell_type": "markdown",
      "source": [
        "# function(함수)"
      ],
      "metadata": {
        "id": "lgjKLPzSQgbV"
      }
    },
    {
      "cell_type": "code",
      "source": [
        "# function이라는 것이 왜 필요했을까?\n",
        "\n",
        "# 첫 번째 이유\n",
        "# 반복된 코드가 줄어든다\n",
        "def hello():\n",
        "\n",
        "    x = 10 # 이 코드가 반복되니 이 코드의 이름을 hello라고 하고, 이 코드 자리에 hello를 놓자!\n",
        "    y = 20\n",
        "    print(x + y)\n",
        "\n",
        "hello()\n",
        "\n",
        "hello()\n",
        "a = 10\n",
        "\n",
        "hello()\n",
        "b = 20\n",
        "\n",
        "hello()\n",
        "a + b\n",
        "\n",
        "hello()\n",
        "a - b"
      ],
      "metadata": {
        "colab": {
          "base_uri": "https://localhost:8080/"
        },
        "id": "dXMyOOgb5I_i",
        "outputId": "18d481f5-fb95-4f28-e7a1-63e59a2ca672"
      },
      "execution_count": 55,
      "outputs": [
        {
          "output_type": "stream",
          "name": "stdout",
          "text": [
            "30\n"
          ]
        }
      ]
    },
    {
      "cell_type": "code",
      "source": [
        "# 두 번째 이유\n",
        "# 수만줄의 코드도 아래와 같이 함수로 쌓여있으면 '구조를 파악'하기 쉽습니다.\n",
        "# 함수로 쓰는 연습을 자주 하라\n",
        "\n",
        "땅파기()\n",
        "땅다지기()\n",
        "상하수도설치()\n",
        "벽돌쌓기()\n",
        "지붕올리기()\n",
        "내부인테리어()"
      ],
      "metadata": {
        "id": "P1Aed2xX6DRz"
      },
      "execution_count": null,
      "outputs": []
    },
    {
      "cell_type": "code",
      "source": [
        "# 세 번째 이유\n",
        "# 알지 않아도 되는 코드를 들여다보지 않을 수 있다.\n",
        "# 추상화\n",
        "# 자동차를 운전할 때 자동차 패달을 밟는다 해서\n",
        "# 엔진을 뜯어볼 필요가 있나? (X)\n",
        "# 내부 구현을 숨기고 필요한 기능만 외부에 노출시켜\n",
        "# 코드를 더 이해하기 쉽고 사용하기 편리하게 만드는 개념입니다.\n",
        "\n",
        "땅파기()\n",
        "땅다지기()\n",
        "상하수도설치()\n",
        "벽돌쌓기() # 내 과업은 벽돌쌓기를 수정하는 것이다.\n",
        "지붕올리기()\n",
        "내부인테리어()"
      ],
      "metadata": {
        "id": "wiwtw1fa6YNO"
      },
      "execution_count": null,
      "outputs": []
    },
    {
      "cell_type": "code",
      "source": [
        "def hello():\n",
        "    x = 10\n",
        "    y= 20\n",
        "    return x + y"
      ],
      "metadata": {
        "id": "SIhrExLhQkWm"
      },
      "execution_count": 22,
      "outputs": []
    },
    {
      "cell_type": "code",
      "source": [
        "# 파라미터와 아규먼트\n",
        "# 함수는 이름만 변수로 등록하고, 밑의 코드를 읽지 않는다!\n",
        "\n",
        "def xysum(x, y): # 함수를 정의하는 부분 (호출되기 전 까지는 읽지 않는다!)\n",
        "    return x + y\n",
        "\n",
        "xysum(10, 20) # 함수를 호출하는 부분 (아규먼트)"
      ],
      "metadata": {
        "id": "_H4xNppg7kn0"
      },
      "execution_count": null,
      "outputs": []
    },
    {
      "cell_type": "code",
      "source": [
        "# 파선아실 (파라미터는 선언할 때, 아규먼트는 실행 할 때)\n",
        "\n",
        "def xysum(x, y): # 함수를 정의하는 부분 (파라미터)\n",
        "    return x + y\n",
        "\n",
        "xysum(10, 20) # 함수를 호출하는 부분 (아규먼트)"
      ],
      "metadata": {
        "id": "ct97GqUh8WCr"
      },
      "execution_count": null,
      "outputs": []
    },
    {
      "cell_type": "code",
      "source": [
        "def xysum(x, y):\n",
        "    return (x + y) # 나를 호출한 곳에 그대로 이 값을 넣어주세요 # print는 에러가 난다\n",
        "\n",
        "result = xysum(10, 20) + xysum(30, 40) + xysum(50, 60)\n",
        "result"
      ],
      "metadata": {
        "colab": {
          "base_uri": "https://localhost:8080/"
        },
        "id": "oAJr-KXf8-tI",
        "outputId": "bddc1107-6ed0-4cca-e5b4-40f86e06e6f8"
      },
      "execution_count": 114,
      "outputs": [
        {
          "output_type": "execute_result",
          "data": {
            "text/plain": [
              "210"
            ]
          },
          "metadata": {},
          "execution_count": 114
        }
      ]
    },
    {
      "cell_type": "code",
      "source": [
        "def xysum(x, y):\n",
        "    print(x + y) # 나를 호출한 곳에 그대로 이 값을 넣어주세요 # print는 에러가 난다\n",
        "\n",
        "result = xysum(10, 20) + xysum(30, 40) + xysum(50, 60) # None +None는 에러가 난다\n",
        "result"
      ],
      "metadata": {
        "colab": {
          "base_uri": "https://localhost:8080/",
          "height": 239
        },
        "id": "LVqvwVkLdBFx",
        "outputId": "7529bb59-8a19-4653-ba05-b1f4b5f2970e"
      },
      "execution_count": 115,
      "outputs": [
        {
          "output_type": "stream",
          "name": "stdout",
          "text": [
            "30\n",
            "70\n"
          ]
        },
        {
          "output_type": "error",
          "ename": "TypeError",
          "evalue": "unsupported operand type(s) for +: 'NoneType' and 'NoneType'",
          "traceback": [
            "\u001b[0;31m---------------------------------------------------------------------------\u001b[0m",
            "\u001b[0;31mTypeError\u001b[0m                                 Traceback (most recent call last)",
            "\u001b[0;32m<ipython-input-115-35c75baf183b>\u001b[0m in \u001b[0;36m<cell line: 0>\u001b[0;34m()\u001b[0m\n\u001b[1;32m      2\u001b[0m     \u001b[0mprint\u001b[0m\u001b[0;34m(\u001b[0m\u001b[0mx\u001b[0m \u001b[0;34m+\u001b[0m \u001b[0my\u001b[0m\u001b[0;34m)\u001b[0m \u001b[0;31m# 나를 호출한 곳에 그대로 이 값을 넣어주세요 # print는 에러가 난다\u001b[0m\u001b[0;34m\u001b[0m\u001b[0;34m\u001b[0m\u001b[0m\n\u001b[1;32m      3\u001b[0m \u001b[0;34m\u001b[0m\u001b[0m\n\u001b[0;32m----> 4\u001b[0;31m \u001b[0mresult\u001b[0m \u001b[0;34m=\u001b[0m \u001b[0mxysum\u001b[0m\u001b[0;34m(\u001b[0m\u001b[0;36m10\u001b[0m\u001b[0;34m,\u001b[0m \u001b[0;36m20\u001b[0m\u001b[0;34m)\u001b[0m \u001b[0;34m+\u001b[0m \u001b[0mxysum\u001b[0m\u001b[0;34m(\u001b[0m\u001b[0;36m30\u001b[0m\u001b[0;34m,\u001b[0m \u001b[0;36m40\u001b[0m\u001b[0;34m)\u001b[0m \u001b[0;34m+\u001b[0m \u001b[0mxysum\u001b[0m\u001b[0;34m(\u001b[0m\u001b[0;36m50\u001b[0m\u001b[0;34m,\u001b[0m \u001b[0;36m60\u001b[0m\u001b[0;34m)\u001b[0m\u001b[0;34m\u001b[0m\u001b[0;34m\u001b[0m\u001b[0m\n\u001b[0m\u001b[1;32m      5\u001b[0m \u001b[0mresult\u001b[0m\u001b[0;34m\u001b[0m\u001b[0;34m\u001b[0m\u001b[0m\n",
            "\u001b[0;31mTypeError\u001b[0m: unsupported operand type(s) for +: 'NoneType' and 'NoneType'"
          ]
        }
      ]
    },
    {
      "cell_type": "code",
      "source": [
        "print(None)"
      ],
      "metadata": {
        "colab": {
          "base_uri": "https://localhost:8080/"
        },
        "id": "PtK51PwU9xSX",
        "outputId": "176e24db-6f91-41e3-9c00-163bee04403f"
      },
      "execution_count": 60,
      "outputs": [
        {
          "output_type": "stream",
          "name": "stdout",
          "text": [
            "None\n"
          ]
        }
      ]
    },
    {
      "cell_type": "code",
      "source": [
        "def a(x, y):\n",
        "    z = x + y\n",
        "\n",
        "print(a(10, 20)) # None"
      ],
      "metadata": {
        "colab": {
          "base_uri": "https://localhost:8080/"
        },
        "id": "WSiC77CO9pBt",
        "outputId": "ffaddf8e-d2ec-4241-f3d5-c0058f603254"
      },
      "execution_count": 61,
      "outputs": [
        {
          "output_type": "stream",
          "name": "stdout",
          "text": [
            "None\n"
          ]
        }
      ]
    },
    {
      "cell_type": "code",
      "source": [
        "def a(x, y):\n",
        "    z = x + y\n",
        "    return = None\n",
        "\n",
        "print(a(10, 20))"
      ],
      "metadata": {
        "id": "ljkYNCa196UH"
      },
      "execution_count": null,
      "outputs": []
    },
    {
      "cell_type": "code",
      "source": [
        "print(print(print('hello')))"
      ],
      "metadata": {
        "colab": {
          "base_uri": "https://localhost:8080/"
        },
        "id": "1bRFxEMW9_UE",
        "outputId": "8da949de-a2dc-4aeb-9e9e-97277f262b0f"
      },
      "execution_count": 63,
      "outputs": [
        {
          "output_type": "stream",
          "name": "stdout",
          "text": [
            "hello\n",
            "None\n",
            "None\n"
          ]
        }
      ]
    },
    {
      "cell_type": "code",
      "source": [
        "# 파라미터가 있는 함수\n",
        "def hello(a):\n",
        "    return a\n",
        "\n",
        "#파라미터가 없는 함수\n",
        "def hello():\n",
        "    return 'hello world'"
      ],
      "metadata": {
        "id": "deXviHvQ_DVh"
      },
      "execution_count": null,
      "outputs": []
    },
    {
      "cell_type": "code",
      "source": [
        "# 리턴값이 있는 함수\n",
        "def add(a, b):\n",
        "    return a + b\n",
        "\n",
        "# 리턴값이 없는 함수 (None이 자동으로 들어간다)\n",
        "def add(a, b):\n",
        "    print(a + b)"
      ],
      "metadata": {
        "id": "3v4NqUul_GG6"
      },
      "execution_count": null,
      "outputs": []
    },
    {
      "cell_type": "code",
      "source": [
        "# 문제1: 2x + 15 방정식이 주어졌을 때, x값이 10일때 y값이 얼마인지 구하는 함수를 만드세요.\n",
        "\n",
        "def solution(x):\n",
        "    return 2 * x + 15\n",
        "\n",
        "solution(10)"
      ],
      "metadata": {
        "colab": {
          "base_uri": "https://localhost:8080/"
        },
        "id": "KcwGDM5F_xJm",
        "outputId": "816beb01-7838-427d-bac9-db40ea02a950"
      },
      "execution_count": 83,
      "outputs": [
        {
          "output_type": "execute_result",
          "data": {
            "text/plain": [
              "35"
            ]
          },
          "metadata": {},
          "execution_count": 83
        }
      ]
    },
    {
      "cell_type": "code",
      "source": [
        "# map을 아직 안배웠어요!\n",
        "# map은 나중에 할 예정입니다. 지금 이 코드는 '어떻게 활용하는가?'에 대한 얘기입니다.\n",
        "list(map(solution, range(10)))"
      ],
      "metadata": {
        "colab": {
          "base_uri": "https://localhost:8080/"
        },
        "id": "Vq2DHuaPKGYp",
        "outputId": "44312bf7-d8ae-4ce2-c0ab-8fe640c7a628"
      },
      "execution_count": 86,
      "outputs": [
        {
          "output_type": "execute_result",
          "data": {
            "text/plain": [
              "[15, 17, 19, 21, 23, 25, 27, 29, 31, 33]"
            ]
          },
          "metadata": {},
          "execution_count": 86
        }
      ]
    },
    {
      "cell_type": "code",
      "source": [
        "# 실제 모의 주식 그래프는 아래와 같이 그립니다. 이런 식으로 해서 그립니다.\n",
        "import random\n",
        "\n",
        "l = [15, 17, 19, 21, 23, 25, 27, 29, 31, 33]\n",
        "result = []\n",
        "for i in l:\n",
        "    result = result + [i + random.randint(-5, 5)]\n",
        "result"
      ],
      "metadata": {
        "colab": {
          "base_uri": "https://localhost:8080/"
        },
        "id": "Y_K3aEROKmLF",
        "outputId": "7b5519f6-db5e-485a-99da-16bd065b6979"
      },
      "execution_count": 87,
      "outputs": [
        {
          "output_type": "execute_result",
          "data": {
            "text/plain": [
              "[17, 18, 16, 23, 27, 21, 32, 30, 28, 29]"
            ]
          },
          "metadata": {},
          "execution_count": 87
        }
      ]
    },
    {
      "cell_type": "code",
      "source": [
        "# 문제2: [10, 20, 30] + [1, 2, 3]이라고 했을 때 이 두 행렬을 요소별로 더하는 함수를 만드세요.\n",
        "# 관습적으로 안쓰는 코드는 변수 _ 에 할당합니다\n",
        "def solution(a, b):\n",
        "    for i, v in enumerate(a):\n",
        "        a[i] = v + b[i]\n",
        "    return a\n",
        "\n",
        "solution([10, 20, 30], [1, 2, 3])"
      ],
      "metadata": {
        "colab": {
          "base_uri": "https://localhost:8080/"
        },
        "id": "s4johU99APFg",
        "outputId": "f2b13347-a306-40d7-8d66-d8c6ecfc124f"
      },
      "execution_count": 88,
      "outputs": [
        {
          "output_type": "execute_result",
          "data": {
            "text/plain": [
              "[11, 22, 33]"
            ]
          },
          "metadata": {},
          "execution_count": 88
        }
      ]
    },
    {
      "cell_type": "code",
      "source": [
        "# 문제2: [10, 20, 30] + [1, 2, 3]이라고 했을 때 이 두 행렬을 요소별로 더하는 함수를 만드세요.\n",
        "# 두번째 풀이\n",
        "def solution(a, b):\n",
        "    result = []\n",
        "    for i, _ in enumerate(a):\n",
        "        result.append(a[i] + b[i])\n",
        "    return result\n",
        "\n",
        "solution([10, 20, 30], [1, 2, 3])"
      ],
      "metadata": {
        "id": "Jjb7eVDRMbi0"
      },
      "execution_count": null,
      "outputs": []
    },
    {
      "cell_type": "code",
      "source": [
        "# 문제2: [10, 20, 30] + [1, 2, 3]이라고 했을 때 이 두 행렬을 요소별로 더하는 함수를 만드세요.\n",
        "# 좀 더 우아한 풀이\n",
        "\n",
        "def solution(a, b):\n",
        "    return list(map(sum, zip([10, 20, 30], [1, 2, 3])))\n",
        "\n",
        "solution([10, 20, 30], [1, 2, 3])"
      ],
      "metadata": {
        "colab": {
          "base_uri": "https://localhost:8080/"
        },
        "id": "DU4rU6iSNhUO",
        "outputId": "54a22760-14a5-4b5d-a4cd-7f124cd3146f"
      },
      "execution_count": 93,
      "outputs": [
        {
          "output_type": "execute_result",
          "data": {
            "text/plain": [
              "[11, 22, 33]"
            ]
          },
          "metadata": {},
          "execution_count": 93
        }
      ]
    },
    {
      "cell_type": "code",
      "source": [
        "list(map(sum, zip([10, 20, 30], [1, 2, 3])))"
      ],
      "metadata": {
        "colab": {
          "base_uri": "https://localhost:8080/"
        },
        "id": "fvpNr0Z4NTl-",
        "outputId": "fd481c46-e729-49fd-e4a1-d5dda91d39e7"
      },
      "execution_count": 92,
      "outputs": [
        {
          "output_type": "execute_result",
          "data": {
            "text/plain": [
              "[11, 22, 33]"
            ]
          },
          "metadata": {},
          "execution_count": 92
        }
      ]
    },
    {
      "cell_type": "code",
      "source": [
        "# 문제3: 행렬(리스트의 리스트)의 모든 요소에 특정 숫자를 곱하는 함수를 만드세요.\n",
        "# 예: [1, 2, 3, 4] * 2 = [2, 4, 6, 8]\n",
        "\n",
        "def solution(matrix, multiplier):\n",
        "    result = []\n",
        "    for i in matrix:\n",
        "        result.append(i * multiplier)\n",
        "    return result\n",
        "\n",
        "solution([1, 2, 3, 4], 2)"
      ],
      "metadata": {
        "colab": {
          "base_uri": "https://localhost:8080/"
        },
        "id": "lSRq9mTNBEb3",
        "outputId": "06ccf0e1-2cb5-425b-dfdd-e75f83ff26c9"
      },
      "execution_count": 94,
      "outputs": [
        {
          "output_type": "execute_result",
          "data": {
            "text/plain": [
              "[2, 4, 6, 8]"
            ]
          },
          "metadata": {},
          "execution_count": 94
        }
      ]
    },
    {
      "cell_type": "code",
      "source": [
        "# 고급풀이\n",
        "def solution(matrix, multiplier):\n",
        "    return [i * multiplier for i in matrix]\n",
        "\n",
        "solution([1, 2, 3, 4], 2)"
      ],
      "metadata": {
        "colab": {
          "base_uri": "https://localhost:8080/"
        },
        "id": "R45SanIGOsI8",
        "outputId": "1132dce6-9447-49e7-c1b6-5940b1082470"
      },
      "execution_count": 95,
      "outputs": [
        {
          "output_type": "execute_result",
          "data": {
            "text/plain": [
              "[2, 4, 6, 8]"
            ]
          },
          "metadata": {},
          "execution_count": 95
        }
      ]
    },
    {
      "cell_type": "code",
      "source": [
        "s = []\n",
        "for i in range(1, 10, 2):\n",
        "    s.append(i)\n",
        "s"
      ],
      "metadata": {
        "colab": {
          "base_uri": "https://localhost:8080/"
        },
        "id": "KCezWyOEPRg4",
        "outputId": "b4870966-ff5f-4cba-ce74-3c0852d4a581"
      },
      "execution_count": 97,
      "outputs": [
        {
          "output_type": "execute_result",
          "data": {
            "text/plain": [
              "[1, 3, 5, 7, 9]"
            ]
          },
          "metadata": {},
          "execution_count": 97
        }
      ]
    },
    {
      "cell_type": "code",
      "source": [
        "[i for i in range(1, 10, 2)] # 리스트 컴프리핸션"
      ],
      "metadata": {
        "colab": {
          "base_uri": "https://localhost:8080/"
        },
        "id": "pjztqmYDPcgp",
        "outputId": "a8022dba-3ae7-406c-d894-c160eac60a0e"
      },
      "execution_count": 99,
      "outputs": [
        {
          "output_type": "execute_result",
          "data": {
            "text/plain": [
              "[1, 3, 5, 7, 9]"
            ]
          },
          "metadata": {},
          "execution_count": 99
        }
      ]
    },
    {
      "cell_type": "code",
      "source": [
        "# 아래와 같은 코드는 가독성이 떨어지기 때문에 좋은 코드라고 보기 어렵다.\n",
        "# 파이썬에서는 읽기 좋은 코드에 가치를 높게 평가한다\n",
        "[f\"{i} X {j} = {i * j}\" for i in range(2, 10) for j in range(1, 10)]"
      ],
      "metadata": {
        "colab": {
          "base_uri": "https://localhost:8080/"
        },
        "id": "8YqXIt8_PoXE",
        "outputId": "72f1fb67-b684-4bef-a2b7-ac59539f6a86"
      },
      "execution_count": 101,
      "outputs": [
        {
          "output_type": "execute_result",
          "data": {
            "text/plain": [
              "['2 X 1 = 2',\n",
              " '2 X 2 = 4',\n",
              " '2 X 3 = 6',\n",
              " '2 X 4 = 8',\n",
              " '2 X 5 = 10',\n",
              " '2 X 6 = 12',\n",
              " '2 X 7 = 14',\n",
              " '2 X 8 = 16',\n",
              " '2 X 9 = 18',\n",
              " '3 X 1 = 3',\n",
              " '3 X 2 = 6',\n",
              " '3 X 3 = 9',\n",
              " '3 X 4 = 12',\n",
              " '3 X 5 = 15',\n",
              " '3 X 6 = 18',\n",
              " '3 X 7 = 21',\n",
              " '3 X 8 = 24',\n",
              " '3 X 9 = 27',\n",
              " '4 X 1 = 4',\n",
              " '4 X 2 = 8',\n",
              " '4 X 3 = 12',\n",
              " '4 X 4 = 16',\n",
              " '4 X 5 = 20',\n",
              " '4 X 6 = 24',\n",
              " '4 X 7 = 28',\n",
              " '4 X 8 = 32',\n",
              " '4 X 9 = 36',\n",
              " '5 X 1 = 5',\n",
              " '5 X 2 = 10',\n",
              " '5 X 3 = 15',\n",
              " '5 X 4 = 20',\n",
              " '5 X 5 = 25',\n",
              " '5 X 6 = 30',\n",
              " '5 X 7 = 35',\n",
              " '5 X 8 = 40',\n",
              " '5 X 9 = 45',\n",
              " '6 X 1 = 6',\n",
              " '6 X 2 = 12',\n",
              " '6 X 3 = 18',\n",
              " '6 X 4 = 24',\n",
              " '6 X 5 = 30',\n",
              " '6 X 6 = 36',\n",
              " '6 X 7 = 42',\n",
              " '6 X 8 = 48',\n",
              " '6 X 9 = 54',\n",
              " '7 X 1 = 7',\n",
              " '7 X 2 = 14',\n",
              " '7 X 3 = 21',\n",
              " '7 X 4 = 28',\n",
              " '7 X 5 = 35',\n",
              " '7 X 6 = 42',\n",
              " '7 X 7 = 49',\n",
              " '7 X 8 = 56',\n",
              " '7 X 9 = 63',\n",
              " '8 X 1 = 8',\n",
              " '8 X 2 = 16',\n",
              " '8 X 3 = 24',\n",
              " '8 X 4 = 32',\n",
              " '8 X 5 = 40',\n",
              " '8 X 6 = 48',\n",
              " '8 X 7 = 56',\n",
              " '8 X 8 = 64',\n",
              " '8 X 9 = 72',\n",
              " '9 X 1 = 9',\n",
              " '9 X 2 = 18',\n",
              " '9 X 3 = 27',\n",
              " '9 X 4 = 36',\n",
              " '9 X 5 = 45',\n",
              " '9 X 6 = 54',\n",
              " '9 X 7 = 63',\n",
              " '9 X 8 = 72',\n",
              " '9 X 9 = 81']"
            ]
          },
          "metadata": {},
          "execution_count": 101
        }
      ]
    },
    {
      "cell_type": "code",
      "source": [
        "# 문제4: 프로그래머스 (카카오 코딩 테스트 보는 공간)에 문제 하나 풀기.\n",
        "# 기업에서 이런식으로 알고리즘 테스트가 나옵니다. (알고리즘은 암기과목..)\n",
        "# https://school.programmers.co.kr/learn/courses/30/lessons/181928\n",
        "\n",
        "def solution(num_list):\n",
        "    짝수 = ''\n",
        "    홀수 = ''\n",
        "    for i in num_list:\n",
        "        if i % 2 == 0:\n",
        "            짝수 += str(i)\n",
        "        else:\n",
        "            홀수 += str(i)\n",
        "    answer = int(짝수) + int(홀수)\n",
        "    return answer\n",
        "\n",
        "solution([3, 4, 5, 2, 1])"
      ],
      "metadata": {
        "colab": {
          "base_uri": "https://localhost:8080/"
        },
        "id": "5yoLyzTnB--K",
        "outputId": "2e90ae47-91d4-494e-fd23-9920fd7690ee"
      },
      "execution_count": 102,
      "outputs": [
        {
          "output_type": "execute_result",
          "data": {
            "text/plain": [
              "393"
            ]
          },
          "metadata": {},
          "execution_count": 102
        }
      ]
    },
    {
      "cell_type": "code",
      "source": [
        "# 파라미터에 기본값이 정해져 있는 경우!\n",
        "def add(x = 10, y = 20):\n",
        "    return x + y\n",
        "\n",
        "add()"
      ],
      "metadata": {
        "colab": {
          "base_uri": "https://localhost:8080/"
        },
        "id": "PYsLx1tHUgFN",
        "outputId": "c8203fbb-a7ef-4c1d-a543-6d38cec8410c"
      },
      "execution_count": 103,
      "outputs": [
        {
          "output_type": "execute_result",
          "data": {
            "text/plain": [
              "30"
            ]
          },
          "metadata": {},
          "execution_count": 103
        }
      ]
    },
    {
      "cell_type": "code",
      "source": [
        "# 지역변수 전역변수\n",
        "# 함수에서 선언된 변수들은 휘발된다\n",
        "\n",
        "x = 10\n",
        "\n",
        "def hello():\n",
        "    print(x) # 밖에 있는 변수는 읽을 수는 있다\n",
        "\n",
        "hello()"
      ],
      "metadata": {
        "colab": {
          "base_uri": "https://localhost:8080/"
        },
        "id": "ZhdAFaBHVszL",
        "outputId": "edb6e165-19b5-44e5-d7c7-4461e00b8d5d"
      },
      "execution_count": 107,
      "outputs": [
        {
          "output_type": "stream",
          "name": "stdout",
          "text": [
            "10\n"
          ]
        }
      ]
    },
    {
      "cell_type": "code",
      "source": [
        "x = 10\n",
        "\n",
        "def hello():\n",
        "    x += 1 # 밖에 있는 변수를 수정할 수 는 없다\n",
        "\n",
        "hello()"
      ],
      "metadata": {
        "colab": {
          "base_uri": "https://localhost:8080/",
          "height": 312
        },
        "id": "zWnANLoxWgGp",
        "outputId": "79bdb36a-a45d-441e-8b54-f836ab8762ce"
      },
      "execution_count": 108,
      "outputs": [
        {
          "output_type": "error",
          "ename": "UnboundLocalError",
          "evalue": "cannot access local variable 'x' where it is not associated with a value",
          "traceback": [
            "\u001b[0;31m---------------------------------------------------------------------------\u001b[0m",
            "\u001b[0;31mUnboundLocalError\u001b[0m                         Traceback (most recent call last)",
            "\u001b[0;32m<ipython-input-108-a43cceaab16a>\u001b[0m in \u001b[0;36m<cell line: 0>\u001b[0;34m()\u001b[0m\n\u001b[1;32m      4\u001b[0m     \u001b[0mx\u001b[0m \u001b[0;34m+=\u001b[0m \u001b[0;36m1\u001b[0m \u001b[0;31m# 밖에 있는 변수를 수정할 수 는 없다\u001b[0m\u001b[0;34m\u001b[0m\u001b[0;34m\u001b[0m\u001b[0m\n\u001b[1;32m      5\u001b[0m \u001b[0;34m\u001b[0m\u001b[0m\n\u001b[0;32m----> 6\u001b[0;31m \u001b[0mhello\u001b[0m\u001b[0;34m(\u001b[0m\u001b[0;34m)\u001b[0m\u001b[0;34m\u001b[0m\u001b[0;34m\u001b[0m\u001b[0m\n\u001b[0m",
            "\u001b[0;32m<ipython-input-108-a43cceaab16a>\u001b[0m in \u001b[0;36mhello\u001b[0;34m()\u001b[0m\n\u001b[1;32m      2\u001b[0m \u001b[0;34m\u001b[0m\u001b[0m\n\u001b[1;32m      3\u001b[0m \u001b[0;32mdef\u001b[0m \u001b[0mhello\u001b[0m\u001b[0;34m(\u001b[0m\u001b[0;34m)\u001b[0m\u001b[0;34m:\u001b[0m\u001b[0;34m\u001b[0m\u001b[0;34m\u001b[0m\u001b[0m\n\u001b[0;32m----> 4\u001b[0;31m     \u001b[0mx\u001b[0m \u001b[0;34m+=\u001b[0m \u001b[0;36m1\u001b[0m \u001b[0;31m# 밖에 있는 변수를 수정할 수 는 없다\u001b[0m\u001b[0;34m\u001b[0m\u001b[0;34m\u001b[0m\u001b[0m\n\u001b[0m\u001b[1;32m      5\u001b[0m \u001b[0;34m\u001b[0m\u001b[0m\n\u001b[1;32m      6\u001b[0m \u001b[0mhello\u001b[0m\u001b[0;34m(\u001b[0m\u001b[0;34m)\u001b[0m\u001b[0;34m\u001b[0m\u001b[0;34m\u001b[0m\u001b[0m\n",
            "\u001b[0;31mUnboundLocalError\u001b[0m: cannot access local variable 'x' where it is not associated with a value"
          ]
        }
      ]
    },
    {
      "cell_type": "code",
      "source": [
        "x = 10 # 전역변수\n",
        "\n",
        "def hello():\n",
        "    x = 100 # 지역변수(함수내부에서 선언되는 변수) 100\n",
        "    # return None은 생략 가능하다.\n",
        "\n",
        "hello()\n",
        "print(x)"
      ],
      "metadata": {
        "colab": {
          "base_uri": "https://localhost:8080/"
        },
        "id": "vdB_2EvVWqBm",
        "outputId": "6cf01ed6-aafe-4392-9461-d9aae0c0d035"
      },
      "execution_count": 110,
      "outputs": [
        {
          "output_type": "stream",
          "name": "stdout",
          "text": [
            "10\n"
          ]
        }
      ]
    },
    {
      "cell_type": "code",
      "source": [
        "x = 10 # 전역변수\n",
        "\n",
        "def hello(input_x):\n",
        "    input_x += 10\n",
        "    return input_x\n",
        "\n",
        "x = hello(x) # 초급자: 아니? 이렇게 불편하게 써야하나?\n",
        "print(x)"
      ],
      "metadata": {
        "id": "pzVv2dfKXYnN"
      },
      "execution_count": null,
      "outputs": []
    },
    {
      "cell_type": "code",
      "source": [
        "# 초급자의 마음: 이렇게하면 되잖아?(아님)\n",
        "# ->아주 짧은 코드에서는 맞는 이야기 이지만\n",
        "# 실무에서는 깨끗한 코드, 구조화 되어있는 코드, 견고한 코드가 필요하다.\n",
        "x = 10\n",
        "x += 10\n",
        "\n",
        "print(x)"
      ],
      "metadata": {
        "id": "CKJlURgkXnfu"
      },
      "execution_count": null,
      "outputs": []
    },
    {
      "cell_type": "code",
      "source": [
        "# 대부분 아래 코드는 안좋은 사례로 꼽힙니다.\n",
        "\n",
        "x = 10\n",
        "def hello():\n",
        "    global x\n",
        "    x += 100\n",
        "\n",
        "hello()\n",
        "print(x)"
      ],
      "metadata": {
        "colab": {
          "base_uri": "https://localhost:8080/"
        },
        "id": "1Xehw3U_YGif",
        "outputId": "a636f394-27e9-48d6-a752-64e0ca8256d3"
      },
      "execution_count": 111,
      "outputs": [
        {
          "output_type": "stream",
          "name": "stdout",
          "text": [
            "110\n"
          ]
        }
      ]
    },
    {
      "cell_type": "code",
      "source": [
        "# 자주 사용하지는 않음.\n",
        "# locals()\n",
        "# globals()"
      ],
      "metadata": {
        "id": "xZugiXHmY1Vc"
      },
      "execution_count": null,
      "outputs": []
    },
    {
      "cell_type": "code",
      "source": [
        "def add(a, b):\n",
        "    z = a + b\n",
        "    print(locals())\n",
        "    return z\n",
        "\n",
        "add(10, 20)"
      ],
      "metadata": {
        "colab": {
          "base_uri": "https://localhost:8080/"
        },
        "id": "d-QTEIPXY6b7",
        "outputId": "e9ee0f8b-0a1c-4a9b-e011-5c3802691759"
      },
      "execution_count": 112,
      "outputs": [
        {
          "output_type": "stream",
          "name": "stdout",
          "text": [
            "{'a': 10, 'b': 20, 'z': 30}\n"
          ]
        },
        {
          "output_type": "execute_result",
          "data": {
            "text/plain": [
              "30"
            ]
          },
          "metadata": {},
          "execution_count": 112
        }
      ]
    },
    {
      "cell_type": "code",
      "source": [
        "# hello라는 것은 무엇일까?\n",
        "# print라는 것은 무엇일까?\n",
        "\n",
        "# hello든 print든 변수입니다! 함수의 이름은 변수입니다."
      ],
      "metadata": {
        "id": "SZdYGqATQt_M"
      },
      "execution_count": null,
      "outputs": []
    },
    {
      "cell_type": "code",
      "source": [
        "a = print\n",
        "a('hello world')"
      ],
      "metadata": {
        "colab": {
          "base_uri": "https://localhost:8080/"
        },
        "id": "5HjZaaGtQ7uf",
        "outputId": "f85980e7-afe0-4841-c7cf-14c86208ca10"
      },
      "execution_count": 12,
      "outputs": [
        {
          "output_type": "stream",
          "name": "stdout",
          "text": [
            "hello world\n"
          ]
        }
      ]
    },
    {
      "cell_type": "code",
      "source": [
        " l = [a, a, a, a, a]\n",
        " l[0]('hello')"
      ],
      "metadata": {
        "colab": {
          "base_uri": "https://localhost:8080/"
        },
        "id": "6-YbiQ81RCYU",
        "outputId": "8e5012a9-f8ca-4fb3-9a2e-035f148aa06e"
      },
      "execution_count": 13,
      "outputs": [
        {
          "output_type": "stream",
          "name": "stdout",
          "text": [
            "hello\n"
          ]
        }
      ]
    },
    {
      "cell_type": "markdown",
      "source": [
        "## 함수과제(0512)"
      ],
      "metadata": {
        "id": "9JkTcZRNiSbi"
      }
    },
    {
      "cell_type": "code",
      "source": [
        "# 문제1: 두 수를 더하는 함수를 만드세요.\n",
        "def solution(a, b):\n",
        "    return a + b\n",
        "\n",
        "solution(5, 3)  # 결과: 8"
      ],
      "metadata": {
        "colab": {
          "base_uri": "https://localhost:8080/"
        },
        "id": "6nju8cTLiPXG",
        "outputId": "813c75fd-1c13-49c0-c4ee-e378bc548cbf"
      },
      "execution_count": 116,
      "outputs": [
        {
          "output_type": "execute_result",
          "data": {
            "text/plain": [
              "8"
            ]
          },
          "metadata": {},
          "execution_count": 116
        }
      ]
    },
    {
      "cell_type": "code",
      "source": [
        "# 문제2: 두 수를 곱하는 함수를 만드세요.\n",
        "def solution(a, b):\n",
        "    return a * b\n",
        "\n",
        "solution(4, 7)  # 결과: 28"
      ],
      "metadata": {
        "colab": {
          "base_uri": "https://localhost:8080/"
        },
        "id": "uM0yuEy3iRNo",
        "outputId": "f3aa29a5-d9f0-41b8-fa9b-aeb29c537519"
      },
      "execution_count": 117,
      "outputs": [
        {
          "output_type": "execute_result",
          "data": {
            "text/plain": [
              "28"
            ]
          },
          "metadata": {},
          "execution_count": 117
        }
      ]
    },
    {
      "cell_type": "code",
      "source": [
        "# 문제3: 리스트의 모든 숫자를 더하는 함수를 만드세요.\n",
        "def solution(numbers):\n",
        "    return sum(numbers)\n",
        "\n",
        "solution([1, 2, 3, 4, 5])  # 결과: 15"
      ],
      "metadata": {
        "colab": {
          "base_uri": "https://localhost:8080/"
        },
        "id": "PZb06oVVic9b",
        "outputId": "0b57dae2-dfb7-4494-cb37-c8879c5cbee4"
      },
      "execution_count": 119,
      "outputs": [
        {
          "output_type": "execute_result",
          "data": {
            "text/plain": [
              "15"
            ]
          },
          "metadata": {},
          "execution_count": 119
        }
      ]
    },
    {
      "cell_type": "code",
      "source": [
        "# 문제4: 리스트의 평균값을 계산하는 함수를 만드세요.\n",
        "def solution(numbers):\n",
        "    return sum(numbers) / len(numbers)\n",
        "\n",
        "solution([10, 20, 30, 40])  # 결과: 25.0"
      ],
      "metadata": {
        "colab": {
          "base_uri": "https://localhost:8080/"
        },
        "id": "wyfbm1KpieMp",
        "outputId": "35d3c319-aa9e-47ef-e834-681bdce656d3"
      },
      "execution_count": 120,
      "outputs": [
        {
          "output_type": "execute_result",
          "data": {
            "text/plain": [
              "25.0"
            ]
          },
          "metadata": {},
          "execution_count": 120
        }
      ]
    },
    {
      "cell_type": "code",
      "source": [
        "# 문제5: 문자열의 길이를 반환하는 함수를 만드세요.\n",
        "def solution(text):\n",
        "    return len(text)\n",
        "\n",
        "solution(\"파이썬\")  # 결과: 3"
      ],
      "metadata": {
        "colab": {
          "base_uri": "https://localhost:8080/"
        },
        "id": "rZwtVRElifgp",
        "outputId": "d1b11378-a3bf-42e6-d8c0-6ed1181ef55a"
      },
      "execution_count": 121,
      "outputs": [
        {
          "output_type": "execute_result",
          "data": {
            "text/plain": [
              "3"
            ]
          },
          "metadata": {},
          "execution_count": 121
        }
      ]
    },
    {
      "cell_type": "code",
      "source": [
        "# 문제6: 리스트에서 가장 큰 수를 찾는 함수를 만드세요.\n",
        "def solution(numbers):\n",
        "    return max(numbers)\n",
        "\n",
        "solution([7, 12, 3, 8, 4])  # 결과: 12"
      ],
      "metadata": {
        "colab": {
          "base_uri": "https://localhost:8080/"
        },
        "id": "KR3GYklAigwv",
        "outputId": "fa7097cf-72be-4f17-9462-358c49ae175f"
      },
      "execution_count": 123,
      "outputs": [
        {
          "output_type": "execute_result",
          "data": {
            "text/plain": [
              "12"
            ]
          },
          "metadata": {},
          "execution_count": 123
        }
      ]
    },
    {
      "cell_type": "code",
      "source": [
        "# 문제7: 리스트에서 가장 작은 수를 찾는 함수를 만드세요.\n",
        "def solution(numbers):\n",
        "    return min(numbers)\n",
        "\n",
        "solution([7, 12, 3, 8, 4])  # 결과: 3"
      ],
      "metadata": {
        "colab": {
          "base_uri": "https://localhost:8080/"
        },
        "id": "FdIi1zvEih6H",
        "outputId": "4a429317-cc34-433c-a6ff-b6d455b5f024"
      },
      "execution_count": 124,
      "outputs": [
        {
          "output_type": "execute_result",
          "data": {
            "text/plain": [
              "3"
            ]
          },
          "metadata": {},
          "execution_count": 124
        }
      ]
    },
    {
      "cell_type": "code",
      "source": [
        "# 문제8: 문자열을 n번 반복하는 함수를 만드세요.\n",
        "def solution(text, n):\n",
        "    return text * n\n",
        "\n",
        "solution(\"안녕\", 3)  # 결과: \"안녕안녕안녕\""
      ],
      "metadata": {
        "colab": {
          "base_uri": "https://localhost:8080/",
          "height": 35
        },
        "id": "r68n-99EijPU",
        "outputId": "71f69663-9df6-40f3-8ebc-90af21733906"
      },
      "execution_count": 125,
      "outputs": [
        {
          "output_type": "execute_result",
          "data": {
            "text/plain": [
              "'안녕안녕안녕'"
            ],
            "application/vnd.google.colaboratory.intrinsic+json": {
              "type": "string"
            }
          },
          "metadata": {},
          "execution_count": 125
        }
      ]
    },
    {
      "cell_type": "code",
      "source": [
        "# 문제9: 주어진 숫자가 짝수인지 확인하는 함수를 만드세요. (짝수면 True, 홀수면 False 반환)\n",
        "def solution(number):\n",
        "    if number % 2 == 0:\n",
        "        return True\n",
        "    else:\n",
        "        return False\n",
        "\n",
        "solution(6)  # 결과: True\n",
        "solution(9)  # 결과: False"
      ],
      "metadata": {
        "colab": {
          "base_uri": "https://localhost:8080/"
        },
        "id": "7MH6oliYikTE",
        "outputId": "28811975-3709-4ee8-c68a-08a478b85129"
      },
      "execution_count": 129,
      "outputs": [
        {
          "output_type": "execute_result",
          "data": {
            "text/plain": [
              "False"
            ]
          },
          "metadata": {},
          "execution_count": 129
        }
      ]
    },
    {
      "cell_type": "markdown",
      "source": [
        "# 변수"
      ],
      "metadata": {
        "id": "5iKSItxdRyF0"
      }
    },
    {
      "cell_type": "code",
      "source": [
        "a = 10\n",
        "b = a\n",
        "c = b\n",
        "\n",
        "c\n",
        "\n",
        "# 화살표는 어떻게 그려지는 것일까요? 답은 2번입니다!\n",
        "# 1번 c -> b -> a -> 10\n",
        "# 2번:\n",
        "# a -> 10\n",
        "# b -> 10\n",
        "# c -> 10"
      ],
      "metadata": {
        "colab": {
          "base_uri": "https://localhost:8080/"
        },
        "id": "2BGbjXvrRzoR",
        "outputId": "f99cb259-e08d-4063-869c-7c1004006ad2"
      },
      "execution_count": 14,
      "outputs": [
        {
          "output_type": "execute_result",
          "data": {
            "text/plain": [
              "10"
            ]
          },
          "metadata": {},
          "execution_count": 14
        }
      ]
    },
    {
      "cell_type": "code",
      "source": [
        "# 증명\n",
        "a = 10\n",
        "b = a\n",
        "c = b\n",
        "\n",
        "c"
      ],
      "metadata": {
        "colab": {
          "base_uri": "https://localhost:8080/"
        },
        "id": "g8QWxtYFSdMn",
        "outputId": "878653c0-e0dd-47d1-8293-2a5f98e50cef"
      },
      "execution_count": 15,
      "outputs": [
        {
          "output_type": "execute_result",
          "data": {
            "text/plain": [
              "10"
            ]
          },
          "metadata": {},
          "execution_count": 15
        }
      ]
    },
    {
      "cell_type": "code",
      "source": [
        "b = 100\n",
        "c"
      ],
      "metadata": {
        "colab": {
          "base_uri": "https://localhost:8080/"
        },
        "id": "pRG66gHnSgu9",
        "outputId": "1c66c27d-1626-4c10-de79-45d813ead2c3"
      },
      "execution_count": 16,
      "outputs": [
        {
          "output_type": "execute_result",
          "data": {
            "text/plain": [
              "10"
            ]
          },
          "metadata": {},
          "execution_count": 16
        }
      ]
    },
    {
      "cell_type": "code",
      "source": [
        "a = [1, 2, 3]\n",
        "b = a\n",
        "id(a), id(b)\n",
        "\n",
        "a.append(10)\n",
        "b"
      ],
      "metadata": {
        "colab": {
          "base_uri": "https://localhost:8080/"
        },
        "id": "ScwYDcwOkJBg",
        "outputId": "6804e9c5-ed67-44cf-9140-95d41059ddde"
      },
      "execution_count": 48,
      "outputs": [
        {
          "output_type": "execute_result",
          "data": {
            "text/plain": [
              "[1, 2, 3, 10]"
            ]
          },
          "metadata": {},
          "execution_count": 48
        }
      ]
    },
    {
      "cell_type": "markdown",
      "source": [
        "# type, dir, id\n",
        "\n",
        "- type은 앞으로도 자주 사용되니다. 왜냐하면 우리가 앞으로 사용할 데이터 자료형은 기본 자료형이 아닌 경우가 많기 때문이다.\n",
        "\n",
        "- dir은 해당 자료형에 있는 속성들을 파악하기 좋다.\n",
        "- id는 해당 자료형이 무엇을 가리키고 있는지 확인하기 좋다."
      ],
      "metadata": {
        "id": "j6lYmfDBT-bO"
      }
    },
    {
      "cell_type": "code",
      "source": [
        "l = [10, 20, 30, 40]\n",
        "print(type(l)) # print와 print를 안하는 것은 왜 차이가 있죠?"
      ],
      "metadata": {
        "colab": {
          "base_uri": "https://localhost:8080/"
        },
        "id": "3cI2JhMWUPHH",
        "outputId": "f77f79d4-f552-4fb7-db04-6b581ccba94c"
      },
      "execution_count": 19,
      "outputs": [
        {
          "output_type": "stream",
          "name": "stdout",
          "text": [
            "<class 'list'>\n"
          ]
        }
      ]
    },
    {
      "cell_type": "code",
      "source": [
        "print(type(hello))"
      ],
      "metadata": {
        "colab": {
          "base_uri": "https://localhost:8080/"
        },
        "id": "-0jbxqdmUhEQ",
        "outputId": "79cc3e7a-4fde-47f4-ee36-e0b677539205"
      },
      "execution_count": 23,
      "outputs": [
        {
          "output_type": "stream",
          "name": "stdout",
          "text": [
            "<class 'function'>\n"
          ]
        }
      ]
    },
    {
      "cell_type": "code",
      "source": [
        "a = 10\n",
        "print(type(a))"
      ],
      "metadata": {
        "colab": {
          "base_uri": "https://localhost:8080/"
        },
        "id": "P9wqOUdqUvne",
        "outputId": "13f1bf35-a6d5-4a11-ef53-d99f10df818b"
      },
      "execution_count": 24,
      "outputs": [
        {
          "output_type": "stream",
          "name": "stdout",
          "text": [
            "<class 'int'>\n"
          ]
        }
      ]
    },
    {
      "cell_type": "code",
      "source": [
        "print(a)"
      ],
      "metadata": {
        "colab": {
          "base_uri": "https://localhost:8080/"
        },
        "id": "uxEjnXCtU-NM",
        "outputId": "9b12b121-2396-49d3-9b72-26b7d4b8893e"
      },
      "execution_count": 25,
      "outputs": [
        {
          "output_type": "stream",
          "name": "stdout",
          "text": [
            "10\n"
          ]
        }
      ]
    },
    {
      "cell_type": "code",
      "source": [
        "# 타입 확인이 이만큼 중요하다는 것을 보여드리기 위한 예제 개\n",
        "# 예) 1) 눈으로 10으로 보인다고 해서 int형이라고 생각하지 마세요.\n",
        "import numpy as np\n",
        "\n",
        "data = np.array(10)\n",
        "print(data)\n",
        "print(type(data)) # 눈으로 볼 때는 정수형이지만 type을 보면 아님을 알 수 있다."
      ],
      "metadata": {
        "colab": {
          "base_uri": "https://localhost:8080/"
        },
        "id": "zHv0VLmrVH3f",
        "outputId": "9ca6ea7c-9a46-4832-a358-bbe405a5fabb"
      },
      "execution_count": 27,
      "outputs": [
        {
          "output_type": "stream",
          "name": "stdout",
          "text": [
            "1\n",
            "<class 'numpy.ndarray'>\n"
          ]
        }
      ]
    },
    {
      "cell_type": "code",
      "source": [
        "# 예 2) 타입을 확인해야 하는 이유는 아래와 같아요. 기본 연산이 다르게 때문이죠.\n",
        "print([1, 2, 3] + [4, 5, 6])\n",
        "print(np.array([1, 2, 3]) + np.array([4, 5, 6]))"
      ],
      "metadata": {
        "colab": {
          "base_uri": "https://localhost:8080/"
        },
        "id": "WgK0ysvvVpwS",
        "outputId": "23cf3992-4244-4165-807f-bbc363199c68"
      },
      "execution_count": 29,
      "outputs": [
        {
          "output_type": "stream",
          "name": "stdout",
          "text": [
            "[1, 2, 3, 4, 5, 6]\n",
            "[5 7 9]\n"
          ]
        }
      ]
    },
    {
      "cell_type": "code",
      "source": [
        "l = [1, 2, 3, 4]\n",
        "dir(l) # 메서드 + 멤버\n",
        "\n",
        "# 이게 왜 중요할까? 코딩하다가 메서드 까먹을까봐?"
      ],
      "metadata": {
        "colab": {
          "base_uri": "https://localhost:8080/"
        },
        "id": "wIitPPk9Wfpu",
        "outputId": "dabdd3cb-22de-45dc-f8b0-457dd10d1776"
      },
      "execution_count": 30,
      "outputs": [
        {
          "output_type": "execute_result",
          "data": {
            "text/plain": [
              "['__add__',\n",
              " '__class__',\n",
              " '__class_getitem__',\n",
              " '__contains__',\n",
              " '__delattr__',\n",
              " '__delitem__',\n",
              " '__dir__',\n",
              " '__doc__',\n",
              " '__eq__',\n",
              " '__format__',\n",
              " '__ge__',\n",
              " '__getattribute__',\n",
              " '__getitem__',\n",
              " '__getstate__',\n",
              " '__gt__',\n",
              " '__hash__',\n",
              " '__iadd__',\n",
              " '__imul__',\n",
              " '__init__',\n",
              " '__init_subclass__',\n",
              " '__iter__',\n",
              " '__le__',\n",
              " '__len__',\n",
              " '__lt__',\n",
              " '__mul__',\n",
              " '__ne__',\n",
              " '__new__',\n",
              " '__reduce__',\n",
              " '__reduce_ex__',\n",
              " '__repr__',\n",
              " '__reversed__',\n",
              " '__rmul__',\n",
              " '__setattr__',\n",
              " '__setitem__',\n",
              " '__sizeof__',\n",
              " '__str__',\n",
              " '__subclasshook__',\n",
              " 'append',\n",
              " 'clear',\n",
              " 'copy',\n",
              " 'count',\n",
              " 'extend',\n",
              " 'index',\n",
              " 'insert',\n",
              " 'pop',\n",
              " 'remove',\n",
              " 'reverse',\n",
              " 'sort']"
            ]
          },
          "metadata": {},
          "execution_count": 30
        }
      ]
    },
    {
      "cell_type": "code",
      "source": [
        "# 이 빌트인 펑션이 왜 중요하냐면, 앞으로 우리가 만날 자료형들은\n",
        "# 새롭게 만나는 자료형들이다.\n",
        "# 예를 들어, 아래 타입을 한 번 살펴보도록\n",
        "\n",
        "import numpy as np\n",
        "\n",
        "data = np.array([[10, 20, 30], [ 40, 50, 60]])\n",
        "dir(data)\n",
        "# 아래 목록만 봐도 어떤 자료형인지 알 수 있고\n",
        "# 원하는 메서드를 바로 발견할 수도 있다.\n",
        "\n",
        "print(data.T)"
      ],
      "metadata": {
        "colab": {
          "base_uri": "https://localhost:8080/"
        },
        "id": "Bm23hIwCYJ01",
        "outputId": "8f6cad54-bdec-4e60-d9ea-0a2946588516"
      },
      "execution_count": 34,
      "outputs": [
        {
          "output_type": "stream",
          "name": "stdout",
          "text": [
            "[[10 40]\n",
            " [20 50]\n",
            " [30 60]]\n"
          ]
        }
      ]
    },
    {
      "cell_type": "code",
      "source": [
        "# id\n",
        "\n",
        "a = 10\n",
        "b = a\n",
        "c = b\n",
        "\n",
        "# 화살표는 어떻게 그렸죠?\n",
        "id(a), id(b), id(c)\n",
        "\n",
        "# id는 해당 변수가 가리키고 있는 최종 목적지를 가리킨다."
      ],
      "metadata": {
        "colab": {
          "base_uri": "https://localhost:8080/"
        },
        "id": "rjXMZwWzdMh4",
        "outputId": "e920634c-44b6-4d8b-a537-72eb00d6ccc8"
      },
      "execution_count": 35,
      "outputs": [
        {
          "output_type": "execute_result",
          "data": {
            "text/plain": [
              "(10751144, 10751144, 10751144)"
            ]
          },
          "metadata": {},
          "execution_count": 35
        }
      ]
    },
    {
      "cell_type": "code",
      "source": [
        "a = 10\n",
        "b = 10\n",
        "\n",
        "id(a), id(b) # 다른 언어에서는 이 값이 다르다! 그러면 파이썬에서는 같은가? 아니다.\n",
        "# 아니 같게 나왔는데..?\n",
        "# 파이썬에서 메모리 효율을 높이기 위해서 자주 사용되는 숫자들을 같은 값을 가르키게 한다."
      ],
      "metadata": {
        "colab": {
          "base_uri": "https://localhost:8080/"
        },
        "id": "cqwpKf76dypD",
        "outputId": "dc6c18ea-0cc1-4bad-ec60-5a8afed427c7"
      },
      "execution_count": 36,
      "outputs": [
        {
          "output_type": "execute_result",
          "data": {
            "text/plain": [
              "(10751144, 10751144)"
            ]
          },
          "metadata": {},
          "execution_count": 36
        }
      ]
    },
    {
      "cell_type": "code",
      "source": [
        "a = 10000\n",
        "b = 10000\n",
        "\n",
        "id(a), id(b)\n",
        "# 다르게 나왔다?"
      ],
      "metadata": {
        "colab": {
          "base_uri": "https://localhost:8080/"
        },
        "id": "gRM5_6o7eaBG",
        "outputId": "7b8671f6-70e7-4a1d-abb4-87ac19881b35"
      },
      "execution_count": 37,
      "outputs": [
        {
          "output_type": "execute_result",
          "data": {
            "text/plain": [
              "(140387348358352, 140387348350544)"
            ]
          },
          "metadata": {},
          "execution_count": 37
        }
      ]
    },
    {
      "cell_type": "markdown",
      "source": [
        "# print와 print를 안하는 것에 차이\n",
        "\n",
        "- print     -> 해당 인스턴스에 __str__ 함수 호출\n",
        "- 그냥 출력 -> 해당 인스턴스에 __repr__ 함수 호출\n",
        "\n"
      ],
      "metadata": {
        "id": "yy6mAp3gcrsJ"
      }
    },
    {
      "cell_type": "code",
      "source": [
        "# 아직 class를 안배웠지만, 이 차이를 설명하기 위해 잠시 이 코드를 사용하겠습니다.\n",
        "\n",
        "class CustomInt:\n",
        "    def __repr__(self):\n",
        "        return 'hello'\n",
        "\n",
        "    def __str__(self):\n",
        "        return 'hello world'\n",
        "\n",
        "    def __len__(self):\n",
        "        return 100"
      ],
      "metadata": {
        "id": "OiOlrROze62k"
      },
      "execution_count": 38,
      "outputs": []
    },
    {
      "cell_type": "code",
      "source": [
        "a = CustomInt()\n",
        "\n",
        "a"
      ],
      "metadata": {
        "colab": {
          "base_uri": "https://localhost:8080/"
        },
        "id": "r9qTcV-OfZZl",
        "outputId": "c0848b19-dedb-4a66-b42a-98d256c914de"
      },
      "execution_count": 39,
      "outputs": [
        {
          "output_type": "execute_result",
          "data": {
            "text/plain": [
              "hello"
            ]
          },
          "metadata": {},
          "execution_count": 39
        }
      ]
    },
    {
      "cell_type": "code",
      "source": [
        "print(a)"
      ],
      "metadata": {
        "colab": {
          "base_uri": "https://localhost:8080/"
        },
        "id": "BiN7Qn3efhK7",
        "outputId": "fc21437f-ae22-444d-ccd6-8eb791529402"
      },
      "execution_count": 40,
      "outputs": [
        {
          "output_type": "stream",
          "name": "stdout",
          "text": [
            "hello world\n"
          ]
        }
      ]
    },
    {
      "cell_type": "code",
      "source": [
        "a = 10\n",
        "print(type(a))\n",
        "print(a)"
      ],
      "metadata": {
        "colab": {
          "base_uri": "https://localhost:8080/"
        },
        "id": "I7ZBdkqhf2sD",
        "outputId": "1a1caa50-b986-454f-ed70-12b00ee5f312"
      },
      "execution_count": 41,
      "outputs": [
        {
          "output_type": "stream",
          "name": "stdout",
          "text": [
            "<class 'int'>\n",
            "10\n"
          ]
        }
      ]
    },
    {
      "cell_type": "code",
      "source": [
        "a"
      ],
      "metadata": {
        "colab": {
          "base_uri": "https://localhost:8080/"
        },
        "id": "fjpjoZQUg0nF",
        "outputId": "3ed51b58-0d3d-42c6-e85a-80cd20fe920e"
      },
      "execution_count": 43,
      "outputs": [
        {
          "output_type": "execute_result",
          "data": {
            "text/plain": [
              "10"
            ]
          },
          "metadata": {},
          "execution_count": 43
        }
      ]
    },
    {
      "cell_type": "code",
      "source": [
        "# 아직 class를 안배웠지만, 이 차이를 설명하기 위해 잠시 이 코드를 사용하겠습니다.\n",
        "# repr이 있으면 str이 없어도 repr이 대체를 해줍니다!\n",
        "class CustomInt:\n",
        "    def __repr__(self):\n",
        "        return 'hello'\n",
        "\n",
        "test = CustomInt()\n",
        "# test\n",
        "print(test)"
      ],
      "metadata": {
        "colab": {
          "base_uri": "https://localhost:8080/"
        },
        "id": "vbpUFSong1fL",
        "outputId": "7f87579c-62d5-4e03-d8a7-309fea2989d2"
      },
      "execution_count": 44,
      "outputs": [
        {
          "output_type": "stream",
          "name": "stdout",
          "text": [
            "hello\n"
          ]
        }
      ]
    },
    {
      "cell_type": "code",
      "source": [
        "# print     -> 해당 인스턴스에 __str__ 호출\n",
        "# 그냥 출력 -> 해당 인스턴스에 __repr__ 호출"
      ],
      "metadata": {
        "id": "o3BUXKoOhO93"
      },
      "execution_count": null,
      "outputs": []
    },
    {
      "cell_type": "code",
      "source": [
        "a = 10\n",
        "dir(a)\n",
        "# a.__repr__() # 그냥 출력! 했을 때 실제 실행되는 함수\n",
        "# a.__str__() print()로 출력! 했을 때 실제 실행되는 함수"
      ],
      "metadata": {
        "colab": {
          "base_uri": "https://localhost:8080/",
          "height": 35
        },
        "id": "hM-xZDvRiI1L",
        "outputId": "3f8a82a1-24c2-466e-a483-7c8dd943bb40"
      },
      "execution_count": 46,
      "outputs": [
        {
          "output_type": "execute_result",
          "data": {
            "text/plain": [
              "'10'"
            ],
            "application/vnd.google.colaboratory.intrinsic+json": {
              "type": "string"
            }
          },
          "metadata": {},
          "execution_count": 46
        }
      ]
    },
    {
      "cell_type": "markdown",
      "source": [
        "# python built-in functions\n",
        "\n",
        "* 링크: https://docs.python.org/3/library/functions.html"
      ],
      "metadata": {
        "id": "fUyeFHprjv7U"
      }
    },
    {
      "cell_type": "code",
      "source": [
        "# 자주 사용하는 functions\n",
        "abs\n",
        "all\n",
        "any\n",
        "bin\n",
        "enumerate\n",
        "len\n",
        "format\n",
        "input\n",
        "range\n",
        "\n",
        "sorted\n",
        "reversed\n",
        "\n",
        "filter\n",
        "map\n",
        "zip\n",
        "\n",
        "# isinstance # class 파트에서 해드리겠습니다!\n",
        "# issubclass\n",
        "\n",
        "iter\n",
        "next\n",
        "\n",
        "locals\n",
        "globals\n",
        "\n",
        "max\n",
        "min\n",
        "sum"
      ],
      "metadata": {
        "id": "yHxzo_sXjvor"
      },
      "execution_count": null,
      "outputs": []
    },
    {
      "cell_type": "code",
      "source": [
        "abs(-10) # 절대값\n",
        "all([True, True, False]) # 안에 있는 값이 다 True 여야 True!\n",
        "any([True, True, False]) # 하나라도 True라면 True!\n",
        "bin(10) # 2진수로 바꿔준다. 알고리즘 문제에서 아주 간혹 출제!"
      ],
      "metadata": {
        "id": "ZmEh8-nVm85b"
      },
      "execution_count": null,
      "outputs": []
    },
    {
      "cell_type": "code",
      "source": [
        "# 자료형을 만드는 built-in functions\n",
        "# int\n",
        "# str\n",
        "# complex\n",
        "# list\n",
        "# tuple\n",
        "# dict\n",
        "# set"
      ],
      "metadata": {
        "id": "0elzJ7bCkxtI"
      },
      "execution_count": null,
      "outputs": []
    },
    {
      "cell_type": "code",
      "source": [
        "# enumerate\n",
        "# len\n",
        "# format\n",
        "# input\n",
        "# range"
      ],
      "metadata": {
        "id": "E5djSZ_mmE7R"
      },
      "execution_count": 54,
      "outputs": []
    },
    {
      "cell_type": "markdown",
      "source": [
        "# 반복문(while)"
      ],
      "metadata": {
        "id": "y2ULkczR4bAX"
      }
    },
    {
      "cell_type": "markdown",
      "source": [
        "# 조건문(match)"
      ],
      "metadata": {
        "id": "2MRrJ2Vl4cw-"
      }
    }
  ]
}