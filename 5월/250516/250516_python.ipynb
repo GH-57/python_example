{
  "nbformat": 4,
  "nbformat_minor": 0,
  "metadata": {
    "colab": {
      "provenance": []
    },
    "kernelspec": {
      "name": "python3",
      "display_name": "Python 3"
    },
    "language_info": {
      "name": "python"
    }
  },
  "cells": [
    {
      "cell_type": "markdown",
      "source": [
        "- colab의 좋은 점: 시각화가 잘 되어 있고, 설치가 필요 없고, 학습을 빠르게 할 수 있다.(학습에 좋은 환경)\n",
        "- .py에 좋은 점: 실무에서는 colab으로 개발하는 것이 아니다. py로 만들어서 개발해야 한다"
      ],
      "metadata": {
        "id": "oX3LU70fZSb1"
      }
    },
    {
      "cell_type": "markdown",
      "source": [
        "# colab\n",
        "\n",
        "- gooogle id만 있으면 ram을 12G, disk를 100G나 되는 원격\n",
        "컴퓨터를 무료로 준다!\n",
        "- 여기에는 Python 환경이 모두 설정이 되어 있어서 별도의 설정이 필요없다!\n",
        "- google drive가 자동 연동되어서 별도로 다운로드 해서 저장할 필요가 없다!\n",
        "- Ctrl + Enter: 현재 셀 실행\n",
        "- Alt + Enter: 현재 셀 실행 + 아래 셀 하나 만들기"
      ],
      "metadata": {
        "id": "bRJQLwL5Io3M"
      }
    },
    {
      "cell_type": "markdown",
      "source": [
        "## 마크업과 마크다운\n",
        "\n",
        "```\n",
        "- HTML은 웹 브라우저나 고급 문서를 표현\n",
        "<h1>hello world</h1>\n",
        "<h2>hello world</h2>\n",
        "<p>hello world</p>\n",
        "\n",
        "- Markdown은 서식이 필요치 않은 문서를 표현\n",
        "# hello world\n",
        "## hello world\n",
        "```\n",
        "## 마크다운 문법(우리가 사용할 문법)\n",
        "```\n",
        "# hello world\n",
        "## hello world\n",
        "### hello world\n",
        "\n",
        "- hello world\n",
        "- hello world\n",
        "- hello world\n",
        "\n",
        "1. hello world\n",
        "2. hello world\n",
        "3. hello world\n",
        "```"
      ],
      "metadata": {
        "id": "tyBBwTZnFRTR"
      }
    },
    {
      "cell_type": "markdown",
      "source": [
        "# range"
      ],
      "metadata": {
        "id": "9qrzu5zgQZKX"
      }
    },
    {
      "cell_type": "code",
      "source": [
        "range(1, 10, 2) #start, stop, step"
      ],
      "metadata": {
        "colab": {
          "base_uri": "https://localhost:8080/"
        },
        "id": "JkFxwBYdZ6zn",
        "outputId": "573c4e5d-0e8b-4649-c64a-17b82d57d5d1"
      },
      "execution_count": null,
      "outputs": [
        {
          "output_type": "execute_result",
          "data": {
            "text/plain": [
              "range(1, 10, 2)"
            ]
          },
          "metadata": {},
          "execution_count": 113
        }
      ]
    },
    {
      "cell_type": "code",
      "source": [
        "l = [10, 20, 30, 40]\n",
        "l # 이렇게 마지막 라인에 한하여 print를 안해도 출력이 됩니다."
      ],
      "metadata": {
        "colab": {
          "base_uri": "https://localhost:8080/"
        },
        "id": "ZVk4uk3JJhtY",
        "outputId": "777b7df5-8757-4b2a-deef-6312f4fa1b27"
      },
      "execution_count": null,
      "outputs": [
        {
          "output_type": "execute_result",
          "data": {
            "text/plain": [
              "[10, 20, 30, 40]"
            ]
          },
          "metadata": {},
          "execution_count": 1
        }
      ]
    },
    {
      "cell_type": "code",
      "source": [
        "range(0, 10)\n",
        "[0, 1, 2, 3, 4, 5, 6, 7, 8, 9] # 아니 이렇게 왜 안나오는 거지?"
      ],
      "metadata": {
        "colab": {
          "base_uri": "https://localhost:8080/"
        },
        "id": "pMd_tfKvKHMN",
        "outputId": "c2086ac5-ef95-40bd-aedc-7aa1bc295a6c"
      },
      "execution_count": null,
      "outputs": [
        {
          "output_type": "execute_result",
          "data": {
            "text/plain": [
              "range(0, 10)"
            ]
          },
          "metadata": {},
          "execution_count": 2
        }
      ]
    },
    {
      "cell_type": "code",
      "source": [
        "# range()는 python 2.x에서는 list였습니다?!\n",
        "type(range(0,10)) # 왜 range 라는 타입일까요? (별도의 자료형이다)"
      ],
      "metadata": {
        "colab": {
          "base_uri": "https://localhost:8080/"
        },
        "id": "lBnUXKHTKfY4",
        "outputId": "6f7095dc-345a-40eb-a903-7696286e2693"
      },
      "execution_count": null,
      "outputs": [
        {
          "output_type": "execute_result",
          "data": {
            "text/plain": [
              "range"
            ]
          },
          "metadata": {},
          "execution_count": 4
        }
      ]
    },
    {
      "cell_type": "code",
      "source": [
        "# 파이썬은 속도를 올리기 위한 작업을 매 버전마다 해왔습니다.\n",
        "# 그래서 최종 목표는 C의 속도를 따라잡는 것입니다.\n",
        "# range(100000000000000) 이렇게 데이터를 생성한다고 생각해보세요.\n",
        "# 0 - 100000000000000에 숫자를 모두 메모리에 올려야 합니다.\n",
        "# xrange()라는 것을 만들어서 이를 해결했습니다.\n",
        "# xrange는 숫자를 생성하지 않고, start, stop, step 값으로 호출을 할 때 하나씩 생성을 하는 방식을 새롭게 도입했습니다.\n",
        "# xrange가 3.x로 오면서 range가 된 것입니다!"
      ],
      "metadata": {
        "id": "9iJjYDP8LDjH"
      },
      "execution_count": null,
      "outputs": []
    },
    {
      "cell_type": "code",
      "source": [
        "# range()의 인덱싱\n",
        "range(100)[3]\n",
        "range(100, 1000, 100)[3]"
      ],
      "metadata": {
        "colab": {
          "base_uri": "https://localhost:8080/"
        },
        "id": "Pih71KRLPeJx",
        "outputId": "c0fbd4b6-2d1d-4e4a-bd68-9eafd0d67a44"
      },
      "execution_count": null,
      "outputs": [
        {
          "output_type": "execute_result",
          "data": {
            "text/plain": [
              "400"
            ]
          },
          "metadata": {},
          "execution_count": 7
        }
      ]
    },
    {
      "cell_type": "code",
      "source": [
        "# range()의 슬라이싱\n",
        "range(100)[1:10]"
      ],
      "metadata": {
        "colab": {
          "base_uri": "https://localhost:8080/"
        },
        "id": "1FHx01tMPmfm",
        "outputId": "2815b0d4-d259-4aff-c80c-2c6e96663811"
      },
      "execution_count": null,
      "outputs": [
        {
          "output_type": "execute_result",
          "data": {
            "text/plain": [
              "range(1, 10)"
            ]
          },
          "metadata": {},
          "execution_count": 6
        }
      ]
    },
    {
      "cell_type": "code",
      "source": [
        "# range의 step 음수 값\n",
        "list(range(100, 9, -10))"
      ],
      "metadata": {
        "colab": {
          "base_uri": "https://localhost:8080/"
        },
        "id": "jumWaAyxP6kB",
        "outputId": "d12c9b6d-d05a-4358-87d1-b2b575e3f966"
      },
      "execution_count": null,
      "outputs": [
        {
          "output_type": "execute_result",
          "data": {
            "text/plain": [
              "[100, 90, 80, 70, 60, 50, 40, 30, 20, 10]"
            ]
          },
          "metadata": {},
          "execution_count": 10
        }
      ]
    },
    {
      "cell_type": "markdown",
      "source": [
        "# function(함수)"
      ],
      "metadata": {
        "id": "lgjKLPzSQgbV"
      }
    },
    {
      "cell_type": "code",
      "source": [
        "# function이라는 것이 왜 필요했을까?\n",
        "\n",
        "# 첫 번째 이유\n",
        "# 반복된 코드가 줄어든다\n",
        "def hello():\n",
        "\n",
        "    x = 10 # 이 코드가 반복되니 이 코드의 이름을 hello라고 하고, 이 코드 자리에 hello를 놓자!\n",
        "    y = 20\n",
        "    print(x + y)\n",
        "\n",
        "hello()\n",
        "\n",
        "hello()\n",
        "a = 10\n",
        "\n",
        "hello()\n",
        "b = 20\n",
        "\n",
        "hello()\n",
        "a + b\n",
        "\n",
        "hello()\n",
        "a - b"
      ],
      "metadata": {
        "colab": {
          "base_uri": "https://localhost:8080/"
        },
        "id": "dXMyOOgb5I_i",
        "outputId": "18d481f5-fb95-4f28-e7a1-63e59a2ca672"
      },
      "execution_count": null,
      "outputs": [
        {
          "output_type": "stream",
          "name": "stdout",
          "text": [
            "30\n"
          ]
        }
      ]
    },
    {
      "cell_type": "code",
      "source": [
        "# 두 번째 이유\n",
        "# 수만줄의 코드도 아래와 같이 함수로 쌓여있으면 '구조를 파악'하기 쉽습니다.\n",
        "# 함수로 쓰는 연습을 자주 하라\n",
        "\n",
        "땅파기()\n",
        "땅다지기()\n",
        "상하수도설치()\n",
        "벽돌쌓기()\n",
        "지붕올리기()\n",
        "내부인테리어()"
      ],
      "metadata": {
        "id": "P1Aed2xX6DRz"
      },
      "execution_count": null,
      "outputs": []
    },
    {
      "cell_type": "code",
      "source": [
        "# 세 번째 이유\n",
        "# 알지 않아도 되는 코드를 들여다보지 않을 수 있다.\n",
        "# 추상화\n",
        "# 자동차를 운전할 때 자동차 패달을 밟는다 해서\n",
        "# 엔진을 뜯어볼 필요가 있나? (X)\n",
        "# (내부 구현을 숨기고 필요한 기능만 외부에 노출시켜\n",
        "# 코드를 더 이해하기 쉽고 사용하기 편리하게 만드는 개념입니다.)\n",
        "\n",
        "땅파기()\n",
        "땅다지기()\n",
        "상하수도설치()\n",
        "벽돌쌓기() # 내 과업은 벽돌쌓기를 수정하는 것이다.\n",
        "지붕올리기()\n",
        "내부인테리어()"
      ],
      "metadata": {
        "id": "wiwtw1fa6YNO"
      },
      "execution_count": null,
      "outputs": []
    },
    {
      "cell_type": "code",
      "source": [
        "def hello():\n",
        "    x = 10\n",
        "    y= 20\n",
        "    return x + y"
      ],
      "metadata": {
        "id": "SIhrExLhQkWm"
      },
      "execution_count": null,
      "outputs": []
    },
    {
      "cell_type": "code",
      "source": [
        "# 파라미터와 아규먼트\n",
        "# 함수는 이름만 변수로 등록하고, 밑의 코드를 읽지 않는다!\n",
        "\n",
        "def xysum(x, y): # 함수를 정의하는 부분 (호출되기 전 까지는 읽지 않는다!)\n",
        "    return x + y\n",
        "\n",
        "xysum(10, 20) # 함수를 호출하는 부분 (아규먼트)"
      ],
      "metadata": {
        "id": "_H4xNppg7kn0"
      },
      "execution_count": null,
      "outputs": []
    },
    {
      "cell_type": "code",
      "source": [
        "# 파선아실 (파라미터는 선언할 때, 아규먼트는 실행 할 때)\n",
        "\n",
        "def xysum(x, y): # 함수를 정의하는 부분 (파라미터)\n",
        "    return x + y\n",
        "\n",
        "xysum(10, 20) # 함수를 호출하는 부분 (아규먼트)"
      ],
      "metadata": {
        "id": "ct97GqUh8WCr"
      },
      "execution_count": null,
      "outputs": []
    },
    {
      "cell_type": "code",
      "source": [
        "def xysum(x, y):\n",
        "    return (x + y) # 나를 호출한 곳에 그대로 이 값을 넣어주세요 # print는 에러가 난다\n",
        "\n",
        "result = xysum(10, 20) + xysum(30, 40) + xysum(50, 60)\n",
        "result"
      ],
      "metadata": {
        "colab": {
          "base_uri": "https://localhost:8080/"
        },
        "id": "oAJr-KXf8-tI",
        "outputId": "bddc1107-6ed0-4cca-e5b4-40f86e06e6f8"
      },
      "execution_count": null,
      "outputs": [
        {
          "output_type": "execute_result",
          "data": {
            "text/plain": [
              "210"
            ]
          },
          "metadata": {},
          "execution_count": 114
        }
      ]
    },
    {
      "cell_type": "code",
      "source": [
        "def xysum(x, y):\n",
        "    print(x + y) # 나를 호출한 곳에 그대로 이 값을 넣어주세요 # print는 에러가 난다\n",
        "\n",
        "result = xysum(10, 20) + xysum(30, 40) + xysum(50, 60) # None +None는 에러가 난다\n",
        "result"
      ],
      "metadata": {
        "colab": {
          "base_uri": "https://localhost:8080/",
          "height": 239
        },
        "id": "LVqvwVkLdBFx",
        "outputId": "7529bb59-8a19-4653-ba05-b1f4b5f2970e"
      },
      "execution_count": null,
      "outputs": [
        {
          "output_type": "stream",
          "name": "stdout",
          "text": [
            "30\n",
            "70\n"
          ]
        },
        {
          "output_type": "error",
          "ename": "TypeError",
          "evalue": "unsupported operand type(s) for +: 'NoneType' and 'NoneType'",
          "traceback": [
            "\u001b[0;31m---------------------------------------------------------------------------\u001b[0m",
            "\u001b[0;31mTypeError\u001b[0m                                 Traceback (most recent call last)",
            "\u001b[0;32m<ipython-input-115-35c75baf183b>\u001b[0m in \u001b[0;36m<cell line: 0>\u001b[0;34m()\u001b[0m\n\u001b[1;32m      2\u001b[0m     \u001b[0mprint\u001b[0m\u001b[0;34m(\u001b[0m\u001b[0mx\u001b[0m \u001b[0;34m+\u001b[0m \u001b[0my\u001b[0m\u001b[0;34m)\u001b[0m \u001b[0;31m# 나를 호출한 곳에 그대로 이 값을 넣어주세요 # print는 에러가 난다\u001b[0m\u001b[0;34m\u001b[0m\u001b[0;34m\u001b[0m\u001b[0m\n\u001b[1;32m      3\u001b[0m \u001b[0;34m\u001b[0m\u001b[0m\n\u001b[0;32m----> 4\u001b[0;31m \u001b[0mresult\u001b[0m \u001b[0;34m=\u001b[0m \u001b[0mxysum\u001b[0m\u001b[0;34m(\u001b[0m\u001b[0;36m10\u001b[0m\u001b[0;34m,\u001b[0m \u001b[0;36m20\u001b[0m\u001b[0;34m)\u001b[0m \u001b[0;34m+\u001b[0m \u001b[0mxysum\u001b[0m\u001b[0;34m(\u001b[0m\u001b[0;36m30\u001b[0m\u001b[0;34m,\u001b[0m \u001b[0;36m40\u001b[0m\u001b[0;34m)\u001b[0m \u001b[0;34m+\u001b[0m \u001b[0mxysum\u001b[0m\u001b[0;34m(\u001b[0m\u001b[0;36m50\u001b[0m\u001b[0;34m,\u001b[0m \u001b[0;36m60\u001b[0m\u001b[0;34m)\u001b[0m\u001b[0;34m\u001b[0m\u001b[0;34m\u001b[0m\u001b[0m\n\u001b[0m\u001b[1;32m      5\u001b[0m \u001b[0mresult\u001b[0m\u001b[0;34m\u001b[0m\u001b[0;34m\u001b[0m\u001b[0m\n",
            "\u001b[0;31mTypeError\u001b[0m: unsupported operand type(s) for +: 'NoneType' and 'NoneType'"
          ]
        }
      ]
    },
    {
      "cell_type": "code",
      "source": [
        "print(None)"
      ],
      "metadata": {
        "colab": {
          "base_uri": "https://localhost:8080/"
        },
        "id": "PtK51PwU9xSX",
        "outputId": "176e24db-6f91-41e3-9c00-163bee04403f"
      },
      "execution_count": null,
      "outputs": [
        {
          "output_type": "stream",
          "name": "stdout",
          "text": [
            "None\n"
          ]
        }
      ]
    },
    {
      "cell_type": "code",
      "source": [
        "def a(x, y):\n",
        "    z = x + y\n",
        "\n",
        "print(a(10, 20)) # None"
      ],
      "metadata": {
        "colab": {
          "base_uri": "https://localhost:8080/"
        },
        "id": "WSiC77CO9pBt",
        "outputId": "ffaddf8e-d2ec-4241-f3d5-c0058f603254"
      },
      "execution_count": null,
      "outputs": [
        {
          "output_type": "stream",
          "name": "stdout",
          "text": [
            "None\n"
          ]
        }
      ]
    },
    {
      "cell_type": "code",
      "source": [
        "def a(x, y):\n",
        "    z = x + y\n",
        "    return = None\n",
        "\n",
        "print(a(10, 20))"
      ],
      "metadata": {
        "id": "ljkYNCa196UH"
      },
      "execution_count": null,
      "outputs": []
    },
    {
      "cell_type": "code",
      "source": [
        "print(print(print('hello')))"
      ],
      "metadata": {
        "colab": {
          "base_uri": "https://localhost:8080/"
        },
        "id": "1bRFxEMW9_UE",
        "outputId": "8da949de-a2dc-4aeb-9e9e-97277f262b0f"
      },
      "execution_count": null,
      "outputs": [
        {
          "output_type": "stream",
          "name": "stdout",
          "text": [
            "hello\n",
            "None\n",
            "None\n"
          ]
        }
      ]
    },
    {
      "cell_type": "code",
      "source": [
        "# 파라미터가 있는 함수\n",
        "def hello(a):\n",
        "    return a\n",
        "\n",
        "#파라미터가 없는 함수\n",
        "def hello():\n",
        "    return 'hello world'"
      ],
      "metadata": {
        "id": "deXviHvQ_DVh"
      },
      "execution_count": null,
      "outputs": []
    },
    {
      "cell_type": "code",
      "source": [
        "# 리턴값이 있는 함수\n",
        "def add(a, b):\n",
        "    return a + b\n",
        "\n",
        "# 리턴값이 없는 함수 (None이 자동으로 들어간다)\n",
        "def add(a, b):\n",
        "    print(a + b)"
      ],
      "metadata": {
        "id": "3v4NqUul_GG6"
      },
      "execution_count": null,
      "outputs": []
    },
    {
      "cell_type": "code",
      "source": [
        "# 문제1: 2x + 15 방정식이 주어졌을 때, x값이 10일때 y값이 얼마인지 구하는 함수를 만드세요.\n",
        "\n",
        "def solution(x):\n",
        "    return 2 * x + 15\n",
        "\n",
        "solution(10)"
      ],
      "metadata": {
        "colab": {
          "base_uri": "https://localhost:8080/"
        },
        "id": "KcwGDM5F_xJm",
        "outputId": "816beb01-7838-427d-bac9-db40ea02a950"
      },
      "execution_count": null,
      "outputs": [
        {
          "output_type": "execute_result",
          "data": {
            "text/plain": [
              "35"
            ]
          },
          "metadata": {},
          "execution_count": 83
        }
      ]
    },
    {
      "cell_type": "code",
      "source": [
        "# map을 아직 안배웠어요!\n",
        "# map은 나중에 할 예정입니다. 지금 이 코드는 '어떻게 활용하는가?'에 대한 얘기입니다.\n",
        "list(map(solution, range(10)))"
      ],
      "metadata": {
        "colab": {
          "base_uri": "https://localhost:8080/"
        },
        "id": "Vq2DHuaPKGYp",
        "outputId": "44312bf7-d8ae-4ce2-c0ab-8fe640c7a628"
      },
      "execution_count": null,
      "outputs": [
        {
          "output_type": "execute_result",
          "data": {
            "text/plain": [
              "[15, 17, 19, 21, 23, 25, 27, 29, 31, 33]"
            ]
          },
          "metadata": {},
          "execution_count": 86
        }
      ]
    },
    {
      "cell_type": "code",
      "source": [
        "# 실제 모의 주식 그래프는 아래와 같이 그립니다. 이런 식으로 해서 그립니다.\n",
        "import random\n",
        "\n",
        "l = [15, 17, 19, 21, 23, 25, 27, 29, 31, 33]\n",
        "result = []\n",
        "for i in l:\n",
        "    result = result + [i + random.randint(-5, 5)]\n",
        "result"
      ],
      "metadata": {
        "colab": {
          "base_uri": "https://localhost:8080/"
        },
        "id": "Y_K3aEROKmLF",
        "outputId": "7b5519f6-db5e-485a-99da-16bd065b6979"
      },
      "execution_count": null,
      "outputs": [
        {
          "output_type": "execute_result",
          "data": {
            "text/plain": [
              "[17, 18, 16, 23, 27, 21, 32, 30, 28, 29]"
            ]
          },
          "metadata": {},
          "execution_count": 87
        }
      ]
    },
    {
      "cell_type": "code",
      "source": [
        "# 문제2: [10, 20, 30] + [1, 2, 3]이라고 했을 때 이 두 행렬을 요소별로 더하는 함수를 만드세요.\n",
        "# 관습적으로 안쓰는 코드는 변수 _ 에 할당합니다\n",
        "def solution(a, b):\n",
        "    for i, v in enumerate(a):\n",
        "        a[i] = v + b[i]\n",
        "    return a\n",
        "\n",
        "solution([10, 20, 30], [1, 2, 3])"
      ],
      "metadata": {
        "colab": {
          "base_uri": "https://localhost:8080/"
        },
        "id": "s4johU99APFg",
        "outputId": "f2b13347-a306-40d7-8d66-d8c6ecfc124f"
      },
      "execution_count": null,
      "outputs": [
        {
          "output_type": "execute_result",
          "data": {
            "text/plain": [
              "[11, 22, 33]"
            ]
          },
          "metadata": {},
          "execution_count": 88
        }
      ]
    },
    {
      "cell_type": "code",
      "source": [
        "# 문제2: [10, 20, 30] + [1, 2, 3]이라고 했을 때 이 두 행렬을 요소별로 더하는 함수를 만드세요.\n",
        "# 두번째 풀이\n",
        "def solution(a, b):\n",
        "    result = []\n",
        "    for i, _ in enumerate(a):\n",
        "        result.append(a[i] + b[i])\n",
        "    return result\n",
        "\n",
        "solution([10, 20, 30], [1, 2, 3])"
      ],
      "metadata": {
        "id": "Jjb7eVDRMbi0"
      },
      "execution_count": null,
      "outputs": []
    },
    {
      "cell_type": "code",
      "source": [
        "# 문제2: [10, 20, 30] + [1, 2, 3]이라고 했을 때 이 두 행렬을 요소별로 더하는 함수를 만드세요.\n",
        "# 좀 더 우아한 풀이\n",
        "\n",
        "def solution(a, b):\n",
        "    return list(map(sum, zip([10, 20, 30], [1, 2, 3])))\n",
        "\n",
        "solution([10, 20, 30], [1, 2, 3])"
      ],
      "metadata": {
        "colab": {
          "base_uri": "https://localhost:8080/"
        },
        "id": "DU4rU6iSNhUO",
        "outputId": "54a22760-14a5-4b5d-a4cd-7f124cd3146f"
      },
      "execution_count": null,
      "outputs": [
        {
          "output_type": "execute_result",
          "data": {
            "text/plain": [
              "[11, 22, 33]"
            ]
          },
          "metadata": {},
          "execution_count": 93
        }
      ]
    },
    {
      "cell_type": "code",
      "source": [
        "list(map(sum, zip([10, 20, 30], [1, 2, 3])))"
      ],
      "metadata": {
        "colab": {
          "base_uri": "https://localhost:8080/"
        },
        "id": "fvpNr0Z4NTl-",
        "outputId": "fd481c46-e729-49fd-e4a1-d5dda91d39e7"
      },
      "execution_count": null,
      "outputs": [
        {
          "output_type": "execute_result",
          "data": {
            "text/plain": [
              "[11, 22, 33]"
            ]
          },
          "metadata": {},
          "execution_count": 92
        }
      ]
    },
    {
      "cell_type": "code",
      "source": [
        "# 문제3: 행렬(리스트의 리스트)의 모든 요소에 특정 숫자를 곱하는 함수를 만드세요.\n",
        "# 예: [1, 2, 3, 4] * 2 = [2, 4, 6, 8]\n",
        "\n",
        "def solution(matrix, multiplier):\n",
        "    result = []\n",
        "    for i in matrix:\n",
        "        result.append(i * multiplier)\n",
        "    return result\n",
        "\n",
        "solution([1, 2, 3, 4], 2)"
      ],
      "metadata": {
        "colab": {
          "base_uri": "https://localhost:8080/"
        },
        "id": "lSRq9mTNBEb3",
        "outputId": "06ccf0e1-2cb5-425b-dfdd-e75f83ff26c9"
      },
      "execution_count": null,
      "outputs": [
        {
          "output_type": "execute_result",
          "data": {
            "text/plain": [
              "[2, 4, 6, 8]"
            ]
          },
          "metadata": {},
          "execution_count": 94
        }
      ]
    },
    {
      "cell_type": "code",
      "source": [
        "# 고급풀이\n",
        "def solution(matrix, multiplier):\n",
        "    return [i * multiplier for i in matrix]\n",
        "\n",
        "solution([1, 2, 3, 4], 2)"
      ],
      "metadata": {
        "colab": {
          "base_uri": "https://localhost:8080/"
        },
        "id": "R45SanIGOsI8",
        "outputId": "1132dce6-9447-49e7-c1b6-5940b1082470"
      },
      "execution_count": null,
      "outputs": [
        {
          "output_type": "execute_result",
          "data": {
            "text/plain": [
              "[2, 4, 6, 8]"
            ]
          },
          "metadata": {},
          "execution_count": 95
        }
      ]
    },
    {
      "cell_type": "code",
      "source": [
        "s = []\n",
        "for i in range(1, 10, 2):\n",
        "    s.append(i)\n",
        "s"
      ],
      "metadata": {
        "colab": {
          "base_uri": "https://localhost:8080/"
        },
        "id": "KCezWyOEPRg4",
        "outputId": "b4870966-ff5f-4cba-ce74-3c0852d4a581"
      },
      "execution_count": null,
      "outputs": [
        {
          "output_type": "execute_result",
          "data": {
            "text/plain": [
              "[1, 3, 5, 7, 9]"
            ]
          },
          "metadata": {},
          "execution_count": 97
        }
      ]
    },
    {
      "cell_type": "code",
      "source": [
        "[i for i in range(1, 10, 2)] # 리스트 컴프리핸션"
      ],
      "metadata": {
        "colab": {
          "base_uri": "https://localhost:8080/"
        },
        "id": "pjztqmYDPcgp",
        "outputId": "a8022dba-3ae7-406c-d894-c160eac60a0e"
      },
      "execution_count": null,
      "outputs": [
        {
          "output_type": "execute_result",
          "data": {
            "text/plain": [
              "[1, 3, 5, 7, 9]"
            ]
          },
          "metadata": {},
          "execution_count": 99
        }
      ]
    },
    {
      "cell_type": "code",
      "source": [
        "# 아래와 같은 코드는 가독성이 떨어지기 때문에 좋은 코드라고 보기 어렵다.\n",
        "# 파이썬에서는 읽기 좋은 코드에 가치를 높게 평가한다\n",
        "[f\"{i} X {j} = {i * j}\" for i in range(2, 10) for j in range(1, 10)]"
      ],
      "metadata": {
        "colab": {
          "base_uri": "https://localhost:8080/"
        },
        "id": "8YqXIt8_PoXE",
        "outputId": "72f1fb67-b684-4bef-a2b7-ac59539f6a86"
      },
      "execution_count": null,
      "outputs": [
        {
          "output_type": "execute_result",
          "data": {
            "text/plain": [
              "['2 X 1 = 2',\n",
              " '2 X 2 = 4',\n",
              " '2 X 3 = 6',\n",
              " '2 X 4 = 8',\n",
              " '2 X 5 = 10',\n",
              " '2 X 6 = 12',\n",
              " '2 X 7 = 14',\n",
              " '2 X 8 = 16',\n",
              " '2 X 9 = 18',\n",
              " '3 X 1 = 3',\n",
              " '3 X 2 = 6',\n",
              " '3 X 3 = 9',\n",
              " '3 X 4 = 12',\n",
              " '3 X 5 = 15',\n",
              " '3 X 6 = 18',\n",
              " '3 X 7 = 21',\n",
              " '3 X 8 = 24',\n",
              " '3 X 9 = 27',\n",
              " '4 X 1 = 4',\n",
              " '4 X 2 = 8',\n",
              " '4 X 3 = 12',\n",
              " '4 X 4 = 16',\n",
              " '4 X 5 = 20',\n",
              " '4 X 6 = 24',\n",
              " '4 X 7 = 28',\n",
              " '4 X 8 = 32',\n",
              " '4 X 9 = 36',\n",
              " '5 X 1 = 5',\n",
              " '5 X 2 = 10',\n",
              " '5 X 3 = 15',\n",
              " '5 X 4 = 20',\n",
              " '5 X 5 = 25',\n",
              " '5 X 6 = 30',\n",
              " '5 X 7 = 35',\n",
              " '5 X 8 = 40',\n",
              " '5 X 9 = 45',\n",
              " '6 X 1 = 6',\n",
              " '6 X 2 = 12',\n",
              " '6 X 3 = 18',\n",
              " '6 X 4 = 24',\n",
              " '6 X 5 = 30',\n",
              " '6 X 6 = 36',\n",
              " '6 X 7 = 42',\n",
              " '6 X 8 = 48',\n",
              " '6 X 9 = 54',\n",
              " '7 X 1 = 7',\n",
              " '7 X 2 = 14',\n",
              " '7 X 3 = 21',\n",
              " '7 X 4 = 28',\n",
              " '7 X 5 = 35',\n",
              " '7 X 6 = 42',\n",
              " '7 X 7 = 49',\n",
              " '7 X 8 = 56',\n",
              " '7 X 9 = 63',\n",
              " '8 X 1 = 8',\n",
              " '8 X 2 = 16',\n",
              " '8 X 3 = 24',\n",
              " '8 X 4 = 32',\n",
              " '8 X 5 = 40',\n",
              " '8 X 6 = 48',\n",
              " '8 X 7 = 56',\n",
              " '8 X 8 = 64',\n",
              " '8 X 9 = 72',\n",
              " '9 X 1 = 9',\n",
              " '9 X 2 = 18',\n",
              " '9 X 3 = 27',\n",
              " '9 X 4 = 36',\n",
              " '9 X 5 = 45',\n",
              " '9 X 6 = 54',\n",
              " '9 X 7 = 63',\n",
              " '9 X 8 = 72',\n",
              " '9 X 9 = 81']"
            ]
          },
          "metadata": {},
          "execution_count": 101
        }
      ]
    },
    {
      "cell_type": "code",
      "source": [
        "# 문제4: 프로그래머스 (카카오 코딩 테스트 보는 공간)에 문제 하나 풀기.\n",
        "# 기업에서 이런식으로 알고리즘 테스트가 나옵니다. (알고리즘은 암기과목..)\n",
        "# https://school.programmers.co.kr/learn/courses/30/lessons/181928\n",
        "\n",
        "def solution(num_list):\n",
        "    짝수 = ''\n",
        "    홀수 = ''\n",
        "    for i in num_list:\n",
        "        if i % 2 == 0:\n",
        "            짝수 += str(i)\n",
        "        else:\n",
        "            홀수 += str(i)\n",
        "    answer = int(짝수) + int(홀수)\n",
        "    return answer\n",
        "\n",
        "solution([3, 4, 5, 2, 1])"
      ],
      "metadata": {
        "colab": {
          "base_uri": "https://localhost:8080/"
        },
        "id": "5yoLyzTnB--K",
        "outputId": "2e90ae47-91d4-494e-fd23-9920fd7690ee"
      },
      "execution_count": null,
      "outputs": [
        {
          "output_type": "execute_result",
          "data": {
            "text/plain": [
              "393"
            ]
          },
          "metadata": {},
          "execution_count": 102
        }
      ]
    },
    {
      "cell_type": "code",
      "source": [
        "# 파라미터에 기본값이 정해져 있는 경우!\n",
        "def add(x = 10, y = 20):\n",
        "    return x + y\n",
        "\n",
        "add()"
      ],
      "metadata": {
        "colab": {
          "base_uri": "https://localhost:8080/"
        },
        "id": "PYsLx1tHUgFN",
        "outputId": "c8203fbb-a7ef-4c1d-a543-6d38cec8410c"
      },
      "execution_count": null,
      "outputs": [
        {
          "output_type": "execute_result",
          "data": {
            "text/plain": [
              "30"
            ]
          },
          "metadata": {},
          "execution_count": 103
        }
      ]
    },
    {
      "cell_type": "code",
      "source": [
        "# 지역변수 전역변수\n",
        "# 함수에서 선언된 변수들은 휘발된다\n",
        "\n",
        "x = 10\n",
        "\n",
        "def hello():\n",
        "    print(x) # 밖에 있는 변수는 읽을 수는 있다\n",
        "\n",
        "hello()"
      ],
      "metadata": {
        "colab": {
          "base_uri": "https://localhost:8080/"
        },
        "id": "ZhdAFaBHVszL",
        "outputId": "edb6e165-19b5-44e5-d7c7-4461e00b8d5d"
      },
      "execution_count": null,
      "outputs": [
        {
          "output_type": "stream",
          "name": "stdout",
          "text": [
            "10\n"
          ]
        }
      ]
    },
    {
      "cell_type": "code",
      "source": [
        "x = 10\n",
        "\n",
        "def hello():\n",
        "    x += 1 # 밖에 있는 변수를 수정할 수 는 없다\n",
        "\n",
        "hello()"
      ],
      "metadata": {
        "colab": {
          "base_uri": "https://localhost:8080/",
          "height": 312
        },
        "id": "zWnANLoxWgGp",
        "outputId": "79bdb36a-a45d-441e-8b54-f836ab8762ce"
      },
      "execution_count": null,
      "outputs": [
        {
          "output_type": "error",
          "ename": "UnboundLocalError",
          "evalue": "cannot access local variable 'x' where it is not associated with a value",
          "traceback": [
            "\u001b[0;31m---------------------------------------------------------------------------\u001b[0m",
            "\u001b[0;31mUnboundLocalError\u001b[0m                         Traceback (most recent call last)",
            "\u001b[0;32m<ipython-input-108-a43cceaab16a>\u001b[0m in \u001b[0;36m<cell line: 0>\u001b[0;34m()\u001b[0m\n\u001b[1;32m      4\u001b[0m     \u001b[0mx\u001b[0m \u001b[0;34m+=\u001b[0m \u001b[0;36m1\u001b[0m \u001b[0;31m# 밖에 있는 변수를 수정할 수 는 없다\u001b[0m\u001b[0;34m\u001b[0m\u001b[0;34m\u001b[0m\u001b[0m\n\u001b[1;32m      5\u001b[0m \u001b[0;34m\u001b[0m\u001b[0m\n\u001b[0;32m----> 6\u001b[0;31m \u001b[0mhello\u001b[0m\u001b[0;34m(\u001b[0m\u001b[0;34m)\u001b[0m\u001b[0;34m\u001b[0m\u001b[0;34m\u001b[0m\u001b[0m\n\u001b[0m",
            "\u001b[0;32m<ipython-input-108-a43cceaab16a>\u001b[0m in \u001b[0;36mhello\u001b[0;34m()\u001b[0m\n\u001b[1;32m      2\u001b[0m \u001b[0;34m\u001b[0m\u001b[0m\n\u001b[1;32m      3\u001b[0m \u001b[0;32mdef\u001b[0m \u001b[0mhello\u001b[0m\u001b[0;34m(\u001b[0m\u001b[0;34m)\u001b[0m\u001b[0;34m:\u001b[0m\u001b[0;34m\u001b[0m\u001b[0;34m\u001b[0m\u001b[0m\n\u001b[0;32m----> 4\u001b[0;31m     \u001b[0mx\u001b[0m \u001b[0;34m+=\u001b[0m \u001b[0;36m1\u001b[0m \u001b[0;31m# 밖에 있는 변수를 수정할 수 는 없다\u001b[0m\u001b[0;34m\u001b[0m\u001b[0;34m\u001b[0m\u001b[0m\n\u001b[0m\u001b[1;32m      5\u001b[0m \u001b[0;34m\u001b[0m\u001b[0m\n\u001b[1;32m      6\u001b[0m \u001b[0mhello\u001b[0m\u001b[0;34m(\u001b[0m\u001b[0;34m)\u001b[0m\u001b[0;34m\u001b[0m\u001b[0;34m\u001b[0m\u001b[0m\n",
            "\u001b[0;31mUnboundLocalError\u001b[0m: cannot access local variable 'x' where it is not associated with a value"
          ]
        }
      ]
    },
    {
      "cell_type": "code",
      "source": [
        "x = 10 # 전역변수\n",
        "\n",
        "def hello():\n",
        "    x = 100 # 지역변수(함수내부에서 선언되는 변수) 100\n",
        "    # return None은 생략 가능하다.\n",
        "\n",
        "hello()\n",
        "print(x)"
      ],
      "metadata": {
        "colab": {
          "base_uri": "https://localhost:8080/"
        },
        "id": "vdB_2EvVWqBm",
        "outputId": "6cf01ed6-aafe-4392-9461-d9aae0c0d035"
      },
      "execution_count": null,
      "outputs": [
        {
          "output_type": "stream",
          "name": "stdout",
          "text": [
            "10\n"
          ]
        }
      ]
    },
    {
      "cell_type": "code",
      "source": [
        "x = 10 # 전역변수\n",
        "\n",
        "def hello(input_x):\n",
        "    input_x += 10\n",
        "    return input_x\n",
        "\n",
        "x = hello(x) # 초급자: 아니? 이렇게 불편하게 써야하나?\n",
        "print(x)"
      ],
      "metadata": {
        "id": "pzVv2dfKXYnN"
      },
      "execution_count": null,
      "outputs": []
    },
    {
      "cell_type": "code",
      "source": [
        "# 초급자의 마음: 이렇게하면 되잖아?(아님)\n",
        "# ->아주 짧은 코드에서는 맞는 이야기 이지만\n",
        "# 실무에서는 깨끗한 코드, 구조화 되어있는 코드, 견고한 코드가 필요하다.\n",
        "x = 10\n",
        "x += 10\n",
        "\n",
        "print(x)"
      ],
      "metadata": {
        "id": "CKJlURgkXnfu"
      },
      "execution_count": null,
      "outputs": []
    },
    {
      "cell_type": "code",
      "source": [
        "# 대부분 아래 코드는 안좋은 사례로 꼽힙니다.\n",
        "\n",
        "x = 10\n",
        "def hello():\n",
        "    global x\n",
        "    x += 100\n",
        "\n",
        "hello()\n",
        "print(x)"
      ],
      "metadata": {
        "colab": {
          "base_uri": "https://localhost:8080/"
        },
        "id": "1Xehw3U_YGif",
        "outputId": "a636f394-27e9-48d6-a752-64e0ca8256d3"
      },
      "execution_count": null,
      "outputs": [
        {
          "output_type": "stream",
          "name": "stdout",
          "text": [
            "110\n"
          ]
        }
      ]
    },
    {
      "cell_type": "code",
      "source": [
        "# 자주 사용하지는 않음. (실무에서 쓰면 난리남.)\n",
        "# locals()\n",
        "# globals()"
      ],
      "metadata": {
        "id": "xZugiXHmY1Vc"
      },
      "execution_count": null,
      "outputs": []
    },
    {
      "cell_type": "code",
      "source": [
        "def add(a, b):\n",
        "    z = a + b\n",
        "    print(locals())\n",
        "    return z\n",
        "\n",
        "add(10, 20)"
      ],
      "metadata": {
        "colab": {
          "base_uri": "https://localhost:8080/"
        },
        "id": "d-QTEIPXY6b7",
        "outputId": "e9ee0f8b-0a1c-4a9b-e011-5c3802691759"
      },
      "execution_count": null,
      "outputs": [
        {
          "output_type": "stream",
          "name": "stdout",
          "text": [
            "{'a': 10, 'b': 20, 'z': 30}\n"
          ]
        },
        {
          "output_type": "execute_result",
          "data": {
            "text/plain": [
              "30"
            ]
          },
          "metadata": {},
          "execution_count": 112
        }
      ]
    },
    {
      "cell_type": "code",
      "source": [
        "# hello라는 것은 무엇일까?\n",
        "# print라는 것은 무엇일까?\n",
        "\n",
        "# hello든 print든 변수입니다! 함수의 이름은 변수입니다."
      ],
      "metadata": {
        "id": "SZdYGqATQt_M"
      },
      "execution_count": null,
      "outputs": []
    },
    {
      "cell_type": "code",
      "source": [
        "a = print\n",
        "a('hello world')"
      ],
      "metadata": {
        "colab": {
          "base_uri": "https://localhost:8080/"
        },
        "id": "5HjZaaGtQ7uf",
        "outputId": "f85980e7-afe0-4841-c7cf-14c86208ca10"
      },
      "execution_count": null,
      "outputs": [
        {
          "output_type": "stream",
          "name": "stdout",
          "text": [
            "hello world\n"
          ]
        }
      ]
    },
    {
      "cell_type": "code",
      "source": [
        " l = [a, a, a, a, a]\n",
        " l[0]('hello')"
      ],
      "metadata": {
        "colab": {
          "base_uri": "https://localhost:8080/"
        },
        "id": "6-YbiQ81RCYU",
        "outputId": "8e5012a9-f8ca-4fb3-9a2e-035f148aa06e"
      },
      "execution_count": null,
      "outputs": [
        {
          "output_type": "stream",
          "name": "stdout",
          "text": [
            "hello\n"
          ]
        }
      ]
    },
    {
      "cell_type": "markdown",
      "source": [
        "## 함수과제(0512)"
      ],
      "metadata": {
        "id": "9JkTcZRNiSbi"
      }
    },
    {
      "cell_type": "code",
      "source": [
        "# 문제1: 두 수를 더하는 함수를 만드세요.\n",
        "def solution(a, b):\n",
        "    return a + b\n",
        "\n",
        "solution(5, 3)  # 결과: 8"
      ],
      "metadata": {
        "colab": {
          "base_uri": "https://localhost:8080/"
        },
        "id": "6nju8cTLiPXG",
        "outputId": "813c75fd-1c13-49c0-c4ee-e378bc548cbf"
      },
      "execution_count": null,
      "outputs": [
        {
          "output_type": "execute_result",
          "data": {
            "text/plain": [
              "8"
            ]
          },
          "metadata": {},
          "execution_count": 116
        }
      ]
    },
    {
      "cell_type": "code",
      "source": [
        "# 문제2: 두 수를 곱하는 함수를 만드세요.\n",
        "def solution(a, b):\n",
        "    return a * b\n",
        "\n",
        "solution(4, 7)  # 결과: 28"
      ],
      "metadata": {
        "colab": {
          "base_uri": "https://localhost:8080/"
        },
        "id": "uM0yuEy3iRNo",
        "outputId": "f3aa29a5-d9f0-41b8-fa9b-aeb29c537519"
      },
      "execution_count": null,
      "outputs": [
        {
          "output_type": "execute_result",
          "data": {
            "text/plain": [
              "28"
            ]
          },
          "metadata": {},
          "execution_count": 117
        }
      ]
    },
    {
      "cell_type": "code",
      "source": [
        "# 문제3: 리스트의 모든 숫자를 더하는 함수를 만드세요.\n",
        "def solution(numbers):\n",
        "    return sum(numbers)\n",
        "\n",
        "solution([1, 2, 3, 4, 5])  # 결과: 15"
      ],
      "metadata": {
        "colab": {
          "base_uri": "https://localhost:8080/"
        },
        "id": "PZb06oVVic9b",
        "outputId": "0b57dae2-dfb7-4494-cb37-c8879c5cbee4"
      },
      "execution_count": null,
      "outputs": [
        {
          "output_type": "execute_result",
          "data": {
            "text/plain": [
              "15"
            ]
          },
          "metadata": {},
          "execution_count": 119
        }
      ]
    },
    {
      "cell_type": "code",
      "source": [
        "# 문제3번 다른풀이 (for문 활용)\n",
        "def solution(numbers):\n",
        "    result = 0\n",
        "    for i in numbers:\n",
        "        result += i\n",
        "    return result\n",
        "\n",
        "solution([1, 2, 3, 4, 5])  # 결과: 15"
      ],
      "metadata": {
        "colab": {
          "base_uri": "https://localhost:8080/"
        },
        "id": "AvRwStrfPGU1",
        "outputId": "79f27af3-040c-42f8-d24d-a326253a6f59"
      },
      "execution_count": null,
      "outputs": [
        {
          "output_type": "execute_result",
          "data": {
            "text/plain": [
              "15"
            ]
          },
          "metadata": {},
          "execution_count": 2
        }
      ]
    },
    {
      "cell_type": "code",
      "source": [
        "# 문제4: 리스트의 평균값을 계산하는 함수를 만드세요.\n",
        "def solution(numbers):\n",
        "    return sum(numbers) / len(numbers)\n",
        "\n",
        "solution([10, 20, 30, 40])  # 결과: 25.0"
      ],
      "metadata": {
        "colab": {
          "base_uri": "https://localhost:8080/"
        },
        "id": "wyfbm1KpieMp",
        "outputId": "d2c9532a-1959-41c7-abed-01312c09fac5"
      },
      "execution_count": null,
      "outputs": [
        {
          "output_type": "execute_result",
          "data": {
            "text/plain": [
              "25.0"
            ]
          },
          "metadata": {},
          "execution_count": 4
        }
      ]
    },
    {
      "cell_type": "code",
      "source": [
        "# 문제4 다른풀이 (for문 활용)\n",
        "def solution(numbers):\n",
        "    result = 0\n",
        "    for i in numbers:\n",
        "        result += i\n",
        "    return result / len(numbers)\n",
        "\n",
        "solution([10, 20, 30, 40])  # 결과: 25.0"
      ],
      "metadata": {
        "colab": {
          "base_uri": "https://localhost:8080/"
        },
        "id": "RKRUkfdPPtv0",
        "outputId": "5753bab7-117e-4dbe-8f55-b72e6ee23192"
      },
      "execution_count": null,
      "outputs": [
        {
          "output_type": "execute_result",
          "data": {
            "text/plain": [
              "25.0"
            ]
          },
          "metadata": {},
          "execution_count": 3
        }
      ]
    },
    {
      "cell_type": "code",
      "source": [
        "# 문제5: 문자열의 길이를 반환하는 함수를 만드세요.\n",
        "def solution(text):\n",
        "    return len(text)\n",
        "\n",
        "solution(\"파이썬\")  # 결과: 3"
      ],
      "metadata": {
        "colab": {
          "base_uri": "https://localhost:8080/"
        },
        "id": "rZwtVRElifgp",
        "outputId": "d1b11378-a3bf-42e6-d8c0-6ed1181ef55a"
      },
      "execution_count": null,
      "outputs": [
        {
          "output_type": "execute_result",
          "data": {
            "text/plain": [
              "3"
            ]
          },
          "metadata": {},
          "execution_count": 121
        }
      ]
    },
    {
      "cell_type": "code",
      "source": [
        "# 문제5 다른풀이 (for문 활용)\n",
        "def solution(text):\n",
        "    count = 0\n",
        "    for _ in text: # i가 안쓰이면 _(언더바)처리 하는게 관습적이다.\n",
        "        count += 1\n",
        "    return count\n",
        "\n",
        "solution(\"파이썬\")  # 결과: 3"
      ],
      "metadata": {
        "colab": {
          "base_uri": "https://localhost:8080/"
        },
        "id": "RkAT0fMGQuYE",
        "outputId": "133f13c8-a002-4c16-a732-d2c2f45766e6"
      },
      "execution_count": null,
      "outputs": [
        {
          "output_type": "execute_result",
          "data": {
            "text/plain": [
              "3"
            ]
          },
          "metadata": {},
          "execution_count": 5
        }
      ]
    },
    {
      "cell_type": "code",
      "source": [
        "# 문제6: 리스트에서 가장 큰 수를 찾는 함수를 만드세요.\n",
        "def solution(numbers):\n",
        "    return max(numbers)\n",
        "\n",
        "solution([7, 12, 3, 8, 4])  # 결과: 12"
      ],
      "metadata": {
        "colab": {
          "base_uri": "https://localhost:8080/"
        },
        "id": "KR3GYklAigwv",
        "outputId": "fa7097cf-72be-4f17-9462-358c49ae175f"
      },
      "execution_count": null,
      "outputs": [
        {
          "output_type": "execute_result",
          "data": {
            "text/plain": [
              "12"
            ]
          },
          "metadata": {},
          "execution_count": 123
        }
      ]
    },
    {
      "cell_type": "code",
      "source": [
        "# 문제6 다른풀이 ()\n",
        "# sorted나 max와 같은 것을 쓰지 않고 반복문 만으로 풀어보기\n",
        "# 단, 실제 문제를 이렇게 풀진 않는다.\n",
        "# 원리에 다가간다는 의의가 있다.\n",
        "# 최댓값 => 최솟값을 먼저 저장\n",
        "# 최솟값 => 최댓값을 먼저 저장\n",
        "def solution(numbers):\n",
        "    max_value = float('-inf') # 최솟값\n",
        "    for i in numbers:\n",
        "        if i > max_value:\n",
        "            max_value = i\n",
        "    return max_value\n",
        "\n",
        "\n",
        "solution([7, 12, 3, 8, 4])  # 결과: 12"
      ],
      "metadata": {
        "colab": {
          "base_uri": "https://localhost:8080/"
        },
        "id": "a_GyyPu6RN-R",
        "outputId": "ef729fe8-a366-4c5c-f5f6-5f94ed935b8c"
      },
      "execution_count": null,
      "outputs": [
        {
          "output_type": "execute_result",
          "data": {
            "text/plain": [
              "12"
            ]
          },
          "metadata": {},
          "execution_count": 8
        }
      ]
    },
    {
      "cell_type": "code",
      "source": [
        "float('inf') > 10 # True\n",
        "float('-inf') > 10 # False"
      ],
      "metadata": {
        "colab": {
          "base_uri": "https://localhost:8080/"
        },
        "id": "NqL_iBfsSAA8",
        "outputId": "3350183f-e917-445e-8244-be9542e104b1"
      },
      "execution_count": null,
      "outputs": [
        {
          "output_type": "execute_result",
          "data": {
            "text/plain": [
              "False"
            ]
          },
          "metadata": {},
          "execution_count": 7
        }
      ]
    },
    {
      "cell_type": "code",
      "source": [
        "# 문제7: 리스트에서 가장 작은 수를 찾는 함수를 만드세요.\n",
        "def solution(numbers):\n",
        "    return min(numbers)\n",
        "\n",
        "solution([7, 12, 3, 8, 4])  # 결과: 3"
      ],
      "metadata": {
        "colab": {
          "base_uri": "https://localhost:8080/"
        },
        "id": "FdIi1zvEih6H",
        "outputId": "4a429317-cc34-433c-a6ff-b6d455b5f024"
      },
      "execution_count": null,
      "outputs": [
        {
          "output_type": "execute_result",
          "data": {
            "text/plain": [
              "3"
            ]
          },
          "metadata": {},
          "execution_count": 124
        }
      ]
    },
    {
      "cell_type": "code",
      "source": [
        "# 문제7 다른풀이\n",
        "def solution(numbers):\n",
        "    min_value = float('inf')\n",
        "    for i in numbers:\n",
        "        if i < min_value:\n",
        "            min_value = i\n",
        "    return min_value\n",
        "\n",
        "solution([7, 12, 3, 8, 4])  # 결과: 3"
      ],
      "metadata": {
        "colab": {
          "base_uri": "https://localhost:8080/"
        },
        "id": "2987bIGwSw0L",
        "outputId": "35c7b595-e27c-4e99-d688-e72be7516997"
      },
      "execution_count": null,
      "outputs": [
        {
          "output_type": "execute_result",
          "data": {
            "text/plain": [
              "3"
            ]
          },
          "metadata": {},
          "execution_count": 11
        }
      ]
    },
    {
      "cell_type": "code",
      "source": [
        "# 문제8: 문자열을 n번 반복하는 함수를 만드세요.\n",
        "def solution(text, n):\n",
        "    return text * n\n",
        "\n",
        "solution(\"안녕\", 3)  # 결과: \"안녕안녕안녕\""
      ],
      "metadata": {
        "colab": {
          "base_uri": "https://localhost:8080/",
          "height": 35
        },
        "id": "r68n-99EijPU",
        "outputId": "71f69663-9df6-40f3-8ebc-90af21733906"
      },
      "execution_count": null,
      "outputs": [
        {
          "output_type": "execute_result",
          "data": {
            "text/plain": [
              "'안녕안녕안녕'"
            ],
            "application/vnd.google.colaboratory.intrinsic+json": {
              "type": "string"
            }
          },
          "metadata": {},
          "execution_count": 125
        }
      ]
    },
    {
      "cell_type": "code",
      "source": [
        "# 문제9: 주어진 숫자가 짝수인지 확인하는 함수를 만드세요. (짝수면 True, 홀수면 False 반환)\n",
        "def solution(number):\n",
        "    if number % 2 == 0:\n",
        "        return True\n",
        "    else:\n",
        "        return False\n",
        "\n",
        "solution(6)  # 결과: True\n",
        "solution(9)  # 결과: False"
      ],
      "metadata": {
        "colab": {
          "base_uri": "https://localhost:8080/"
        },
        "id": "7MH6oliYikTE",
        "outputId": "28811975-3709-4ee8-c68a-08a478b85129"
      },
      "execution_count": null,
      "outputs": [
        {
          "output_type": "execute_result",
          "data": {
            "text/plain": [
              "False"
            ]
          },
          "metadata": {},
          "execution_count": 129
        }
      ]
    },
    {
      "cell_type": "markdown",
      "source": [
        "# 변수"
      ],
      "metadata": {
        "id": "5iKSItxdRyF0"
      }
    },
    {
      "cell_type": "code",
      "source": [
        "a = 10\n",
        "b = a\n",
        "c = b\n",
        "\n",
        "c\n",
        "\n",
        "# 화살표는 어떻게 그려지는 것일까요? 답은 2번입니다!\n",
        "# 1번 c -> b -> a -> 10\n",
        "# 2번:\n",
        "# a -> 10\n",
        "# b -> 10\n",
        "# c -> 10"
      ],
      "metadata": {
        "colab": {
          "base_uri": "https://localhost:8080/"
        },
        "id": "2BGbjXvrRzoR",
        "outputId": "f99cb259-e08d-4063-869c-7c1004006ad2"
      },
      "execution_count": null,
      "outputs": [
        {
          "output_type": "execute_result",
          "data": {
            "text/plain": [
              "10"
            ]
          },
          "metadata": {},
          "execution_count": 14
        }
      ]
    },
    {
      "cell_type": "code",
      "source": [
        "# 증명\n",
        "a = 10\n",
        "b = a\n",
        "c = b\n",
        "\n",
        "c"
      ],
      "metadata": {
        "colab": {
          "base_uri": "https://localhost:8080/"
        },
        "id": "g8QWxtYFSdMn",
        "outputId": "878653c0-e0dd-47d1-8293-2a5f98e50cef"
      },
      "execution_count": null,
      "outputs": [
        {
          "output_type": "execute_result",
          "data": {
            "text/plain": [
              "10"
            ]
          },
          "metadata": {},
          "execution_count": 15
        }
      ]
    },
    {
      "cell_type": "code",
      "source": [
        "b = 100\n",
        "c"
      ],
      "metadata": {
        "colab": {
          "base_uri": "https://localhost:8080/"
        },
        "id": "pRG66gHnSgu9",
        "outputId": "1c66c27d-1626-4c10-de79-45d813ead2c3"
      },
      "execution_count": null,
      "outputs": [
        {
          "output_type": "execute_result",
          "data": {
            "text/plain": [
              "10"
            ]
          },
          "metadata": {},
          "execution_count": 16
        }
      ]
    },
    {
      "cell_type": "code",
      "source": [
        "a = [1, 2, 3]\n",
        "b = a\n",
        "id(a), id(b)\n",
        "\n",
        "a.append(10)\n",
        "b"
      ],
      "metadata": {
        "colab": {
          "base_uri": "https://localhost:8080/"
        },
        "id": "ScwYDcwOkJBg",
        "outputId": "6804e9c5-ed67-44cf-9140-95d41059ddde"
      },
      "execution_count": null,
      "outputs": [
        {
          "output_type": "execute_result",
          "data": {
            "text/plain": [
              "[1, 2, 3, 10]"
            ]
          },
          "metadata": {},
          "execution_count": 48
        }
      ]
    },
    {
      "cell_type": "markdown",
      "source": [
        "# type, dir, id\n",
        "\n",
        "- type은 앞으로도 자주 사용되니다. 왜냐하면 우리가 앞으로 사용할 데이터 자료형은 기본 자료형이 아닌 경우가 많기 때문이다.\n",
        "\n",
        "- dir은 해당 자료형에 있는 속성들을 파악하기 좋다.\n",
        "- id는 해당 자료형이 무엇을 가리키고 있는지 확인하기 좋다."
      ],
      "metadata": {
        "id": "j6lYmfDBT-bO"
      }
    },
    {
      "cell_type": "code",
      "source": [
        "l = [10, 20, 30, 40]\n",
        "print(type(l)) # print와 print를 안하는 것은 왜 차이가 있죠?"
      ],
      "metadata": {
        "colab": {
          "base_uri": "https://localhost:8080/"
        },
        "id": "3cI2JhMWUPHH",
        "outputId": "f77f79d4-f552-4fb7-db04-6b581ccba94c"
      },
      "execution_count": null,
      "outputs": [
        {
          "output_type": "stream",
          "name": "stdout",
          "text": [
            "<class 'list'>\n"
          ]
        }
      ]
    },
    {
      "cell_type": "code",
      "source": [
        "print(type(hello))"
      ],
      "metadata": {
        "colab": {
          "base_uri": "https://localhost:8080/"
        },
        "id": "-0jbxqdmUhEQ",
        "outputId": "79cc3e7a-4fde-47f4-ee36-e0b677539205"
      },
      "execution_count": null,
      "outputs": [
        {
          "output_type": "stream",
          "name": "stdout",
          "text": [
            "<class 'function'>\n"
          ]
        }
      ]
    },
    {
      "cell_type": "code",
      "source": [
        "a = 10\n",
        "print(type(a))"
      ],
      "metadata": {
        "colab": {
          "base_uri": "https://localhost:8080/"
        },
        "id": "P9wqOUdqUvne",
        "outputId": "13f1bf35-a6d5-4a11-ef53-d99f10df818b"
      },
      "execution_count": null,
      "outputs": [
        {
          "output_type": "stream",
          "name": "stdout",
          "text": [
            "<class 'int'>\n"
          ]
        }
      ]
    },
    {
      "cell_type": "code",
      "source": [
        "print(a)"
      ],
      "metadata": {
        "colab": {
          "base_uri": "https://localhost:8080/"
        },
        "id": "uxEjnXCtU-NM",
        "outputId": "9b12b121-2396-49d3-9b72-26b7d4b8893e"
      },
      "execution_count": null,
      "outputs": [
        {
          "output_type": "stream",
          "name": "stdout",
          "text": [
            "10\n"
          ]
        }
      ]
    },
    {
      "cell_type": "code",
      "source": [],
      "metadata": {
        "id": "LDOu6aczOyTg"
      },
      "execution_count": null,
      "outputs": []
    },
    {
      "cell_type": "code",
      "source": [
        "# 타입 확인이 이만큼 중요하다는 것을 보여드리기 위한 예제 개\n",
        "# 예) 1) 눈으로 10으로 보인다고 해서 int형이라고 생각하지 마세요.\n",
        "import numpy as np\n",
        "\n",
        "data = np.array(10)\n",
        "print(data)\n",
        "print(type(data)) # 눈으로 볼 때는 정수형이지만 type을 보면 아님을 알 수 있다."
      ],
      "metadata": {
        "colab": {
          "base_uri": "https://localhost:8080/"
        },
        "id": "zHv0VLmrVH3f",
        "outputId": "9ca6ea7c-9a46-4832-a358-bbe405a5fabb"
      },
      "execution_count": null,
      "outputs": [
        {
          "output_type": "stream",
          "name": "stdout",
          "text": [
            "1\n",
            "<class 'numpy.ndarray'>\n"
          ]
        }
      ]
    },
    {
      "cell_type": "code",
      "source": [
        "# 예 2) 타입을 확인해야 하는 이유는 아래와 같아요. 기본 연산이 다르게 때문이죠.\n",
        "print([1, 2, 3] + [4, 5, 6])\n",
        "print(np.array([1, 2, 3]) + np.array([4, 5, 6]))"
      ],
      "metadata": {
        "colab": {
          "base_uri": "https://localhost:8080/"
        },
        "id": "WgK0ysvvVpwS",
        "outputId": "23cf3992-4244-4165-807f-bbc363199c68"
      },
      "execution_count": null,
      "outputs": [
        {
          "output_type": "stream",
          "name": "stdout",
          "text": [
            "[1, 2, 3, 4, 5, 6]\n",
            "[5 7 9]\n"
          ]
        }
      ]
    },
    {
      "cell_type": "code",
      "source": [
        "l = [1, 2, 3, 4]\n",
        "dir(l) # 메서드 + 멤버\n",
        "\n",
        "# 이게 왜 중요할까? 코딩하다가 메서드 까먹을까봐?"
      ],
      "metadata": {
        "colab": {
          "base_uri": "https://localhost:8080/"
        },
        "id": "wIitPPk9Wfpu",
        "outputId": "dabdd3cb-22de-45dc-f8b0-457dd10d1776"
      },
      "execution_count": null,
      "outputs": [
        {
          "output_type": "execute_result",
          "data": {
            "text/plain": [
              "['__add__',\n",
              " '__class__',\n",
              " '__class_getitem__',\n",
              " '__contains__',\n",
              " '__delattr__',\n",
              " '__delitem__',\n",
              " '__dir__',\n",
              " '__doc__',\n",
              " '__eq__',\n",
              " '__format__',\n",
              " '__ge__',\n",
              " '__getattribute__',\n",
              " '__getitem__',\n",
              " '__getstate__',\n",
              " '__gt__',\n",
              " '__hash__',\n",
              " '__iadd__',\n",
              " '__imul__',\n",
              " '__init__',\n",
              " '__init_subclass__',\n",
              " '__iter__',\n",
              " '__le__',\n",
              " '__len__',\n",
              " '__lt__',\n",
              " '__mul__',\n",
              " '__ne__',\n",
              " '__new__',\n",
              " '__reduce__',\n",
              " '__reduce_ex__',\n",
              " '__repr__',\n",
              " '__reversed__',\n",
              " '__rmul__',\n",
              " '__setattr__',\n",
              " '__setitem__',\n",
              " '__sizeof__',\n",
              " '__str__',\n",
              " '__subclasshook__',\n",
              " 'append',\n",
              " 'clear',\n",
              " 'copy',\n",
              " 'count',\n",
              " 'extend',\n",
              " 'index',\n",
              " 'insert',\n",
              " 'pop',\n",
              " 'remove',\n",
              " 'reverse',\n",
              " 'sort']"
            ]
          },
          "metadata": {},
          "execution_count": 30
        }
      ]
    },
    {
      "cell_type": "code",
      "source": [
        "# 이 빌트인 펑션이 왜 중요하냐면, 앞으로 우리가 만날 자료형들은\n",
        "# 새롭게 만나는 자료형들이다.\n",
        "# 예를 들어, 아래 타입을 한 번 살펴보도록\n",
        "\n",
        "import numpy as np\n",
        "\n",
        "data = np.array([[10, 20, 30], [ 40, 50, 60]])\n",
        "dir(data)\n",
        "# 아래 목록만 봐도 어떤 자료형인지 알 수 있고\n",
        "# 원하는 메서드를 바로 발견할 수도 있다.\n",
        "\n",
        "print(data.T)"
      ],
      "metadata": {
        "colab": {
          "base_uri": "https://localhost:8080/"
        },
        "id": "Bm23hIwCYJ01",
        "outputId": "8f6cad54-bdec-4e60-d9ea-0a2946588516"
      },
      "execution_count": null,
      "outputs": [
        {
          "output_type": "stream",
          "name": "stdout",
          "text": [
            "[[10 40]\n",
            " [20 50]\n",
            " [30 60]]\n"
          ]
        }
      ]
    },
    {
      "cell_type": "code",
      "source": [
        "# id\n",
        "\n",
        "a = 10\n",
        "b = a\n",
        "c = b\n",
        "\n",
        "# 화살표는 어떻게 그렸죠?\n",
        "id(a), id(b), id(c)\n",
        "\n",
        "# id는 해당 변수가 가리키고 있는 최종 목적지를 가리킨다."
      ],
      "metadata": {
        "colab": {
          "base_uri": "https://localhost:8080/"
        },
        "id": "rjXMZwWzdMh4",
        "outputId": "e920634c-44b6-4d8b-a537-72eb00d6ccc8"
      },
      "execution_count": null,
      "outputs": [
        {
          "output_type": "execute_result",
          "data": {
            "text/plain": [
              "(10751144, 10751144, 10751144)"
            ]
          },
          "metadata": {},
          "execution_count": 35
        }
      ]
    },
    {
      "cell_type": "code",
      "source": [
        "a = 10\n",
        "b = 10\n",
        "\n",
        "id(a), id(b) # 다른 언어에서는 이 값이 다르다! 그러면 파이썬에서는 같은가? 아니다.\n",
        "# 아니 같게 나왔는데..?\n",
        "# 파이썬에서 메모리 효율을 높이기 위해서 자주 사용되는 숫자들을 같은 값을 가르키게 한다."
      ],
      "metadata": {
        "colab": {
          "base_uri": "https://localhost:8080/"
        },
        "id": "cqwpKf76dypD",
        "outputId": "dc6c18ea-0cc1-4bad-ec60-5a8afed427c7"
      },
      "execution_count": null,
      "outputs": [
        {
          "output_type": "execute_result",
          "data": {
            "text/plain": [
              "(10751144, 10751144)"
            ]
          },
          "metadata": {},
          "execution_count": 36
        }
      ]
    },
    {
      "cell_type": "code",
      "source": [
        "a = 10000\n",
        "b = 10000\n",
        "\n",
        "id(a), id(b)\n",
        "# 다르게 나왔다?"
      ],
      "metadata": {
        "colab": {
          "base_uri": "https://localhost:8080/"
        },
        "id": "gRM5_6o7eaBG",
        "outputId": "7b8671f6-70e7-4a1d-abb4-87ac19881b35"
      },
      "execution_count": null,
      "outputs": [
        {
          "output_type": "execute_result",
          "data": {
            "text/plain": [
              "(140387348358352, 140387348350544)"
            ]
          },
          "metadata": {},
          "execution_count": 37
        }
      ]
    },
    {
      "cell_type": "markdown",
      "source": [
        "# print와 print를 안하는 것에 차이\n",
        "\n",
        "- print     -> 해당 인스턴스에 __str__ 함수 호출\n",
        "- 그냥 출력 -> 해당 인스턴스에 __repr__ 함수 호출\n",
        "\n"
      ],
      "metadata": {
        "id": "yy6mAp3gcrsJ"
      }
    },
    {
      "cell_type": "code",
      "source": [
        "# 아직 class를 안배웠지만, 이 차이를 설명하기 위해 잠시 이 코드를 사용하겠습니다.\n",
        "\n",
        "class CustomInt:\n",
        "    def __repr__(self):\n",
        "        return 'hello'\n",
        "\n",
        "    def __str__(self):\n",
        "        return 'hello world'\n",
        "\n",
        "    def __len__(self):\n",
        "        return 100"
      ],
      "metadata": {
        "id": "OiOlrROze62k"
      },
      "execution_count": null,
      "outputs": []
    },
    {
      "cell_type": "code",
      "source": [
        "a = CustomInt()\n",
        "\n",
        "a"
      ],
      "metadata": {
        "colab": {
          "base_uri": "https://localhost:8080/"
        },
        "id": "r9qTcV-OfZZl",
        "outputId": "c0848b19-dedb-4a66-b42a-98d256c914de"
      },
      "execution_count": null,
      "outputs": [
        {
          "output_type": "execute_result",
          "data": {
            "text/plain": [
              "hello"
            ]
          },
          "metadata": {},
          "execution_count": 39
        }
      ]
    },
    {
      "cell_type": "code",
      "source": [
        "print(a)"
      ],
      "metadata": {
        "colab": {
          "base_uri": "https://localhost:8080/"
        },
        "id": "BiN7Qn3efhK7",
        "outputId": "fc21437f-ae22-444d-ccd6-8eb791529402"
      },
      "execution_count": null,
      "outputs": [
        {
          "output_type": "stream",
          "name": "stdout",
          "text": [
            "hello world\n"
          ]
        }
      ]
    },
    {
      "cell_type": "code",
      "source": [
        "a = 10\n",
        "print(type(a))\n",
        "print(a)"
      ],
      "metadata": {
        "colab": {
          "base_uri": "https://localhost:8080/"
        },
        "id": "I7ZBdkqhf2sD",
        "outputId": "1a1caa50-b986-454f-ed70-12b00ee5f312"
      },
      "execution_count": null,
      "outputs": [
        {
          "output_type": "stream",
          "name": "stdout",
          "text": [
            "<class 'int'>\n",
            "10\n"
          ]
        }
      ]
    },
    {
      "cell_type": "code",
      "source": [
        "a"
      ],
      "metadata": {
        "colab": {
          "base_uri": "https://localhost:8080/"
        },
        "id": "fjpjoZQUg0nF",
        "outputId": "3ed51b58-0d3d-42c6-e85a-80cd20fe920e"
      },
      "execution_count": null,
      "outputs": [
        {
          "output_type": "execute_result",
          "data": {
            "text/plain": [
              "10"
            ]
          },
          "metadata": {},
          "execution_count": 43
        }
      ]
    },
    {
      "cell_type": "code",
      "source": [
        "# 아직 class를 안배웠지만, 이 차이를 설명하기 위해 잠시 이 코드를 사용하겠습니다.\n",
        "# repr이 있으면 str이 없어도 repr이 대체를 해줍니다!\n",
        "class CustomInt:\n",
        "    def __repr__(self):\n",
        "        return 'hello'\n",
        "\n",
        "test = CustomInt()\n",
        "# test\n",
        "print(test)"
      ],
      "metadata": {
        "colab": {
          "base_uri": "https://localhost:8080/"
        },
        "id": "vbpUFSong1fL",
        "outputId": "7f87579c-62d5-4e03-d8a7-309fea2989d2"
      },
      "execution_count": null,
      "outputs": [
        {
          "output_type": "stream",
          "name": "stdout",
          "text": [
            "hello\n"
          ]
        }
      ]
    },
    {
      "cell_type": "code",
      "source": [
        "# print     -> 해당 인스턴스에 __str__ 호출\n",
        "# 그냥 출력 -> 해당 인스턴스에 __repr__ 호출"
      ],
      "metadata": {
        "id": "o3BUXKoOhO93"
      },
      "execution_count": null,
      "outputs": []
    },
    {
      "cell_type": "code",
      "source": [
        "a = 10\n",
        "dir(a)\n",
        "# a.__repr__() # 그냥 출력! 했을 때 실제 실행되는 함수\n",
        "# a.__str__() print()로 출력! 했을 때 실제 실행되는 함수"
      ],
      "metadata": {
        "colab": {
          "base_uri": "https://localhost:8080/",
          "height": 35
        },
        "id": "hM-xZDvRiI1L",
        "outputId": "3f8a82a1-24c2-466e-a483-7c8dd943bb40"
      },
      "execution_count": null,
      "outputs": [
        {
          "output_type": "execute_result",
          "data": {
            "text/plain": [
              "'10'"
            ],
            "application/vnd.google.colaboratory.intrinsic+json": {
              "type": "string"
            }
          },
          "metadata": {},
          "execution_count": 46
        }
      ]
    },
    {
      "cell_type": "markdown",
      "source": [
        "# python built-in functions\n",
        "\n",
        "* 링크: https://docs.python.org/3/library/functions.html"
      ],
      "metadata": {
        "id": "fUyeFHprjv7U"
      }
    },
    {
      "cell_type": "code",
      "source": [
        "# 자주 사용하는 functions\n",
        "# 모르겠으면 예제를 손으로 직접 써보라\n",
        "abs\n",
        "all\n",
        "any\n",
        "bin\n",
        "enumerate\n",
        "len\n",
        "format\n",
        "input\n",
        "range\n",
        "\n",
        "sorted\n",
        "reversed\n",
        "\n",
        "filter\n",
        "map\n",
        "zip\n",
        "\n",
        "# isinstance # class 파트에서 해드리겠습니다!\n",
        "# issubclass\n",
        "\n",
        "iter\n",
        "next\n",
        "\n",
        "locals\n",
        "globals\n",
        "\n",
        "max\n",
        "min\n",
        "sum"
      ],
      "metadata": {
        "id": "yHxzo_sXjvor"
      },
      "execution_count": null,
      "outputs": []
    },
    {
      "cell_type": "markdown",
      "source": [
        "### abs, all, any, bin"
      ],
      "metadata": {
        "id": "iG7ZMMDywlT4"
      }
    },
    {
      "cell_type": "code",
      "source": [
        "abs(-10) # 절대값\n",
        "all([True, True, False]) # 안에 있는 값이 다 True 여야 True!\n",
        "any([True, True, False]) # 하나라도 True라면 True!\n",
        "bin(10) # 2진수로 바꿔준다. 알고리즘 문제에서 아주 간혹 출제! 실무에서는 거의 쓸 일이 없다.\n",
        "# oct()\n",
        "# hex()\n",
        "\n",
        "# 2진수 => 10진수\n",
        "int('1010',2)"
      ],
      "metadata": {
        "id": "ZmEh8-nVm85b",
        "colab": {
          "base_uri": "https://localhost:8080/"
        },
        "outputId": "da609fa1-7643-4139-cb91-17abd1220e80"
      },
      "execution_count": null,
      "outputs": [
        {
          "output_type": "execute_result",
          "data": {
            "text/plain": [
              "10"
            ]
          },
          "metadata": {},
          "execution_count": 13
        }
      ]
    },
    {
      "cell_type": "code",
      "source": [
        "# 자료형을 만드는 built-in functions\n",
        "# int\n",
        "# str\n",
        "# complex\n",
        "# list\n",
        "# tuple\n",
        "# dict\n",
        "# set"
      ],
      "metadata": {
        "id": "0elzJ7bCkxtI"
      },
      "execution_count": null,
      "outputs": []
    },
    {
      "cell_type": "code",
      "source": [
        "# 언패킹\n",
        "a, b = [10, 20]\n",
        "a, b, c, d, e = range(5)\n",
        "a, b = (10, 20)\n",
        "a, b ={\n",
        "    'a': 10,\n",
        "    'b': 20\n",
        "}\n"
      ],
      "metadata": {
        "colab": {
          "base_uri": "https://localhost:8080/",
          "height": 35
        },
        "id": "dXBxn6ZiYY8j",
        "outputId": "5dfa84b3-fbde-4df7-f810-7ce2ad84b6f1"
      },
      "execution_count": null,
      "outputs": [
        {
          "output_type": "execute_result",
          "data": {
            "text/plain": [
              "'a'"
            ],
            "application/vnd.google.colaboratory.intrinsic+json": {
              "type": "string"
            }
          },
          "metadata": {},
          "execution_count": 21
        }
      ]
    },
    {
      "cell_type": "markdown",
      "source": [
        "### enumerate"
      ],
      "metadata": {
        "id": "01MILGE4wv8U"
      }
    },
    {
      "cell_type": "code",
      "source": [
        "# enumerate\n",
        "# 순서가 있는 자료형(list, set, tuple, dictionary, string)을 입력으로 받았을 때,\n",
        "# 인덱스와 값을 포함하여 리턴\n",
        "# for문과 함께 자주 사용됨\n",
        "# 인덱스와 값을 동시에 접근하면서 루프를 돌리고 싶을 때 사용\n",
        "list(enumerate('hello'))\n",
        "list(enumerate('hello',100))\n",
        "\n",
        "for i in enumerate('hello'):\n",
        "    print(i)\n",
        "\n",
        "for index, value in enumerate('hello'):\n",
        "    print(index, value)\n",
        "\n",
        "for i, v in enumerate('hello'):\n",
        "    print(i)\n",
        "\n",
        "for i in range(len('hello')): # 이렇게 쓸 거면\n",
        "    print(i)\n",
        "\n",
        "for i, _ in enumerate('hello'): # 이렇게 쓰는 것을 권장\n",
        "    print(i)"
      ],
      "metadata": {
        "id": "E5djSZ_mmE7R",
        "colab": {
          "base_uri": "https://localhost:8080/"
        },
        "outputId": "206fb646-1ccc-493f-b520-04db13918125"
      },
      "execution_count": null,
      "outputs": [
        {
          "output_type": "stream",
          "name": "stdout",
          "text": [
            "(0, 'h')\n",
            "(1, 'e')\n",
            "(2, 'l')\n",
            "(3, 'l')\n",
            "(4, 'o')\n",
            "0 h\n",
            "1 e\n",
            "2 l\n",
            "3 l\n",
            "4 o\n",
            "0\n",
            "1\n",
            "2\n",
            "3\n",
            "4\n",
            "0\n",
            "1\n",
            "2\n",
            "3\n",
            "4\n",
            "0\n",
            "1\n",
            "2\n",
            "3\n",
            "4\n"
          ]
        }
      ]
    },
    {
      "cell_type": "markdown",
      "source": [
        "### len"
      ],
      "metadata": {
        "id": "FmYKYHnMw4ZP"
      }
    },
    {
      "cell_type": "code",
      "source": [
        "# len # 객체의 길이\n",
        "len([10, 20, 30])\n",
        "\n",
        "# format # 뒤에 정해진 양식대로 앞 값을 바꾸는 것\n",
        "format(10, 'b')\n",
        "format(100000000, ',') # 이코드 정말 많이 쓰인다!\n",
        "\n",
        "# input\n",
        "input('입력하세요!') # 주의할점: 숫자를 입력대호 문자로 입력받는다.\n",
        "\n",
        "# range\n",
        "# range(start, stop, step)\n",
        "# range는 리스트가 아니라 range타입 이다 (2.x에서는 리스트였다.)"
      ],
      "metadata": {
        "colab": {
          "base_uri": "https://localhost:8080/",
          "height": 54
        },
        "id": "RYz4ZxdiZfVW",
        "outputId": "bf5a1977-9173-481b-c96f-e731e08605a4"
      },
      "execution_count": null,
      "outputs": [
        {
          "name": "stdout",
          "output_type": "stream",
          "text": [
            "입력하세요!ㅂㅈㄷ\n"
          ]
        },
        {
          "output_type": "execute_result",
          "data": {
            "text/plain": [
              "'ㅂㅈㄷ'"
            ],
            "application/vnd.google.colaboratory.intrinsic+json": {
              "type": "string"
            }
          },
          "metadata": {},
          "execution_count": 29
        }
      ]
    },
    {
      "cell_type": "markdown",
      "source": [
        "### sorted (매우매우매우중요)"
      ],
      "metadata": {
        "id": "ieT6rqmurmis"
      }
    },
    {
      "cell_type": "code",
      "source": [
        "# sorted (외우는 것을 권한다)\n",
        "# 별표 5개\n",
        "\n",
        "s = [10, 20, 5, 4, 3, 8, 19, 3, 2]\n",
        "sorted(s) # 오름차순\n",
        "sorted(s, reverse=True) # 내림차순\n",
        "\n",
        "# 이게 왜 중요할까? 이런 정렬을 할 때가 많다.\n",
        "# 실무에세도 많고, 알고리즘 문제에서도 많다"
      ],
      "metadata": {
        "colab": {
          "base_uri": "https://localhost:8080/"
        },
        "id": "WINKcJI9asvp",
        "outputId": "9359a264-9d55-41ff-edd9-2069b252e98b"
      },
      "execution_count": null,
      "outputs": [
        {
          "output_type": "execute_result",
          "data": {
            "text/plain": [
              "[20, 19, 10, 8, 5, 4, 3, 3, 2]"
            ]
          },
          "metadata": {},
          "execution_count": 31
        }
      ]
    },
    {
      "cell_type": "code",
      "source": [
        "# 학년, 반, 번, 이름, 국어, 영어, 수학\n",
        "data = [\n",
        "    [1, 1, 5, '홍길동', 78, 54, 39],          # 3\n",
        "    [1, 1, 2, '김철수', 92, 88, 75],          # 3\n",
        "    [1, 2, 7, '이', 87, 91, 82],              # 1\n",
        "    [1, 2, 3, '박민수', 65, 72, 84],          # 3\n",
        "    [1, 1, 8, '정수진', 91, 85, 93],          # 3\n",
        "    [1, 3, 1, '강', 76, 79, 88],              # 1\n",
        "    [1, 2, 4, '윤서연미래별하', 89, 94, 90],  # 7\n",
        "    [1, 3, 6, '장현우', 82, 67, 71],          # 3\n",
        "    [1, 1, 10, '조', 95, 89, 97],             # 1\n",
        "    [1, 3, 9, '최준호빛나라', 73, 80, 76]     # 6\n",
        "]\n",
        "\n",
        "# 문제 1: 이름의 글자수 대로 정렬해주세요.\n",
        "def f(x):\n",
        "    return len(x[3])\n",
        "\n",
        "sorted(data, key=f)\n",
        "# key를 기준으로 삼아서 데이터를 정렬 (f는 함수)\n",
        "# key = (    )괄호에 들어가는 건 정렬 기준이 되는 함수이다."
      ],
      "metadata": {
        "colab": {
          "base_uri": "https://localhost:8080/"
        },
        "id": "g7gk4ZdSbahN",
        "outputId": "923f12be-f9b9-42f3-9ea8-dd9e37ec8cb9"
      },
      "execution_count": null,
      "outputs": [
        {
          "output_type": "execute_result",
          "data": {
            "text/plain": [
              "[[1, 2, 7, '이', 87, 91, 82],\n",
              " [1, 3, 1, '강', 76, 79, 88],\n",
              " [1, 1, 10, '조', 95, 89, 97],\n",
              " [1, 1, 5, '홍길동', 78, 54, 39],\n",
              " [1, 1, 2, '김철수', 92, 88, 75],\n",
              " [1, 2, 3, '박민수', 65, 72, 84],\n",
              " [1, 1, 8, '정수진', 91, 85, 93],\n",
              " [1, 3, 6, '장현우', 82, 67, 71],\n",
              " [1, 3, 9, '최준호빛나라', 73, 80, 76],\n",
              " [1, 2, 4, '윤서연미래별하', 89, 94, 90]]"
            ]
          },
          "metadata": {},
          "execution_count": 32
        }
      ]
    },
    {
      "cell_type": "code",
      "source": [
        "# 학년, 반, 번, 이름, 국어, 영어, 수학\n",
        "data = [\n",
        "    [1, 1, 5, '홍길동', 78, 54, 39],          # 3\n",
        "    [1, 1, 2, '김철수', 92, 88, 75],          # 3\n",
        "    [1, 2, 7, '이', 87, 91, 82],              # 1\n",
        "    [1, 2, 3, '박민수', 65, 72, 84],          # 3\n",
        "    [1, 1, 8, '정수진', 91, 85, 93],          # 3\n",
        "    [1, 3, 1, '강', 76, 79, 88],              # 1\n",
        "    [1, 2, 4, '윤서연미래별하', 89, 94, 90],  # 7\n",
        "    [1, 3, 6, '장현우', 82, 67, 71],          # 3\n",
        "    [1, 1, 10, '조', 95, 89, 97],             # 1\n",
        "    [1, 3, 9, '최준호빛나라', 73, 80, 76]     # 6\n",
        "]\n",
        "\n",
        "# 문제 2: 평균대로 정렬해주세요.\n",
        "# 코딩에선 굳이 나누기 할 필요가 없다!\n",
        "def f(x):\n",
        "     return (x[4]+x[5]+x[6]) / 3\n",
        "# sum(x[4:]) 현실적인 코드\n",
        "sorted(data, key=f, reverse=True)"
      ],
      "metadata": {
        "colab": {
          "base_uri": "https://localhost:8080/"
        },
        "id": "MyV1vIQIiIWF",
        "outputId": "631b071b-74a3-41ef-ab9f-915f2fd3e92f"
      },
      "execution_count": null,
      "outputs": [
        {
          "output_type": "execute_result",
          "data": {
            "text/plain": [
              "[[1, 1, 10, '조', 95, 89, 97],\n",
              " [1, 2, 4, '윤서연미래별하', 89, 94, 90],\n",
              " [1, 1, 8, '정수진', 91, 85, 93],\n",
              " [1, 2, 7, '이', 87, 91, 82],\n",
              " [1, 1, 2, '김철수', 92, 88, 75],\n",
              " [1, 3, 1, '강', 76, 79, 88],\n",
              " [1, 3, 9, '최준호빛나라', 73, 80, 76],\n",
              " [1, 2, 3, '박민수', 65, 72, 84],\n",
              " [1, 3, 6, '장현우', 82, 67, 71],\n",
              " [1, 1, 5, '홍길동', 78, 54, 39]]"
            ]
          },
          "metadata": {},
          "execution_count": 44
        }
      ]
    },
    {
      "cell_type": "code",
      "source": [
        "# 학년, 반, 번, 이름, 국어, 영어, 수학\n",
        "data = [\n",
        "    [1, 1, 5, '홍길동', 78, 54, 39],          # 3\n",
        "    [1, 1, 2, '김철수', 92, 88, 75],          # 3\n",
        "    [1, 2, 7, '이', 87, 91, 82],              # 1\n",
        "    [1, 2, 3, '박민수', 65, 72, 84],          # 3\n",
        "    [1, 1, 8, '정수진', 91, 85, 93],          # 3\n",
        "    [1, 3, 1, '강', 76, 79, 88],              # 1\n",
        "    [1, 2, 4, '윤서연미래별하', 89, 94, 90],  # 7\n",
        "    [1, 3, 6, '장현우', 82, 67, 71],          # 3\n",
        "    [1, 1, 10, '조', 95, 89, 97],             # 1\n",
        "    [1, 3, 9, '최준호빛나라', 73, 80, 76]     # 6\n",
        "]\n",
        "\n",
        "# 문제 3: 국어 점수와 수학 점수가 가장 점수차가 큰 순서대로 정렬해주세요\n",
        "def f(x):\n",
        "     return abs(x[4] - x[6])\n",
        "sorted(data, key=f, reverse=True)"
      ],
      "metadata": {
        "colab": {
          "base_uri": "https://localhost:8080/"
        },
        "id": "iR6L0zIMmNsS",
        "outputId": "a9cee5e1-1395-44a2-9dd9-a363f2bf45b5"
      },
      "execution_count": null,
      "outputs": [
        {
          "output_type": "execute_result",
          "data": {
            "text/plain": [
              "[[1, 1, 5, '홍길동', 78, 54, 39],\n",
              " [1, 2, 3, '박민수', 65, 72, 84],\n",
              " [1, 1, 2, '김철수', 92, 88, 75],\n",
              " [1, 3, 1, '강', 76, 79, 88],\n",
              " [1, 3, 6, '장현우', 82, 67, 71],\n",
              " [1, 2, 7, '이', 87, 91, 82],\n",
              " [1, 3, 9, '최준호빛나라', 73, 80, 76],\n",
              " [1, 1, 8, '정수진', 91, 85, 93],\n",
              " [1, 1, 10, '조', 95, 89, 97],\n",
              " [1, 2, 4, '윤서연미래별하', 89, 94, 90]]"
            ]
          },
          "metadata": {},
          "execution_count": 50
        }
      ]
    },
    {
      "cell_type": "code",
      "source": [
        "# 1차원의 점들이 주어졌을 때,\n",
        "# 그 중 가장 거리가 짧은 것의 쌍을 출력하는 함수를 작성하시오.\n",
        "# (단 점들의 배열은 모두 정렬되어있다고 가정한다.)\n",
        "\n",
        "# 예를들어 S={1, 3, 4, 8, 13, 17, 20} 이 주어졌다면, 결과값은 (3, 4)가 될 것이다.\n",
        "\n",
        "\n",
        "# 이렇게 풀지 마세요 파이써닉하지 않다.\n",
        "s = [1, 3, 4, 8, 13, 17, 20]\n",
        "for i in range(len(s)):\n",
        "    pass"
      ],
      "metadata": {
        "id": "WNJeAJ3hns25"
      },
      "execution_count": null,
      "outputs": []
    },
    {
      "cell_type": "code",
      "source": [
        "# 문제풀이\n",
        "data = [\n",
        "    [1, 3],\n",
        "    [3, 4],\n",
        "    [4, 8],\n",
        "    [8, 13],\n",
        "    [13, 17],\n",
        "    [17, 20],\n",
        "]\n",
        "def f(x):\n",
        "    return x[1] - x[0]\n",
        "sorted(data, key=f)"
      ],
      "metadata": {
        "colab": {
          "base_uri": "https://localhost:8080/"
        },
        "id": "YB7BqAb3oYFV",
        "outputId": "85cea2f1-757d-461b-cfab-61b16586e397"
      },
      "execution_count": null,
      "outputs": [
        {
          "output_type": "execute_result",
          "data": {
            "text/plain": [
              "[[3, 4], [1, 3], [17, 20], [4, 8], [13, 17], [8, 13]]"
            ]
          },
          "metadata": {},
          "execution_count": 51
        }
      ]
    },
    {
      "cell_type": "code",
      "source": [
        "# 더 쉽게\n",
        "s = [1, 3, 4, 8, 13, 17, 20]\n",
        "\n",
        "def f(x):\n",
        "    return x[1] - x[0]\n",
        "\n",
        "sorted(zip(s, s[1:]), key=f)"
      ],
      "metadata": {
        "colab": {
          "base_uri": "https://localhost:8080/"
        },
        "id": "L59CDvl5pCxW",
        "outputId": "56ef57e5-210b-4b80-e46c-0d2d06b0117b"
      },
      "execution_count": null,
      "outputs": [
        {
          "output_type": "execute_result",
          "data": {
            "text/plain": [
              "[(3, 4), (1, 3), (17, 20), (4, 8), (13, 17), (8, 13)]"
            ]
          },
          "metadata": {},
          "execution_count": 53
        }
      ]
    },
    {
      "cell_type": "code",
      "source": [
        "# sorted에서 자주 나오는 유형2번째!\n",
        "# 정렬 기준이 나에게 없는경우!?\n",
        "\n",
        "data1 = [\n",
        "    'Moby Dick',              # 1851\n",
        "    'To Kill a Mockingbird',  # 1960\n",
        "    '1984'                    # 1949\n",
        "    ]\n",
        "data2 = {'Moby Dick': 1851, 'To Kill a Mockingbird': 1960, '1984': 1949}\n",
        "\n",
        "def f(x):\n",
        "    return data2[x]\n",
        "\n",
        "sorted(data1, key=f)"
      ],
      "metadata": {
        "colab": {
          "base_uri": "https://localhost:8080/"
        },
        "id": "oCiGe5I_pcho",
        "outputId": "d1cf6491-add2-4890-f6d2-7219f0cafd1a"
      },
      "execution_count": null,
      "outputs": [
        {
          "output_type": "execute_result",
          "data": {
            "text/plain": [
              "['Moby Dick', '1984', 'To Kill a Mockingbird']"
            ]
          },
          "metadata": {},
          "execution_count": 1
        }
      ]
    },
    {
      "cell_type": "code",
      "source": [
        "# 우편번호 정렬\n",
        "# 우편번호 오름차순 순서대로 주소를 정렬하는 코드\n",
        "data = [\n",
        "    ['A동',\n",
        "     'B동',\n",
        "     'C동'],\n",
        "    {'A동': 63007, 'B동': 63010, 'C동': 63002}\n",
        "]\n",
        "# data1 = data[0]\n",
        "# data2 = data[1] # 언패킹 하는것도 방법이다.\n",
        "\n",
        "def f(x):\n",
        "    return data[1][x] # 왜 data[1][x]인가?\n",
        "\n",
        "sorted(data[0],key=f)"
      ],
      "metadata": {
        "colab": {
          "base_uri": "https://localhost:8080/"
        },
        "id": "GCvY_LUDrgv7",
        "outputId": "9da9bc77-1909-4328-8f94-871ed1820ba3"
      },
      "execution_count": null,
      "outputs": [
        {
          "output_type": "execute_result",
          "data": {
            "text/plain": [
              "['C동', 'A동', 'B동']"
            ]
          },
          "metadata": {},
          "execution_count": 62
        }
      ]
    },
    {
      "cell_type": "code",
      "source": [
        "# 특정 형태의 함수가 들어가야 하나요? X\n",
        "# 일반 def되는 함수 또는 lambda 함수 모두 함수의 형태면 가능합니다!\n",
        "# 이 함수의 return되는 값에 따라 절렬을 해줍니다."
      ],
      "metadata": {
        "id": "saDxHvhQfO9T"
      },
      "execution_count": null,
      "outputs": []
    },
    {
      "cell_type": "code",
      "source": [
        "# 학년, 반, 번, 이름, 국어, 영어, 수학\n",
        "data = [\n",
        "    [1, 1, 5, '홍길동', 78, 54, 39],          # [1, 2, 3]\n",
        "    [1, 1, 2, '김철수', 92, 88, 75],          # [1, 2, 3]\n",
        "    [1, 2, 7, '이', 87, 91, 82],              # [1, 2, 3]\n",
        "    [1, 2, 3, '박민수', 65, 72, 84],          # [1, 2, 3]\n",
        "    [1, 1, 8, '정수진', 91, 85, 93],          # [1, 2, 3]\n",
        "    [1, 3, 1, '강', 76, 79, 88],              # [1, 2, 3]\n",
        "    [1, 2, 4, '윤서연미래별하', 89, 94, 90],  # [1, 2, 3]\n",
        "    [1, 3, 6, '장현우', 82, 67, 71],          # [1, 2, 3]\n",
        "    [1, 1, 10, '조', 95, 89, 97],             # [1, 2, 3]\n",
        "    [1, 3, 9, '최준호빛나라', 73, 80, 76]     # [1, 2, 3]\n",
        "]\n",
        "\n",
        "# Q&A 반환값이 아래와 같이 동일하면 어떻게 되나요? 그대로 줍니다.\n",
        "def f(x):\n",
        "    return [1, 2, 3]\n",
        "\n",
        "sorted(data, key=f)"
      ],
      "metadata": {
        "id": "Fl4yMfYCiWtO"
      },
      "execution_count": null,
      "outputs": []
    },
    {
      "cell_type": "code",
      "source": [
        "def user_f(aaa, bbb=100):\n",
        "    return aaa + bbb\n",
        "\n",
        "user_f(1000, bbb=10000)"
      ],
      "metadata": {
        "colab": {
          "base_uri": "https://localhost:8080/"
        },
        "id": "n46IAi7Od6Fz",
        "outputId": "9a559a53-13ad-4d47-98c5-b42eed12ecd5"
      },
      "execution_count": null,
      "outputs": [
        {
          "output_type": "execute_result",
          "data": {
            "text/plain": [
              "11000"
            ]
          },
          "metadata": {},
          "execution_count": 35
        }
      ]
    },
    {
      "cell_type": "code",
      "source": [
        "# 학년, 반, 번, 이름, 국어, 영어, 수학\n",
        "data = [\n",
        "    [1, 1, 5, '홍길동', 78, 54, 39],          # 10\n",
        "    [1, 1, 2, '김철수', 92, 88, 75],          # 10\n",
        "    [1, 2, 7, '이', 87, 91, 82],              # 10\n",
        "    [1, 2, 3, '박민수', 65, 72, 84],          # 10\n",
        "    [1, 1, 8, '정수진', 91, 85, 93],          # 10\n",
        "    [1, 3, 1, '강', 76, 79, 88],              # 10\n",
        "    [1, 2, 4, '윤서연미래별하', 89, 94, 90],  # 10\n",
        "    [1, 3, 6, '장현우', 82, 67, 71],          # 10\n",
        "    [1, 1, 10, '조', 95, 89, 97],             # 10\n",
        "    [1, 3, 9, '최준호빛나라', 73, 80, 76]     # 10\n",
        "]\n",
        "\n",
        "# Q&A 글자에서 1이 얼마나 들어가는지만 카운트 하는 sorted를 구현하고 싶다면 어떻게 해야 하나요?\n",
        "def user_count(x):\n",
        "    return ''.join(map(str, x)).count('1')\n",
        "\n",
        "sorted(data, key=user_count)"
      ],
      "metadata": {
        "colab": {
          "base_uri": "https://localhost:8080/"
        },
        "id": "aN3uizhCdu5o",
        "outputId": "6cb0db4e-2487-493c-9496-e0a3b148e722"
      },
      "execution_count": null,
      "outputs": [
        {
          "output_type": "execute_result",
          "data": {
            "text/plain": [
              "[[1, 2, 3, '박민수', 65, 72, 84],\n",
              " [1, 2, 4, '윤서연미래별하', 89, 94, 90],\n",
              " [1, 3, 9, '최준호빛나라', 73, 80, 76],\n",
              " [1, 1, 5, '홍길동', 78, 54, 39],\n",
              " [1, 1, 2, '김철수', 92, 88, 75],\n",
              " [1, 2, 7, '이', 87, 91, 82],\n",
              " [1, 3, 1, '강', 76, 79, 88],\n",
              " [1, 3, 6, '장현우', 82, 67, 71],\n",
              " [1, 1, 8, '정수진', 91, 85, 93],\n",
              " [1, 1, 10, '조', 95, 89, 97]]"
            ]
          },
          "metadata": {},
          "execution_count": 37
        }
      ]
    },
    {
      "cell_type": "code",
      "source": [
        "# Q&A 구현한 함수 말고 built-in functions 그대로 사용할 수 있나요? 네!\n",
        "data = [\n",
        "    '홍',\n",
        "    '홍길동',\n",
        "    '길동',\n",
        "    '장현우',\n",
        "    '조'\n",
        "]\n",
        "\n",
        "\n",
        "sorted(data, key=len)"
      ],
      "metadata": {
        "colab": {
          "base_uri": "https://localhost:8080/"
        },
        "id": "VIw-N2Oth7Kh",
        "outputId": "68c545c6-3fde-44ae-c490-d9a807d5a754"
      },
      "execution_count": null,
      "outputs": [
        {
          "output_type": "execute_result",
          "data": {
            "text/plain": [
              "['홍', '조', '길동', '홍길동', '장현우']"
            ]
          },
          "metadata": {},
          "execution_count": 38
        }
      ]
    },
    {
      "cell_type": "code",
      "source": [
        "# ''.join([1, 1, 5, '홍길동', 78, 54, 39])\n",
        "''.join(map(str, [1, 1, 5, '홍길동', 78, 54, 39])).count('1')"
      ],
      "metadata": {
        "colab": {
          "base_uri": "https://localhost:8080/"
        },
        "id": "gfsm8a4hidFi",
        "outputId": "6710c273-225b-493e-f2c7-fe909583125b"
      },
      "execution_count": null,
      "outputs": [
        {
          "output_type": "execute_result",
          "data": {
            "text/plain": [
              "2"
            ]
          },
          "metadata": {},
          "execution_count": 39
        }
      ]
    },
    {
      "cell_type": "markdown",
      "source": [
        "### reversed"
      ],
      "metadata": {
        "id": "89zVzuFjw9kd"
      }
    },
    {
      "cell_type": "code",
      "source": [
        "list(reversed([10, 20, 30])) # 뒤집는 것"
      ],
      "metadata": {
        "colab": {
          "base_uri": "https://localhost:8080/"
        },
        "id": "4pevhrzPtsx7",
        "outputId": "52d488f1-d3a8-4f9f-f261-f5f8a6146981"
      },
      "execution_count": null,
      "outputs": [
        {
          "output_type": "execute_result",
          "data": {
            "text/plain": [
              "[30, 20, 10]"
            ]
          },
          "metadata": {},
          "execution_count": 64
        }
      ]
    },
    {
      "cell_type": "code",
      "source": [
        "list(range(10)) # 성능 저하 (좋은 문법은 아니다)"
      ],
      "metadata": {
        "colab": {
          "base_uri": "https://localhost:8080/"
        },
        "id": "ihtL6oOJt8no",
        "outputId": "dde51fbf-e0ea-49f0-84c2-0030c5ee62f1"
      },
      "execution_count": null,
      "outputs": [
        {
          "output_type": "execute_result",
          "data": {
            "text/plain": [
              "[0, 1, 2, 3, 4, 5, 6, 7, 8, 9]"
            ]
          },
          "metadata": {},
          "execution_count": 65
        }
      ]
    },
    {
      "cell_type": "code",
      "source": [
        "reversed([10, 20, 30]) # (메모리 보존이 용이)"
      ],
      "metadata": {
        "colab": {
          "base_uri": "https://localhost:8080/"
        },
        "id": "L2YFLaPFuTgh",
        "outputId": "b41479c1-ed6f-4950-c7a7-c99e710f909c"
      },
      "execution_count": null,
      "outputs": [
        {
          "output_type": "execute_result",
          "data": {
            "text/plain": [
              "<list_reverseiterator at 0x7c397244b3d0>"
            ]
          },
          "metadata": {},
          "execution_count": 66
        }
      ]
    },
    {
      "cell_type": "markdown",
      "source": [
        "### filter"
      ],
      "metadata": {
        "id": "0g4Eky7dxBoK"
      }
    },
    {
      "cell_type": "code",
      "source": [
        "filter\n",
        "# filter(적용시킬 함수, 적용할 요소들)\n",
        "# 필터의 결과 데이터 타입은 filter 타입"
      ],
      "metadata": {
        "id": "RxIJPsr_uas8"
      },
      "execution_count": null,
      "outputs": []
    },
    {
      "cell_type": "code",
      "source": [
        "result = 0\n",
        "for i in range(1,11):\n",
        "    if i % 2 == 0:\n",
        "        result +=i\n",
        "\n",
        "result"
      ],
      "metadata": {
        "colab": {
          "base_uri": "https://localhost:8080/"
        },
        "id": "QbU7DEvaukMl",
        "outputId": "56c941f7-14b0-473a-9f40-7ab866c39af6"
      },
      "execution_count": null,
      "outputs": [
        {
          "output_type": "execute_result",
          "data": {
            "text/plain": [
              "30"
            ]
          },
          "metadata": {},
          "execution_count": 69
        }
      ]
    },
    {
      "cell_type": "code",
      "source": [
        "def f(x):\n",
        "    return x % 2 == 0\n",
        "\n",
        "\n",
        "\n",
        "list(filter(f, range(1, 11)))"
      ],
      "metadata": {
        "colab": {
          "base_uri": "https://localhost:8080/"
        },
        "id": "oGhtMMliu8uF",
        "outputId": "23d3aa29-38fd-4c52-cad2-847de5ba671b"
      },
      "execution_count": null,
      "outputs": [
        {
          "output_type": "execute_result",
          "data": {
            "text/plain": [
              "[2, 4, 6, 8, 10]"
            ]
          },
          "metadata": {},
          "execution_count": 73
        }
      ]
    },
    {
      "cell_type": "code",
      "source": [
        "def f(x):\n",
        "    return x % 2 == 0\n",
        "\n",
        "\n",
        "\n",
        "sum(filter(f, range(1, 11)))"
      ],
      "metadata": {
        "colab": {
          "base_uri": "https://localhost:8080/"
        },
        "id": "xmQtqGorvb7M",
        "outputId": "3923fd52-a46e-49a1-98a3-6cc81d2f2001"
      },
      "execution_count": null,
      "outputs": [
        {
          "output_type": "execute_result",
          "data": {
            "text/plain": [
              "30"
            ]
          },
          "metadata": {},
          "execution_count": 74
        }
      ]
    },
    {
      "cell_type": "code",
      "source": [
        "# 항공사, 편명, 좌석번호, 이름, 나이, 짐무게(kg), 마일리지\n",
        "data = [\n",
        "    ['대한항공', 'KE607', '12A', '김민준', 42, 23, 5280],\n",
        "    ['아시아나', 'OZ721', '8C', '이', 29, 18, 3450],\n",
        "    ['제주항공', '7C101', '15F', '박지민', 35, 15, 720],\n",
        "    ['진에어', 'LJ211', '4D', '최서우미래한별', 51, 27, 8900],\n",
        "    ['에어부산', 'BX213', '21B', '정', 24, 12, 1250],\n",
        "    ['티웨이', 'TW305', '19E', '강민석', 38, 20, 2760],\n",
        "    ['에어서울', 'RS808', '3C', '윤지현', 47, 16, 4320],\n",
        "    ['대한항공', 'KE123', '7F', '송', 33, 21, 6780],\n",
        "    ['아시아나', 'OZ562', '11D', '장하은별님달빛', 26, 19, 1890],\n",
        "    ['제주항공', '7C505', '17B', '황수진', 40, 14, 940]\n",
        "]\n",
        "\n",
        "def f(x):\n",
        "    return x[4] >=30\n",
        "\n",
        "for i in filter(f, data):\n",
        "    print(i)"
      ],
      "metadata": {
        "colab": {
          "base_uri": "https://localhost:8080/"
        },
        "id": "TgBiMvcRwB9B",
        "outputId": "fdc446fc-8904-4d1f-83bd-fc4175099e43"
      },
      "execution_count": null,
      "outputs": [
        {
          "output_type": "stream",
          "name": "stdout",
          "text": [
            "['대한항공', 'KE607', '12A', '김민준', 42, 23, 5280]\n",
            "['제주항공', '7C101', '15F', '박지민', 35, 15, 720]\n",
            "['진에어', 'LJ211', '4D', '최서우미래한별', 51, 27, 8900]\n",
            "['티웨이', 'TW305', '19E', '강민석', 38, 20, 2760]\n",
            "['에어서울', 'RS808', '3C', '윤지현', 47, 16, 4320]\n",
            "['대한항공', 'KE123', '7F', '송', 33, 21, 6780]\n",
            "['제주항공', '7C505', '17B', '황수진', 40, 14, 940]\n"
          ]
        }
      ]
    },
    {
      "cell_type": "markdown",
      "source": [
        "### map"
      ],
      "metadata": {
        "id": "vaD_cKQMF-dn"
      }
    },
    {
      "cell_type": "code",
      "source": [
        "# list로 변환하는 것은 하나씩 순회르 돌며 메모리에 적제하기 때문에\n",
        "# 효율이 나쁘다\n",
        "# map(함수, itserable)\n",
        "# filter는 return값이 True이면 True인 객채를 반환\n",
        "# map은 새로운 리스트를 반환한다.\n",
        "\n",
        "def f(x):\n",
        "    return x ** 2\n",
        "\n",
        "list(map(f, [1, 2, 3, 4]))"
      ],
      "metadata": {
        "colab": {
          "base_uri": "https://localhost:8080/"
        },
        "id": "GLXnuLG1F7Rt",
        "outputId": "1f06b796-6566-4b45-e224-bde1cdeb302e"
      },
      "execution_count": null,
      "outputs": [
        {
          "output_type": "execute_result",
          "data": {
            "text/plain": [
              "[1, 4, 9, 16]"
            ]
          },
          "metadata": {},
          "execution_count": 78
        }
      ]
    },
    {
      "cell_type": "code",
      "source": [
        "# map은 어떤 데이터를 '추출'할 때 많이 사용합니다.\n",
        "# 프론트엔드는 입사문제로 map을 자주 출제한다."
      ],
      "metadata": {
        "id": "MVv7THrEH5JV"
      },
      "execution_count": null,
      "outputs": []
    },
    {
      "cell_type": "code",
      "source": [
        "# 항공사, 편명, 좌석번호, 이름, 나이, 짐무게(kg), 마일리지\n",
        "data = [\n",
        "    ['대한항공', 'KE607', '12A', '김민준', 42, 23, 5280],\n",
        "    ['아시아나', 'OZ721', '8C', '이', 29, 18, 3450],\n",
        "    ['제주항공', '7C101', '15F', '박지민', 35, 15, 720],\n",
        "    ['진에어', 'LJ211', '4D', '최서우미래한별', 51, 27, 8900],\n",
        "    ['에어부산', 'BX213', '21B', '정', 24, 12, 1250],\n",
        "    ['티웨이', 'TW305', '19E', '강민석', 38, 20, 2760],\n",
        "    ['에어서울', 'RS808', '3C', '윤지현', 47, 16, 4320],\n",
        "    ['대한항공', 'KE123', '7F', '송', 33, 21, 6780],\n",
        "    ['아시아나', 'OZ562', '11D', '장하은별님달빛', 26, 19, 1890],\n",
        "    ['제주항공', '7C505', '17B', '황수진', 40, 14, 940]\n",
        "]\n",
        "\n",
        "# filter와 동일한 함수를 썼을 경우\n",
        "def f(x):\n",
        "    return x[4] >=30\n",
        "\n",
        "list(map(f, data)) # [True, False, True, True, False, True, True, True, False, True]"
      ],
      "metadata": {
        "colab": {
          "base_uri": "https://localhost:8080/"
        },
        "id": "lOPAv8xSHmBY",
        "outputId": "abf371aa-fde2-4291-9e4e-6a35fd429736"
      },
      "execution_count": null,
      "outputs": [
        {
          "output_type": "execute_result",
          "data": {
            "text/plain": [
              "[True, False, True, True, False, True, True, True, False, True]"
            ]
          },
          "metadata": {},
          "execution_count": 80
        }
      ]
    },
    {
      "cell_type": "code",
      "source": [
        "# 항공사, 편명, 좌석번호, 이름, 나이, 짐무게(kg), 마일리지\n",
        "data = [\n",
        "    ['대한항공', 'KE607', '12A', '김민준', 42, 23, 5280],\n",
        "    ['아시아나', 'OZ721', '8C', '이', 29, 18, 3450],\n",
        "    ['제주항공', '7C101', '15F', '박지민', 35, 15, 720],\n",
        "    ['진에어', 'LJ211', '4D', '최서우미래한별', 51, 27, 8900],\n",
        "    ['에어부산', 'BX213', '21B', '정', 24, 12, 1250],\n",
        "    ['티웨이', 'TW305', '19E', '강민석', 38, 20, 2760],\n",
        "    ['에어서울', 'RS808', '3C', '윤지현', 47, 16, 4320],\n",
        "    ['대한항공', 'KE123', '7F', '송', 33, 21, 6780],\n",
        "    ['아시아나', 'OZ562', '11D', '장하은별님달빛', 26, 19, 1890],\n",
        "    ['제주항공', '7C505', '17B', '황수진', 40, 14, 940]\n",
        "]\n",
        "\n",
        "# 새로운 리스트를 만들 값을 return 해줬을 때\n",
        "def f(x):\n",
        "    return x[4]\n",
        "\n",
        "list(map(f, data)) # [42, 29, 35, 51, 24, 38, 47, 33, 26, 40]"
      ],
      "metadata": {
        "colab": {
          "base_uri": "https://localhost:8080/"
        },
        "id": "2asEgu-JIQ3R",
        "outputId": "ba23effe-8878-4a00-ab0b-5c10c1739f35"
      },
      "execution_count": null,
      "outputs": [
        {
          "output_type": "execute_result",
          "data": {
            "text/plain": [
              "[42, 29, 35, 51, 24, 38, 47, 33, 26, 40]"
            ]
          },
          "metadata": {},
          "execution_count": 81
        }
      ]
    },
    {
      "cell_type": "code",
      "source": [
        "# 항공사, 편명, 좌석번호, 이름, 나이, 짐무게(kg), 마일리지\n",
        "data = [\n",
        "    ['대한항공', 'KE607', '12A', '김민준', 42, 23, 5280],\n",
        "    ['아시아나', 'OZ721', '8C', '이', 29, 18, 3450],\n",
        "    ['제주항공', '7C101', '15F', '박지민', 35, 15, 720],\n",
        "    ['진에어', 'LJ211', '4D', '최서우미래한별', 51, 27, 8900],\n",
        "    ['에어부산', 'BX213', '21B', '정', 24, 12, 1250],\n",
        "    ['티웨이', 'TW305', '19E', '강민석', 38, 20, 2760],\n",
        "    ['에어서울', 'RS808', '3C', '윤지현', 47, 16, 4320],\n",
        "    ['대한항공', 'KE123', '7F', '송', 33, 21, 6780],\n",
        "    ['아시아나', 'OZ562', '11D', '장하은별님달빛', 26, 19, 1890],\n",
        "    ['제주항공', '7C505', '17B', '황수진', 40, 14, 940]\n",
        "]\n",
        "\n",
        "#\n",
        "def f(x):\n",
        "    return 1\n",
        "\n",
        "list(map(f, data)) # [1, 1, 1, 1, 1....]"
      ],
      "metadata": {
        "colab": {
          "base_uri": "https://localhost:8080/"
        },
        "id": "109QAtk2Ihdv",
        "outputId": "c6af2776-677e-4955-a0dd-f1f7228722e8"
      },
      "execution_count": null,
      "outputs": [
        {
          "output_type": "execute_result",
          "data": {
            "text/plain": [
              "[1, 1, 1, 1, 1, 1, 1, 1, 1, 1]"
            ]
          },
          "metadata": {},
          "execution_count": 82
        }
      ]
    },
    {
      "cell_type": "code",
      "source": [
        "# 항공사, 편명, 좌석번호, 이름, 나이, 짐무게(kg), 마일리지\n",
        "data = [\n",
        "    ['대한항공', 'KE607', '12A', '김민준', 42, 23, 5280],\n",
        "    ['아시아나', 'OZ721', '8C', '이', 29, 18, 3450],\n",
        "    ['제주항공', '7C101', '15F', '박지민', 35, 15, 720],\n",
        "    ['진에어', 'LJ211', '4D', '최서우미래한별', 51, 27, 8900],\n",
        "    ['에어부산', 'BX213', '21B', '정', 24, 12, 1250],\n",
        "    ['티웨이', 'TW305', '19E', '강민석', 38, 20, 2760],\n",
        "    ['에어서울', 'RS808', '3C', '윤지현', 47, 16, 4320],\n",
        "    ['대한항공', 'KE123', '7F', '송', 33, 21, 6780],\n",
        "    ['아시아나', 'OZ562', '11D', '장하은별님달빛', 26, 19, 1890],\n",
        "    ['제주항공', '7C505', '17B', '황수진', 40, 14, 940]\n",
        "]\n",
        "\n",
        "# 문제: 편명과 이름으로 된 새로운 리스트를 만들어주세요.\n",
        "# [['KE607', '김민준'] ...] 이런식으로 나와야 합니다.\n",
        "def f(x):\n",
        "    return [x[1],x[3]]\n",
        "\n",
        "list(map(f, data))"
      ],
      "metadata": {
        "colab": {
          "base_uri": "https://localhost:8080/"
        },
        "id": "ii80hskiIwKp",
        "outputId": "4bf50e3b-8790-4730-f194-14e4f684bf81"
      },
      "execution_count": null,
      "outputs": [
        {
          "output_type": "execute_result",
          "data": {
            "text/plain": [
              "[['KE607', '김민준'],\n",
              " ['OZ721', '이'],\n",
              " ['7C101', '박지민'],\n",
              " ['LJ211', '최서우미래한별'],\n",
              " ['BX213', '정'],\n",
              " ['TW305', '강민석'],\n",
              " ['RS808', '윤지현'],\n",
              " ['KE123', '송'],\n",
              " ['OZ562', '장하은별님달빛'],\n",
              " ['7C505', '황수진']]"
            ]
          },
          "metadata": {},
          "execution_count": 86
        }
      ]
    },
    {
      "cell_type": "code",
      "source": [
        "# 문제: 30살 이상인 사람들의 나이 합을 구해라\n",
        "# 30살 이상인 사람을 filter해서 나이를 다 더한 다음 필터링 한 사람들의 합을 구하면 되겠다\n",
        "# 방법1: 나이만 map 해서 뽑고 filter로 30살 이상인 사람 추출해서 sum\n",
        "# 방법2: filter로 30살 이상인 사람 추출한 다음 map으로 나이만 뽑고 sum\n",
        "\n",
        "# 일부러 f, ff 이런식으로 함수명을 작성하고 있는데\n",
        "# 실무에서는 실제 기능에 맞춰 함수명을 작성한다.\\\n",
        "# 함수명을 작성하는 것 부터 큰 스트레스이다.\n",
        "# ChatGPT로 많이해서 요즘은 좀 덜하긴 하다.\n",
        "# 방법 1\n",
        "def f(x):\n",
        "    return x[4]\n",
        "\n",
        "def ff(x):\n",
        "    return x >=30\n",
        "sum(filter(ff, map(f, data)))\n",
        "\n",
        "# 방법2\n",
        "def f(x):\n",
        "    return x[4] >=30\n",
        "\n",
        "def ff(x):\n",
        "    return x[4]\n",
        "\n",
        "sum(map(ff, filter(f, data)))\n",
        "# sum(list(map(ff, filter(f, data)))) # 실제로는 list써서 확인하지 않는다\n"
      ],
      "metadata": {
        "colab": {
          "base_uri": "https://localhost:8080/"
        },
        "id": "d4uDZ0Q3Km4D",
        "outputId": "19e6bbf6-aaab-42d2-90ac-dd5304929427"
      },
      "execution_count": null,
      "outputs": [
        {
          "output_type": "execute_result",
          "data": {
            "text/plain": [
              "286"
            ]
          },
          "metadata": {},
          "execution_count": 90
        }
      ]
    },
    {
      "cell_type": "code",
      "source": [
        "# 항공사, 편명, 좌석번호, 이름, 나이, 짐무게(kg), 마일리지\n",
        "data = [\n",
        "    ['대한항공', 'KE607', '12A', '김민준', 42, 23, 5280],\n",
        "    ['아시아나', 'OZ721', '8C', '이', 29, 18, 3450],\n",
        "    ['제주항공', '7C101', '15F', '박지민', 35, 15, 720],\n",
        "    ['진에어', 'LJ211', '4D', '최서우미래한별', 51, 27, 8900],\n",
        "    ['에어부산', 'BX213', '21B', '정', 24, 12, 1250],\n",
        "    ['티웨이', 'TW305', '19E', '강민석', 38, 20, 2760],\n",
        "    ['에어서울', 'RS808', '3C', '윤지현', 47, 16, 4320],\n",
        "    ['대한항공', 'KE123', '7F', '송', 33, 21, 6780],\n",
        "    ['아시아나', 'OZ562', '11D', '장하은별님달빛', 26, 19, 1890],\n",
        "    ['제주항공', '7C505', '17B', '황수진', 40, 14, 940]\n",
        "]\n",
        "# 문제 1: 짐무게가 20kg 이상인 승객들의 // 마일리지 평균을 구해주세요!\n",
        "# 문제 2: 아시아나 항공을 이용하는 40세 미만 승객들의 이름 길이 합을 구해주세요!"
      ],
      "metadata": {
        "colab": {
          "base_uri": "https://localhost:8080/"
        },
        "id": "pzrxT6X8O5y7",
        "outputId": "e154ca34-839e-4bd4-b218-59334c83472a"
      },
      "execution_count": null,
      "outputs": [
        {
          "output_type": "execute_result",
          "data": {
            "text/plain": [
              "4"
            ]
          },
          "metadata": {},
          "execution_count": 93
        }
      ]
    },
    {
      "cell_type": "code",
      "source": [
        "# 문제 1: 짐무게가 20kg 이상인 승객들의 // 마일리지 평균을 구해주세요!\n",
        "def f(x):\n",
        "    return x[5] >=20 # filter로 짐무게가 20kg 이상인 승객 추출\n",
        "\n",
        "def ff(x):\n",
        "    return x[6] # map으로 마일리지만 뽑아 sum\n",
        "\n",
        "sum(map(ff, filter(f, data))) / len(list(filter(f, data)))"
      ],
      "metadata": {
        "colab": {
          "base_uri": "https://localhost:8080/"
        },
        "id": "GGUiV-IkQJ9Y",
        "outputId": "a04eef47-28c9-4021-f9e2-fdc324a77df6"
      },
      "execution_count": null,
      "outputs": [
        {
          "output_type": "execute_result",
          "data": {
            "text/plain": [
              "5930.0"
            ]
          },
          "metadata": {},
          "execution_count": 100
        }
      ]
    },
    {
      "cell_type": "code",
      "source": [
        "# 강사님 풀이 (문제1)\n",
        "# 방법1\n",
        "def f(x):\n",
        "    return x[-2] >= 20\n",
        "def ff(x):\n",
        "    return x[-1]\n",
        "\n",
        "filtering_data = list(map(ff, filter(f, data))) # list 변환? 흠..\n",
        "sum(filtering_data) / len(filtering_data) # sum을 했어? 흠..\n",
        "\n",
        "# 방법 2\n",
        "\n",
        "def f(x):\n",
        "    return x[-2] >= 20\n",
        "def ff(x):\n",
        "    return x[-1]\n",
        "\n",
        "count = 0\n",
        "sum_result = 0\n",
        "for i in map(ff, filter(f, data)): # 2번 순회를 돌아야 하는 것을 1번만\n",
        "    count += 1\n",
        "    sum_result += i\n",
        "\n",
        "sum_result / count"
      ],
      "metadata": {
        "colab": {
          "base_uri": "https://localhost:8080/"
        },
        "id": "-EvyPKsYS6QC",
        "outputId": "462f539d-f452-4e5f-ceb1-71ebc4a828b1"
      },
      "execution_count": null,
      "outputs": [
        {
          "output_type": "execute_result",
          "data": {
            "text/plain": [
              "5930.0"
            ]
          },
          "metadata": {},
          "execution_count": 107
        }
      ]
    },
    {
      "cell_type": "code",
      "source": [
        "# 문제 2: 아시아나 항공을 이용하는 40세 미만 승객들의 이름 길이 합을 구해주세요!\n",
        "def f(x):\n",
        "    return x[0] == '아시아나' and x[4] < 40 #아시아나를 이용하고, 나이가 40세 미만인 승객\n",
        "\n",
        "def ff(x):\n",
        "    return len(x[3]) # map으로 이름 길이만 뽑아 sum\n",
        "\n",
        "sum(map(ff, filter(f, data)))"
      ],
      "metadata": {
        "colab": {
          "base_uri": "https://localhost:8080/"
        },
        "id": "wgjd7LFORhv-",
        "outputId": "b3683a99-4e71-4b54-f9ae-0497b02811f1"
      },
      "execution_count": null,
      "outputs": [
        {
          "output_type": "execute_result",
          "data": {
            "text/plain": [
              "8"
            ]
          },
          "metadata": {},
          "execution_count": 101
        }
      ]
    },
    {
      "cell_type": "code",
      "source": [
        "# 강사님 풀이 (문제2)\n",
        "def f(x):\n",
        "    return x[0] == '아시아나' and x[4] < 40\n",
        "\n",
        "def ff(x):\n",
        "    return x[3]\n",
        "\n",
        "len(''.join(map(ff, filter(f, data)))) ## 이게 맞았나?"
      ],
      "metadata": {
        "colab": {
          "base_uri": "https://localhost:8080/"
        },
        "id": "3Rqq0TTuUyYt",
        "outputId": "f430bb68-bac0-4b60-c98d-1e52ec6b8e44"
      },
      "execution_count": null,
      "outputs": [
        {
          "output_type": "execute_result",
          "data": {
            "text/plain": [
              "8"
            ]
          },
          "metadata": {},
          "execution_count": 109
        }
      ]
    },
    {
      "cell_type": "markdown",
      "source": [
        "### zip, iter, next"
      ],
      "metadata": {
        "id": "_wIMsNGDVmN9"
      }
    },
    {
      "cell_type": "code",
      "source": [
        "# zip\n",
        "a = [10, 20, 30]\n",
        "b = (100, 200, 300)\n",
        "c = 'hello wolrd'\n",
        "\n",
        "list(zip(a, b, c))"
      ],
      "metadata": {
        "colab": {
          "base_uri": "https://localhost:8080/"
        },
        "id": "-f0Iek20Vp1n",
        "outputId": "7289c68a-ca09-49fc-b45d-4229cd0f1c67"
      },
      "execution_count": null,
      "outputs": [
        {
          "output_type": "execute_result",
          "data": {
            "text/plain": [
              "[(10, 100, 'h'), (20, 200, 'e'), (30, 300, 'l')]"
            ]
          },
          "metadata": {},
          "execution_count": 110
        }
      ]
    },
    {
      "cell_type": "code",
      "source": [
        "a = [10, 20, 30]\n",
        "b = (100, 200, 300)\n",
        "c = 'hello wolrd'\n",
        "\n",
        "s = zip(a, b, c) # zip은 대부분 변수로 할당하지 않고 사용한다\n",
        "\n",
        "for i in s:\n",
        "    print(i)\n",
        "\n",
        "# 왜 map이나 zip, filter는 변수로 할당하면 한 번 밖에 순회를 못돈다!\n",
        "# 해당 객체에서 다시 순회를 돌 수 있도록 초기화를 해줘야 하는데\n",
        "# 초기화를 해주지 않는 함수이다\n",
        "\n",
        "for i in zip(a, b, c):\n",
        "    print(i)"
      ],
      "metadata": {
        "colab": {
          "base_uri": "https://localhost:8080/"
        },
        "id": "aK-dxRd4WDaw",
        "outputId": "7721c55b-5dee-4eea-c9ef-f5d34352040c"
      },
      "execution_count": null,
      "outputs": [
        {
          "output_type": "stream",
          "name": "stdout",
          "text": [
            "(10, 100, 'h')\n",
            "(20, 200, 'e')\n",
            "(30, 300, 'l')\n",
            "(10, 100, 'h')\n",
            "(20, 200, 'e')\n",
            "(30, 300, 'l')\n"
          ]
        }
      ]
    },
    {
      "cell_type": "code",
      "source": [
        "iter # iter는 반복을 끝낼 값을 지정하면 특정 값이 나올 때 반복을 끝낸다.\n",
        "next # next는 한 글자씩 뽑아낸다. StopIteration\n",
        "# for문에 이용된다.\n",
        "for i in range(10):\n",
        "    print(i)\n",
        "\n",
        "s = 'hello'\n",
        "ss = iter(s) # 나는 이제 값을 순차적으로 꺼낼테니까 꺼낼 준비를 해라!\n",
        "next(ss) # 다음 값을 꺼내라!"
      ],
      "metadata": {
        "colab": {
          "base_uri": "https://localhost:8080/",
          "height": 219
        },
        "id": "eTOByRiEVzBJ",
        "outputId": "0d225199-fd04-4308-ac12-27f43c6b0388"
      },
      "execution_count": null,
      "outputs": [
        {
          "output_type": "stream",
          "name": "stdout",
          "text": [
            "0\n",
            "1\n",
            "2\n",
            "3\n",
            "4\n",
            "5\n",
            "6\n",
            "7\n",
            "8\n",
            "9\n"
          ]
        },
        {
          "output_type": "execute_result",
          "data": {
            "text/plain": [
              "'h'"
            ],
            "application/vnd.google.colaboratory.intrinsic+json": {
              "type": "string"
            }
          },
          "metadata": {},
          "execution_count": 140
        }
      ]
    },
    {
      "cell_type": "code",
      "source": [
        "next(ss)"
      ],
      "metadata": {
        "colab": {
          "base_uri": "https://localhost:8080/",
          "height": 147
        },
        "id": "wcwlgMVUXK1_",
        "outputId": "093de773-2dec-42b9-bd29-deafa4849f43"
      },
      "execution_count": null,
      "outputs": [
        {
          "output_type": "error",
          "ename": "StopIteration",
          "evalue": "",
          "traceback": [
            "\u001b[0;31m---------------------------------------------------------------------------\u001b[0m",
            "\u001b[0;31mStopIteration\u001b[0m                             Traceback (most recent call last)",
            "\u001b[0;32m<ipython-input-136-d2551d6ade9e>\u001b[0m in \u001b[0;36m<cell line: 0>\u001b[0;34m()\u001b[0m\n\u001b[0;32m----> 1\u001b[0;31m \u001b[0mnext\u001b[0m\u001b[0;34m(\u001b[0m\u001b[0mss\u001b[0m\u001b[0;34m)\u001b[0m\u001b[0;34m\u001b[0m\u001b[0;34m\u001b[0m\u001b[0m\n\u001b[0m",
            "\u001b[0;31mStopIteration\u001b[0m: "
          ]
        }
      ]
    },
    {
      "cell_type": "markdown",
      "source": [
        "# 반복문(while)"
      ],
      "metadata": {
        "id": "y2ULkczR4bAX"
      }
    },
    {
      "cell_type": "code",
      "source": [
        "# 언제 for를 사용하고 언제 while을 사용하나요?\n",
        "# for는 객체를 순회할 때\n",
        "# while은 정해진 수만큼 순회를 하거나, 무한 반복을 할 때\n",
        "# 상호 호환 가능\n",
        "\n",
        "# 다만 for로 무한반복 구현이 불가능한 것은 아니다."
      ],
      "metadata": {
        "id": "4dT-X9fIY88N"
      },
      "execution_count": null,
      "outputs": []
    },
    {
      "cell_type": "code",
      "source": [
        "x = 0\n",
        "\n",
        "while x < 10: # x가 True인 동안에 반복\n",
        "    print(x)\n",
        "    x += 1 # 반드시 종료할 수 있는 연산을 줘야한다"
      ],
      "metadata": {
        "colab": {
          "base_uri": "https://localhost:8080/"
        },
        "id": "6PTKhmmJZzrn",
        "outputId": "6ab34e31-ff41-4960-c1b5-5268ebf8ef80"
      },
      "execution_count": null,
      "outputs": [
        {
          "output_type": "stream",
          "name": "stdout",
          "text": [
            "0\n",
            "1\n",
            "2\n",
            "3\n",
            "4\n",
            "5\n",
            "6\n",
            "7\n",
            "8\n",
            "9\n"
          ]
        }
      ]
    },
    {
      "cell_type": "code",
      "source": [
        "# 1부터 100까지 짝수만 더하는 코드를 while문으로 작성해주세요.\n",
        "# 좋지 않은 코드\n",
        "x = 0\n",
        "result = 0\n",
        "\n",
        "while x < 11:\n",
        "    if x % 2 == 0:\n",
        "        result += x\n",
        "    x += 1 # 종료할 수 있는 연산\n",
        "\n",
        "result\n",
        "# ================================================================\n",
        "# 위의 코드보다 좋은 코드\n",
        "x = 0\n",
        "result = 0\n",
        "\n",
        "while x < 11:\n",
        "    result += x\n",
        "    x += 2 # 종료할 수 있는 연산\n",
        "\n",
        "result"
      ],
      "metadata": {
        "colab": {
          "base_uri": "https://localhost:8080/"
        },
        "id": "oAPSXZApcwRx",
        "outputId": "b28d9cc3-6585-4f4a-a030-c8d66aabf59f"
      },
      "execution_count": null,
      "outputs": [
        {
          "output_type": "execute_result",
          "data": {
            "text/plain": [
              "30"
            ]
          },
          "metadata": {},
          "execution_count": 152
        }
      ]
    },
    {
      "cell_type": "code",
      "source": [
        "# 주의해야 할 점\n",
        "i = 2\n",
        "j = 1\n",
        "\n",
        "# 왜 2단밖에 출력하지 않을까?\n",
        "# 내부 while문을 실행하고 나면 j는 10이 되기 때문에\n",
        "# 내부 while문의 조건인 j < 10을 만족하지 않게 되어서 실행되지 않습니다\n",
        "while i < 10:\n",
        "    while j < 10:\n",
        "        print(i, j, i*j)\n",
        "        j += 1\n",
        "    i += 1\n",
        "    j = 1"
      ],
      "metadata": {
        "collapsed": true,
        "id": "Simh9hEHecRo"
      },
      "execution_count": null,
      "outputs": []
    },
    {
      "cell_type": "code",
      "source": [
        "import random\n",
        "\n",
        "result = random.randint(1, 100)\n",
        "\n",
        "while True:\n",
        "    user_input = int(input('1부터 100까지 숫자를 입력하세요.'))\n",
        "    if user_input > result:\n",
        "        print('더 작은 숫자를 입력하세요.')\n",
        "    elif user_input < result:\n",
        "        print('더 큰 숫자를 입력하세요.')\n",
        "    else:\n",
        "        print('정답입니다!')\n",
        "        break"
      ],
      "metadata": {
        "colab": {
          "base_uri": "https://localhost:8080/"
        },
        "id": "shlwVGibZW69",
        "outputId": "65900501-b2aa-4ece-ca70-96d9c6d72852"
      },
      "execution_count": null,
      "outputs": [
        {
          "output_type": "stream",
          "name": "stdout",
          "text": [
            "1부터 100까지 숫자를 입력하세요.30\n",
            "더 작은 숫자를 입력하세요.\n",
            "1부터 100까지 숫자를 입력하세요.25\n",
            "더 작은 숫자를 입력하세요.\n",
            "1부터 100까지 숫자를 입력하세요.15\n",
            "더 작은 숫자를 입력하세요.\n",
            "1부터 100까지 숫자를 입력하세요.10\n",
            "더 작은 숫자를 입력하세요.\n",
            "1부터 100까지 숫자를 입력하세요.9\n",
            "정답입니다!\n"
          ]
        }
      ]
    },
    {
      "cell_type": "code",
      "source": [
        "# break, continue는 while과 for에서 모두 쓸 수 있다.\n",
        "# break은 반복문을 중단하는 것이고\n",
        "# continue는 다음 반복문으로 넘어가는 것이다.\n",
        "\n",
        "# for i in range(10):\n",
        "#     if i == 3:\n",
        "#         break\n",
        "#     print(i)\n",
        "\n",
        "for i in range(10):\n",
        "    if i == 3:\n",
        "        continue\n",
        "    print(i)"
      ],
      "metadata": {
        "colab": {
          "base_uri": "https://localhost:8080/"
        },
        "id": "M_fq7w3uZ9wH",
        "outputId": "06e96471-c14e-4dae-b8e6-12f3d15adbdd"
      },
      "execution_count": null,
      "outputs": [
        {
          "output_type": "stream",
          "name": "stdout",
          "text": [
            "0\n",
            "1\n",
            "2\n",
            "4\n",
            "5\n",
            "6\n",
            "7\n",
            "8\n",
            "9\n"
          ]
        }
      ]
    },
    {
      "cell_type": "markdown",
      "source": [
        "# 조건문(match)"
      ],
      "metadata": {
        "id": "2MRrJ2Vl4cw-"
      }
    },
    {
      "cell_type": "code",
      "source": [
        "# match는 메모리가 효율적이지는 않다.\n",
        "day = '토'\n",
        "\n",
        "match day: # match 뒤에 값으로 이동\n",
        "    case \"월\" | \"화\" | \"수\" | \"목\" | \"금\":\n",
        "        print(\"평일\")\n",
        "    case \"토\" | \"일\":\n",
        "        print(\"주말\")\n",
        "    case _:\n",
        "        print(\"올바른 요일을 입력하세요\")"
      ],
      "metadata": {
        "colab": {
          "base_uri": "https://localhost:8080/"
        },
        "id": "A868m3x3fyBs",
        "outputId": "50e08d3e-cc2c-4830-82e9-5c61f4d91240"
      },
      "execution_count": 97,
      "outputs": [
        {
          "output_type": "stream",
          "name": "stdout",
          "text": [
            "주말\n"
          ]
        }
      ]
    },
    {
      "cell_type": "code",
      "source": [
        "# 이전에는 어떻게 사용했는가?\n",
        "\n",
        "today = '일'\n",
        "\n",
        "day = {\n",
        "    '월': '평일',\n",
        "    '화': '평일',\n",
        "    '수': '평일',\n",
        "    '목': '평일',\n",
        "    '금': '평일',\n",
        "    '토': '주말',\n",
        "    '일': '주말',\n",
        "}\n",
        "\n",
        "day.get(today, '제대로 입력하세요!')"
      ],
      "metadata": {
        "colab": {
          "base_uri": "https://localhost:8080/",
          "height": 35
        },
        "id": "NxFH9C_thePq",
        "outputId": "917b5915-3843-4b87-d378-a2aba54a3a34"
      },
      "execution_count": null,
      "outputs": [
        {
          "output_type": "execute_result",
          "data": {
            "text/plain": [
              "'주말'"
            ],
            "application/vnd.google.colaboratory.intrinsic+json": {
              "type": "string"
            }
          },
          "metadata": {},
          "execution_count": 162
        }
      ]
    },
    {
      "cell_type": "markdown",
      "source": [
        "# 클래스(class) *****\n",
        "- 클래스는 설계도면이다.\n",
        "- 클래스대로 생산된 생산물을 \"인스턴스\" 라고 한다.\n",
        "- 파이썬의 꽃 (가장 중요함!)"
      ],
      "metadata": {
        "id": "p1Tmfp44izxZ"
      }
    },
    {
      "cell_type": "code",
      "source": [
        "# 클래스 - 설계 도면\n",
        "# 인스턴스 - 생산품\n",
        "\n",
        "# 클래스 내의 변수 - 멤버 또는 애트리뷰트\n",
        "# 클래스 내의 함수 - 메서드\n",
        "\n",
        "# 자동차!\n",
        "# 데이터(멤버, 애트리뷰트) # 클래스 내 변수로 선언됩니다. 이것을 멤버 또는 애트리뷰트라고 합니다.\n",
        "#   * 최대 속도\n",
        "#   * 최대 탑승객\n",
        "\n",
        "# 기능(메서드) # 클래스 내 함수로 선언됩니다. 이것을 메서드라고 합니다.\n",
        "#   * 출발\n",
        "#   * 정지"
      ],
      "metadata": {
        "id": "YjnFEsOxk1po"
      },
      "execution_count": null,
      "outputs": []
    },
    {
      "cell_type": "code",
      "source": [
        "class Car:\n",
        "    max_speed = 300     # 멤버 or 애트리뷰트\n",
        "    max_people = 5\n",
        "\n",
        "    def start(self):\n",
        "        print('출발!')    # 메서드\n",
        "\n",
        "    def stop(self):\n",
        "        print('정지!')\n",
        "\n",
        "car1 = Car()  # Car는 클래스, # car1는 인스턴스\n",
        "car2 = Car()\n",
        "\n",
        "print(car1.max_speed)\n",
        "car1.start() # 어디서 많이 본 형태인데...?"
      ],
      "metadata": {
        "colab": {
          "base_uri": "https://localhost:8080/"
        },
        "id": "9gGIva0olK0a",
        "outputId": "b340aa9f-cb1f-4e3e-b293-3191da1a9e3f"
      },
      "execution_count": null,
      "outputs": [
        {
          "output_type": "stream",
          "name": "stdout",
          "text": [
            "300\n",
            "출발!\n"
          ]
        }
      ]
    },
    {
      "cell_type": "code",
      "source": [
        "dir(car1)"
      ],
      "metadata": {
        "collapsed": true,
        "colab": {
          "base_uri": "https://localhost:8080/"
        },
        "id": "wxCFCJ3vm4ir",
        "outputId": "c4155cce-d88a-4415-d6d3-859f9f7a5101"
      },
      "execution_count": null,
      "outputs": [
        {
          "output_type": "execute_result",
          "data": {
            "text/plain": [
              "['__class__',\n",
              " '__delattr__',\n",
              " '__dict__',\n",
              " '__dir__',\n",
              " '__doc__',\n",
              " '__eq__',\n",
              " '__format__',\n",
              " '__ge__',\n",
              " '__getattribute__',\n",
              " '__getstate__',\n",
              " '__gt__',\n",
              " '__hash__',\n",
              " '__init__',\n",
              " '__init_subclass__',\n",
              " '__le__',\n",
              " '__lt__',\n",
              " '__module__',\n",
              " '__ne__',\n",
              " '__new__',\n",
              " '__reduce__',\n",
              " '__reduce_ex__',\n",
              " '__repr__',\n",
              " '__setattr__',\n",
              " '__sizeof__',\n",
              " '__str__',\n",
              " '__subclasshook__',\n",
              " '__weakref__',\n",
              " 'max_people',\n",
              " 'max_speed',\n",
              " 'start',\n",
              " 'stop']"
            ]
          },
          "metadata": {},
          "execution_count": 168
        }
      ]
    },
    {
      "cell_type": "code",
      "source": [
        "l = [10, 20, 30] # l은 리스트 and '인스턴스'\n",
        "dir(l)\n",
        "\n",
        "# l에 더하기도 필요 없습니다.\n",
        "# l에 곱하기도 필요 없습니다.\n",
        "# l에 remove도 필요 없습니다.\n",
        "# .....\n",
        "\n",
        "# 클래스는 데이터가 크면 클 수록 필요한 기능만 메서드만 쓸 수 있게 만들 수 있다\n",
        "\n",
        "l = [1, 2, 3]\n",
        "ll = [1, 2, 3]\n",
        "\n",
        "l == ll\n",
        "\n",
        "a = 10000\n",
        "b = 10000\n",
        "\n",
        "id(a) == id(b) # False\n",
        "# python은 실제 값을 비교해준다"
      ],
      "metadata": {
        "colab": {
          "base_uri": "https://localhost:8080/"
        },
        "collapsed": true,
        "id": "2WuvxDs7ma0F",
        "outputId": "22e1a2be-3995-430e-ad3e-cec37b698a45"
      },
      "execution_count": null,
      "outputs": [
        {
          "output_type": "execute_result",
          "data": {
            "text/plain": [
              "False"
            ]
          },
          "metadata": {},
          "execution_count": 148
        }
      ]
    },
    {
      "cell_type": "code",
      "source": [
        "# car1은 Car의 인스턴스입니다!\n",
        "value = 10 # value = int(value)\n",
        "# value는 int의 인스턴스입니다!\n",
        "value = 10.0 # value = float(value)\n",
        "# value는 float의 인스턴스입니다!\n",
        "value = [10, 20, 30]\n",
        "# value는 list의 인스턴스입니다!\n",
        "value = (10, 20, 30)\n",
        "# value는 tuple의 인스턴스입니다!"
      ],
      "metadata": {
        "id": "M18urZN2m7e0"
      },
      "execution_count": null,
      "outputs": []
    },
    {
      "cell_type": "markdown",
      "source": [
        "## 클래스 변수와 인스턴스 변수"
      ],
      "metadata": {
        "id": "NSVJjNvve39_"
      }
    },
    {
      "cell_type": "code",
      "source": [
        "# 클래스 변수\n",
        "# - 설계 도면에 포함되어야 하는 것,\n",
        "# - 클래스 바로 아래 선언합니다.\n",
        "# - 모든 인스턴스가 이 변수를 공유합니다.\n",
        "\n",
        "# 인스턴스 변수\n",
        "# - 생산품에 포함되어야 하는 것\n",
        "# - 보통 __init__ 아래 선언합니다.\n",
        "# - 인스턴스 고유의 영역입니다.\n",
        "\n",
        "class Car:\n",
        "    # 클래스 변수 위치\n",
        "    max_speed = 300\n",
        "    max_people = 5\n",
        "\n",
        "modelx = Car()"
      ],
      "metadata": {
        "id": "YqTJWu7wed4h"
      },
      "execution_count": null,
      "outputs": []
    },
    {
      "cell_type": "code",
      "source": [
        "Car.max_speed"
      ],
      "metadata": {
        "colab": {
          "base_uri": "https://localhost:8080/"
        },
        "id": "BHsGUNrBhyo_",
        "outputId": "6f249c00-d25d-423a-f2de-996132d11566"
      },
      "execution_count": null,
      "outputs": [
        {
          "output_type": "execute_result",
          "data": {
            "text/plain": [
              "300"
            ]
          },
          "metadata": {},
          "execution_count": 7
        }
      ]
    },
    {
      "cell_type": "code",
      "source": [
        "Car.max_people"
      ],
      "metadata": {
        "colab": {
          "base_uri": "https://localhost:8080/"
        },
        "id": "tYV9WgRgh4CW",
        "outputId": "96beeffe-d36e-4d9c-d9fb-e0f378c57da4"
      },
      "execution_count": null,
      "outputs": [
        {
          "output_type": "execute_result",
          "data": {
            "text/plain": [
              "5"
            ]
          },
          "metadata": {},
          "execution_count": 8
        }
      ]
    },
    {
      "cell_type": "code",
      "source": [
        "# self의 정체! - self는 해당 인스턴스를 의미합니다.\n",
        "\n",
        "\n",
        "class Car:\n",
        "    # 클래스 변수 위치\n",
        "    max_speed = 300\n",
        "    max_people = 5\n",
        "\n",
        "    def __init__(self, 구매자):\n",
        "        # __init__ => 매직 메서드: 호출하는 용도가 아니라 클래스가 인스턴스를 찍어낼 때 자동으로 실행\n",
        "        # 인스턴스 변수 위치    # self는 인스턴스에 있는 파라미터 # 여기선 modela이다\n",
        "        # 'self.변수이름'의 형태\n",
        "        self.차구매자 = 구매자\n",
        "\n",
        "\n",
        "\n",
        "\n",
        "modela = Car('구매자1') # Car.__init__(modela, '구매자1') 이렇게 들어가는 것처럼 작동한다.\n",
        "modelb = Car('구매자2')\n",
        "\n",
        "modela.차구매자\n",
        "modelb.차구매자\n",
        "\n",
        "# 인스턴스 변수를 이렇게 넣을 수도 있습니다!\n",
        "modela.스마트키 = '키티 스마트키'\n",
        "modela.스마트키\n",
        "# .으로 접근하는 것이 생소하다면 => list나 tuple, dict 생각하라\n",
        "# l.append()과 같은 원리"
      ],
      "metadata": {
        "colab": {
          "base_uri": "https://localhost:8080/",
          "height": 35
        },
        "id": "kvWXnTP5h83e",
        "outputId": "74c9bec4-92db-4815-b311-d745385fe4c2"
      },
      "execution_count": null,
      "outputs": [
        {
          "output_type": "execute_result",
          "data": {
            "text/plain": [
              "'키티 스마트키'"
            ],
            "application/vnd.google.colaboratory.intrinsic+json": {
              "type": "string"
            }
          },
          "metadata": {},
          "execution_count": 12
        }
      ]
    },
    {
      "cell_type": "code",
      "source": [
        "# 비교해보면...\n",
        "# 초급자의 마음:\n",
        "# 클래스가 더 복잡하고 난해하다\n",
        "# 굳이 이렇게 해야 하나..?\n",
        "\n",
        "# 항공사, 편명, 좌석번호, 이름, 나이, 짐무게(kg), 마일리지\n",
        "data = [\n",
        "    ['대한항공', 'KE607', '12A', '김민준', 42, 23, 5280],\n",
        "    ['아시아나', 'OZ721', '8C', '이', 29, 18, 3450],\n",
        "    ['제주항공', '7C101', '15F', '박지민', 35, 15, 720],\n",
        "    ['진에어', 'LJ211', '4D', '최서우미래한별', 51, 27, 8900],\n",
        "    ['에어부산', 'BX213', '21B', '정', 24, 12, 1250],\n",
        "    ['티웨이', 'TW305', '19E', '강민석', 38, 20, 2760],\n",
        "    ['에어서울', 'RS808', '3C', '윤지현', 47, 16, 4320],\n",
        "    ['대한항공', 'KE123', '7F', '송', 33, 21, 6780],\n",
        "    ['아시아나', 'OZ562', '11D', '장하은별님달빛', 26, 19, 1890],\n",
        "    ['제주항공', '7C505', '17B', '황수진', 40, 14, 940]\n",
        "]\n",
        "\n",
        "# 항공사, 편명, 좌석번호, 이름, 나이, 짐무게(kg), 마일리지\n",
        "class Passenger:\n",
        "    def __init__(self, 항공사, 편명, 좌석번호, 이름, 나이, 짐무게, 마일리지):\n",
        "        self.항공사 = 항공사\n",
        "        self.편명 = 편명\n",
        "        self.좌석번호 = 좌석번호\n",
        "        self.이름 = 이름\n",
        "        self.나이 = 나이\n",
        "        self.짐무게 = 짐무게\n",
        "        self.마일리지 = 마일리지\n",
        "\n",
        "p1 = Passenger('대한항공', 'KE607', '12A', '김민준', 42, 23, 5280)\n",
        "p2 = Passenger('아시아나', 'OZ721', '8C', '이', 29, 18, 3450)\n",
        "p3 = Passenger('제주항공', '7C101', '15F', '박지민', 35, 15, 720)\n",
        "\n",
        "p1.이름\n"
      ],
      "metadata": {
        "colab": {
          "base_uri": "https://localhost:8080/",
          "height": 35
        },
        "id": "A3YL2HGDlTdx",
        "outputId": "89a6e16d-6ab0-4753-8c37-8c67968b04c6"
      },
      "execution_count": null,
      "outputs": [
        {
          "output_type": "execute_result",
          "data": {
            "text/plain": [
              "'김민준'"
            ],
            "application/vnd.google.colaboratory.intrinsic+json": {
              "type": "string"
            }
          },
          "metadata": {},
          "execution_count": 13
        }
      ]
    },
    {
      "cell_type": "code",
      "source": [
        "# 중급자 입장:\n",
        "# 1. 예를 들어서 print로 출력을 했을 때 출력되는 길이가 너무 긴 경우가 있을 수 있다\n",
        "# 2. 예를 들어 data끼리 더해야 될 때가 있다\n",
        "\n",
        "# 항공사, 편명, 좌석번호, 이름, 나이, 짐무게(kg), 마일리지\n",
        "data = [\n",
        "    ['대한항공', 'KE607', '12A', '김민준', 42, 23, 5280],\n",
        "    ['아시아나', 'OZ721', '8C', '이', 29, 18, 3450],\n",
        "    ['제주항공', '7C101', '15F', '박지민', 35, 15, 720],\n",
        "    ['진에어', 'LJ211', '4D', '최서우미래한별', 51, 27, 8900],\n",
        "    ['에어부산', 'BX213', '21B', '정', 24, 12, 1250],\n",
        "    ['티웨이', 'TW305', '19E', '강민석', 38, 20, 2760],\n",
        "    ['에어서울', 'RS808', '3C', '윤지현', 47, 16, 4320],\n",
        "    ['대한항공', 'KE123', '7F', '송', 33, 21, 6780],\n",
        "    ['아시아나', 'OZ562', '11D', '장하은별님달빛', 26, 19, 1890],\n",
        "    ['제주항공', '7C505', '17B', '황수진', 40, 14, 940]\n",
        "]\n",
        "\n",
        "data[0] # 1 수천 자 출력할 수도 있다...\n",
        "data[0] + data[1] # 2 나는 마일리지 더하기를 하고 싶었는데?"
      ],
      "metadata": {
        "colab": {
          "base_uri": "https://localhost:8080/"
        },
        "id": "jJ4NCdH-mt9b",
        "outputId": "1dd795aa-3cb0-45c3-8e23-d06513175fbe"
      },
      "execution_count": null,
      "outputs": [
        {
          "output_type": "execute_result",
          "data": {
            "text/plain": [
              "['대한항공',\n",
              " 'KE607',\n",
              " '12A',\n",
              " '김민준',\n",
              " 42,\n",
              " 23,\n",
              " 5280,\n",
              " '아시아나',\n",
              " 'OZ721',\n",
              " '8C',\n",
              " '이',\n",
              " 29,\n",
              " 18,\n",
              " 3450]"
            ]
          },
          "metadata": {},
          "execution_count": 150
        }
      ]
    },
    {
      "cell_type": "code",
      "source": [
        "# 중급자의 해결법\n",
        "\n",
        "class Passenger:\n",
        "    def __init__(self, 항공사, 편명, 좌석번호, 이름, 나이, 짐무게, 마일리지):\n",
        "        self.항공사 = 항공사\n",
        "        self.편명 = 편명\n",
        "        self.좌석번호 = 좌석번호\n",
        "        self.이름 = 이름\n",
        "        self.나이 = 나이\n",
        "        self.짐무게 = 짐무게\n",
        "        self.마일리지 = 마일리지\n",
        "\n",
        "    def __str__(self):\n",
        "        return f'{self.이름}, {self.나이}!!'\n",
        "\n",
        "\n",
        "    def __add__(self,next):\n",
        "        return self.마일리지 + next.마일리지\n",
        "\n",
        "p1 = Passenger('대한항공', 'KE607', '12A', '김민준', 42, 23, 5280)\n",
        "p2 = Passenger('아시아나', 'OZ721', '8C', '이', 29, 18, 3450)\n",
        "p3 = Passenger('제주항공', '7C101', '15F', '박지민', 35, 15, 720)\n",
        "\n",
        "print(p1)\n",
        "p1 + p2 # 마일리지 점수끼리 합한 것"
      ],
      "metadata": {
        "colab": {
          "base_uri": "https://localhost:8080/"
        },
        "id": "peMzvcbrnc4v",
        "outputId": "31f41ef8-3b12-4875-86ab-134283b052de"
      },
      "execution_count": null,
      "outputs": [
        {
          "output_type": "stream",
          "name": "stdout",
          "text": [
            "김민준, 42!!\n"
          ]
        },
        {
          "output_type": "execute_result",
          "data": {
            "text/plain": [
              "8730"
            ]
          },
          "metadata": {},
          "execution_count": 16
        }
      ]
    },
    {
      "cell_type": "code",
      "source": [
        "# 어려운 길을 만날 때마다 느끼는 나의 마음\n",
        "\n",
        "# 이게 과연 나의 길일까?\n",
        "# 내가 할 수 있을까?\n",
        "# 내가 해야 할까?\n",
        "\n",
        "# 어려운 것을 만나면 더 어려운 부분을 찾아보자.\n",
        "# 왜냐하면 그것이 차이를 만들어 낼테니까\n",
        "# 남들도 어려우니\n",
        "\n",
        "# 이 차이가 '경쟁력'이 되는 것이고\n",
        "# 많은 경우에 '경제력'도 된다\n",
        "\n",
        "# 어려움이 가치를 만들어내는 경우가 많다"
      ],
      "metadata": {
        "id": "oKmsVXSGrNRK"
      },
      "execution_count": null,
      "outputs": []
    },
    {
      "cell_type": "code",
      "source": [
        "class Dot:\n",
        "\n",
        "    def __init__(self, x, y):\n",
        "        self.x = x\n",
        "        self.y = y\n",
        "\n",
        "a = Dot(1, 1)\n",
        "b = Dot(2, 2)\n",
        "\n",
        "a + b # '+'기호는 a에 __add__를 실행합니다!"
      ],
      "metadata": {
        "colab": {
          "base_uri": "https://localhost:8080/",
          "height": 184
        },
        "id": "TUb7rhX_o9qf",
        "outputId": "a22a9449-7127-4b43-b39e-fd347995bd03"
      },
      "execution_count": null,
      "outputs": [
        {
          "output_type": "error",
          "ename": "TypeError",
          "evalue": "unsupported operand type(s) for +: 'Dot' and 'Dot'",
          "traceback": [
            "\u001b[0;31m---------------------------------------------------------------------------\u001b[0m",
            "\u001b[0;31mTypeError\u001b[0m                                 Traceback (most recent call last)",
            "\u001b[0;32m<ipython-input-20-821f71a93882>\u001b[0m in \u001b[0;36m<cell line: 0>\u001b[0;34m()\u001b[0m\n\u001b[1;32m      8\u001b[0m \u001b[0mb\u001b[0m \u001b[0;34m=\u001b[0m \u001b[0mDot\u001b[0m\u001b[0;34m(\u001b[0m\u001b[0;36m2\u001b[0m\u001b[0;34m,\u001b[0m \u001b[0;36m2\u001b[0m\u001b[0;34m)\u001b[0m\u001b[0;34m\u001b[0m\u001b[0;34m\u001b[0m\u001b[0m\n\u001b[1;32m      9\u001b[0m \u001b[0;34m\u001b[0m\u001b[0m\n\u001b[0;32m---> 10\u001b[0;31m \u001b[0ma\u001b[0m \u001b[0;34m+\u001b[0m \u001b[0mb\u001b[0m \u001b[0;31m# '+'기호는 Dot에 __add__를 실행합니다!\u001b[0m\u001b[0;34m\u001b[0m\u001b[0;34m\u001b[0m\u001b[0m\n\u001b[0m",
            "\u001b[0;31mTypeError\u001b[0m: unsupported operand type(s) for +: 'Dot' and 'Dot'"
          ]
        }
      ]
    },
    {
      "cell_type": "code",
      "source": [
        "class Dot:\n",
        "\n",
        "    def __init__(self, x, y):\n",
        "        self.x = x\n",
        "        self.y = y\n",
        "\n",
        "    def __add__(self, next):\n",
        "        return [self.x + next.x, self.y + next.y]\n",
        "\n",
        "    def __mul__(self, next):\n",
        "        return [self.x * next.x, self.y * next.y]\n",
        "\n",
        "a = Dot(1, 1)\n",
        "b = Dot(2, 2)\n",
        "\n",
        "a + b # '+'기호는 a에 __add__를 실행합니다!\n",
        "a * b # '*'기호는 a에 __mul__를 실행합니다!"
      ],
      "metadata": {
        "colab": {
          "base_uri": "https://localhost:8080/"
        },
        "id": "5A0iLt-PvqHk",
        "outputId": "32858c67-e92a-4db6-8a2b-f85e540360c6"
      },
      "execution_count": null,
      "outputs": [
        {
          "output_type": "execute_result",
          "data": {
            "text/plain": [
              "[2, 2]"
            ]
          },
          "metadata": {},
          "execution_count": 25
        }
      ]
    },
    {
      "cell_type": "code",
      "source": [
        "a = 10 # a는 int라는 클래스에 인스턴스입니다!\n",
        "b = 20 # b는 int라는 클래스에 인스턴스입니다!\n",
        "\n",
        "a + b # a인스턴스의 __add__를 실행시킨 결과를 보여주세요!\n",
        "a * b # a인스턴스의 __mul__를 실행시킨 결과를 보여주세요!"
      ],
      "metadata": {
        "colab": {
          "base_uri": "https://localhost:8080/"
        },
        "id": "LV_ITKuMwywY",
        "outputId": "1310056c-ade8-404e-d0d9-9ecb9e180f42"
      },
      "execution_count": null,
      "outputs": [
        {
          "output_type": "execute_result",
          "data": {
            "text/plain": [
              "30"
            ]
          },
          "metadata": {},
          "execution_count": 24
        }
      ]
    },
    {
      "cell_type": "code",
      "source": [
        "class Dot:\n",
        "\n",
        "    def __init__(self, x, y):\n",
        "        self.x = x\n",
        "        self.y = y\n",
        "\n",
        "    def __eq__(self, next):\n",
        "        # return False\n",
        "        return self.x == next.x and self.y == next.y\n",
        "\n",
        "a = Dot(1, 1)\n",
        "b = Dot(1, 2)\n",
        "\n",
        "a == b # '=='기호는 a에 __eq__를 실행합니다!"
      ],
      "metadata": {
        "colab": {
          "base_uri": "https://localhost:8080/"
        },
        "id": "N3wtGEEIylKJ",
        "outputId": "cf7421fb-bd34-47e2-c9ff-5adbb3c6b1b3"
      },
      "execution_count": null,
      "outputs": [
        {
          "output_type": "execute_result",
          "data": {
            "text/plain": [
              "False"
            ]
          },
          "metadata": {},
          "execution_count": 40
        }
      ]
    },
    {
      "cell_type": "code",
      "source": [
        "l = [10, 20] # l은 list라는 클래스에 인스턴스이다!\n",
        "ll = [10, 20] # ll은 list라는 클래스에 인스턴스이다!\n",
        "\n",
        "l == ll # l인스턴스의 __eq__를 실행시킨 결과를 보여주세요!"
      ],
      "metadata": {
        "colab": {
          "base_uri": "https://localhost:8080/"
        },
        "id": "XkRVnbSGx_ar",
        "outputId": "917c04f8-0af9-4433-8c09-e4a0595846a1"
      },
      "execution_count": null,
      "outputs": [
        {
          "output_type": "execute_result",
          "data": {
            "text/plain": [
              "True"
            ]
          },
          "metadata": {},
          "execution_count": 26
        }
      ]
    },
    {
      "cell_type": "code",
      "source": [
        "dir(l) # __add__가 있기 때문에 +가 되는 자료형이라는 것을 알 수 있다"
      ],
      "metadata": {
        "colab": {
          "base_uri": "https://localhost:8080/"
        },
        "collapsed": true,
        "id": "gW7grOpMzoP7",
        "outputId": "7e066ab7-2002-44e0-8eea-107309361552"
      },
      "execution_count": null,
      "outputs": [
        {
          "output_type": "execute_result",
          "data": {
            "text/plain": [
              "['__add__',\n",
              " '__class__',\n",
              " '__class_getitem__',\n",
              " '__contains__',\n",
              " '__delattr__',\n",
              " '__delitem__',\n",
              " '__dir__',\n",
              " '__doc__',\n",
              " '__eq__',\n",
              " '__format__',\n",
              " '__ge__',\n",
              " '__getattribute__',\n",
              " '__getitem__',\n",
              " '__getstate__',\n",
              " '__gt__',\n",
              " '__hash__',\n",
              " '__iadd__',\n",
              " '__imul__',\n",
              " '__init__',\n",
              " '__init_subclass__',\n",
              " '__iter__',\n",
              " '__le__',\n",
              " '__len__',\n",
              " '__lt__',\n",
              " '__mul__',\n",
              " '__ne__',\n",
              " '__new__',\n",
              " '__reduce__',\n",
              " '__reduce_ex__',\n",
              " '__repr__',\n",
              " '__reversed__',\n",
              " '__rmul__',\n",
              " '__setattr__',\n",
              " '__setitem__',\n",
              " '__sizeof__',\n",
              " '__str__',\n",
              " '__subclasshook__',\n",
              " 'append',\n",
              " 'clear',\n",
              " 'copy',\n",
              " 'count',\n",
              " 'extend',\n",
              " 'index',\n",
              " 'insert',\n",
              " 'pop',\n",
              " 'remove',\n",
              " 'reverse',\n",
              " 'sort']"
            ]
          },
          "metadata": {},
          "execution_count": 41
        }
      ]
    },
    {
      "cell_type": "code",
      "source": [
        "class Dot:\n",
        "\n",
        "    def __init__(self, x, y):\n",
        "        self.x = x\n",
        "        self.y = y\n",
        "\n",
        "\n",
        "\n",
        "\n",
        "a = Dot(1, 1)\n",
        "\n",
        "\n",
        "print(a) # <__main__.Dot object at 0x7bbe6db08710> 나는 이렇게 출력하고 싶지 않은데?\n",
        "# [1, 1] 리스트와 형태가 비슷하네?\n",
        "# (1, 1) 튜플과 형태가 비슷하네?\n",
        "# {1, 1} 딕트와 형태가 비슷하네?\n",
        "#\n",
        "#"
      ],
      "metadata": {
        "colab": {
          "base_uri": "https://localhost:8080/"
        },
        "id": "fZVgSXmHzv_7",
        "outputId": "79c5d99f-698c-4f2c-f800-1875f0476bf6"
      },
      "execution_count": null,
      "outputs": [
        {
          "output_type": "stream",
          "name": "stdout",
          "text": [
            "<__main__.Dot object at 0x7bbe5e8fed90>\n"
          ]
        }
      ]
    },
    {
      "cell_type": "code",
      "source": [
        "class Dot:\n",
        "\n",
        "    def __init__(self, x, y):\n",
        "        self.x = x\n",
        "        self.y = y\n",
        "\n",
        "    def __str__(self):\n",
        "        # return f'<{self.x}, {self.y}>'\n",
        "        return 'hello world'\n",
        "\n",
        "a = Dot(1, 1)\n",
        "b = Dot(2, 2)\n",
        "\n",
        "print(a) # print는 a의 __str__을 실행합니다.\n",
        "print(b) # print는 a의 __str__을 실행합니다."
      ],
      "metadata": {
        "colab": {
          "base_uri": "https://localhost:8080/"
        },
        "id": "jFp3eTtj1CYE",
        "outputId": "9064c5b8-99a5-448e-872d-965c23cb1dab"
      },
      "execution_count": null,
      "outputs": [
        {
          "output_type": "stream",
          "name": "stdout",
          "text": [
            "hello world\n"
          ]
        }
      ]
    },
    {
      "cell_type": "code",
      "source": [
        "a = 10\n",
        "# a는 무엇이죠?\n",
        "# a는 int 클래스의 인스턴스 입니다.\n",
        "\n",
        "print(a)\n",
        "# 출력되는 결과는 무엇이죠?\n",
        "# a 인스턴스의 __str__를 실행시킨 결과(__str__ 메서드의 return)입니다.\n",
        "# 그 return 값은 10입니다."
      ],
      "metadata": {
        "id": "3JSwAi051VMy"
      },
      "execution_count": null,
      "outputs": []
    },
    {
      "cell_type": "markdown",
      "source": [
        "## 클래스 연습문제"
      ],
      "metadata": {
        "id": "rUYbseS830GT"
      }
    },
    {
      "cell_type": "code",
      "source": [
        "## 문제 1: 간단한 Book 클래스 만들기\n",
        "# 책을 표현하는 Book 클래스를 만들어보세요.\n",
        "# 책은 제목, 저자, 페이지 수를 가지며, 책 정보를 출력하는 기능이 있어야 합니다.\n",
        "\n",
        "\n",
        "# Book 클래스를 구현하세요\n",
        "# 요구사항:\n",
        "# 1. 제목(title), 저자(author), 페이지 수(pages)를 속성으로 가짐  ##(인스턴스 변수로 들어가야 한다)\n",
        "# 2. __str__ 메서드를 구현하여 책 정보를 \"제목 (저자, 페이지수 쪽)\" 형식으로 출력\n",
        "# 3. book1과 book2를 비교했을 때 페이지 수가 많은 책이 \"더 큰\" 책이 되도록 __gt__ 메서드 구현\n",
        "\n",
        "\n",
        "class Book():\n",
        "    def __init__(self, title, author, pages):\n",
        "        # 보일러 플레이트 코드 (매번 반복적으로 써야 하는 고드)\n",
        "        self.title = title\n",
        "        self.author = author\n",
        "        self.pages = pages\n",
        "\n",
        "    def __str__(self):\n",
        "        return f'{self.title} ({self.author}, {self.pages} 쪽)'\n",
        "\n",
        "    def __gt__(self,next):\n",
        "        return self.pages > next.pages\n",
        "\n",
        "# 예시 실행 코드\n",
        "book1 = Book(\"파이썬 기초\", \"김코딩\", 200)\n",
        "book2 = Book(\"자바 기초\", \"이자바\", 300)\n",
        "\n",
        "print(book1)  # 출력 예상: 파이썬 기초 (김코딩, 200 쪽)\n",
        "print(book2 > book1)  # 출력 예상: True (300 > 200)"
      ],
      "metadata": {
        "colab": {
          "base_uri": "https://localhost:8080/"
        },
        "id": "sjJP-OJp37no",
        "outputId": "1c53ebc4-d1df-462a-c606-5633cd247ad4"
      },
      "execution_count": null,
      "outputs": [
        {
          "output_type": "stream",
          "name": "stdout",
          "text": [
            "파이썬 기초 (김코딩, 200 쪽)\n",
            "True\n"
          ]
        }
      ]
    },
    {
      "cell_type": "code",
      "source": [
        "# ---------------------------------------------\n",
        "## 문제 2: 계산기 클래스 만들기\n",
        "# 사칙연산을 수행할 수 있는 Calculator 클래스를 만들어보세요.\n",
        "\n",
        "# Calculator 클래스를 구현하세요\n",
        "# 요구사항:\n",
        "# 1. 덧셈, 뺄셈, 곱셈, 나눗셈 기능 구현\n",
        "# 2. 계산 기록을 저장하는 기능 추가\n",
        "# 3. 마지막 계산 결과를 기억하고 있어야 함\n",
        "\n",
        "# 문제가 있는 문제입니다.\n",
        "# 앞에서 book은 확실히 데이터가 찍어낼 필요가 있는 데이터\n",
        "# 이러한 계산기는 그냥 함수로 구현하시면 됩니다.\n",
        "# 굳이 class로 '찍어낼 필요'가 있진 않아요.\n",
        "\n",
        "class Calculator:\n",
        "    def __init__(self):\n",
        "        self.history = []\n",
        "\n",
        "    def add(self, a, b):\n",
        "        self.history.append(f'{a} + {b} = {a + b}')\n",
        "        return a + b\n",
        "\n",
        "    def subtract(self, a, b):\n",
        "        self.history.append(f'{a} - {b} = {a - b}')\n",
        "        return a - b\n",
        "\n",
        "    def multiply(self, a, b):\n",
        "        self.history.append(f'{a} * {b} = {a * b}')\n",
        "        return a * b\n",
        "\n",
        "    def divide(self, a, b):\n",
        "        self.history.append(f'{a} / {b} = {a / b}')\n",
        "        return a / b\n",
        "\n",
        "    def get_history(self):\n",
        "        return self.history\n",
        "\n",
        "    def get_last_result(self):\n",
        "        return self.history[-1]\n",
        "\n",
        "# 예시 실행 코드\n",
        "calc = Calculator()\n",
        "print(calc.add(5, 3))  # 출력 예상: 8\n",
        "print(calc.subtract(10, 7))  # 출력 예상: 3\n",
        "print(calc.multiply(4, 2))  # 출력 예상: 8\n",
        "print(calc.divide(9, 3))  # 출력 예상: 3.0\n",
        "print(calc.get_history())  # 출력 예상: ['5 + 3 = 8', '10 - 7 = 3', '4 * 2 = 8', '9 / 3 = 3.0']\n",
        "print(calc.get_last_result())  # 출력 예상: 3.0"
      ],
      "metadata": {
        "colab": {
          "base_uri": "https://localhost:8080/"
        },
        "id": "5o6p9wnL4XFQ",
        "outputId": "90f07762-56a1-4de2-e12d-d2703c3b54c3"
      },
      "execution_count": null,
      "outputs": [
        {
          "output_type": "stream",
          "name": "stdout",
          "text": [
            "8\n",
            "3\n",
            "8\n",
            "3.0\n",
            "['5 + 3 = 8', '10 - 7 = 3', '4 * 2 = 8', '9 / 3 = 3.0']\n",
            "9 / 3 = 3.0\n"
          ]
        }
      ]
    },
    {
      "cell_type": "code",
      "source": [
        "# ---------------------------------------------\n",
        "## 문제 3: 간단한 학생 성적 관리 클래스 만들기\n",
        "# 학생들의 성적을 관리하는 GradeBook 클래스를 만들어보세요.\n",
        "\n",
        "# GradeBook 클래스를 구현하세요\n",
        "# 요구사항:\n",
        "# 1. 학생 이름과 점수를 추가하는 기능\n",
        "# 2. 전체 학생 목록과 점수를 출력하는 기능\n",
        "# 3. 최고 점수와 해당 학생 이름을 반환하는 기능\n",
        "# 4. 평균 점수를 계산하는 기능\n",
        "\n",
        "class GradeBook:\n",
        "    def __init__(self):\n",
        "        self.students = []\n",
        "\n",
        "    def add_student(self):\n",
        "        pass\n",
        "\n",
        "    def print_grades(self):\n",
        "        pass\n",
        "\n",
        "    def get_highest_grade(self):\n",
        "        pass\n",
        "\n",
        "    def get_average(self):\n",
        "        pass\n",
        "\n",
        "\n",
        "# 예시 실행 코드\n",
        "gradebook = GradeBook()\n",
        "gradebook.add_student(\"김철수\", 85)\n",
        "gradebook.add_student(\"이영희\", 92)\n",
        "gradebook.add_student(\"박민수\", 78)\n",
        "gradebook.add_student(\"정지원\", 95)\n",
        "\n",
        "gradebook.print_grades()  # 모든 학생의 이름과 점수 출력\n",
        "print(f\"최고 점수: {gradebook.get_highest_grade()}\")  # 출력 예상: 최고 점수: ('정지원', 95)\n",
        "print(f\"평균 점수: {gradebook.get_average()}\")  # 출력 예상: 평균 점수: 87.5"
      ],
      "metadata": {
        "colab": {
          "base_uri": "https://localhost:8080/",
          "height": 239
        },
        "id": "G5q3qDPm4aMP",
        "outputId": "6f17b3f6-2e9d-4335-cacc-af6ef55a2646"
      },
      "execution_count": null,
      "outputs": [
        {
          "output_type": "error",
          "ename": "TypeError",
          "evalue": "GradeBook.__init__() missing 4 required positional arguments: 'add_student', 'print_grades', 'get_highest_grade', and 'get_average'",
          "traceback": [
            "\u001b[0;31m---------------------------------------------------------------------------\u001b[0m",
            "\u001b[0;31mTypeError\u001b[0m                                 Traceback (most recent call last)",
            "\u001b[0;32m<ipython-input-59-a4688387a6bb>\u001b[0m in \u001b[0;36m<cell line: 0>\u001b[0;34m()\u001b[0m\n\u001b[1;32m     28\u001b[0m \u001b[0;34m\u001b[0m\u001b[0m\n\u001b[1;32m     29\u001b[0m \u001b[0;31m# 예시 실행 코드\u001b[0m\u001b[0;34m\u001b[0m\u001b[0;34m\u001b[0m\u001b[0m\n\u001b[0;32m---> 30\u001b[0;31m \u001b[0mgradebook\u001b[0m \u001b[0;34m=\u001b[0m \u001b[0mGradeBook\u001b[0m\u001b[0;34m(\u001b[0m\u001b[0;34m)\u001b[0m\u001b[0;34m\u001b[0m\u001b[0;34m\u001b[0m\u001b[0m\n\u001b[0m\u001b[1;32m     31\u001b[0m \u001b[0mgradebook\u001b[0m\u001b[0;34m.\u001b[0m\u001b[0madd_student\u001b[0m\u001b[0;34m(\u001b[0m\u001b[0;34m\"김철수\"\u001b[0m\u001b[0;34m,\u001b[0m \u001b[0;36m85\u001b[0m\u001b[0;34m)\u001b[0m\u001b[0;34m\u001b[0m\u001b[0;34m\u001b[0m\u001b[0m\n\u001b[1;32m     32\u001b[0m \u001b[0mgradebook\u001b[0m\u001b[0;34m.\u001b[0m\u001b[0madd_student\u001b[0m\u001b[0;34m(\u001b[0m\u001b[0;34m\"이영희\"\u001b[0m\u001b[0;34m,\u001b[0m \u001b[0;36m92\u001b[0m\u001b[0;34m)\u001b[0m\u001b[0;34m\u001b[0m\u001b[0;34m\u001b[0m\u001b[0m\n",
            "\u001b[0;31mTypeError\u001b[0m: GradeBook.__init__() missing 4 required positional arguments: 'add_student', 'print_grades', 'get_highest_grade', and 'get_average'"
          ]
        }
      ]
    },
    {
      "cell_type": "code",
      "source": [
        "# ---------------------------------------------\n",
        "## 문제 3: 간단한 학생 성적 관리 클래스 만들기\n",
        "# 학생들의 성적을 관리하는 GradeBook 클래스를 만들어보세요.\n",
        "\n",
        "# GradeBook 클래스를 구현하세요\n",
        "# 요구사항:\n",
        "# 1. 학생 이름과 점수를 추가하는 기능\n",
        "# 2. 전체 학생 목록과 점수를 출력하는 기능\n",
        "# 3. 최고 점수와 해당 학생 이름을 반환하는 기능\n",
        "# 4. 평균 점수를 계산하는 기능\n",
        "\n",
        "class GradeBook:\n",
        "    def __init__(self):\n",
        "        self.students = []\n",
        "\n",
        "    def add_student(self, name, score):\n",
        "        self.students.append((name, score))\n",
        "\n",
        "    def print_grades(self):\n",
        "        return self.students\n",
        "\n",
        "    def get_highest_grade(self):\n",
        "        def f(x):\n",
        "            return x[1]\n",
        "        return sorted(self.students, key=f, reverse=True)[0]\n",
        "\n",
        "    def get_average(self):\n",
        "        def f(x):\n",
        "            return x[1]\n",
        "        return sum(map(f, self.students)) / len(self.students)\n",
        "\n",
        "\n",
        "# 예시 실행 코드\n",
        "gradebook = GradeBook()\n",
        "gradebook.add_student(\"김철수\", 85)\n",
        "gradebook.add_student(\"이영희\", 92)\n",
        "gradebook.add_student(\"박민수\", 78)\n",
        "gradebook.add_student(\"정지원\", 95)\n",
        "\n",
        "gradebook.print_grades()  # 모든 학생의 이름과 점수 출력\n",
        "print(f\"최고 점수: {gradebook.get_highest_grade()}\")  # 출력 예상: 최고 점수: ('정지원', 95)\n",
        "print(f\"평균 점수: {gradebook.get_average()}\")  # 출력 예상: 평균 점수: 87.5"
      ],
      "metadata": {
        "colab": {
          "base_uri": "https://localhost:8080/"
        },
        "id": "5DRxrBIFVFVh",
        "outputId": "c241dfcb-f286-474c-f568-28e53d27259e"
      },
      "execution_count": null,
      "outputs": [
        {
          "output_type": "stream",
          "name": "stdout",
          "text": [
            "최고 점수: ('정지원', 95)\n",
            "평균 점수: 87.5\n"
          ]
        }
      ]
    },
    {
      "cell_type": "code",
      "source": [
        "# ---------------------------------------------\n",
        "## 나아가기\n",
        "## 실무라면 어떻게 하는 것이 좋았을까요?\n",
        "## => class로 변환할 수 있는 것은 모두 클래스로 변경했을 것입니다.\n",
        "\n",
        "class Student:\n",
        "    def __init__(self, name, score, phone='000-0000-0000', email=''):\n",
        "        self.name = name\n",
        "        self.score = score\n",
        "        self.phone = phone\n",
        "        self.email = email\n",
        "\n",
        "    def __str__(self): # print를 하면 출력해주는 문자열\n",
        "        return f'{self.name}'\n",
        "\n",
        "    def __repr__(self): # 이 객체를 대표하는 문자열, print를 안하고 출력하면 이 문자열을 출력합니다.\n",
        "        return f'{self.name}'\n",
        "\n",
        "class GradeBook:\n",
        "    def __init__(self):\n",
        "        self.students = []\n",
        "\n",
        "    def add_student(self, name, score, phone='000-0000-0000', email=''):\n",
        "        self.students.append(Student(name, score, phone, email))\n",
        "\n",
        "    def print_grades(self):\n",
        "        return self.students\n",
        "\n",
        "# 예시 실행 코드\n",
        "gradebook = GradeBook()\n",
        "gradebook.add_student(\"김철수\", 85, '010-5044-2903')\n",
        "gradebook.add_student(\"이영희\", 92)\n",
        "gradebook.add_student(\"박민수\", 78)\n",
        "gradebook.add_student(\"정지원\", 95)\n",
        "\n",
        "gradebook.print_grades()\n",
        "\n",
        "data = gradebook.print_grades()\n",
        "data[0].score\n",
        "data[0].phone"
      ],
      "metadata": {
        "colab": {
          "base_uri": "https://localhost:8080/",
          "height": 35
        },
        "id": "fikk_bfqY-vo",
        "outputId": "da73ac05-493c-480c-b332-e6959e3a3542"
      },
      "execution_count": null,
      "outputs": [
        {
          "output_type": "execute_result",
          "data": {
            "text/plain": [
              "'010-5044-2903'"
            ],
            "application/vnd.google.colaboratory.intrinsic+json": {
              "type": "string"
            }
          },
          "metadata": {},
          "execution_count": 93
        }
      ]
    },
    {
      "cell_type": "markdown",
      "source": [
        "## 상속\n",
        "- 부모 클래스(또는 기본 클래스, 슈퍼 클래스): 특성이 상속되는 클래스.\n",
        "\n",
        "- 자식 클래스(또는 파생 클래스, 서브 클래스): 부모 클래스의 특성을 상속받는 클래스."
      ],
      "metadata": {
        "id": "Bo9sKYolhTkf"
      }
    },
    {
      "cell_type": "code",
      "source": [
        "# 국내 학생\n",
        "\n",
        "class Student:\n",
        "    def __init__(self, name, score, phone, email):\n",
        "        self.name = name\n",
        "        self.score = score\n",
        "        self.phone = phone\n",
        "        self.email = email\n",
        "\n",
        "    def __repr__(self):\n",
        "        return self.name\n",
        "\n",
        "# 외국학생이 들어왔습니다!? 1 / 10000 명이 들어왔어요.\n",
        "# 이 한 명을 위해 이 class를 바꾸는 것이 바람직할까요?\n",
        "# 그래서 이렇게 하고 싶은겁니다. Student에 있는 것을 그대로 사용하고\n",
        "# 국적만 추가해주는 다른 class를 만드는 것입니다.\n",
        "\n",
        "class ForeignStudent(Student):\n",
        "    def __init__(self, name, score, phone, email, country):\n",
        "        super().__init__(name, score, phone, email)\n",
        "        self.country = country\n",
        "\n",
        "data = [\n",
        "    Student(\"김민준\", 85, \"010-1234-5678\", \"minjun@example.kr\"),\n",
        "    Student(\"이서연\", 92, \"010-2345-6789\", \"seoyeon@example.kr\"),\n",
        "\n",
        "]\n",
        "# 그럼 이제 학생들 관리할 때 아래와 같이 관리할 수 있을 겁니다.\n",
        "\n",
        "data = [\n",
        "    Student(\"김민준\", 85, \"010-1234-5678\", \"minjun@example.kr\"),\n",
        "    Student(\"이서연\", 92, \"010-2345-6789\", \"seoyeon@example.kr\"),\n",
        "    Student(\"박지훈\", 78, \"010-3456-7890\", \"jihoon@example.kr\"),\n",
        "    Student(\"최수아\", 88, \"010-4567-8901\", \"sua@example.kr\"),\n",
        "    Student(\"정도현\", 95, \"010-5678-9012\", \"dohyun@example.kr\"),\n",
        "    Student(\"강하은\", 82, \"010-6789-0123\", \"haeun@example.kr\"),\n",
        "    Student(\"윤지우\", 90, \"010-7890-1234\", \"jiwoo@example.kr\"),\n",
        "    Student(\"임서진\", 79, \"010-8901-2345\", \"seojin@example.kr\"),\n",
        "    ForeignStudent(\"Emma Wilson\", 87, \"010-9012-3456\", \"emma@example.com\", \"USA\"),\n",
        "    Student(\"한유진\", 93, \"010-0123-4567\", \"yujin@example.kr\")\n",
        "]\n",
        "\n",
        "data\n",
        "\n",
        "# for i in data:\n",
        "#     print(i.name, i.email)"
      ],
      "metadata": {
        "colab": {
          "base_uri": "https://localhost:8080/"
        },
        "id": "zqcdclPLhVJ-",
        "outputId": "d80fffe8-e203-4143-ae66-9ad50b5a9be8"
      },
      "execution_count": null,
      "outputs": [
        {
          "output_type": "execute_result",
          "data": {
            "text/plain": [
              "[김민준, 이서연, 박지훈, 최수아, 정도현, 강하은, 윤지우, 임서진, Emma Wilson, 한유진]"
            ]
          },
          "metadata": {},
          "execution_count": 116
        }
      ]
    },
    {
      "cell_type": "code",
      "source": [
        "class A:\n",
        "    pass\n",
        "\n",
        "class B:\n",
        "    pass\n",
        "\n",
        "class C:\n",
        "    pass"
      ],
      "metadata": {
        "id": "3TdAca0Am3gb"
      },
      "execution_count": null,
      "outputs": []
    },
    {
      "cell_type": "code",
      "source": [
        "class A:\n",
        "    def move(self):\n",
        "        print('움직여요!')\n",
        "\n",
        "class B(A):\n",
        "    pass\n",
        "\n",
        "class C(B):\n",
        "    pass\n",
        "\n",
        "a = A()\n",
        "b = B()\n",
        "c = C()\n",
        "\n",
        "a.move()\n",
        "b.move()\n",
        "c.move()"
      ],
      "metadata": {
        "colab": {
          "base_uri": "https://localhost:8080/"
        },
        "id": "aJog5lg-m-kv",
        "outputId": "8d89c965-041a-44f6-dbb9-1668b5e9d174"
      },
      "execution_count": null,
      "outputs": [
        {
          "output_type": "stream",
          "name": "stdout",
          "text": [
            "움직여요!\n",
            "움직여요!\n",
            "움직여요!\n"
          ]
        }
      ]
    },
    {
      "cell_type": "code",
      "source": [
        "class A:\n",
        "    num = 100\n",
        "    def move(self):\n",
        "        print('움직여요!')\n",
        "\n",
        "class B(A):\n",
        "    pass\n",
        "\n",
        "class C(B):\n",
        "    pass\n",
        "\n",
        "a = A()\n",
        "b = B()\n",
        "c = C()\n",
        "\n",
        "a.num\n",
        "b.num\n",
        "c.num"
      ],
      "metadata": {
        "colab": {
          "base_uri": "https://localhost:8080/"
        },
        "id": "jo5k36cFnWui",
        "outputId": "17132b79-8fac-438c-e5c9-0590c47ecdbc"
      },
      "execution_count": null,
      "outputs": [
        {
          "output_type": "execute_result",
          "data": {
            "text/plain": [
              "100"
            ]
          },
          "metadata": {},
          "execution_count": 121
        }
      ]
    },
    {
      "cell_type": "code",
      "source": [
        "class A:\n",
        "    a = 100\n",
        "\n",
        "class B(A):\n",
        "    b = 200\n",
        "\n",
        "class C(B,A):\n",
        "    pass\n",
        "\n",
        "c = C()\n",
        "\n",
        "c.a\n",
        "c.b"
      ],
      "metadata": {
        "colab": {
          "base_uri": "https://localhost:8080/"
        },
        "id": "bpSnmiA_ov4o",
        "outputId": "f7a66f3b-2cbc-4351-94b8-a08fabd628c4"
      },
      "execution_count": null,
      "outputs": [
        {
          "output_type": "execute_result",
          "data": {
            "text/plain": [
              "200"
            ]
          },
          "metadata": {},
          "execution_count": 134
        }
      ]
    },
    {
      "cell_type": "markdown",
      "source": [
        "## 메서드 오버라이딩\n",
        "- 덮어쓰기"
      ],
      "metadata": {
        "id": "nSx4wz0DpObr"
      }
    },
    {
      "cell_type": "code",
      "source": [
        "class A:\n",
        "    def move(self):\n",
        "        print('출발!')\n",
        "\n",
        "\n",
        "class B(A):\n",
        "    def move(self):\n",
        "        print('덮어썼지롱!')\n",
        "\n",
        "b = B()\n",
        "b.move()\n",
        "\n",
        "    # black formatter"
      ],
      "metadata": {
        "colab": {
          "base_uri": "https://localhost:8080/"
        },
        "id": "04-0RMTppeB9",
        "outputId": "c9d85287-d709-4105-db55-8627f8ccb22d"
      },
      "execution_count": null,
      "outputs": [
        {
          "output_type": "stream",
          "name": "stdout",
          "text": [
            "덮어썼지롱!\n"
          ]
        }
      ]
    },
    {
      "cell_type": "code",
      "source": [
        "# 절대 실행시키지 마세요!!\n",
        "'''\n",
        "class int(int):\n",
        "    def __add__(self, a):\n",
        "        return self * a\n",
        "\n",
        "int('10') + int('10')\n",
        "'''"
      ],
      "metadata": {
        "id": "iVt2VAl4q8O5"
      },
      "execution_count": null,
      "outputs": []
    },
    {
      "cell_type": "code",
      "source": [
        "class MyClass:\n",
        "    def __init__(self, c, d, e):\n",
        "        self.__c = c\n",
        "        self.d = d\n",
        "        self._ = e\n",
        "\n",
        "c = MyClass(30, 40, 50)\n",
        "c._\n",
        "# c.__c # error # __ 언더바 두개=> 비공개 속성: 클래스 내부에서만 접근 가능!"
      ],
      "metadata": {
        "colab": {
          "base_uri": "https://localhost:8080/"
        },
        "id": "nn1RVZO8sf_l",
        "outputId": "573772eb-72a5-4286-900f-5fd0f79ff58e"
      },
      "execution_count": null,
      "outputs": [
        {
          "output_type": "execute_result",
          "data": {
            "text/plain": [
              "50"
            ]
          },
          "metadata": {},
          "execution_count": 137
        }
      ]
    },
    {
      "cell_type": "markdown",
      "source": [
        "## 상수 선언"
      ],
      "metadata": {
        "id": "QWilZn6seuy9"
      }
    },
    {
      "cell_type": "code",
      "source": [
        "# 대부분 모든 변수의 알파벳이 대문자면 상수로 여기고 잘 수정하지 않습니다.\n",
        "# 잘 수정하지 않을 뿐 수정은 가능하다\n",
        "# 상수를 보호할 수 있는 보호 장치가 다른 언어보다 미흡한 것은 사실이다.\n",
        "# 이런 상수를 만들 수 있는 여러가지 기법들이 존재한다.\n",
        "\n",
        "PI = 3.14"
      ],
      "metadata": {
        "id": "uWfufQgGhLI1"
      },
      "execution_count": null,
      "outputs": []
    },
    {
      "cell_type": "code",
      "source": [
        "from enum import Enum\n",
        "\n",
        "class Color(Enum):\n",
        "    RED = 1\n",
        "    GREEN = 2\n",
        "    BLUE = 3\n",
        "\n",
        "print(Color.RED)\n",
        "\n",
        "for color in Color:\n",
        "    print(color)"
      ],
      "metadata": {
        "colab": {
          "base_uri": "https://localhost:8080/"
        },
        "id": "cvevIMZfe5p9",
        "outputId": "37e733bd-8b78-4328-e00c-f12771b5afea"
      },
      "execution_count": null,
      "outputs": [
        {
          "output_type": "stream",
          "name": "stdout",
          "text": [
            "Color.RED\n",
            "Color.RED\n",
            "Color.GREEN\n",
            "Color.BLUE\n"
          ]
        }
      ]
    },
    {
      "cell_type": "code",
      "source": [
        "# 기능적으로는 수정이 되어 버린다!\n",
        "color.RED = 100"
      ],
      "metadata": {
        "id": "PLPDNEuffH2B"
      },
      "execution_count": null,
      "outputs": []
    },
    {
      "cell_type": "code",
      "source": [
        "color.RED"
      ],
      "metadata": {
        "colab": {
          "base_uri": "https://localhost:8080/"
        },
        "id": "2nzXJACcfMI5",
        "outputId": "548a8e40-082a-479f-a7e8-4d5b1c2d2076"
      },
      "execution_count": null,
      "outputs": [
        {
          "output_type": "execute_result",
          "data": {
            "text/plain": [
              "100"
            ]
          },
          "metadata": {},
          "execution_count": 7
        }
      ]
    },
    {
      "cell_type": "code",
      "source": [
        "# <클로저>\n",
        "# 클로저라는 기법을 사용하면 변수를 숨길 수 있다.\n",
        "# factroy 함수라고도 한다.\n",
        "# 함수가 끝나도 x가 보존되게 하는 기법\n",
        "\n",
        "# 클로저는 함수가 끝난 뒤에 휘발되어야 하는 영역에\n",
        "# 함수가 끝난 뒤에도 접근 할 수 있도록 하는 기술\n",
        "# x가 휘발되지 않으려면 어딘가에서 x를 사용하고 있기만 하면 된다.\n",
        "\n",
        "################################\n",
        "# (예제)\n",
        "def f(x):\n",
        "    def ff(y):\n",
        "        return y ** x\n",
        "    return ff\n",
        "\n",
        "aa = f(3)\n",
        "#################################\n",
        "# 위 코드는 아래 코드와 '같은' 결과를 낳게 된다.\n",
        "def aa(y):\n",
        "    return y ** 3\n"
      ],
      "metadata": {
        "id": "9g7rSD0VfbI6"
      },
      "execution_count": null,
      "outputs": []
    },
    {
      "cell_type": "code",
      "source": [
        "# 위 코드는 아래 코드와 같은 결과를 낳게 된다.\n",
        "def aa(y):\n",
        "    return y ** 3\n",
        "\n",
        "aa(2)"
      ],
      "metadata": {
        "colab": {
          "base_uri": "https://localhost:8080/"
        },
        "id": "ndaixH1fgzIn",
        "outputId": "a0d7ba6c-3c18-4ced-9fe2-ae93134caaba"
      },
      "execution_count": null,
      "outputs": [
        {
          "output_type": "execute_result",
          "data": {
            "text/plain": [
              "8"
            ]
          },
          "metadata": {},
          "execution_count": 8
        }
      ]
    },
    {
      "cell_type": "code",
      "source": [
        "def f(x):\n",
        "    def ff(y):\n",
        "        return y ** x\n",
        "    return ff\n",
        "\n",
        "aa = f(3)\n",
        "aa(2) # 여기 이후로는 x에 접근이 불가능 하다!"
      ],
      "metadata": {
        "colab": {
          "base_uri": "https://localhost:8080/"
        },
        "id": "e1N0a52dg5PY",
        "outputId": "fca491a1-1a6f-47ad-ce30-9c4d54826bb9"
      },
      "execution_count": null,
      "outputs": [
        {
          "output_type": "execute_result",
          "data": {
            "text/plain": [
              "8"
            ]
          },
          "metadata": {},
          "execution_count": 10
        }
      ]
    },
    {
      "cell_type": "code",
      "source": [
        "# 주로 쓰이는 매직메서드\n",
        "\n",
        "# __init__(self, ...)\n",
        "# __str__(self)\n",
        "# __repr__(self)\n",
        "# __len__(self)"
      ],
      "metadata": {
        "id": "INLC3luwgRaT"
      },
      "execution_count": null,
      "outputs": []
    },
    {
      "cell_type": "markdown",
      "source": [
        "# 모듈과 패키지\n",
        "- 모듈: 클래스나 함수, 변수를 다른 파일(.py)에 작성하여 다른 파이썬 코드에서 재사용할 수 있도록 한 것입니다."
      ],
      "metadata": {
        "id": "-MTspn5VhZFe"
      }
    },
    {
      "cell_type": "code",
      "source": [
        "import hojun # 내 폴더에서 먼저 hojun.py를 찾는것!\n",
        "\n",
        "hojun.age\n",
        "hojun.name\n",
        "hojun.add(3, 4)\n",
        "hojun.mul(3, 4)\n",
        "\n",
        "'''\n",
        "# hojun.py 파일 내용\n",
        "name = 'hojun'\n",
        "age = 10\n",
        "\n",
        "def add(x, y):\n",
        "    return x + y\n",
        "\n",
        "def mul(x, y):\n",
        "    return x * y\n",
        "'''\n",
        "\n",
        "# print(dir(hojun))\n",
        "# print(type(hojun)) # <class 'module'>"
      ],
      "metadata": {
        "colab": {
          "base_uri": "https://localhost:8080/"
        },
        "id": "jU0D5fYAhi96",
        "outputId": "3b52fb3d-41a2-4838-ff9d-ad9982627ca3"
      },
      "execution_count": null,
      "outputs": [
        {
          "output_type": "stream",
          "name": "stdout",
          "text": [
            "<class 'module'>\n"
          ]
        }
      ]
    },
    {
      "cell_type": "code",
      "source": [
        "import hojun as h\n",
        "# as는 뒤에 이름으로 바꾸는 것\n",
        "# hojun 대신 h로 써도 동일한 결과 출력\n",
        "\n",
        "print(h.age)\n",
        "print(h.name)\n",
        "print(h.add(3, 4))\n",
        "print(h.mul(3, 4))\n",
        "\n",
        "# print(dir(hojun))\n",
        "# print(type(hojun)) # <class 'module'>"
      ],
      "metadata": {
        "colab": {
          "base_uri": "https://localhost:8080/",
          "height": 127
        },
        "id": "K1YGea3MjJyz",
        "outputId": "7bc22e9f-bb1f-461a-e4a0-81644ada94e3"
      },
      "execution_count": null,
      "outputs": [
        {
          "output_type": "stream",
          "name": "stdout",
          "text": [
            "10\n",
            "hojun\n",
            "7\n",
            "12\n"
          ]
        },
        {
          "output_type": "execute_result",
          "data": {
            "text/plain": [
              "\"\\n# hojun.py 파일 내용\\nname = 'hojun'\\nage = 10\\n\\ndef add(x, y):\\n    return x + y\\n\\ndef mul(x, y):\\n    return x * y\\n\""
            ],
            "application/vnd.google.colaboratory.intrinsic+json": {
              "type": "string"
            }
          },
          "metadata": {},
          "execution_count": 19
        }
      ]
    },
    {
      "cell_type": "code",
      "source": [
        "from hojun import age, name, add, mul\n",
        "\n",
        "print(age)\n",
        "print(name)\n",
        "print(add(3, 4))\n",
        "print(mul(3, 4))"
      ],
      "metadata": {
        "colab": {
          "base_uri": "https://localhost:8080/"
        },
        "id": "LeRmmrKekFD2",
        "outputId": "799fa0fe-5374-4334-feae-535ac23f7fbe"
      },
      "execution_count": null,
      "outputs": [
        {
          "output_type": "stream",
          "name": "stdout",
          "text": [
            "10\n",
            "hojun\n",
            "7\n",
            "12\n"
          ]
        }
      ]
    },
    {
      "cell_type": "code",
      "source": [
        "# 위 코드는 이럴 때에는 문제가 생긴다\n",
        "# 이 코드는 실행이 되지 않는다. => nayung.py 파일이 없을 때.\n",
        "# 이렇게 되면 아래 코드로 덮어 써진다\n",
        "from hojun import age, name, add, mul\n",
        "from nayung import age, name, add, mul\n",
        "\n",
        "print(age)\n",
        "print(name)\n",
        "print(add(3, 4))\n",
        "print(mul(3, 4))"
      ],
      "metadata": {
        "colab": {
          "base_uri": "https://localhost:8080/"
        },
        "id": "VLMsfeZrkLSZ",
        "outputId": "53b84631-1f3c-4772-ac7d-ed8448fa2111"
      },
      "execution_count": null,
      "outputs": [
        {
          "output_type": "stream",
          "name": "stdout",
          "text": [
            "5\n",
            "nayung\n",
            "7\n",
            "12\n"
          ]
        }
      ]
    },
    {
      "cell_type": "code",
      "source": [
        "# 아래와 같이 import 또는 import + as를 권장합니다\n",
        "\n",
        "import hojun as h # 내 폴더에서 먼저 hojun.py를 찾습니다\n",
        "import nayung as n # 내 폴더에서 먼저 nayung.py를 찾습니다\n",
        "\n",
        "print(h.age)\n",
        "print(h.name)\n",
        "print(h.add(3, 4))\n",
        "print(h.mul(3, 4))\n",
        "\n",
        "print(n.age)\n",
        "print(n.name)\n",
        "print(n.add(3, 4))\n",
        "print(n.mul(3, 4))"
      ],
      "metadata": {
        "colab": {
          "base_uri": "https://localhost:8080/"
        },
        "id": "Noc4aYJgjlMv",
        "outputId": "db72203f-a1ac-403d-f9f7-a2909ac4e8e0"
      },
      "execution_count": null,
      "outputs": [
        {
          "output_type": "stream",
          "name": "stdout",
          "text": [
            "10\n",
            "hojun\n",
            "7\n",
            "12\n",
            "5\n",
            "nayung\n",
            "7\n",
            "12\n"
          ]
        }
      ]
    },
    {
      "cell_type": "markdown",
      "source": [
        "## 모듈 연습문제(0515)\n",
        "## 문제 1: 수학 모듈 만들기\n",
        "\n",
        "**문제 설명:**\n",
        "수학 연산을 수행하는 `math_tools.py` 모듈을 만들고, 이를 불러와 사용하는 프로그램을 작성하세요.\n",
        "\n",
        "**요구사항:**\n",
        "1. `math_tools.py` 파일을 만들고 다음 항목을 구현하세요.\n",
        "   - `pi` 변수: 3.14159 값을 저장\n",
        "   - `e` 변수: 2.71828 값을 저장\n",
        "   - `square(x)` 함수: 숫자의 제곱을 반환\n",
        "   - `cube(x)` 함수: 숫자의 세제곱을 반환\n",
        "   - `factorial(n)` 함수: n의 팩토리얼(n!)을 계산하여 반환\n",
        "\n",
        "2. 각 import 방식에 따라 pi 값을 출력하고, 숫자 5의 제곱을 계산하여 출력하세요.\n",
        "\n",
        "**예상 결과:**\n",
        "```\n",
        "전체 import 방식으로 사용:\n",
        "Pi: 3.14159\n",
        "5의 제곱: 25\n",
        "\n",
        "별칭(as)으로 import하여 사용:\n",
        "Pi: 3.14159\n",
        "5의 제곱: 25\n",
        "\n",
        "특정 항목만 import하여 사용:\n",
        "Pi: 3.14159\n",
        "5의 제곱: 25\n",
        "```\n",
        "\n",
        "## 문제 2: 학생 정보 관리 모듈 만들기\n",
        "\n",
        "**문제 설명:**\n",
        "학생들의 정보를 관리하는 `student_info.py` 모듈을 만들고, 이를 활용하여 학생들의 정보를 출력하는 프로그램을 작성하세요.\n",
        "\n",
        "**요구사항:**\n",
        "1. `student_info.py` 파일을 만들고 다음 항목을 구현하세요:\n",
        "   - `school_name` 변수: 학교 이름 (예: \"파이썬 고등학교\")\n",
        "   - `students` 리스트: 학생들의 이름을 담은 리스트 (최소 3명)\n",
        "   - `get_student_info(name)` 함수: 학생 이름이 주어지면 \"{이름}은/는 {학교이름}의 학생입니다.\"라는 문자열 반환\n",
        "   - `count_students()` 함수: 학생 수를 반환\n",
        "\n",
        "2. 두 가지 import 방식을 모두 사용하여\n",
        "   - 학교 이름 출력\n",
        "   - 첫 번째 학생의 정보 출력 (두 가지 import 방식 모두 사용)\n",
        "   - 전체 학생 수 출력 (별칭을 사용한 import 방식으로만)\n",
        "\n",
        "**예상 결과:**\n",
        "```\n",
        "[별칭 import 방식]\n",
        "학교 이름: 파이썬 고등학교\n",
        "첫 번째 학생 정보: 홍길동은/는 파이썬 고등학교의 학생입니다.\n",
        "전체 학생 수: 3\n",
        "\n",
        "[특정 항목 import 방식]\n",
        "학교 이름: 파이썬 고등학교\n",
        "첫 번째 학생 정보: 홍길동은/는 파이썬 고등학교의 학생입니다.\n",
        "```"
      ],
      "metadata": {
        "id": "kKXD09qXlhSz"
      }
    },
    {
      "cell_type": "code",
      "source": [
        "# 문제1\n",
        "\n",
        "# 전체 import 방식으로 사용:\n",
        "import math_tools\n",
        "print(math_tools.PI)\n",
        "print(math_tools.square(5))\n",
        "\n",
        "\n",
        "# 별칭(as)으로 import하여 사용:\n",
        "import math_tools as mt\n",
        "print(mt.PI)\n",
        "print(mt.square(5))\n",
        "\n",
        "# 특정 항목만 import하여 사용:\n",
        "from math_tools import PI, square\n",
        "print(PI)\n",
        "print(square(5))"
      ],
      "metadata": {
        "colab": {
          "base_uri": "https://localhost:8080/"
        },
        "id": "Jlma8IcclnWF",
        "outputId": "15f37f84-7e19-4047-fe58-be8b921ce1e0"
      },
      "execution_count": null,
      "outputs": [
        {
          "output_type": "stream",
          "name": "stdout",
          "text": [
            "3.14159\n",
            "25\n",
            "3.14159\n",
            "25\n",
            "3.14159\n",
            "25\n"
          ]
        }
      ]
    },
    {
      "cell_type": "code",
      "source": [
        "# 학교 이름 출력\n",
        "# 첫 번째 학생의 정보 출력 (두 가지 import 방식 모두 사용)\n",
        "# 전체 학생 수 출력 (별칭을 사용한 import 방식으로만)\n",
        "\n",
        "import student_info\n",
        "\n",
        "print(student_info.school_name)\n",
        "print(student_info.get_student_info(student_info.students[0]))\n",
        "\n",
        "import student_info as si\n",
        "\n",
        "print(si.school_name)\n",
        "print(si.get_student_info(si.students[0]))"
      ],
      "metadata": {
        "colab": {
          "base_uri": "https://localhost:8080/"
        },
        "id": "ZP22WWb9mPt3",
        "outputId": "600bc8bb-3cf2-488b-e1d1-08568aafd54d"
      },
      "execution_count": null,
      "outputs": [
        {
          "output_type": "stream",
          "name": "stdout",
          "text": [
            "파이썬 고등학교\n",
            "홍길동은/는 파이썬 고등학교의 학생입니다.\n",
            "파이썬 고등학교\n",
            "홍길동은/는 파이썬 고등학교의 학생입니다.\n"
          ]
        }
      ]
    },
    {
      "cell_type": "code",
      "source": [
        "# 모듈을 읽는 순서\n",
        "# 1. 해당 메모리에 해당 모듈이 있는지 확인합니다.\n",
        "# 2. 해당 파일 폴더에 해당 .py파일이나 폴더가 있는지 확인합니다.\n",
        "# 3. 파이썬이 설치된 곳으로 이동해서 모듈을 찾습니다.\n",
        "# 4. 이렇게 해서 못찾을 경우 에러를 반환합니다.\n",
        "\n",
        "from a.b.c import hojun # a폴더 아래 b폴더 아래 c폴더 아래\n",
        "\n",
        "hojun.age"
      ],
      "metadata": {
        "colab": {
          "base_uri": "https://localhost:8080/"
        },
        "id": "FkujVYjnwsyW",
        "outputId": "90da53b1-416d-4512-9155-1669e061a4b3"
      },
      "execution_count": null,
      "outputs": [
        {
          "output_type": "execute_result",
          "data": {
            "text/plain": [
              "10"
            ]
          },
          "metadata": {},
          "execution_count": 5
        }
      ]
    },
    {
      "cell_type": "markdown",
      "source": [
        "## 자주 사용되는 라이브러리"
      ],
      "metadata": {
        "id": "WnsST0vI-T5W"
      }
    },
    {
      "cell_type": "markdown",
      "source": [
        "### os 모듈"
      ],
      "metadata": {
        "id": "I9jxEZDc-udO"
      }
    },
    {
      "cell_type": "code",
      "source": [
        "import os\n",
        "\n",
        "# 정말 많이 사용되지만\n",
        "# 문제가 있습니다! Mac, Linux, Window를 혼용 사용하시는 분은\n",
        "# 주의할 필요가 있다\n",
        "# 경로 생성에서 구분자가 잘못 들어가는 이슈가 있어서 Django에서는\n",
        "# 3.x에서 os 모듈이 빠졌다\n",
        "# 대신 pathlib 모듈이 들어갔다\n",
        "\n",
        "\n",
        "os.mkdir('licat') # licat이란 폴더 생성, 삭제는 os.rmdir()\n",
        "print(os.path.join('hello', 'world')) # 경로를 합쳐줍니다.\n",
        "print(os.listdir()) # 현재 디렉토리의 파일 목록을 반환합니다."
      ],
      "metadata": {
        "colab": {
          "base_uri": "https://localhost:8080/"
        },
        "id": "tdtAfhh71Kf9",
        "outputId": "952235f1-5a90-46d4-8cbd-d89375543e88"
      },
      "execution_count": null,
      "outputs": [
        {
          "output_type": "stream",
          "name": "stdout",
          "text": [
            "hello/world\n",
            "['.config', 'nayung.py', 'student_info.py', '.ipynb_checkpoints', 'math_tools.py', 'a', 'licat', '__pycache__', 'sample_data']\n"
          ]
        }
      ]
    },
    {
      "cell_type": "markdown",
      "source": [
        "### pathlib 모듈"
      ],
      "metadata": {
        "id": "sPgSCMvU-xgP"
      }
    },
    {
      "cell_type": "code",
      "source": [
        "# pathlib 모듈\n",
        "# os 모듈과 비슷한 기능을 제공하지만, os 모듈보다 더 간결하고 직관적인 코드를 작성할 수 있습니다.\n",
        "from pathlib import Path as p\n",
        "\n",
        "p.cwd() # 현재 경로 확인\n",
        "pwd = p.cwd()\n",
        "pwd / 'hello' / 'world' # /로 경로 결합\n",
        "\n",
        "print(pwd / 'hello100' / 'world100' / 'hello200') # 이런 코드는 뒤에 Django에서도 많이 볼 코드이다."
      ],
      "metadata": {
        "colab": {
          "base_uri": "https://localhost:8080/"
        },
        "id": "pgt2Dak_2BuO",
        "outputId": "a0693bf7-11ab-4369-aa13-7901b8c63ce0"
      },
      "execution_count": null,
      "outputs": [
        {
          "output_type": "stream",
          "name": "stdout",
          "text": [
            "/content/hello100/world100/hello200\n"
          ]
        }
      ]
    },
    {
      "cell_type": "code",
      "source": [
        "# pwd 인스턴스 입장에서 /는 __truediv__가 호출이 되는 것입니다!\n",
        "# 여기서 나누기를 하지 않고 경로를 결합해주는 코드가 작성이 되어있는 것입니다.\n",
        "\n",
        "# 1. '/' (일반 나눗셈): `__truediv__` 매직 메서드가 처리합니다.\n",
        "#    - 결과는 실수(float)를 반환합니다.\n",
        "#    - 예: `5 / 2 = 2.5`\n",
        "\n",
        "# 2. '//' (정수 나눗셈): `__floordiv__` 매직 메서드가 처리합니다.\n",
        "#    - 결과는 몫만 반환하고, 소수점 이하를 버립니다.\n",
        "#    - 예: `5 // 2 = 2`"
      ],
      "metadata": {
        "id": "1bu2pTn66PNv"
      },
      "execution_count": null,
      "outputs": []
    },
    {
      "cell_type": "markdown",
      "source": [
        "### datetime 모듈"
      ],
      "metadata": {
        "id": "GFmZctTn-4vA"
      }
    },
    {
      "cell_type": "code",
      "source": [
        "# datetime 모듈\n",
        "\n",
        "# 날짜와 시간을 다루는 클래스를 제공\n",
        "# 현재 시간을 가져오는 datetime.datetime.now()\n",
        "# 시간 연산을 위한 datetime.timedelta()\n",
        "# 날짜와 시간을 문자열로 변환하는 datetime.strftime()\n",
        "\n",
        "from datetime import datetime\n",
        "\n",
        "datetime.today()"
      ],
      "metadata": {
        "colab": {
          "base_uri": "https://localhost:8080/"
        },
        "id": "b5YquagA6_ki",
        "outputId": "5785b45f-4c79-49f8-ebcc-fedbaa92b954"
      },
      "execution_count": null,
      "outputs": [
        {
          "output_type": "execute_result",
          "data": {
            "text/plain": [
              "datetime.datetime(2025, 5, 15, 3, 11, 14, 475202)"
            ]
          },
          "metadata": {},
          "execution_count": 9
        }
      ]
    },
    {
      "cell_type": "code",
      "source": [
        "today = datetime.today()\n",
        "\n",
        "print(today.year)\n",
        "print(today.month)\n",
        "print(today.day)\n",
        "print(today.hour)\n",
        "print(today.minute)\n",
        "print(today.second)"
      ],
      "metadata": {
        "colab": {
          "base_uri": "https://localhost:8080/"
        },
        "id": "KKKVRk3k7mhj",
        "outputId": "8674b294-f97f-462d-e032-1a8dc2ce9c64"
      },
      "execution_count": null,
      "outputs": [
        {
          "output_type": "stream",
          "name": "stdout",
          "text": [
            "2025\n",
            "5\n",
            "15\n",
            "3\n",
            "14\n",
            "17\n"
          ]
        }
      ]
    },
    {
      "cell_type": "code",
      "source": [
        "import datetime\n",
        "\n",
        "today = datetime.date.today()\n",
        "days = datetime.timedelta(days=100)\n",
        "today + days # 100일 후 시간"
      ],
      "metadata": {
        "colab": {
          "base_uri": "https://localhost:8080/"
        },
        "id": "7ezn-4oa8Rmy",
        "outputId": "fdb6c334-98d4-417a-c685-0635aa347d85"
      },
      "execution_count": null,
      "outputs": [
        {
          "output_type": "execute_result",
          "data": {
            "text/plain": [
              "datetime.date(2025, 8, 23)"
            ]
          },
          "metadata": {},
          "execution_count": 24
        }
      ]
    },
    {
      "cell_type": "code",
      "source": [
        "import datetime\n",
        "\n",
        "date = '2024-12-10'\n",
        "date = datetime.datetime.strptime(date, '%Y-%m-%d')\n",
        "print(date)\n",
        "\n",
        "# https://docs.python.org/ko/3/library/datetime.html#strftime-and-strptime-format-codes"
      ],
      "metadata": {
        "colab": {
          "base_uri": "https://localhost:8080/"
        },
        "id": "lLSQrqdZ8uoa",
        "outputId": "107da8f1-2e36-410e-bdfc-28a5303545ad"
      },
      "execution_count": null,
      "outputs": [
        {
          "output_type": "stream",
          "name": "stdout",
          "text": [
            "2024-12-10 00:00:00\n"
          ]
        }
      ]
    },
    {
      "cell_type": "markdown",
      "source": [
        "### json 모듈"
      ],
      "metadata": {
        "id": "I8rKSJn0_DPD"
      }
    },
    {
      "cell_type": "code",
      "source": [
        "# json 모듈\n",
        "# 문자열로 되어있는 자료형을 python 객채로 바꿔주는 (반대도 가능)\n",
        "import json\n",
        "\n",
        "d = {\n",
        "    'one': 1,\n",
        "    'two': 2,\n",
        "    'three': True\n",
        "}\n",
        "\n",
        "# s = json.dumps(d)\n",
        "# print(type(s)) # str\n",
        "# d = json.loads(s)\n",
        "# print(type(d)) # dict\n",
        "\n",
        "str(d)\n",
        "json.dumps(d) # 더 안전하고, 더 견고하게 바꿔준다"
      ],
      "metadata": {
        "colab": {
          "base_uri": "https://localhost:8080/",
          "height": 35
        },
        "id": "vAvsU-C09WKC",
        "outputId": "b1e09fea-4e5b-46b5-960b-fc5a3586631e"
      },
      "execution_count": null,
      "outputs": [
        {
          "output_type": "execute_result",
          "data": {
            "text/plain": [
              "'{\"one\": 1, \"two\": 2, \"three\": true}'"
            ],
            "application/vnd.google.colaboratory.intrinsic+json": {
              "type": "string"
            }
          },
          "metadata": {},
          "execution_count": 28
        }
      ]
    },
    {
      "cell_type": "markdown",
      "source": [
        "### collections 모듈 ***\n"
      ],
      "metadata": {
        "id": "FwXjmBQo_vNH"
      }
    },
    {
      "cell_type": "code",
      "source": [
        "# 리스트인데 앞뒤로 데이터를 넣고\n",
        "# 순회도 되게 하고 싶다?\n",
        "# 그런데 기본 자료형에는 없다 => collections 라는 모듈이 있다\n",
        "# 여기에는 자주 사용하는 자료를 담는 구조에 대한 구현이 되어 있다\n",
        "# 이런 것을 '자료구조' 라고 한다."
      ],
      "metadata": {
        "id": "KUCTbp8GAz_A"
      },
      "execution_count": null,
      "outputs": []
    },
    {
      "cell_type": "code",
      "source": [
        "# collections 모듈 # 별표 3개!!!\n",
        "# 기본 데이터 컨테이너 외에도 다양한 데이터 컨테이너 타입을 제공합니다\n",
        "\n",
        "import collections\n",
        "\n",
        "d = collections.deque([1, 2, 3, 4])\n",
        "d.rotate(2) # 1번 오른쪽으로 쉬프트 합니다. 숫자를 2로 바꾸어 비교해보세요.\n",
        "print(d)\n",
        "dir(d)\n",
        "\n",
        "d = collections.deque([1, 2, 3, 4], maxlen = 4)\n",
        "d.append(100)\n",
        "d"
      ],
      "metadata": {
        "colab": {
          "base_uri": "https://localhost:8080/"
        },
        "id": "XbTdGAIG_z0H",
        "outputId": "34ab0e85-4289-4802-9d67-37ac61008839"
      },
      "execution_count": null,
      "outputs": [
        {
          "output_type": "stream",
          "name": "stdout",
          "text": [
            "deque([3, 4, 1, 2])\n"
          ]
        },
        {
          "output_type": "execute_result",
          "data": {
            "text/plain": [
              "deque([2, 3, 4, 100])"
            ]
          },
          "metadata": {},
          "execution_count": 35
        }
      ]
    },
    {
      "cell_type": "code",
      "source": [
        "d = collections.deque([1, 2, 3, 4])\n",
        "d.appendleft(100)\n",
        "d"
      ],
      "metadata": {
        "colab": {
          "base_uri": "https://localhost:8080/"
        },
        "id": "XMB98Wj9BuGU",
        "outputId": "09f90ecb-e64d-4105-e7d2-5cee95591117"
      },
      "execution_count": null,
      "outputs": [
        {
          "output_type": "execute_result",
          "data": {
            "text/plain": [
              "deque([100, 1, 2, 3, 4])"
            ]
          },
          "metadata": {},
          "execution_count": 36
        }
      ]
    },
    {
      "cell_type": "code",
      "source": [
        "import collections\n",
        "\n",
        "# 각 숫자의 갯수를 카운팅 하세요!\n",
        "\n",
        "c = collections.Counter('1111111111111144444444444443333222225551122333333')\n",
        "print(c)\n",
        "print(c.most_common)\n",
        "print(c.most_common())"
      ],
      "metadata": {
        "colab": {
          "base_uri": "https://localhost:8080/"
        },
        "id": "9zyLMXilB0_j",
        "outputId": "1b4b7933-8672-4e51-92d7-16e60c2e56d6"
      },
      "execution_count": null,
      "outputs": [
        {
          "output_type": "stream",
          "name": "stdout",
          "text": [
            "Counter({'1': 16, '4': 13, '3': 10, '2': 7, '5': 3})\n",
            "<bound method Counter.most_common of Counter({'1': 16, '4': 13, '3': 10, '2': 7, '5': 3})>\n",
            "[('1', 16), ('4', 13), ('3', 10), ('2', 7), ('5', 3)]\n"
          ]
        }
      ]
    },
    {
      "cell_type": "markdown",
      "source": [
        "### requests 모듈"
      ],
      "metadata": {
        "id": "lMRLgraHDRd6"
      }
    },
    {
      "cell_type": "code",
      "source": [
        "# requests 모듈\n",
        "# HTTP 요청을 쉽게 보낼 수 있는 기능을 제공하는 외부 라이브러리\n",
        "import requests\n",
        "\n",
        "# for i in range(1000): # 이렇게 하시면 안됩니다. 공격이에요.\n",
        "paullab_url = 'https://paullab.co.kr/bookservice/'\n",
        "response = requests.get(paullab_url)\n",
        "response.encoding = 'utf-8'\n",
        "response.text"
      ],
      "metadata": {
        "colab": {
          "base_uri": "https://localhost:8080/",
          "height": 182
        },
        "id": "tVONuWdrDEqn",
        "outputId": "fd87b97d-9389-4578-8d42-e9c5f60a5f95"
      },
      "execution_count": null,
      "outputs": [
        {
          "output_type": "execute_result",
          "data": {
            "text/plain": [
              "'<!DOCTYPE html>\\n<html lang=\"ko\">\\n\\n<head>\\n    <meta charset=\"utf-8\">\\n    <meta http-equiv=\"X-UA-Compatible\" content=\"IE=edge\">\\n    <meta name=\"viewport\" content=\"width=device-width, initial-scale=1\">\\n    <meta name=\"description\" content=\"\">\\n    <meta name=\"author\" content=\"\">\\n\\n    <title>BookService</title>\\n\\n    <!-- Bootstrap Core CSS -->\\n    <link href=\"css/bootstrap.min.css\" rel=\"stylesheet\">\\n\\n    <!-- Custom CSS -->\\n    <link href=\"css/clean-blog.min.css\" rel=\"stylesheet\">\\n\\n    <!-- Custom Fonts -->\\n    <link href=\"http://maxcdn.bootstrapcdn.com/font-awesome/4.1.0/css/font-awesome.min.css\" rel=\"stylesheet\" type=\"text/css\">\\n    <link href=\\'http://fonts.googleapis.com/css?family=Lora:400,700,400italic,700italic\\' rel=\\'stylesheet\\' type=\\'text/css\\'>\\n    <link href=\\'http://fonts.googleapis.com/css?family=Open+Sans:300italic,400italic,600italic,700italic,800italic,400,300,600,700,800\\' rel=\\'stylesheet\\' type=\\'text/css\\'>\\n\\n    <!-- favicon -->\\n    <link rel=\"shortcut icon\" href=\"../favicon.ico\">\\n\\n    <!-- HTML5 Shim and Respond.js IE8 support of HTML5 elements and media queries -->\\n    <!-- WARNING: Respond.js doesn\\'t work if you view the page via file:// -->\\n    <!--[if lt IE 9]>\\n        <script src=\"https://oss.maxcdn.com/libs/html5shiv/3.7.0/html5shiv.js\"></script>\\n        <script src=\"https://oss.maxcdn.com/libs/respond.js/1.4.2/respond.min.js\"></script>\\n    <![endif]-->\\n\\n\\n\\t\\t<style>\\n\\t\\t.some-class-name.navbar-custom .dropdown-menu  li a {\\n\\t\\t  color:#888686;\\n\\t\\t}\\n\\n\\t\\t.some-class-name.navbar-custom .dropdown-menu  li a:hover,\\n\\t\\t.some-class-name.navbar-custom .dropdown-menu  li a:focus,\\n\\t\\t.some-class-name.navbar-custom .dropdown-menu  li a:active,\\n\\t\\t.some-class-name.navbar-custom .dropdown-menu  li a.active {\\n\\t\\t  color:#fff;\\n\\t\\t}\\n\\n\\t\\t.profile {\\n\\t\\t\\ttext-align: center;\\n\\t\\t\\tfont-family: \\'Lora\\';\\n\\t\\t\\tmargin-bottom: 20px;\\n\\t\\t}\\n\\n\\t\\t.profile img {\\n\\t\\t\\tpadding: 10px;\\n\\t\\t}\\n\\n\\t\\t.profile #borderneeded {\\n\\t\\t\\tborder-top: 2px solid black;\\n\\t\\t}\\n\\n\\t\\t.profile-container {\\n\\t\\t\\tmargin-top: 130px;\\n\\t\\t}\\n\\n    .home:hover {\\n      color: #ffffff;\\n      text-decoration: none;\\n    }\\n    .navbar-brand img {\\n        margin-top: -10px;\\n        width: 40px;\\n    }\\n\\n    .footer_logo {\\n        width: 100px;\\n    }\\n\\n\\t  </style>\\n</head>\\n\\n<body>\\n\\n    <!-- Navigation -->\\n    <nav class=\"navbar navbar-default some-class-name navbar-custom navbar-fixed-top\">\\n        <div class=\"container-fluid\">\\n            <!-- Brand and toggle get grouped for better mobile display -->\\n            <div class=\"navbar-header page-scroll\">\\n                <button type=\"button\" class=\"navbar-toggle\" data-toggle=\"collapse\" data-target=\"#bs-example-navbar-collapse-1\">\\n                    <span class=\"sr-only\">Toggle navigation</span>\\n                    <span class=\"icon-bar\"></span>\\n                    <span class=\"icon-bar\"></span>\\n                    <span class=\"icon-bar\"></span>\\n                </button>\\n                <a class=\"navbar-brand\" href=\"https://www.paullab.co.kr\">\\n                  <img src=\"img/logo_weniv.png\" width=\"50px\" align=\"left\" style=\"cursor: pointer;\"/>\\n                </a>\\n            </div>\\n\\n            <!-- Collect the nav links, forms, and other content for toggling -->\\n            <div class=\"collapse navbar-collapse\" id=\"bs-example-navbar-collapse-1\">\\n                <ul class=\"nav navbar-nav navbar-right\">\\n                    <li>\\n                        <a href=\"index.html\"> Home </a>\\n                    </li>\\n                    <li>\\n                        <!-- <a href=\"about.html\"> About </a> -->\\n                        <a href=\"https://www.paullab.co.kr/about.html\"> About </a>\\n                    </li>\\n                    <li> \\n                        <!-- <a href=\"roadmap.html\"> Roadmap </a> -->\\n                        <a href=\"https://www.paullab.co.kr/curriculum.html\"> Roadmap </a>\\n                    </li>\\n          \\t\\t\\t\\t\\t<li class=\"dropdown\">\\n                          <a href=\"#\" class=\"dropdown-toggle\" data-toggle=\"dropdown\">Book<b class=\"caret\"></b></a>\\n                          <ul class=\"dropdown-menu\">\\n\\t\\t\\t\\t\\t\\t                  <li>\\n                                  <a href=\"https://ridibooks.com/books/2773000047\">&nbsp;메모혁신 Notion(노션) 활용 가이드</a>\\n                              </li>\\n                              <li>\\n                                  <a href=\"https://ridibooks.com/v2/Detail?id=2773000025\">&nbsp;제주코딩베이스캠프 코드페스티벌 Python 100제 1부</a>\\n                              </li>\\n                              <li>\\n                                  <a href=\"https://ridibooks.com/v2/Detail?id=2773000005\">&nbsp;튜토리얼로 배우는 HTML&CSS</a>\\n                              </li>\\n                              <li>\\n                                  <a href=\"https://ridibooks.com/v2/Detail?id=2773000007\">&nbsp;코딩도장 튜토리얼로 배우는 Python 1편</a>\\n                              </li>\\n              \\t\\t\\t\\t\\t\\t\\t  <li>\\n                                  <a href=\"https://ridibooks.com/v2/Detail?id=2773000008\">&nbsp;코딩도장 튜토리얼로 배우는 Python 2편</a>\\n                              </li>\\n              \\t\\t\\t\\t\\t\\t\\t  <li>\\n                                  <a href=\"https://ridibooks.com/v2/Detail?id=2773000011\">&nbsp;코딩도장 튜토리얼로 배우는 Python 문제풀이</a>\\n                              </li>\\n              \\t\\t\\t\\t\\t\\t\\t  <li>\\n                                  <a href=\"https://ridibooks.com/v2/Detail?id=2773000015\">&nbsp;타노스의 건틀릿 알고리즘 With Python</a>\\n                              </li>\\n              \\t\\t\\t\\t\\t\\t\\t  <li>\\n                                  <a href=\"https://ridibooks.com/v2/Detail?id=2773000020\">&nbsp;xlsxwriter 튜토리얼로 배우는 Python 엑셀 프로그래밍</a>\\n                              </li>\\n              \\t\\t\\t\\t\\t\\t\\t  <li>\\n                                  <a href=\"https://ridibooks.com/v2/Detail?id=2773000022\">&nbsp;인공지능을 활용한 업무자동화 With Google Developers Group JEJU</a>\\n                              </li>\\n              \\t\\t\\t\\t\\t\\t\\t  <li>\\n                                  <a href=\"https://ridibooks.com/v2/Detail?id=2773000002\">&nbsp;2017 제주 코딩 해커톤 Django 트랙 상편 1권</a>\\n                              </li>\\n                          </ul>\\n                    </li>\\n                </ul>\\n            </div>\\n            <!-- /.navbar-collapse -->\\n        </div>\\n        <!-- /.container -->\\n    </nav>\\n\\n    <!-- Page Header -->\\n    <!-- Set your background image for this header on the line below. -->\\n    <header class=\"intro-header\" style=\"background-image: url(\\'img/home.jpg\\')\">\\n        <div class=\"container\">\\n            <div class=\"row\">\\n                <div class=\"col-lg-8 col-lg-offset-2 col-md-10 col-md-offset-1\">\\n                    <div class=\"site-heading\">\\n                      <a href=\"index.html\" style=\"color: #ffffff;\" class=\"home\">\\n                        <h3>WENIV Books</h3>\\n                      </a>\\n                    </div>\\n                </div>\\n            </div>\\n        </div>\\n    </header>\\n\\n\\t  <!-- Main Content -->\\n    <div class=\"container\">\\n        <div class=\"row\">\\n            <div class=\"col-lg-8 col-lg-offset-2 col-md-10 col-md-offset-1\">\\n                <h3>Home</h3>\\n                <img src=\"img/sdot.jpg\" style=\"width: 80px; height: 40px;\"/>\\n                <p>해당 페이지는 크롤링 연습용으로도 제공되고 있습니다. 책 목록이 업데이트 되어있는 페이지는 아닙니다. 모든 책 목록은 <a href=\"https://ridibooks.com/search?q=%EC%82%AC%EB%8F%84%EC%B6%9C%ED%8C%90\">책 목록</a>에서 확인해주세요.</p>\\n            </div>\\n        </div>\\n    </div>\\n\\n    <!-- Main Content1 -->\\n    <div class=\"container book_contents\">\\n        <div class=\"row\" style=\"margin-bottom: 50px;\">\\n            <div class=\"col-lg-2 col-lg-offset-2 col-md-2 col-md-offset-1\">\\n\\t\\t\\t\\t<a href=\"https://ridibooks.com/books/2773000047\"><img src=\"img/notion.png\" class=\"img-responsive book_cover\"></a>\\n            </div>\\n            <div class=\"col-lg-6 col-md-8 book_detail\">\\n                <h2 class=\"book_name\" style=\"margin-top: 0;\">메모혁신 Notion(노션) 활용 가이드</h2>\\n                <p class=\"book_info\" style=\"margin-bottom: 0;\">가격: 7,000원</p>\\n                <p class=\"book_info\" style=\"margin-bottom: 0;\">저자: 이호준, 이준호, 김혜원, 김유진, 차경림, 김진, 현지연, 정승한</p>\\n                <p class=\"book_info\" style=\"margin-bottom: 0;\">Notion의 기본 사용 방법부터 Notion을 활용한 홈페이지 제작 방법까지 다양하게 다루고 있으며 특히 개발자가 원하는 Notion의 활용 방법을 다루고 있습니다.</p>\\n            </div>\\n        </div>\\n    </div>\\n\\n    <!-- Main Content1 -->\\n    <div class=\"container book_contents\">\\n        <div class=\"row\" style=\"margin-bottom: 50px;\">\\n            <div class=\"col-lg-2 col-lg-offset-2 col-md-2 col-md-offset-1\">\\n\\t\\t\\t\\t<a href=\"https://ridibooks.com/books/2773000064\"><img src=\"img/resume.png\" class=\"img-responsive book_cover\"></a>\\n            </div>\\n\\t\\t\\t    <div class=\"col-lg-6 col-md-8 book_detail\">\\n                    <h2 class=\"book_name\" style=\"margin-top: 0;\">이력서 작성 가이드</h2>\\n                    <p class=\"book_info\" style=\"margin-bottom: 0;\">가격: 10,000원</p>\\n                    <p class=\"book_info\" style=\"margin-bottom: 0;\">저자: 강혜진, 김유진, 김혜원, 김진, 이범재, 이호준, 원유선, 박누리, 차경림, 최원범, 한재현</p>\\n                    <p class=\"book_info\" style=\"margin-bottom: 0;\">개발자 역량을 갖추는 것뿐만 아니라 회사에 뽑힐 확률을 높이는 전략과 방법도 필요합니다. 개발자 이력서는 그 첫걸음입니다.</p>\\n            </div>\\n        </div>\\n    </div>\\n\\n    <!-- Main Content2 -->\\n    <div class=\"container book_contents\">\\n        <div class=\"row\" style=\"margin-bottom: 50px;\">\\n            <div class=\"col-lg-2 col-lg-offset-2 col-md-2 col-md-offset-1\">\\n\\t\\t\\t\\t<a href=\"https://ridibooks.com/v2/Detail?id=2773000025\"><img src=\"img/cofe.jpg\" class=\"img-responsive book_cover\"></a>\\n            </div>\\n                <div class=\"col-lg-6 col-md-8 book_detail\">\\n                    <h2 class=\"book_name\" style=\"margin-top: 0;\">제주코딩베이스캠프 Code Festival: Python 100제 1부</h2>\\n                    <p class=\"book_info\" style=\"margin-bottom: 0;\">가격: 무료</p>\\n                    <p class=\"book_info\" style=\"margin-bottom: 0;\">저자: 이호준, 강민정, 김유진, 정윤하, 최원범</p>\\n                    <p class=\"book_info\" style=\"margin-bottom: 0;\">파이썬으로 풀 수 있는 100문제를 만들었습니다. 50문제씩 1부(초급, 중급)와 2부(중급, 고급)로 나누어져있습니다.</p>\\n            </div>\\n        </div>\\n    </div>\\n\\n    <!-- Main Content3 -->\\n    <div class=\"container book_contents\">\\n        <div class=\"row\" style=\"margin-bottom: 50px;\">\\n            <div class=\"col-lg-2 col-lg-offset-2 col-md-2 col-md-offset-1\">\\n\\t\\t\\t\\t      <a href=\"https://ridibooks.com/v2/Detail?id=2773000005\"><img src=\"img/HTMLCSS.jpg\" class=\"img-responsive book_cover\"></a>\\n            </div>\\n\\t\\t\\t      <div class=\"col-lg-6 col-md-8 book_detail\">\\n\\t\\t\\t\\t      <h2 class=\"book_name\" style=\"margin-top: 0;\">튜토리얼로 배우는 HTML&CSS</h2>\\n                      <p class=\"book_info\" style=\"margin-bottom: 0;\">가격: 4,900원</p>\\n                      <p class=\"book_info\" style=\"margin-bottom: 0;\">저자: 이호준, 박민균, 양지혜, 정민준, 박소영, 전유빈</p>\\n\\t\\t\\t\\t      <p class=\"book_info\" style=\"margin-bottom: 0;\">튜토리얼을 통해 일단 만들어 봅시다! 무엇이든 일단 만들어 보면 길이 보이기 시작합니다. 그 다음 웹 동작방법, 태그의 동작 방식, 브라우저 렌더링 엔진 등에 대하여 부담이 되지 않을 만큼씩 배워가세요.</p>\\n            </div>\\n        </div>\\n    </div>\\n\\n    <!-- Main Content4 -->\\n    <div class=\"container  book_contents\">\\n        <div class=\"row\" style=\"margin-bottom: 50px;\">\\n            <div class=\"col-lg-2 col-lg-offset-2 col-md-2 col-md-offset-1\">\\n                <a href=\"https://ridibooks.com/v2/Detail?id=2773000007\"><img src=\"img/python1.jpg\" class=\"img-responsive book_cover\"></a>\\n            </div>\\n\\t\\t\\t    <div class=\"col-lg-6 col-md-8 book_detail\">\\n                    <h2 class=\"book_name\" style=\"margin-top: 0;\">코딩도장 튜토리얼로 배우는 Python 1편 object</h2>\\n                    <p class=\"book_info\" style=\"margin-bottom: 0;\">가격: 3,000원</p>\\n                    <p class=\"book_info\" style=\"margin-bottom: 0;\">저자: 이호준, 정민준, 배희성, 김덕주, 한승협</p>\\n\\t\\t\\t\\t    <p class=\"book_info\" style=\"margin-bottom: 0;\">파이썬은 이해하기 쉽고 간결한 문법으로 생산성이 높아 교육을 포함한 다양한 분야 에서 활용되고 있는 언어입니다. 빅데이터 분석, 머신러닝, 웹 개발 등 다양하게 쓰이는 Python을 예제를 통해 배워보세요. 이 책은 여러 미션을 스토리텔링 형식으로 제공하며 튜토리얼 별로 코드를 제공하여 쉽고 재미있게 코딩 개념을 익힐 수 있도록 도와줄 것입니다.\\n                    </p>\\n            </div>\\n        </div>\\n    </div>\\n\\n    <!-- Main Content5 -->\\n    <div class=\"container book_contents\">\\n        <div class=\"row\" style=\"margin-bottom: 50px;\">\\n            <div class=\"col-lg-2 col-lg-offset-2 col-md-2 col-md-offset-1\">\\n\\t\\t\\t\\t      <a href=\"https://ridibooks.com/v2/Detail?id=2773000008\"><img src=\"img/python2.jpg\" class=\"img-responsive book_cover\"></a>\\n            </div>\\n\\t\\t\\t      <div class=\"col-lg-6 col-md-8 book_detail\">\\n\\t\\t\\t\\t      <h2 class=\"book_name\" style=\"margin-top: 0;\">코딩도장 튜토리얼로 배우는 python 2편 제어문</h2>\\n                      <p class=\"book_info\" style=\"margin-bottom: 0;\">가격: 4,900원</p>\\n                      <p class=\"book_info\" style=\"margin-bottom: 0;\">저자: 이호준, 우지훈, 박소영, 허재영</p>\\n\\t\\t\\t\\t      <p class=\"book_info\" style=\"margin-bottom: 0;\">파이썬 튜토리얼 시리즈는 1편 Object 2편 제어문 3편 문제풀이로 구성되어 있습니다.</p>\\n            </div>\\n        </div>\\n    </div>\\n\\n    <!-- Main Content6 -->\\n    <div class=\"container book_contents\">\\n        <div class=\"row\" style=\"margin-bottom: 50px;\">\\n            <div class=\"col-lg-2 col-lg-offset-2 col-md-2 col-md-offset-1\">\\n\\t\\t\\t\\t      <a href=\"https://ridibooks.com/v2/Detail?id=2773000011\"><img src=\"img/python3.jpg\" class=\"img-responsive book_cover\"></a>\\n            </div>\\n\\t\\t\\t      <div class=\"col-lg-6 col-md-8 book_detail\">\\n\\t\\t\\t\\t      <h2 class=\"book_name\" style=\"margin-top: 0;\">코딩도장 튜토리얼로 배우는 Python 문제풀이</h2>\\n                      <p class=\"book_info\" style=\"margin-bottom: 0;\">가격: 무료</p>\\n                      <p class=\"book_info\" style=\"margin-bottom: 0;\">저자: 이호준, 전유빈, 김태범, 한승협, 김혜원, 강민정</p>\\n\\t\\t\\t\\t      <p class=\"book_info\" style=\"margin-bottom: 0;\">\\n                          이 책은 Python 문법을 이제 막 끝낸 분에게 추천해 드립니다. \\n                          코딩도장 사이트에 문제를 풀어보며 Python에 보다 깊게 다가가 보세요.\\n                          다양한 문제들이 여러분의 실력을 향상시켜 줄 것입니다.</p>\\n            </div>\\n        </div>\\n    </div>\\n\\n    <!-- Main Content7 -->\\n    <div class=\"container book_contents\">\\n        <div class=\"row\" style=\"margin-bottom: 50px;\">\\n            <div class=\"col-lg-2 col-lg-offset-2 col-md-2 col-md-offset-1\">\\n\\t\\t\\t\\t<a href=\"https://ridibooks.com/books/2773000015\"><img src=\"img/tanos.jpg\" class=\"img-responsive book_cover\"></a>\\n            </div>\\n\\t\\t\\t      <div class=\"col-lg-6 col-md-8 book_detail\">\\n\\t\\t\\t\\t      <h2 class=\"book_name\" style=\"margin-top: 0;\">타노스의 건틀릿 알고리즘 With Python</h2>\\n                      <p class=\"book_info\" style=\"margin-bottom: 0;\">가격: 무료</p>\\n                      <p class=\"book_info\" style=\"margin-bottom: 0;\">저자: 이호준, 한승협, 강민정, 신민욱</p>\\n\\t\\t\\t\\t      <p class=\"book_info\" style=\"margin-bottom: 0;\">이 책은 Python 문법을 이제 막 끝낸 분에게 추천해 드립니다. \\n                          타노스의 핑거스냅 문제를 다양한 시각으로 풀어보며 Python에 보다 깊게 다가가 보세요. \\n                          다양한 시각이 여러분의 실력을 향상시켜줄 것입니다.</p>\\n            </div>\\n        </div>\\n    </div>\\n\\n    <!-- Main Content8 -->\\n    <div class=\"container book_contents\">\\n        <div class=\"row\" style=\"margin-bottom: 50px;\">\\n            <div class=\"col-lg-2 col-lg-offset-2 col-md-2 col-md-offset-1\">\\n\\t\\t\\t\\t      <a href=\"https://ridibooks.com/books/2773000020\"><img src=\"img/xlsx.jpg\" class=\"img-responsive book_cover\"></a>\\n            </div>\\n\\t\\t\\t      <div class=\"col-lg-6 col-md-8 book_detail\">\\n\\t\\t\\t\\t      <h2 class=\"book_name\" style=\"margin-top: 0;\">xlsxwriter 튜토리얼로 배우는 Python 엑셀 프로그래밍</h2>\\n                      <p class=\"book_info\" style=\"margin-bottom: 0;\">가격: 무료</p>\\n                      <p class=\"book_info\" style=\"margin-bottom: 0;\">저자: 이호준, 강상권, 오재원, 전진환, 문형철, 이현창</p>\\n\\t\\t\\t\\t      <p class=\"book_info\" style=\"margin-bottom: 0;\">이 책은 빅데이터를 가공하여 엑셀로 가시화 시키기 원하는 업무 담당자와 단순 업무를 Python을 이용하여 자동화 시키려 하는 업무 담당자에게 추천해드립니다. \\n                          또한 부서의 업무 고도화, 효율화를 위해 적절한 자동화 프로그램을 찾지 못한 기업과 학문적 호기심을 가진 개인에게도 추천해 드립니다. \\n                          세계에서 유행중인 Python은 타 언어에 비해 다루기 쉬우며 풍성한 라이브러리로 원하는 프로그램을 직접 만들기에 적합합니다.</p>\\n            </div>\\n        </div>\\n    </div>\\n\\n    <!-- Main Content9 -->\\n    <div class=\"container book_contents\">\\n            <div class=\"row\" style=\"margin-bottom: 50px;\">\\n                <div class=\"col-lg-2 col-lg-offset-2 col-md-2 col-md-offset-1\">\\n                          <a href=\"https://ridibooks.com/books/2773000001\"><img src=\"img/ruple.jpg\" class=\"img-responsive book_cover\"></a>\\n                </div>\\n                      <div class=\"col-lg-6 col-md-8 book_detail\">\\n                          <h2 class=\"book_name\" style=\"margin-top: 0;\">러플 튜토리얼로 배우는 Python</h2>\\n                          <p class=\"book_info\" style=\"margin-bottom: 0;\">가격: 4,900</p>\\n                          <p class=\"book_info\" style=\"margin-bottom: 0;\">저자: 이호준, 배희성, 양지혜, 박소영, 김수연, 정민준</p>\\n                          <p class=\"book_info\" style=\"margin-bottom: 0;\">이 책은 소프트웨어 교육을 처음 접했거나 스크래치, \\n                              엔트리 등 블록기반 교육용 소프트웨어 다음으로 무엇을 배워야 할 지 모르는 초등학교 학생,\\n                              중학교 학생과 소프트웨어 교육을 담당하는 선생님께 권해드립니다.\\n                               파이썬 코드로 로봇을 제어하면서 코딩을 쉽게 배울 수 있는 러플은 고급 프로그래밍 언어를 처음 접하는\\n                                학생들이 쉽게 언어기반 프로그래밍을 이해할 수 있도록 도와줍니다.</p>\\n                </div>\\n            </div>\\n        </div>\\n    \\n    <!-- Main Content10 -->\\n    <div class=\"container book_contents\">\\n        <div class=\"row\" style=\"margin-bottom: 50px;\">\\n            <div class=\"col-lg-2 col-lg-offset-2 col-md-2 col-md-offset-1\">\\n\\t\\t\\t\\t      <a href=\"https://ridibooks.com/v2/Detail?id=2773000022\"><img src=\"img/auto.jpg\" class=\"img-responsive book_cover\"></a>\\n            </div>\\n\\t\\t\\t      <div class=\"col-lg-6 col-md-8 book_detail\">\\n\\t\\t\\t\\t      <h2 class=\"book_name\" style=\"margin-top: 0;\">인공지능을 활용한 업무자동화 With Google Developers Group JEJU</h2>\\n                      <p class=\"book_info\" style=\"margin-bottom: 0;\">가격: 무료</p>\\n                      <p class=\"book_info\" style=\"margin-bottom: 0;\">저자: 이호준, 이준호, 현암, 윤현담, 김루비, 이동민, 유승엽, 박서윤, 김채린, 한승협, 안상우, 장성원, 전진환, 강민성, 조민구, 전창삼</p>\\n\\t\\t\\t\\t      <p class=\"book_info\" style=\"margin-bottom: 0;\">이 책은 반복적이고 지루한 단순 업무를 Python을 이용하여 \\n                          자동화 시키려 하는 업무 담당자와 데이터를 가공하여 가시화 시키기 원하는 업무 담당자에게 추천해드립니다.\\n                           또한 부서의 업무 고도화, 효율화를 위해 적절한 자동화 프로그램을 찾지 못한 기업과 학문적 호기심을 가진 개인에게도 추천해 드립니다. \\n                          세계에서 유행중인 Python은 타 언어에 비해 다루기 쉬우며 풍성한 라이브러리로 원하는 프로그램을 직접 만들기에 적합합니다.</p>\\n            </div>\\n        </div>\\n    </div>\\n    \\n\\n\\n    <!-- Footer -->\\n    <footer>\\n        <div class=\"container\">\\n            <div class=\"row\">\\n                <div class=\"col-lg-8 col-lg-offset-2 col-md-10 col-md-offset-1\">\\n                    <ul class=\"list-inline text-center\">\\n                        <li>\\n                            <a href=\"https://www.paullab.co.kr/\">\\n                                <img class=\"footer_logo\" src=\"img/logo_weniv.png\" alt=\"\">\\n                            </a>\\n                        </li>\\n                    </ul>\\n                    <p class=\"copyright text-muted\">copyright &copy;2023 weniv all rights reserved.</p>\\n                </div>\\n            </div>\\n        </div>\\n    </footer>\\n\\n    <!-- jQuery -->\\n    <script src=\"js/jquery.js\"></script>\\n\\n    <!-- Bootstrap Core JavaScript -->\\n    <script src=\"js/bootstrap.min.js\"></script>\\n\\n    <!-- Custom Theme JavaScript -->\\n    <script src=\"js/clean-blog.min.js\"></script>\\n\\n</body>\\n\\n</html>\\n'"
            ],
            "application/vnd.google.colaboratory.intrinsic+json": {
              "type": "string"
            }
          },
          "metadata": {},
          "execution_count": 40
        }
      ]
    },
    {
      "cell_type": "code",
      "source": [
        "# 이렇게 웹에서 데이터를 가져 오는 것을 크롤링이라고 합니다.\n",
        "# 이 크롤링에 자주 사용되는 라이브러리는\n",
        "# requests, bs4, selenium 3개가 있습니다.\n",
        "# 경고!! 이 크롤링 코드를 다른 서버에 크롤링 하진 마세요.\n",
        "# 수업 다 듣고 충분히 크롤링에 위험성을 인지한 다음 하세요.\n",
        "# 크롤링은 합법이 아닌 곳이 많다\n",
        "import requests\n",
        "\n",
        "# for i in range(1000): # 이렇게 하시면 안됩니다. 공격이에요.\n",
        "paullab_url = 'https://paullab.co.kr/bookservice/'\n",
        "response = requests.get(paullab_url)\n",
        "response.encoding = 'utf-8'\n",
        "response.text"
      ],
      "metadata": {
        "id": "UqmhAi0MDs9V"
      },
      "execution_count": null,
      "outputs": []
    },
    {
      "cell_type": "markdown",
      "source": [
        "## 크롤링 ***\n",
        "- 업무에 한번쯤 나올 때가 있는데\n",
        "취업후 업무에 할당 받을 때 공부해도 늦지 않는다"
      ],
      "metadata": {
        "id": "8j94I3axbzJI"
      }
    },
    {
      "cell_type": "code",
      "source": [
        "# 판례: 크롤링을 할 때 저작권자에 의도에 위반하는가? => 이게 가장 핵심이다.\n",
        "# 대부분의 서비스가 개발할 때 https://www.google.com/robots.txt 와 같이 /robots.txt를 명시해 둔다.\n",
        "# 크롤링이 가능하다는 말인가?\n",
        "# 그런데 그렇다 하더라도 이 저작물에 상업적 이용을 허하겠다는 이야기는 아니다.\n",
        "# 더군다나 경쟁사라고 한다면 서비스를 만든 목적에 반하기 때문에 법 위반이 된다.\n",
        "\n",
        "\n",
        "#########################\n",
        "## 크롤링 하는 이유?\n",
        "# 1. 업무 자동화\n",
        "# 2. 서버에서 필요한 데이터 연동\n",
        "# 3. 경쟁사 분석\n",
        "#########################\n",
        "\n",
        "# 사례: 실제로 S그릅에 있었을때, K 기관에서 무료로 취약점 점검 크롤링을 했는데\n",
        "# 게시판을 크롤링 할 때 '지연'을 안했다. 마치 for i in rage(100000): 이런 것 처럼\n",
        "# 그래서 S그룹사 중에 하나의 회사가 서버가 나간 적이 있다.\n",
        "# 그래서 여러 페이지를 크롤링 할 것이라면 '지연'을 걸어야 한다.\n",
        "\n",
        "# Dos(Denial-of-Service(서비스 공격))\n",
        "# DDos(디도스 공격)"
      ],
      "metadata": {
        "id": "Ayc1t7raDyOE"
      },
      "execution_count": null,
      "outputs": []
    },
    {
      "cell_type": "code",
      "source": [
        "# 예를 들어서 아래와 같이 지연시킬 수 있다.\n",
        "\n",
        "import time\n",
        "\n",
        "\n",
        "import requests\n",
        "\n",
        "for i in range(5) # 5초당\n",
        "    time.sleep(1) # 이럴 때에는 이렇게 지연을 해줘야 한다. 그래야 서버가 부하가 없다.\n",
        "    paullab_url = 'https://paullab.co.kr/bookservice/'\n",
        "    response = requests.get(paullab_url)\n",
        "    response.encoding = 'utf-8'\n",
        "    print(response.text[:10])"
      ],
      "metadata": {
        "id": "3QD_NfvRYcGW"
      },
      "execution_count": null,
      "outputs": []
    },
    {
      "cell_type": "code",
      "source": [
        "# 크롤링 연습용으로 Naver와 똑같이 만들었다(UI를 똑같이 만들었다는 이야기는 X)\n",
        "# https://paullab.co.kr/bookservice/ # 위니브 크롤링용\n",
        "# https://paullab.co.kr/stock.html #"
      ],
      "metadata": {
        "id": "j6ea6wVGZJBq"
      },
      "execution_count": null,
      "outputs": []
    },
    {
      "cell_type": "code",
      "source": [
        "import requests\n",
        "from bs4 import BeautifulSoup\n",
        "\n",
        "url = 'https://paullab.co.kr/bookservice/'\n",
        "response = requests.get(url)\n",
        "response.encoding = 'utf-8'\n",
        "html = response.text\n",
        "\n",
        "soup = BeautifulSoup(html, 'html.parser')\n",
        "soup"
      ],
      "metadata": {
        "id": "R5oEQGMJbAKm"
      },
      "execution_count": null,
      "outputs": []
    },
    {
      "cell_type": "code",
      "source": [
        "soup.select('.book_name')"
      ],
      "metadata": {
        "colab": {
          "base_uri": "https://localhost:8080/"
        },
        "id": "oYdhNyVJbB0l",
        "outputId": "eadc6cb8-d1eb-4278-ba15-c15912698953"
      },
      "execution_count": null,
      "outputs": [
        {
          "output_type": "execute_result",
          "data": {
            "text/plain": [
              "[<h2 class=\"book_name\" style=\"margin-top: 0;\">메모혁신 Notion(노션) 활용 가이드</h2>,\n",
              " <h2 class=\"book_name\" style=\"margin-top: 0;\">이력서 작성 가이드</h2>,\n",
              " <h2 class=\"book_name\" style=\"margin-top: 0;\">제주코딩베이스캠프 Code Festival: Python 100제 1부</h2>,\n",
              " <h2 class=\"book_name\" style=\"margin-top: 0;\">튜토리얼로 배우는 HTML&amp;CSS</h2>,\n",
              " <h2 class=\"book_name\" style=\"margin-top: 0;\">코딩도장 튜토리얼로 배우는 Python 1편 object</h2>,\n",
              " <h2 class=\"book_name\" style=\"margin-top: 0;\">코딩도장 튜토리얼로 배우는 python 2편 제어문</h2>,\n",
              " <h2 class=\"book_name\" style=\"margin-top: 0;\">코딩도장 튜토리얼로 배우는 Python 문제풀이</h2>,\n",
              " <h2 class=\"book_name\" style=\"margin-top: 0;\">타노스의 건틀릿 알고리즘 With Python</h2>,\n",
              " <h2 class=\"book_name\" style=\"margin-top: 0;\">xlsxwriter 튜토리얼로 배우는 Python 엑셀 프로그래밍</h2>,\n",
              " <h2 class=\"book_name\" style=\"margin-top: 0;\">러플 튜토리얼로 배우는 Python</h2>,\n",
              " <h2 class=\"book_name\" style=\"margin-top: 0;\">인공지능을 활용한 업무자동화 With Google Developers Group JEJU</h2>]"
            ]
          },
          "metadata": {},
          "execution_count": 43
        }
      ]
    },
    {
      "cell_type": "code",
      "source": [
        "s = soup.select('.book_name')\n",
        "s"
      ],
      "metadata": {
        "colab": {
          "base_uri": "https://localhost:8080/"
        },
        "id": "H37QUFJcbo3I",
        "outputId": "4fc885dd-e6cb-4350-bb09-45e7d04dd8ee"
      },
      "execution_count": null,
      "outputs": [
        {
          "output_type": "execute_result",
          "data": {
            "text/plain": [
              "[<h2 class=\"book_name\" style=\"margin-top: 0;\">메모혁신 Notion(노션) 활용 가이드</h2>,\n",
              " <h2 class=\"book_name\" style=\"margin-top: 0;\">이력서 작성 가이드</h2>,\n",
              " <h2 class=\"book_name\" style=\"margin-top: 0;\">제주코딩베이스캠프 Code Festival: Python 100제 1부</h2>,\n",
              " <h2 class=\"book_name\" style=\"margin-top: 0;\">튜토리얼로 배우는 HTML&amp;CSS</h2>,\n",
              " <h2 class=\"book_name\" style=\"margin-top: 0;\">코딩도장 튜토리얼로 배우는 Python 1편 object</h2>,\n",
              " <h2 class=\"book_name\" style=\"margin-top: 0;\">코딩도장 튜토리얼로 배우는 python 2편 제어문</h2>,\n",
              " <h2 class=\"book_name\" style=\"margin-top: 0;\">코딩도장 튜토리얼로 배우는 Python 문제풀이</h2>,\n",
              " <h2 class=\"book_name\" style=\"margin-top: 0;\">타노스의 건틀릿 알고리즘 With Python</h2>,\n",
              " <h2 class=\"book_name\" style=\"margin-top: 0;\">xlsxwriter 튜토리얼로 배우는 Python 엑셀 프로그래밍</h2>,\n",
              " <h2 class=\"book_name\" style=\"margin-top: 0;\">러플 튜토리얼로 배우는 Python</h2>,\n",
              " <h2 class=\"book_name\" style=\"margin-top: 0;\">인공지능을 활용한 업무자동화 With Google Developers Group JEJU</h2>]"
            ]
          },
          "metadata": {},
          "execution_count": 46
        }
      ]
    },
    {
      "cell_type": "code",
      "source": [
        "for i in s:\n",
        "    print(i.text)"
      ],
      "metadata": {
        "colab": {
          "base_uri": "https://localhost:8080/"
        },
        "id": "-FY1SVLJbelM",
        "outputId": "e2d57f93-63db-4715-8af5-9946fa4793b7"
      },
      "execution_count": null,
      "outputs": [
        {
          "output_type": "stream",
          "name": "stdout",
          "text": [
            "메모혁신 Notion(노션) 활용 가이드\n",
            "이력서 작성 가이드\n",
            "제주코딩베이스캠프 Code Festival: Python 100제 1부\n",
            "튜토리얼로 배우는 HTML&CSS\n",
            "코딩도장 튜토리얼로 배우는 Python 1편 object\n",
            "코딩도장 튜토리얼로 배우는 python 2편 제어문\n",
            "코딩도장 튜토리얼로 배우는 Python 문제풀이\n",
            "타노스의 건틀릿 알고리즘 With Python\n",
            "xlsxwriter 튜토리얼로 배우는 Python 엑셀 프로그래밍\n",
            "러플 튜토리얼로 배우는 Python\n",
            "인공지능을 활용한 업무자동화 With Google Developers Group JEJU\n"
          ]
        }
      ]
    },
    {
      "cell_type": "code",
      "source": [
        "import pandas as pd\n",
        "\n",
        "\n",
        "data = pd.read_html('https://paullab.co.kr/stock.html')\n",
        "# 위와 같은 책 제목 등은 안되고, table형태로 만들어져 있어야만 가능!\n",
        "data[3]\n",
        "data[3]['종가']"
      ],
      "metadata": {
        "colab": {
          "base_uri": "https://localhost:8080/",
          "height": 711
        },
        "id": "8-6w7hpNc7te",
        "outputId": "ebbacef1-8f30-4f68-aa6f-eca9d8588537"
      },
      "execution_count": null,
      "outputs": [
        {
          "output_type": "execute_result",
          "data": {
            "text/plain": [
              "0     6650\n",
              "1     6630\n",
              "2     6820\n",
              "3     6430\n",
              "4     5950\n",
              "5     5930\n",
              "6     5640\n",
              "7     5380\n",
              "8     5040\n",
              "9     5100\n",
              "10    5050\n",
              "11    4940\n",
              "12    5010\n",
              "13    4920\n",
              "14    5010\n",
              "15    5000\n",
              "16    5010\n",
              "17    5060\n",
              "18    5060\n",
              "19    5330\n",
              "Name: 종가, dtype: int64"
            ],
            "text/html": [
              "<div>\n",
              "<style scoped>\n",
              "    .dataframe tbody tr th:only-of-type {\n",
              "        vertical-align: middle;\n",
              "    }\n",
              "\n",
              "    .dataframe tbody tr th {\n",
              "        vertical-align: top;\n",
              "    }\n",
              "\n",
              "    .dataframe thead th {\n",
              "        text-align: right;\n",
              "    }\n",
              "</style>\n",
              "<table border=\"1\" class=\"dataframe\">\n",
              "  <thead>\n",
              "    <tr style=\"text-align: right;\">\n",
              "      <th></th>\n",
              "      <th>종가</th>\n",
              "    </tr>\n",
              "  </thead>\n",
              "  <tbody>\n",
              "    <tr>\n",
              "      <th>0</th>\n",
              "      <td>6650</td>\n",
              "    </tr>\n",
              "    <tr>\n",
              "      <th>1</th>\n",
              "      <td>6630</td>\n",
              "    </tr>\n",
              "    <tr>\n",
              "      <th>2</th>\n",
              "      <td>6820</td>\n",
              "    </tr>\n",
              "    <tr>\n",
              "      <th>3</th>\n",
              "      <td>6430</td>\n",
              "    </tr>\n",
              "    <tr>\n",
              "      <th>4</th>\n",
              "      <td>5950</td>\n",
              "    </tr>\n",
              "    <tr>\n",
              "      <th>5</th>\n",
              "      <td>5930</td>\n",
              "    </tr>\n",
              "    <tr>\n",
              "      <th>6</th>\n",
              "      <td>5640</td>\n",
              "    </tr>\n",
              "    <tr>\n",
              "      <th>7</th>\n",
              "      <td>5380</td>\n",
              "    </tr>\n",
              "    <tr>\n",
              "      <th>8</th>\n",
              "      <td>5040</td>\n",
              "    </tr>\n",
              "    <tr>\n",
              "      <th>9</th>\n",
              "      <td>5100</td>\n",
              "    </tr>\n",
              "    <tr>\n",
              "      <th>10</th>\n",
              "      <td>5050</td>\n",
              "    </tr>\n",
              "    <tr>\n",
              "      <th>11</th>\n",
              "      <td>4940</td>\n",
              "    </tr>\n",
              "    <tr>\n",
              "      <th>12</th>\n",
              "      <td>5010</td>\n",
              "    </tr>\n",
              "    <tr>\n",
              "      <th>13</th>\n",
              "      <td>4920</td>\n",
              "    </tr>\n",
              "    <tr>\n",
              "      <th>14</th>\n",
              "      <td>5010</td>\n",
              "    </tr>\n",
              "    <tr>\n",
              "      <th>15</th>\n",
              "      <td>5000</td>\n",
              "    </tr>\n",
              "    <tr>\n",
              "      <th>16</th>\n",
              "      <td>5010</td>\n",
              "    </tr>\n",
              "    <tr>\n",
              "      <th>17</th>\n",
              "      <td>5060</td>\n",
              "    </tr>\n",
              "    <tr>\n",
              "      <th>18</th>\n",
              "      <td>5060</td>\n",
              "    </tr>\n",
              "    <tr>\n",
              "      <th>19</th>\n",
              "      <td>5330</td>\n",
              "    </tr>\n",
              "  </tbody>\n",
              "</table>\n",
              "</div><br><label><b>dtype:</b> int64</label>"
            ]
          },
          "metadata": {},
          "execution_count": 51
        }
      ]
    },
    {
      "cell_type": "markdown",
      "source": [
        "# 예외 처리 ****"
      ],
      "metadata": {
        "id": "tO0iQE9GebMz"
      }
    },
    {
      "cell_type": "code",
      "source": [
        "# 예외처리: try 와 except 활용\n",
        "# 별표 4개\n",
        "\n",
        "try:\n",
        "    for i in range(10):\n",
        "        print(i)\n",
        "        1/0\n",
        "except:\n",
        "    print('에러발생 / 에러가 발생했으니 다시 시도해 주세요')\n",
        "\n",
        "print('프로그램 끝')"
      ],
      "metadata": {
        "colab": {
          "base_uri": "https://localhost:8080/"
        },
        "id": "ZVVUPLcjejqr",
        "outputId": "429501af-0085-4540-e000-3890772f8695"
      },
      "execution_count": null,
      "outputs": [
        {
          "output_type": "stream",
          "name": "stdout",
          "text": [
            "0\n",
            "에러발생 / 에러가 발생했으니 다시 시도해 주세요\n",
            "프로그램 끝\n"
          ]
        }
      ]
    },
    {
      "cell_type": "code",
      "source": [
        "# 주의사항\n",
        "# 1. 이걸로 먹고 살 사람들인 우리는 에러를 만나면 에러를 외워야 한다.\n",
        "# 2. 모든 코드의 try와 except를 작성하는 것은 반대한다.\n",
        "# 2-1. 에러가 발생할 여지가 있는 곳에만 작성하라.\n",
        "'''\n",
        "1. 문법 에러(Syntax Error)\n",
        "2. 이름 에러(Name Error)\n",
        "3. 타입 에러(Type Error)\n",
        "4. 인덱스 에러(Index Error)\n",
        "5. 키 에러(Key Error)\n",
        "6. 값 에러(ValueError)\n",
        "7. 제로 나누기 에러(ZeroDivisionError)\n",
        "8. 어트리뷰트 에러(Attribute Error)\n",
        "9. 인자 개수 에러(TypeError)\n",
        "10. 파일 입출력 에러(File I/O Error)\n",
        "'''"
      ],
      "metadata": {
        "colab": {
          "base_uri": "https://localhost:8080/",
          "height": 72
        },
        "id": "82WDlNpJfKcL",
        "outputId": "40741fbf-3902-484a-8c18-d88c2a0fc403"
      },
      "execution_count": null,
      "outputs": [
        {
          "output_type": "execute_result",
          "data": {
            "text/plain": [
              "'\\n1. 문법 에러(Syntax Error)\\n2. 이름 에러(Name Error)\\n3. 타입 에러(Type Error)\\n4. 인덱스 에러(Index Error)\\n5. 키 에러(Key Error)\\n6. 값 에러(ValueError)\\n7. 제로 나누기 에러(ZeroDivisionError)\\n8. 어트리뷰트 에러(Attribute Error)\\n9. 인자 개수 에러(TypeError)\\n10. 파일 입출력 에러(File I/O Error)\\n'"
            ],
            "application/vnd.google.colaboratory.intrinsic+json": {
              "type": "string"
            }
          },
          "metadata": {},
          "execution_count": 56
        }
      ]
    },
    {
      "cell_type": "code",
      "source": [
        "# 제로 나누기 에러(ZeroDivisionError) 예외처리\n",
        "try:\n",
        "    s = 1/0\n",
        "    print(s)\n",
        "except ZeroDivisionError:\n",
        "    print('0으로 나누어졌습니다!')"
      ],
      "metadata": {
        "colab": {
          "base_uri": "https://localhost:8080/"
        },
        "id": "fpTIm3YXiyRU",
        "outputId": "7e41f1b0-dcc2-493c-f522-a78faa74a5ff"
      },
      "execution_count": null,
      "outputs": [
        {
          "output_type": "stream",
          "name": "stdout",
          "text": [
            "0으로 나누어졌습니다!\n"
          ]
        }
      ]
    },
    {
      "cell_type": "code",
      "source": [
        "# 인덱스 에러(Index Error) 예외처리\n",
        "try:\n",
        "    l = [10, 20, 30]\n",
        "    l[5]\n",
        "except ZeroDivisionError:\n",
        "    print('0으로 나누어졌습니다!')\n",
        "except IndexError:\n",
        "    print('범위가 넘어갔어요!')"
      ],
      "metadata": {
        "colab": {
          "base_uri": "https://localhost:8080/"
        },
        "id": "j1_rMeHNjMJh",
        "outputId": "b4a54090-adda-4d18-8253-76a4916e6af1"
      },
      "execution_count": null,
      "outputs": [
        {
          "output_type": "stream",
          "name": "stdout",
          "text": [
            "범위가 넘어갔어요!\n"
          ]
        }
      ]
    },
    {
      "cell_type": "code",
      "source": [
        "# test 코드 작성할 때 이 코드를 자주 사용합니다.\n",
        "# assert는 가정설정문\n",
        "# 내가 설정한 조건에 만족하지 않는 경우 error를 발생시킬 수 있다.\n",
        "\n",
        "test = 'hello'\n",
        "\n",
        "\n",
        "assert test == 'hello', '에러 메시지 1' #1\n",
        "assert test == 'world', '에러 메시지 2' #2\n",
        "assert test + 3 == 5, '에러 메시지 3' #3"
      ],
      "metadata": {
        "colab": {
          "base_uri": "https://localhost:8080/",
          "height": 202
        },
        "id": "MVdncF48jfVT",
        "outputId": "088d5da3-fcb6-4d26-dc44-879e1be7c161"
      },
      "execution_count": null,
      "outputs": [
        {
          "output_type": "error",
          "ename": "AssertionError",
          "evalue": "에러 메시지 2",
          "traceback": [
            "\u001b[0;31m---------------------------------------------------------------------------\u001b[0m",
            "\u001b[0;31mAssertionError\u001b[0m                            Traceback (most recent call last)",
            "\u001b[0;32m<ipython-input-60-7cc55aeff228>\u001b[0m in \u001b[0;36m<cell line: 0>\u001b[0;34m()\u001b[0m\n\u001b[1;32m      5\u001b[0m \u001b[0;34m\u001b[0m\u001b[0m\n\u001b[1;32m      6\u001b[0m \u001b[0;32massert\u001b[0m \u001b[0mtest\u001b[0m \u001b[0;34m==\u001b[0m \u001b[0;34m'hello'\u001b[0m\u001b[0;34m,\u001b[0m \u001b[0;34m'에러 메시지 1'\u001b[0m \u001b[0;31m#1\u001b[0m\u001b[0;34m\u001b[0m\u001b[0;34m\u001b[0m\u001b[0m\n\u001b[0;32m----> 7\u001b[0;31m \u001b[0;32massert\u001b[0m \u001b[0mtest\u001b[0m \u001b[0;34m==\u001b[0m \u001b[0;34m'world'\u001b[0m\u001b[0;34m,\u001b[0m \u001b[0;34m'에러 메시지 2'\u001b[0m \u001b[0;31m#2\u001b[0m\u001b[0;34m\u001b[0m\u001b[0;34m\u001b[0m\u001b[0m\n\u001b[0m\u001b[1;32m      8\u001b[0m \u001b[0;32massert\u001b[0m \u001b[0mtest\u001b[0m \u001b[0;34m+\u001b[0m \u001b[0;36m3\u001b[0m \u001b[0;34m==\u001b[0m \u001b[0;36m5\u001b[0m\u001b[0;34m,\u001b[0m \u001b[0;34m'에러 메시지 3'\u001b[0m \u001b[0;31m#3\u001b[0m\u001b[0;34m\u001b[0m\u001b[0;34m\u001b[0m\u001b[0m\n",
            "\u001b[0;31mAssertionError\u001b[0m: 에러 메시지 2"
          ]
        }
      ]
    },
    {
      "cell_type": "markdown",
      "source": [
        "# 함수 심화"
      ],
      "metadata": {
        "id": "M6-Jk6rdkDSK"
      }
    },
    {
      "cell_type": "markdown",
      "source": [
        "## 메서드 체이닝\n",
        "- 여러 메서드 호출을 연결하여 코드를 더 간결하고 읽기 쉽게 만드는 기술"
      ],
      "metadata": {
        "id": "Smq9o3OUkIvq"
      }
    },
    {
      "cell_type": "code",
      "source": [
        "# 메서드 체이닝\n",
        "# '11111122222312312312312344433322111'\n",
        "# => 1은 !로\n",
        "# => 2는 @로\n",
        "# => 3은 #로\n",
        "# => 4는 $로\n",
        "\n",
        "s = '11111122222312312312312344433322111'\n",
        "s.replace('1', '!').replace('2', '@').replace('3', '#').replace('4', '$')"
      ],
      "metadata": {
        "colab": {
          "base_uri": "https://localhost:8080/",
          "height": 35
        },
        "id": "TpW8ir-BkL5h",
        "outputId": "595e0902-64ec-4f0c-c33e-af4f82f54de3"
      },
      "execution_count": null,
      "outputs": [
        {
          "output_type": "execute_result",
          "data": {
            "text/plain": [
              "'!!!!!!@@@@@#!@#!@#!@#!@#$$$###@@!!!'"
            ],
            "application/vnd.google.colaboratory.intrinsic+json": {
              "type": "string"
            }
          },
          "metadata": {},
          "execution_count": 61
        }
      ]
    },
    {
      "cell_type": "code",
      "source": [
        "s = '11111122222312312312312344433322111'\n",
        "ss = s.replace('1', '!')\n",
        "ss.replace('2', '@')\n",
        "sss = ss.replace('3', '#')\n",
        "sss\n",
        "# ..."
      ],
      "metadata": {
        "colab": {
          "base_uri": "https://localhost:8080/",
          "height": 35
        },
        "id": "vyJa6h3TkntH",
        "outputId": "b31253a5-ae6c-48d9-8f2e-42ec9c534641"
      },
      "execution_count": null,
      "outputs": [
        {
          "output_type": "execute_result",
          "data": {
            "text/plain": [
              "'!!!!!!22222#!2#!2#!2#!2#444###22!!!'"
            ],
            "application/vnd.google.colaboratory.intrinsic+json": {
              "type": "string"
            }
          },
          "metadata": {},
          "execution_count": 62
        }
      ]
    },
    {
      "cell_type": "code",
      "source": [
        "# 이렇게 변환값이 중간에 list로 바뀌면 사용하지 못한다\n",
        "s = '1111 2222 3333'\n",
        "s.replace('1', '!').split(' ') # 이 다음에 replace를 연달아 사용하지는 못한다. (여기까지가 리스트)"
      ],
      "metadata": {
        "colab": {
          "base_uri": "https://localhost:8080/"
        },
        "id": "Yuifbu3mk7xA",
        "outputId": "835c4af7-6cd7-43ad-df3e-4fc99f379a25"
      },
      "execution_count": null,
      "outputs": [
        {
          "output_type": "execute_result",
          "data": {
            "text/plain": [
              "['!!!!', '2222', '3333']"
            ]
          },
          "metadata": {},
          "execution_count": 64
        }
      ]
    },
    {
      "cell_type": "code",
      "source": [
        "# 앞에 010을 82+010으로, 5044는 *로, 마지막 뒤에 4자리는 그대로 둡니다.\n",
        "# 띄어쓰기가 있는 곳은 없애주세요.\n",
        "# (다른 번호에 해당되는 문제는 아닙니다.)\n",
        "s = '010 5044 2903'\n",
        "\n",
        "s.replace('010', '82+010') # 이 뒤에 메서드 체이닝을 사용할 수 있는 것은 str에 메서드만 가능합니다.\n",
        "s.replace('010', '82+010').split(' ') # 이 뒤에 메서드 체이닝을 사용할 수 있는 것은 list에 메서드만 가능합니다."
      ],
      "metadata": {
        "colab": {
          "base_uri": "https://localhost:8080/"
        },
        "id": "Big13FHolZ8r",
        "outputId": "eda501c9-3a66-49a0-8423-48b6e44b0d5a"
      },
      "execution_count": null,
      "outputs": [
        {
          "output_type": "execute_result",
          "data": {
            "text/plain": [
              "['82+010', '5044', '2903']"
            ]
          },
          "metadata": {},
          "execution_count": 71
        }
      ]
    },
    {
      "cell_type": "code",
      "source": [
        "import requests\n",
        "import bs4\n",
        "import time\n",
        "\n",
        "s = ['서울', '제주', '대구', '부산']\n",
        "\n",
        "for i in s:\n",
        "    time.sleep(3)\n",
        "    url = f''"
      ],
      "metadata": {
        "id": "Fez1k7FinK7z"
      },
      "execution_count": null,
      "outputs": []
    },
    {
      "cell_type": "markdown",
      "source": [
        "## 일급함수와 고차함수\n",
        "- 일급함수: 함수를 값으로 취급하는 것\n",
        "- 고차함수: 하나 이상의 함수를 인자로 받아들이거나 함수를 결과로 반환하는 함수"
      ],
      "metadata": {
        "id": "LTZ3ALqforZa"
      }
    },
    {
      "cell_type": "code",
      "source": [
        "# 일급함수: 함수를 값으로 취급하는 것\n",
        "\n",
        "def hello():\n",
        "    pass\n",
        "\n",
        "x = 10 # 10이라는 값이 들어가는 자리에 함수가 모두 들어갈 수 있다는 이야기\n",
        "y = print\n",
        "a = sum\n",
        "b = lambda x : x ** 2\n",
        "c = hello"
      ],
      "metadata": {
        "id": "7eSrwiMmo5f6"
      },
      "execution_count": null,
      "outputs": []
    },
    {
      "cell_type": "code",
      "source": [
        "a([10, 20, 30])"
      ],
      "metadata": {
        "colab": {
          "base_uri": "https://localhost:8080/"
        },
        "id": "NedWYZDrpacP",
        "outputId": "2e9b6f46-4bb5-4ad0-d9ed-e7640f534eef"
      },
      "execution_count": null,
      "outputs": [
        {
          "output_type": "execute_result",
          "data": {
            "text/plain": [
              "60"
            ]
          },
          "metadata": {},
          "execution_count": 74
        }
      ]
    },
    {
      "cell_type": "code",
      "source": [
        "def add(a, b):\n",
        "    return a + b\n",
        "\n",
        "def mul(a, b):\n",
        "    return a * b\n",
        "\n",
        "def div(a, b):\n",
        "    return a // b\n",
        "\n",
        "def sub(a, b):\n",
        "    return a - b\n",
        "\n",
        "\n",
        "\n",
        "functions = [add, mul, div, sub]\n",
        "functions[0](10, 20)"
      ],
      "metadata": {
        "colab": {
          "base_uri": "https://localhost:8080/"
        },
        "id": "1BQuHBhLpgGK",
        "outputId": "ea544c16-183b-4aa4-df47-95905187c0a3"
      },
      "execution_count": null,
      "outputs": [
        {
          "output_type": "execute_result",
          "data": {
            "text/plain": [
              "30"
            ]
          },
          "metadata": {},
          "execution_count": 75
        }
      ]
    },
    {
      "cell_type": "code",
      "source": [
        "# 함수를 아규먼트로 넣는 것\n",
        "# 고차 함수(Higher-order functions)는 하나 이상의 함수를 인자로 받아들이거나 함수를 결과로 반환하는 함수입니다.\n",
        "# 이 예제에서는 cal이 고차함수입니다.\n",
        "def a(x):\n",
        "    return x ** 2\n",
        "\n",
        "def b(x):\n",
        "    return x ** 3\n",
        "\n",
        "def cal(f, ff, x):\n",
        "    return f(x) + ff(x) # (2 **2) + (2 ** 3) = 12\n",
        "\n",
        "cal(a, b, 2) # 함수를 아규먼트로 넣는 것"
      ],
      "metadata": {
        "colab": {
          "base_uri": "https://localhost:8080/"
        },
        "id": "iOZjlwZ2p8dh",
        "outputId": "dbcf1b8f-39d0-411b-d929-f1c223954864"
      },
      "execution_count": null,
      "outputs": [
        {
          "output_type": "execute_result",
          "data": {
            "text/plain": [
              "12"
            ]
          },
          "metadata": {},
          "execution_count": 83
        }
      ]
    },
    {
      "cell_type": "code",
      "source": [
        "# 함수를 리턴 값으로 넣는 것\n",
        "\n",
        "def a(x):\n",
        "    return x ** 2\n",
        "\n",
        "def b(x):\n",
        "    return x ** 3\n",
        "\n",
        "def cal(f):\n",
        "    return b\n",
        "\n",
        "cal(a)\n",
        "cal(a)(2)"
      ],
      "metadata": {
        "colab": {
          "base_uri": "https://localhost:8080/"
        },
        "id": "BnpqMVV6r_3X",
        "outputId": "f612fab7-b1ec-4747-d10b-ffee4ec24348"
      },
      "execution_count": null,
      "outputs": [
        {
          "output_type": "execute_result",
          "data": {
            "text/plain": [
              "8"
            ]
          },
          "metadata": {},
          "execution_count": 82
        }
      ]
    },
    {
      "cell_type": "markdown",
      "source": [
        "## 재귀함수\n",
        "- 함수 내부에서 자신을 다시 호출하여 작동하는 함수"
      ],
      "metadata": {
        "id": "G_gzC6CLs_0K"
      }
    },
    {
      "cell_type": "code",
      "source": [
        "# 재귀함수는 당분간 볼 일은 없다.\n",
        "\n",
        "# 실행하지 X\n",
        "# def hello():\n",
        "#     print(1)\n",
        "#     return hello()"
      ],
      "metadata": {
        "id": "TZC_oXrosdfF"
      },
      "execution_count": null,
      "outputs": []
    },
    {
      "cell_type": "code",
      "source": [
        "result = 1\n",
        "for i in range(1, 6):\n",
        "    result *= i\n",
        "result # 5! == 5 * 4 * 3 * 2 * 1"
      ],
      "metadata": {
        "colab": {
          "base_uri": "https://localhost:8080/"
        },
        "id": "yvJuYtJOwKhd",
        "outputId": "4501c4de-1ff3-48af-ef08-eef3c89b9bc6"
      },
      "execution_count": null,
      "outputs": [
        {
          "output_type": "execute_result",
          "data": {
            "text/plain": [
              "120"
            ]
          },
          "metadata": {},
          "execution_count": 87
        }
      ]
    },
    {
      "cell_type": "code",
      "source": [
        "def factorial(n):\n",
        "    if n == 1:\n",
        "        return 1\n",
        "    else:\n",
        "        return n * factorial(n-1)\n",
        "\n",
        "factorial(5)\n",
        "\n",
        "# 함수 아규먼트     return값\n",
        "# factorial(5)      5 * factorial(4) == 5 * 4 * 3 * 2 * 1\n",
        "# factorial(4)      4 * factorial(3) == 4 * 3 * 2 * 1\n",
        "# factorial(3)      3 * factorial(2) == 3 * 2 * 1\n",
        "# factorial(2)      2 * factorial(1) == 2 * 1\n",
        "# factorial(1)      1"
      ],
      "metadata": {
        "colab": {
          "base_uri": "https://localhost:8080/"
        },
        "id": "we7BWFcZwdPv",
        "outputId": "6a44fbd2-94f2-44c0-f4d2-64572f95d10b"
      },
      "execution_count": null,
      "outputs": [
        {
          "output_type": "execute_result",
          "data": {
            "text/plain": [
              "120"
            ]
          },
          "metadata": {},
          "execution_count": 88
        }
      ]
    },
    {
      "cell_type": "markdown",
      "source": [
        "## 클로저\n",
        "- 함수 내 함수가 외부 변수를 참조하여 '보존'하는 것\n",
        "- 파이썬에만 있는 개념이 아니라 다른 프로그래밍 언어에서도 중요한 프로그래밍 개념\n",
        "- 클로징 되어야 하는 메모리 영역에 접근할 수 있는 기법"
      ],
      "metadata": {
        "id": "kVrv6VxjxzLe"
      }
    },
    {
      "cell_type": "code",
      "source": [
        "def outer_function(x):\n",
        "    def inner_function(y):\n",
        "        return x + y\n",
        "    return inner_function\n",
        "\n",
        "inner = outer_function(100)\n",
        "inner(200) # inner\n",
        "\n",
        "# 위 코드는 아래 코드와 같습니다\n",
        "# def inner(y):\n",
        "#     return 100 + y"
      ],
      "metadata": {
        "id": "67p0ipYTyFLN"
      },
      "execution_count": null,
      "outputs": []
    },
    {
      "cell_type": "code",
      "source": [
        "x = 10\n",
        "y = x\n",
        "z = y"
      ],
      "metadata": {
        "id": "Y_IBNZxqyYCq"
      },
      "execution_count": null,
      "outputs": []
    },
    {
      "cell_type": "code",
      "source": [
        "def f(x):\n",
        "    def ff(y):\n",
        "        return y ** x\n",
        "    return ff\n",
        "\n",
        "a = f(2)\n",
        "print(a(2))\n",
        "print(a(3))\n",
        "print(a(4))\n",
        "\n",
        "b = f(3)\n",
        "print(b(2))\n",
        "print(b(3))\n",
        "print(b(4))"
      ],
      "metadata": {
        "colab": {
          "base_uri": "https://localhost:8080/"
        },
        "id": "tM3lsYrKzb7F",
        "outputId": "24f0954b-99c6-47f0-f227-1e828f3bfb5c"
      },
      "execution_count": null,
      "outputs": [
        {
          "output_type": "stream",
          "name": "stdout",
          "text": [
            "4\n",
            "9\n",
            "16\n",
            "8\n",
            "27\n",
            "64\n"
          ]
        }
      ]
    },
    {
      "cell_type": "markdown",
      "source": [
        "## 데코레이터\n",
        "- 함수 또는 메서드를 꾸며주는 함수"
      ],
      "metadata": {
        "id": "daQA3x_c0W7J"
      }
    },
    {
      "cell_type": "code",
      "source": [
        "def login(function):\n",
        "    pass\n",
        "\n",
        "@login\n",
        "def 게시판 읽기():\n",
        "    pass"
      ],
      "metadata": {
        "id": "OZCPHQ2r09VG"
      },
      "execution_count": null,
      "outputs": []
    },
    {
      "cell_type": "code",
      "source": [
        "# 클래스를 잘 모른다? 서비스 개발에 문제가 생긴다. Django로 들어갈 땐 크리티컬 하다.\n",
        "# 일급함수, 고차함수를 잘 모른다? 괜찮다.\n",
        "# 클로저를 잘 모른다? 괜찮다.\n",
        "# 데콜이터 잘 모른다? 괜찮다."
      ],
      "metadata": {
        "id": "3XXj_l891Gfz"
      },
      "execution_count": null,
      "outputs": []
    },
    {
      "cell_type": "code",
      "source": [
        "# 어려운 부분이라 손으로 써보는 것도 방법\n",
        "def simple_decorator(function):\n",
        "    def wrapper():\n",
        "        print(\"전\")\n",
        "        function()\n",
        "        print(\"후\")\n",
        "    return wrapper\n",
        "\n",
        "@simple_decorator\n",
        "def hello():\n",
        "    print(\"Hello, World!\")\n",
        "\n",
        "hello() # 데코레이터가 없는 상태에서는 simple_decorator(hello)() 와 같습니다."
      ],
      "metadata": {
        "colab": {
          "base_uri": "https://localhost:8080/"
        },
        "id": "Xr3FwaAt1p8y",
        "outputId": "2ea8eb88-1f8c-425d-d9c1-33e687d41e7d"
      },
      "execution_count": null,
      "outputs": [
        {
          "output_type": "stream",
          "name": "stdout",
          "text": [
            "전\n",
            "Hello, World!\n",
            "후\n"
          ]
        }
      ]
    },
    {
      "cell_type": "markdown",
      "source": [
        "## lambda *\n",
        "- 이름이 없는 함수\n",
        "- 재사용이 목적이 아닌 함수 기능 자체에 목적이 있다"
      ],
      "metadata": {
        "id": "bAspCAjJVsiU"
      }
    },
    {
      "cell_type": "code",
      "source": [
        "# 이름이 없는 함수!\n",
        "# 함수는 => 재사용이 목적!\n",
        "# 이름이 없 는 함수인 lambda는 재사용이 목적이 아니라 함수 기능 자체에 목적이 있다!\n",
        "\n",
        "def f(x): # 이 f함수를 거의 재사용하지 않는다! 1번만 사용하는 경우가 많다\n",
        "    return x ** 2\n",
        "\n",
        "list(map(f, [1, 2, 3, 4]))\n"
      ],
      "metadata": {
        "colab": {
          "base_uri": "https://localhost:8080/"
        },
        "id": "hawxJlN_4FJN",
        "outputId": "5518fa69-d276-4776-d118-0b42a79a0676"
      },
      "execution_count": null,
      "outputs": [
        {
          "output_type": "execute_result",
          "data": {
            "text/plain": [
              "[1, 4, 9, 16]"
            ]
          },
          "metadata": {},
          "execution_count": 99
        }
      ]
    },
    {
      "cell_type": "code",
      "source": [
        "list(map(lambda x: x ** 2, [1, 2, 3, 4]))\n",
        "# lambda (input) : (return값이 True인 것만 출력)"
      ],
      "metadata": {
        "colab": {
          "base_uri": "https://localhost:8080/"
        },
        "id": "VH3fibA84HxP",
        "outputId": "8f1f4201-d2e3-4f28-9933-ac74f125304d"
      },
      "execution_count": null,
      "outputs": [
        {
          "output_type": "execute_result",
          "data": {
            "text/plain": [
              "[1, 4, 9, 16]"
            ]
          },
          "metadata": {},
          "execution_count": 100
        }
      ]
    },
    {
      "cell_type": "code",
      "source": [
        "# lambda가 자주 사용되는 곳은?\n",
        "\n",
        "# map\n",
        "# filter\n",
        "# sorted\n",
        "\n",
        "# 다만, 고급 프로그래머는 시도 때도 없이 lambda를 사용한다\n",
        "# 그리고 한줄로만 코딩을 하려는 이상한 분들이 있으시다. => 권하지 않는다\n",
        "# 가독성은 중요하다! lambda를 너무 겹쳐서 쓰면 가독성이 깨진다"
      ],
      "metadata": {
        "id": "gdtVqZMM4KLG"
      },
      "execution_count": null,
      "outputs": []
    },
    {
      "cell_type": "code",
      "source": [
        "# [2, 5, 3, 7, 5, 3, 4, 1, 2, 3]에서 4 이상인 값을 모두 출력하세요. lambda를 통해 구현하세요.\n",
        "\n",
        "list(filter(lambda x: x >=4, [2, 5, 3, 7, 5, 3, 4, 1, 2, 3] ))"
      ],
      "metadata": {
        "colab": {
          "base_uri": "https://localhost:8080/"
        },
        "id": "qCP5oVLL4Mra",
        "outputId": "e71faaf8-ccc4-487a-c873-682fdabed1cd"
      },
      "execution_count": null,
      "outputs": [
        {
          "output_type": "execute_result",
          "data": {
            "text/plain": [
              "[5, 7, 5, 4]"
            ]
          },
          "metadata": {},
          "execution_count": 102
        }
      ]
    },
    {
      "cell_type": "code",
      "source": [
        "# lambda를 이름 있는 함수로?\n",
        "\n",
        "f = lambda num: num >= 4\n",
        "\n",
        "def f(num):\n",
        "    return num >=4"
      ],
      "metadata": {
        "id": "vaGlBU7H4Oig"
      },
      "execution_count": null,
      "outputs": []
    },
    {
      "cell_type": "code",
      "source": [
        "# 가독성이 매우 떨어지는 코드\n",
        "\n",
        "# 가독성이 매우 떨어지는 중첩 lambda 예시 (이게 다 한줄...)\n",
        "process_data = lambda data: list(map(\n",
        "    lambda x: (lambda y: (lambda z: z ** 2)(y * 3) if y % 2 == 0 else (lambda w: w + 10)(y))(\n",
        "        (lambda a: a + 5 if a > 10 else (lambda b: b * 2)(a))(x)\n",
        "    ),\n",
        "    filter(lambda n: (lambda p: p > 0)(n) and (lambda q: q < 100)(n) and (lambda r: r % 3 != 0 or r % 5 == 0)(n), data)\n",
        "))\n",
        "\n",
        "# 사용 예시\n",
        "numbers = list(range(-10, 30))\n",
        "result = process_data(numbers)\n",
        "print(result)\n"
      ],
      "metadata": {
        "colab": {
          "base_uri": "https://localhost:8080/"
        },
        "id": "saiMCkn24RIp",
        "outputId": "998e1fb2-63b4-41fc-8a47-062ec9f3902b"
      },
      "execution_count": null,
      "outputs": [
        {
          "output_type": "stream",
          "name": "stdout",
          "text": [
            "[36, 144, 576, 900, 1764, 2304, 3600, 2304, 2916, 29, 3600, 31, 4356, 5184, 35, 37, 7056, 8100, 41, 43, 10404]\n"
          ]
        }
      ]
    },
    {
      "cell_type": "markdown",
      "source": [
        "## args, kwargs\n",
        "- 아규먼츠(args), 키워드 아규먼츠(kwargs)\n",
        "- 애스터리스크(*) 1개는 튜플이나 리스트를 패킹, 언패킹하는데 사용하며 2개는 딕셔너리를 패킹, 언패킹 하는데 사용됩니다\n",
        "- 아규먼츠는 튜플, 키워드 아규먼츠는 딕셔너리 형식으로 받는다."
      ],
      "metadata": {
        "id": "AKkD67Tin8wA"
      }
    },
    {
      "cell_type": "code",
      "source": [
        "# *args\n",
        "# 아규먼츠(*args)가 함수 내 파라미터로 사용되면 여러 아규먼트를 묶어 받을 수 있다.\n",
        "# https://docs.python.org/3/library/functions.html#sorted\n",
        "# 여기서 sorted 안에 있는 * 와 같은 것입니다.\n",
        "# 언패킹과 패킹\n",
        "\n",
        "def print_args(*args):\n",
        "    print(args) # 출력: (100, True, 'Licat')\n",
        "\n",
        "print_args(100, True, 'Licat')"
      ],
      "metadata": {
        "id": "Rat__ocnoNWb"
      },
      "execution_count": null,
      "outputs": []
    },
    {
      "cell_type": "code",
      "source": [
        "a, b, c = range(3)\n",
        "a, b, c"
      ],
      "metadata": {
        "colab": {
          "base_uri": "https://localhost:8080/"
        },
        "id": "MID8n2c5oyhT",
        "outputId": "49673451-bc71-4dcf-bf6e-d8a77e784b52"
      },
      "execution_count": 1,
      "outputs": [
        {
          "output_type": "execute_result",
          "data": {
            "text/plain": [
              "(0, 1, 2)"
            ]
          },
          "metadata": {},
          "execution_count": 1
        }
      ]
    },
    {
      "cell_type": "code",
      "source": [
        "# 앞에 일반적으로 받는 파라미터가 나오고,\n",
        "# args는 뒤에 나온다!\n",
        "def print_args(a, b, *args):\n",
        "    print(args) # 출력: ('Licat', 'hello', 10)\n",
        "\n",
        "\n",
        "print_args(100, True, 'Licat', 'hello', 10)"
      ],
      "metadata": {
        "colab": {
          "base_uri": "https://localhost:8080/"
        },
        "id": "_9RvzjEppAbP",
        "outputId": "9ce96cf5-e00a-4e3e-ca90-4f5f52d6b35b"
      },
      "execution_count": 2,
      "outputs": [
        {
          "output_type": "stream",
          "name": "stdout",
          "text": [
            "('Licat', 'hello', 10)\n"
          ]
        }
      ]
    },
    {
      "cell_type": "code",
      "source": [
        "# kwatgs\n",
        "# 키워드 아규먼츠(kwargs)는 딕셔너리로 가변 아규먼트를 받을 수 있는 방법이다.\n",
        "# 파라미터에 있는 쪽을 아규먼트로 옮겼다.\n",
        "# 이렇게 했을 때 개발자들에게 유용한 점?\n",
        "def print_kwargs(a, **kwargs):\n",
        "    print(a)\n",
        "    print(kwargs)\n",
        "\n",
        "\n",
        "print_kwargs(100, name='Licat', age='10')"
      ],
      "metadata": {
        "colab": {
          "base_uri": "https://localhost:8080/"
        },
        "id": "2c1ONcwvpNYz",
        "outputId": "802b031a-9f5f-4f4e-9224-133b085bedc2"
      },
      "execution_count": 4,
      "outputs": [
        {
          "output_type": "stream",
          "name": "stdout",
          "text": [
            "100\n",
            "{'name': 'Licat', 'age': '10'}\n"
          ]
        }
      ]
    },
    {
      "cell_type": "code",
      "source": [
        "def print_kwargs(a, name, age):\n",
        "    print(a, name, age)\n",
        "\n",
        "print_kwargs(100, 'Licat', '10')\n",
        "print_kwargs(100, '10', 'Licat') # 100이 무엇인지? 10이 무엇인지? Licat이 무엇인지"
      ],
      "metadata": {
        "colab": {
          "base_uri": "https://localhost:8080/"
        },
        "id": "VWu71KL5pwqt",
        "outputId": "5dda45be-9110-4823-c3d7-84e00089bfa3"
      },
      "execution_count": 5,
      "outputs": [
        {
          "output_type": "stream",
          "name": "stdout",
          "text": [
            "100 Licat 10\n",
            "100 10 Licat\n"
          ]
        }
      ]
    },
    {
      "cell_type": "markdown",
      "source": [
        "## 이터레이터\n",
        "- 이터레이터(Iterator): 값을 차례대로 꺼낼 수 있는 객체를 의미\n",
        "__iter__와 __next__ 두 가지 매직 메서드를 구현해야 한다.\n",
        "- 이터레이터 클래스를 생성할 때는 반드시 __iter__와 __next__ 매직 메서드를 정의해야 한다.\n",
        "\n"
      ],
      "metadata": {
        "id": "u3wNokBoqwsR"
      }
    },
    {
      "cell_type": "code",
      "source": [
        "# 이터레이터 기본 구조\n",
        "# __iter__매직 메서드는 이터레이터 객체 자신을 반환\n",
        "# (for 루프 등이 이터레이터를 초기화할 수 있게 합)\n",
        "# __next__매직 메서드는 순회를 할 때 값을 하나씩 반환\n",
        "# (더 이상 반환할 값이 없을 때는 StopIteration 예외를 발생시켜 순회가 끝났음을 알린다)"
      ],
      "metadata": {
        "id": "CAH6RZ22tomj"
      },
      "execution_count": null,
      "outputs": []
    },
    {
      "cell_type": "code",
      "source": [
        "# 이터레이터와 제너레이터\n",
        "# Python에 대해 더 깊게 이해할 수 있도록 도와준다.\n",
        "# Python에서 클래스가 가장 중요하다\n",
        "# 그러면 Python에서 클래스를 제외하면 무엇이 남을까?\n",
        "# for, if, elif, else, in....\n",
        "# 이런 문법이 남는데 이런 문법들은 다 인스턴스의 매직메서드를 호출하는 '기호'이다\n",
        "#############################\n",
        "# a = 10\n",
        "# b = 10\n",
        "# a + b\n",
        "# Python 입장에서는 아래와 같이 해독한다.\n",
        "# 1. 'a' + 'b'\n",
        "# 2. '+' 기호를 만나면 a인스턴스에 __add__를 호출하자\n",
        "# 3. __add__(self, next) 의 next에 b를 넣자\n",
        "# 4. 이렇게 해서 return값이 더하기가 되는 것이다.\n",
        "#############################\n",
        "# for i in [1, 2, 3]:\n",
        "#     print(i)\n",
        "# Python 입장에서는 아래와 같이 해독한다.\n",
        "# 1. 'for' 'i' 'in' '[1, 2, 3]' ':' 잘라내자\n",
        "# 2. for를 만나 in 뒤에 있는 인스턴스의 __iter__를 호출하자\n",
        "# 3. i에는 __iter__에 리턴값에 __next__ 값을 호출하여 넣어주자"
      ],
      "metadata": {
        "id": "xnEQiOgSqsEw"
      },
      "execution_count": null,
      "outputs": []
    },
    {
      "cell_type": "code",
      "source": [
        "# enumerate(iterable, start=0) 이렇게 되어 있는 것에\n",
        "# 이 iterable은 무엇이냐?\n",
        "# 간단하게 말하면 순회가능한 객체\n",
        "# 메직메서드 입장에서는 __iter__와 __next__가 정의되어 있는 인스턴스를 얘기합니다.\n",
        "\n",
        "class Licat:\n",
        "    def __iter__(self):\n",
        "        return self\n",
        "\n",
        "    def __next__(self):\n",
        "        return 'Licat'\n",
        "\n",
        "\n",
        "list(zip(Licat(), 'ABC'))"
      ],
      "metadata": {
        "colab": {
          "base_uri": "https://localhost:8080/"
        },
        "id": "jTfOPQsbuIhn",
        "outputId": "2c500635-93b9-474d-da4f-022272702a2c"
      },
      "execution_count": 13,
      "outputs": [
        {
          "output_type": "execute_result",
          "data": {
            "text/plain": [
              "[('Licat', 'A'), ('Licat', 'B'), ('Licat', 'C')]"
            ]
          },
          "metadata": {},
          "execution_count": 13
        }
      ]
    },
    {
      "cell_type": "code",
      "source": [
        "i = iter('ABC')\n",
        "next(i)"
      ],
      "metadata": {
        "colab": {
          "base_uri": "https://localhost:8080/",
          "height": 35
        },
        "id": "H9b5B2t2upem",
        "outputId": "cbd28c78-f5c1-4bfc-eb3f-25e66c81d4f7"
      },
      "execution_count": 10,
      "outputs": [
        {
          "output_type": "execute_result",
          "data": {
            "text/plain": [
              "'A'"
            ],
            "application/vnd.google.colaboratory.intrinsic+json": {
              "type": "string"
            }
          },
          "metadata": {},
          "execution_count": 10
        }
      ]
    },
    {
      "cell_type": "code",
      "source": [
        "class MyIterator:\n",
        "    def __init__(self, stop):\n",
        "        self.current_value = 0  # 현재 값\n",
        "        self.stop = stop  # 순회를 멈출 값\n",
        "\n",
        "\n",
        "    def __iter__(self):\n",
        "        return self # __iter__로 retunrn된 값을 __next__에서 꺼낸다\n",
        "\n",
        "\n",
        "    def __next__(self):\n",
        "        if self.current_value >= self.stop:\n",
        "            raise StopIteration # raise는 에러를 발생 시킨다.\n",
        "        result = self.current_value # 0\n",
        "        self.current_value += 1\n",
        "        return result\n",
        "\n",
        "\n",
        "my_iterator = MyIterator(5)\n",
        "\n",
        "\n",
        "for i in my_iterator: # for를 만나면 __iter__로 간다.\n",
        "    print(i)"
      ],
      "metadata": {
        "colab": {
          "base_uri": "https://localhost:8080/"
        },
        "id": "ZMrx48PQvJc4",
        "outputId": "a706e2c4-6c5f-4b84-fbd8-2227022951ac"
      },
      "execution_count": 15,
      "outputs": [
        {
          "output_type": "stream",
          "name": "stdout",
          "text": [
            "0\n",
            "1\n",
            "2\n",
            "3\n",
            "4\n"
          ]
        }
      ]
    },
    {
      "cell_type": "code",
      "source": [
        "# 본디 이터레이터 함수는 재사용이 불가능 하다\n",
        "\n",
        "class MyIterator:\n",
        "    def __init__(self, stop):\n",
        "        # self.current_value = 0\n",
        "        self.stop = stop\n",
        "\n",
        "    def __iter__(self):\n",
        "        self.current_value = 0  # __iter__에서 초기화\n",
        "        return self\n",
        "\n",
        "    def __next__(self):\n",
        "        if self.current_value >= self.stop:\n",
        "            raise StopIteration\n",
        "        result = self.current_value\n",
        "        self.current_value += 1\n",
        "        return result\n",
        "\n",
        "my_iterator = MyIterator(5)\n",
        "\n",
        "for i in my_iterator:\n",
        "    print(i)\n",
        "\n",
        "for i in my_iterator:\n",
        "    print(i)"
      ],
      "metadata": {
        "colab": {
          "base_uri": "https://localhost:8080/"
        },
        "id": "XayDu_5h1wI3",
        "outputId": "4fd8efab-fb0b-492d-c5d4-8050ea0a09ef"
      },
      "execution_count": 22,
      "outputs": [
        {
          "output_type": "stream",
          "name": "stdout",
          "text": [
            "0\n",
            "1\n",
            "2\n",
            "3\n",
            "4\n",
            "0\n",
            "1\n",
            "2\n",
            "3\n",
            "4\n"
          ]
        }
      ]
    },
    {
      "cell_type": "markdown",
      "source": [
        "## 제너레이터\n",
        "- 제너레이터(Generator): 이터레이터를 생성해주는 함수로, yield 키워드를 사용하여 만듭니다\n",
        "- 함수 실행 중간에 값을 반환할 수 있고, 이후에 함수의 실행을 계속할 수 있다."
      ],
      "metadata": {
        "id": "T2l7r2UY30CL"
      }
    },
    {
      "cell_type": "code",
      "source": [
        "# 제너레이터(Generator): 이터레이터를 생성해주는 함수\n",
        "\n",
        "def my_generator(): # return을 만나면 멈춘다\n",
        "    x = 10\n",
        "    yield x\n",
        "    x = 20\n",
        "    yield x\n",
        "    x = 30\n",
        "    yield x\n",
        "    return\n",
        "    x = 40\n",
        "    yield x\n",
        "\n",
        "\n",
        "for i in my_generator():\n",
        "    print(i)"
      ],
      "metadata": {
        "colab": {
          "base_uri": "https://localhost:8080/"
        },
        "id": "MwaMkk4y3aEs",
        "outputId": "f88adb7d-0946-4c25-9a07-148d00396644"
      },
      "execution_count": 23,
      "outputs": [
        {
          "output_type": "stream",
          "name": "stdout",
          "text": [
            "10\n",
            "20\n",
            "30\n"
          ]
        }
      ]
    },
    {
      "cell_type": "code",
      "source": [
        "def gen():\n",
        "    x = 0\n",
        "    while True:\n",
        "        yield x\n",
        "        x += 2\n",
        "\n",
        "list(zip(gen(),'ABCDE'))"
      ],
      "metadata": {
        "colab": {
          "base_uri": "https://localhost:8080/"
        },
        "id": "sMJR7kqD4Mqe",
        "outputId": "81bc67ae-d617-4f7f-cc11-3f6cf9e1cf60"
      },
      "execution_count": 24,
      "outputs": [
        {
          "output_type": "execute_result",
          "data": {
            "text/plain": [
              "[(0, 'A'), (2, 'B'), (4, 'C'), (6, 'D'), (8, 'E')]"
            ]
          },
          "metadata": {},
          "execution_count": 24
        }
      ]
    },
    {
      "cell_type": "markdown",
      "source": [
        "## nonlocal\n",
        "- nonlocal은 파이썬의 키워드 중 하나로, 중첩 함수 내부에서 바깥 함수의 변수를 참조할 수 있게 한다.\n",
        "- nonlocal은 주로 클로저(closure)에서 변수의 값을 변경하고자 할 때 사용한다."
      ],
      "metadata": {
        "id": "GHDrczX34nR7"
      }
    },
    {
      "cell_type": "code",
      "source": [
        "x = 10\n",
        "\n",
        "def changex():\n",
        "    global x\n",
        "    x += 10\n",
        "\n",
        "changex()\n",
        "x"
      ],
      "metadata": {
        "colab": {
          "base_uri": "https://localhost:8080/"
        },
        "id": "me9sRAls4qcX",
        "outputId": "b0938cbb-b6f8-43f7-851a-e42859b1d70e"
      },
      "execution_count": 30,
      "outputs": [
        {
          "output_type": "execute_result",
          "data": {
            "text/plain": [
              "20"
            ]
          },
          "metadata": {},
          "execution_count": 30
        }
      ]
    },
    {
      "cell_type": "code",
      "source": [
        "def hello():\n",
        "    x = 10\n",
        "\n",
        "    def changex():\n",
        "        nonlocal x # 바로 밖에 있는 함수를 읽어오는 역할\n",
        "        x += 10\n",
        "\n",
        "    changex()\n",
        "    return x\n",
        "\n",
        "hello()"
      ],
      "metadata": {
        "colab": {
          "base_uri": "https://localhost:8080/"
        },
        "id": "o8nj91gT49qn",
        "outputId": "11012acc-8980-4820-dde9-61b3e42c7dca"
      },
      "execution_count": 32,
      "outputs": [
        {
          "output_type": "execute_result",
          "data": {
            "text/plain": [
              "20"
            ]
          },
          "metadata": {},
          "execution_count": 32
        }
      ]
    },
    {
      "cell_type": "code",
      "source": [
        "x = 100\n",
        "def hello():\n",
        "    x = 10\n",
        "\n",
        "    def changex():\n",
        "        # nonlocal x # '바로 밖에 있는 함수'를 읽어오는 역할\n",
        "        global x\n",
        "        x += 10\n",
        "\n",
        "    changex()\n",
        "    return x\n",
        "\n",
        "hello(), x"
      ],
      "metadata": {
        "colab": {
          "base_uri": "https://localhost:8080/"
        },
        "id": "QR_O1WQ95cZD",
        "outputId": "6fca2b13-e0f1-4240-8aaf-541c7527a5a6"
      },
      "execution_count": 36,
      "outputs": [
        {
          "output_type": "execute_result",
          "data": {
            "text/plain": [
              "(10, 110)"
            ]
          },
          "metadata": {},
          "execution_count": 36
        }
      ]
    },
    {
      "cell_type": "markdown",
      "source": [
        "# 부록"
      ],
      "metadata": {
        "id": "zBTuZTV66qgF"
      }
    },
    {
      "cell_type": "code",
      "source": [
        "# Python 버전\n",
        "# https://www.books.weniv.co.kr/pro-python/chapter14/14-1 참고"
      ],
      "metadata": {
        "id": "tMjayKqQ6pNz"
      },
      "execution_count": 37,
      "outputs": []
    },
    {
      "cell_type": "code",
      "source": [
        "# 변수 타입 힌트\n",
        "# 버전 3.6 이후\n",
        "\n",
        "x:str = 'hello'\n",
        "y:int = 10\n",
        "\n",
        "x"
      ],
      "metadata": {
        "colab": {
          "base_uri": "https://localhost:8080/",
          "height": 35
        },
        "id": "NBTehrZd7i38",
        "outputId": "686174a2-373b-4d71-8613-124f98062248"
      },
      "execution_count": 38,
      "outputs": [
        {
          "output_type": "execute_result",
          "data": {
            "text/plain": [
              "'hello'"
            ],
            "application/vnd.google.colaboratory.intrinsic+json": {
              "type": "string"
            }
          },
          "metadata": {},
          "execution_count": 38
        }
      ]
    },
    {
      "cell_type": "code",
      "source": [
        "# 파이썬의 타입 힌트는 강제하지 않는다.\n",
        "# 컴퓨터를 위한 코드는 아니다!\n",
        "# 개발자 입장에서 코드를 좀 더 면밀히 검토하기 위한 코드이다\n",
        "\n",
        "x:int = 'hello'\n",
        "x # 응 ???"
      ],
      "metadata": {
        "colab": {
          "base_uri": "https://localhost:8080/",
          "height": 35
        },
        "id": "1sAsWKQT7rgT",
        "outputId": "8e17f6a3-baf8-4042-8e91-6d2f722e7b86"
      },
      "execution_count": 39,
      "outputs": [
        {
          "output_type": "execute_result",
          "data": {
            "text/plain": [
              "'hello'"
            ],
            "application/vnd.google.colaboratory.intrinsic+json": {
              "type": "string"
            }
          },
          "metadata": {},
          "execution_count": 39
        }
      ]
    },
    {
      "cell_type": "code",
      "source": [
        "def add(a:int, b:int) -> int:\n",
        "    return a + b\n",
        "\n",
        "add(10, 20)"
      ],
      "metadata": {
        "colab": {
          "base_uri": "https://localhost:8080/"
        },
        "id": "XZVSrZFE8FFC",
        "outputId": "0a8ed155-1931-4e71-8216-3ac647b607a8"
      },
      "execution_count": 41,
      "outputs": [
        {
          "output_type": "execute_result",
          "data": {
            "text/plain": [
              "30"
            ]
          },
          "metadata": {},
          "execution_count": 41
        }
      ]
    },
    {
      "cell_type": "code",
      "source": [
        "# 일반적인 파이썬에서 강제하진 않지만\n",
        "# FastAPI와 같은 일부 프레임웤, 라이브러리에서는 아래와 같은 사항을 강제합니다.\n",
        "\n",
        "def add(a:int, b:int) -> int:\n",
        "    return a + b\n",
        "\n",
        "add(10, 20)\n",
        "\n",
        "def add(a:int, b:int) -> int:\n",
        "    return a + b\n",
        "\n",
        "add('hello', 'world')"
      ],
      "metadata": {
        "colab": {
          "base_uri": "https://localhost:8080/",
          "height": 35
        },
        "id": "Zb80pyNM8hN1",
        "outputId": "54f19636-712c-4765-c054-964fefd8545b"
      },
      "execution_count": 42,
      "outputs": [
        {
          "output_type": "execute_result",
          "data": {
            "text/plain": [
              "'helloworld'"
            ],
            "application/vnd.google.colaboratory.intrinsic+json": {
              "type": "string"
            }
          },
          "metadata": {},
          "execution_count": 42
        }
      ]
    },
    {
      "cell_type": "code",
      "source": [
        "# 타입힌트 연습문제\n",
        "# [1, 2, 3] * 3 => [1, 2, 3, 1, 2, 3, 1, 2, 3]가 나오는 solution 함수를 만들어주세요.\n",
        "\n",
        "def solution(a:list, b:int):\n",
        "    return a * b\n",
        "\n",
        "solution([1, 2, 3], 3)"
      ],
      "metadata": {
        "colab": {
          "base_uri": "https://localhost:8080/"
        },
        "id": "RpydljtA8mGB",
        "outputId": "cfa3a26c-08bf-449c-bb81-f02fb6b41fe9"
      },
      "execution_count": 44,
      "outputs": [
        {
          "output_type": "execute_result",
          "data": {
            "text/plain": [
              "[1, 2, 3, 1, 2, 3, 1, 2, 3]"
            ]
          },
          "metadata": {},
          "execution_count": 44
        }
      ]
    },
    {
      "cell_type": "code",
      "source": [
        "# id, name, email이 각각 3번씩 반복\n",
        "# -> 이러한 현상을  보일러 플레이트(boiler-plate)라 함\n",
        "# -> print를 해도 필드값이 보이지 않아 불편\n",
        "from dataclasses import dataclass\n",
        "\n",
        "\n",
        "@dataclass\n",
        "class User:\n",
        "    id: int\n",
        "    name: str\n",
        "    email : str\n",
        "\n",
        "\n",
        "user = User(123, 'hojun', 'hojun@gmail')\n",
        "user"
      ],
      "metadata": {
        "colab": {
          "base_uri": "https://localhost:8080/"
        },
        "id": "aUbuEx-N-O3p",
        "outputId": "6e0fc7d4-fc4d-415f-ca80-f3af82ec198e"
      },
      "execution_count": 45,
      "outputs": [
        {
          "output_type": "execute_result",
          "data": {
            "text/plain": [
              "User(id=123, name='hojun', email='hojun@gmail')"
            ]
          },
          "metadata": {},
          "execution_count": 45
        }
      ]
    },
    {
      "cell_type": "code",
      "source": [
        "# x = 0\n",
        "# while x < 10:\n",
        "#     print(x)\n",
        "#     x += 1\n",
        "\n",
        "\n",
        "y = 0\n",
        "while (y := y + 1) <= 10:\n",
        "    print(y - 1)"
      ],
      "metadata": {
        "colab": {
          "base_uri": "https://localhost:8080/"
        },
        "id": "xihoRFeE_ced",
        "outputId": "5b856774-eb08-459f-c9fe-1b33a4ff7416"
      },
      "execution_count": 48,
      "outputs": [
        {
          "output_type": "stream",
          "name": "stdout",
          "text": [
            "0\n",
            "1\n",
            "2\n",
            "3\n",
            "4\n",
            "5\n",
            "6\n",
            "7\n",
            "8\n",
            "9\n"
          ]
        }
      ]
    },
    {
      "cell_type": "code",
      "source": [
        "# 3.9 버전 이후\n",
        "x = {\"key1\": \"value1\"}\n",
        "y = {\"key2\": \"value2\"}\n",
        "z = x | y\n",
        "z"
      ],
      "metadata": {
        "colab": {
          "base_uri": "https://localhost:8080/"
        },
        "id": "MyaafEBfCopV",
        "outputId": "ec164d87-725c-4b2c-9865-89feb629f391"
      },
      "execution_count": 49,
      "outputs": [
        {
          "output_type": "execute_result",
          "data": {
            "text/plain": [
              "{'key1': 'value1', 'key2': 'value2'}"
            ]
          },
          "metadata": {},
          "execution_count": 49
        }
      ]
    },
    {
      "cell_type": "code",
      "source": [
        "# 3.9 버전 이전\n",
        "x = {\"key1\": \"value1\"}\n",
        "y = {\"key2\": \"value2\"}\n",
        "x.update(y)\n",
        "x"
      ],
      "metadata": {
        "colab": {
          "base_uri": "https://localhost:8080/"
        },
        "id": "7uxQHO8kCpYA",
        "outputId": "8adf0acf-5781-4efe-d393-02d8111548a2"
      },
      "execution_count": 50,
      "outputs": [
        {
          "output_type": "execute_result",
          "data": {
            "text/plain": [
              "{'key1': 'value1', 'key2': 'value2'}"
            ]
          },
          "metadata": {},
          "execution_count": 50
        }
      ]
    },
    {
      "cell_type": "markdown",
      "source": [
        "## 파일 입출력"
      ],
      "metadata": {
        "id": "DhRfR7INDkl2"
      }
    },
    {
      "cell_type": "code",
      "source": [
        "# AI 시대 파일 입출력 어디까지 공부해야 하는가?\n",
        "# 목적과 의도를 가지고 ChatGPT나 Claude에게 물어보면 된다.\n",
        "# 인코딩이 깨지는 경우, 어떻게 깨지는지도 물어보면 해결책을 알려주는 시대가 되었다.\n",
        "\n",
        "# 주의할 점\n",
        "# 1. with 구문 사용하자\n",
        "# 2. w모드는 덮어쓰기 모드 이다. 뒤에 추가하고 싶으면 a모드 사용\n",
        "\n",
        "with open('test.txt', 'w') as f:\n",
        "    f.write('hello world!')"
      ],
      "metadata": {
        "id": "Z_-YPRZUDhRV"
      },
      "execution_count": 52,
      "outputs": []
    },
    {
      "cell_type": "code",
      "source": [
        "with open('test.txt', 'r') as f:\n",
        "    data = f.read()\n",
        "    print(data)"
      ],
      "metadata": {
        "colab": {
          "base_uri": "https://localhost:8080/"
        },
        "id": "EnsnGp8eEmho",
        "outputId": "863cfb8d-ee0c-4019-b3b7-660d8261861c"
      },
      "execution_count": 54,
      "outputs": [
        {
          "output_type": "stream",
          "name": "stdout",
          "text": [
            "hello world!\n"
          ]
        }
      ]
    },
    {
      "cell_type": "markdown",
      "source": [
        "## 비트 연산자"
      ],
      "metadata": {
        "id": "duFJiLAPGJKN"
      }
    },
    {
      "cell_type": "code",
      "source": [
        "# 비트연산은 실무에서 거의 사용하지 않는다.\n",
        "# 간혹 알고리즘 문제에서 비트 연산 문제가 출제된다.\n",
        "\n",
        "3 & 9 # bit 연산자 and\n",
        "3 | 9 # bit 연산자 or"
      ],
      "metadata": {
        "colab": {
          "base_uri": "https://localhost:8080/"
        },
        "id": "_OyuqW4QE_I-",
        "outputId": "ae113726-dcf5-4005-c743-fe3e16929463"
      },
      "execution_count": 56,
      "outputs": [
        {
          "output_type": "execute_result",
          "data": {
            "text/plain": [
              "11"
            ]
          },
          "metadata": {},
          "execution_count": 56
        }
      ]
    },
    {
      "cell_type": "code",
      "source": [
        "bin(3)"
      ],
      "metadata": {
        "colab": {
          "base_uri": "https://localhost:8080/",
          "height": 35
        },
        "id": "11NTbcWSFSt6",
        "outputId": "51587212-f1c9-42eb-fb20-32ea92ebefd8"
      },
      "execution_count": 57,
      "outputs": [
        {
          "output_type": "execute_result",
          "data": {
            "text/plain": [
              "'0b11'"
            ],
            "application/vnd.google.colaboratory.intrinsic+json": {
              "type": "string"
            }
          },
          "metadata": {},
          "execution_count": 57
        }
      ]
    },
    {
      "cell_type": "code",
      "source": [
        "# 10진수 1982\n",
        "# 10^0 * 2 + 10^1 * 8 + 10^2 * 9 + 10^3 *1\n",
        "\n",
        "# 2진수 11\n",
        "# 2^0 * 1 + 2^1 * 1\n",
        "\n",
        "# 팁: 14라는 숫자를 2진수로 바꿔야 하는 경우가 생겼다?\n",
        "# 16이 가장 14랑 가까운 2의 승수이죠.\n",
        "# 10000\n",
        "# 1111\n",
        "# 1110"
      ],
      "metadata": {
        "id": "uX3NQoTLFUdb"
      },
      "execution_count": 58,
      "outputs": []
    },
    {
      "cell_type": "code",
      "source": [
        "bin(14)"
      ],
      "metadata": {
        "colab": {
          "base_uri": "https://localhost:8080/",
          "height": 35
        },
        "id": "QgQWhhHzFYBY",
        "outputId": "edd50d49-50f5-493f-90cf-170872c419fb"
      },
      "execution_count": 60,
      "outputs": [
        {
          "output_type": "execute_result",
          "data": {
            "text/plain": [
              "'0b1110'"
            ],
            "application/vnd.google.colaboratory.intrinsic+json": {
              "type": "string"
            }
          },
          "metadata": {},
          "execution_count": 60
        }
      ]
    },
    {
      "cell_type": "code",
      "source": [
        "3 & 9\n",
        "\n",
        "# 0011\n",
        "# 1001\n",
        "# ----\n",
        "# 0001"
      ],
      "metadata": {
        "colab": {
          "base_uri": "https://localhost:8080/"
        },
        "id": "A36nLylTGOsb",
        "outputId": "f00031b2-7017-4e28-990f-a83d49d0bb95"
      },
      "execution_count": 61,
      "outputs": [
        {
          "output_type": "execute_result",
          "data": {
            "text/plain": [
              "1"
            ]
          },
          "metadata": {},
          "execution_count": 61
        }
      ]
    },
    {
      "cell_type": "code",
      "source": [
        "3 | 9\n",
        "\n",
        "# 0011\n",
        "# 1001\n",
        "# ----\n",
        "# 1011(2)"
      ],
      "metadata": {
        "colab": {
          "base_uri": "https://localhost:8080/"
        },
        "id": "rJ5Qda68GbtB",
        "outputId": "a6e3623e-e1c2-4953-c65f-658ae554981c"
      },
      "execution_count": 62,
      "outputs": [
        {
          "output_type": "execute_result",
          "data": {
            "text/plain": [
              "11"
            ]
          },
          "metadata": {},
          "execution_count": 62
        }
      ]
    },
    {
      "cell_type": "code",
      "source": [
        "arr1 = [9, 20, 28, 18, 11]\n",
        "arr2 = [30, 1, 21, 17, 28]\n",
        "\n",
        "bin(9 | 30)\n",
        "bin(9 | 30)[2:]\n",
        "bin(9 | 30)[2:].replace('1', '#').replace('0', ' ')"
      ],
      "metadata": {
        "colab": {
          "base_uri": "https://localhost:8080/",
          "height": 35
        },
        "id": "zG8hb5wWHDp-",
        "outputId": "827b4cb3-ccf0-4e58-be43-06456b852b78"
      },
      "execution_count": 63,
      "outputs": [
        {
          "output_type": "execute_result",
          "data": {
            "text/plain": [
              "'#####'"
            ],
            "application/vnd.google.colaboratory.intrinsic+json": {
              "type": "string"
            }
          },
          "metadata": {},
          "execution_count": 63
        }
      ]
    },
    {
      "cell_type": "markdown",
      "source": [
        "## f-string 문법과 서식 지정자"
      ],
      "metadata": {
        "id": "tAYKj707H4f3"
      }
    },
    {
      "cell_type": "code",
      "source": [
        "# 정말 자주 쓰는 코드이기 때문에 꼭 기억하기\n",
        "num = 3.14159\n",
        "print(f\"{num:.2f}\")  # 출력: 3.14"
      ],
      "metadata": {
        "colab": {
          "base_uri": "https://localhost:8080/"
        },
        "id": "o16y2XnxH9yy",
        "outputId": "340cdebf-9d31-4124-a2f4-43be1104154c"
      },
      "execution_count": 66,
      "outputs": [
        {
          "output_type": "stream",
          "name": "stdout",
          "text": [
            "3.14\n"
          ]
        }
      ]
    },
    {
      "cell_type": "code",
      "source": [
        "# 자주 안쓰는 코드 => 이런게 있구나 정도만 기억하기\n",
        "name = \"Alice\"\n",
        "print(f\"{name:>10}\")  # 출력: Alice\n",
        "print(f\"{name:<10}\")"
      ],
      "metadata": {
        "colab": {
          "base_uri": "https://localhost:8080/"
        },
        "id": "2aA1VePsIJS7",
        "outputId": "4542879c-8d0d-4dc5-9157-914937212857"
      },
      "execution_count": 73,
      "outputs": [
        {
          "output_type": "stream",
          "name": "stdout",
          "text": [
            "     Alice\n",
            "Alice     \n",
            "Alice     \n"
          ]
        }
      ]
    },
    {
      "cell_type": "code",
      "source": [
        "# 아래 코드는 장고에서도 나오기 때문에 기억하기.\n",
        "\n",
        "print(f\"My set is {{1, 2, 3}}.\")  # 출력: My set is {1, 2, 3}.\n",
        "x = 10\n",
        "print(f\"My set is {{{x}}}.\")  # 출력: My set is {10}."
      ],
      "metadata": {
        "colab": {
          "base_uri": "https://localhost:8080/"
        },
        "id": "B3eDdT1_Ir08",
        "outputId": "6d27b607-e1ff-43c7-cf7d-0214851630fc"
      },
      "execution_count": 69,
      "outputs": [
        {
          "output_type": "stream",
          "name": "stdout",
          "text": [
            "My set is {1, 2, 3}.\n",
            "My set is {10}.\n"
          ]
        }
      ]
    },
    {
      "cell_type": "markdown",
      "source": [
        "## 비동기 프로그래밍"
      ],
      "metadata": {
        "id": "9cULoVeXJSnT"
      }
    },
    {
      "cell_type": "code",
      "source": [
        "# 당분간은 다룰 일이 없을 것이다.\n",
        "# 그래도 개념은 알고 있으라\n",
        "# colab 자체가 비동기 프로그램"
      ],
      "metadata": {
        "id": "t7oQe6ywJU3R"
      },
      "execution_count": null,
      "outputs": []
    },
    {
      "cell_type": "code",
      "source": [
        "!pip install nest_asyncio"
      ],
      "metadata": {
        "colab": {
          "base_uri": "https://localhost:8080/"
        },
        "id": "tPmrx043LG36",
        "outputId": "0abd4a83-1b27-42a7-d401-8a87cd36b4bb"
      },
      "execution_count": 74,
      "outputs": [
        {
          "output_type": "stream",
          "name": "stdout",
          "text": [
            "Requirement already satisfied: nest_asyncio in /usr/local/lib/python3.11/dist-packages (1.6.0)\n"
          ]
        }
      ]
    },
    {
      "cell_type": "code",
      "source": [
        "import nest_asyncio\n",
        "\n",
        "nest_asyncio.apply()"
      ],
      "metadata": {
        "id": "yyvYLO63LIoy"
      },
      "execution_count": 75,
      "outputs": []
    },
    {
      "cell_type": "code",
      "source": [
        "import time\n",
        "\n",
        "def job(number):\n",
        "    print(f\"Job {number} started\")\n",
        "    time.sleep(3)  # 이 time.sleep이 매우 오래 걸리는 작업 이라 가정하고 그 효율을 생각해봅시다. 일반 sleep은 CPU를 쉬게 합니다.\n",
        "    print(f\"Job {number} completed\")\n",
        "\n",
        "job(1)\n",
        "job(2)\n",
        "job(3)"
      ],
      "metadata": {
        "colab": {
          "base_uri": "https://localhost:8080/"
        },
        "id": "EJsGW5h-LYje",
        "outputId": "00c5fbbf-8a0e-4361-f23c-c2a7d7c7c3c3"
      },
      "execution_count": 76,
      "outputs": [
        {
          "output_type": "stream",
          "name": "stdout",
          "text": [
            "Job 1 started\n",
            "Job 1 completed\n",
            "Job 2 started\n",
            "Job 2 completed\n",
            "Job 3 started\n",
            "Job 3 completed\n"
          ]
        }
      ]
    },
    {
      "cell_type": "code",
      "source": [
        "import asyncio\n",
        "\n",
        "async def job(number):\n",
        "    print(f\"Job {number} started\")\n",
        "    await asyncio.sleep(1) # 매우 오래 걸리는 작업, asyncio.sleep은 비동기 처리를 할 수 있도록 합니다.(다른 작업이 가능합니다.)\n",
        "    print(f\"Job {number} completed\")\n",
        "\n",
        "async def main():\n",
        "    await asyncio.gather(job(1), job(2), job(3)) # await asyncio.wait([job(1), job(2), job(3)])\n",
        "\n",
        "asyncio.run(main())\n",
        "print('hello world')"
      ],
      "metadata": {
        "colab": {
          "base_uri": "https://localhost:8080/"
        },
        "id": "N0zDw1fdLcpq",
        "outputId": "2ad02048-3c4c-42b7-f506-fa32152ff16e"
      },
      "execution_count": 77,
      "outputs": [
        {
          "output_type": "stream",
          "name": "stdout",
          "text": [
            "Job 1 started\n",
            "Job 2 started\n",
            "Job 3 started\n",
            "Job 1 completed\n",
            "Job 2 completed\n",
            "Job 3 completed\n",
            "hello world\n"
          ]
        }
      ]
    },
    {
      "cell_type": "markdown",
      "source": [
        "## 테스팅과 디버깅"
      ],
      "metadata": {
        "id": "Uye_Is9RL0We"
      }
    },
    {
      "cell_type": "code",
      "source": [
        "# a + b를 해주는 add라는 함수를 만들라\n",
        "# 아래와 같이 틀을 만들고 개발하게 된다.\n",
        "\n",
        "def add():\n",
        "    pass\n",
        "add()\n",
        "# 이것은 테스팅 없이 개발하는 것"
      ],
      "metadata": {
        "id": "CgYf3wknLtm5"
      },
      "execution_count": null,
      "outputs": []
    },
    {
      "cell_type": "code",
      "source": [
        "# a + b를 해주는 add라는 함수를 만들라\n",
        "# 테스트 부터 만든다\n",
        "# assert는 두 수가 같으면 통과이고, 다르면 에러를 출력한다 # AssertionError:\n",
        "\n",
        "assert add(10, 20) == 30 # 이걸 먼저 만들고\n",
        "assert add(10, 40) == 50\n",
        "assert add(0, 3) == 33"
      ],
      "metadata": {
        "colab": {
          "base_uri": "https://localhost:8080/",
          "height": 184
        },
        "id": "M3PUjQXfMpzc",
        "outputId": "fed2c8b1-21cd-473a-edda-25498fb8c43a"
      },
      "execution_count": 78,
      "outputs": [
        {
          "output_type": "error",
          "ename": "AssertionError",
          "evalue": "",
          "traceback": [
            "\u001b[0;31m---------------------------------------------------------------------------\u001b[0m",
            "\u001b[0;31mAssertionError\u001b[0m                            Traceback (most recent call last)",
            "\u001b[0;32m<ipython-input-78-38339069d720>\u001b[0m in \u001b[0;36m<cell line: 0>\u001b[0;34m()\u001b[0m\n\u001b[1;32m      4\u001b[0m \u001b[0;32massert\u001b[0m \u001b[0madd\u001b[0m\u001b[0;34m(\u001b[0m\u001b[0;36m10\u001b[0m\u001b[0;34m,\u001b[0m \u001b[0;36m20\u001b[0m\u001b[0;34m)\u001b[0m \u001b[0;34m==\u001b[0m \u001b[0;36m30\u001b[0m \u001b[0;31m# 이걸 먼저 만들고\u001b[0m\u001b[0;34m\u001b[0m\u001b[0;34m\u001b[0m\u001b[0m\n\u001b[1;32m      5\u001b[0m \u001b[0;32massert\u001b[0m \u001b[0madd\u001b[0m\u001b[0;34m(\u001b[0m\u001b[0;36m10\u001b[0m\u001b[0;34m,\u001b[0m \u001b[0;36m40\u001b[0m\u001b[0;34m)\u001b[0m \u001b[0;34m==\u001b[0m \u001b[0;36m50\u001b[0m\u001b[0;34m\u001b[0m\u001b[0;34m\u001b[0m\u001b[0m\n\u001b[0;32m----> 6\u001b[0;31m \u001b[0;32massert\u001b[0m \u001b[0madd\u001b[0m\u001b[0;34m(\u001b[0m\u001b[0;36m0\u001b[0m\u001b[0;34m,\u001b[0m \u001b[0;36m3\u001b[0m\u001b[0;34m)\u001b[0m \u001b[0;34m==\u001b[0m \u001b[0;36m33\u001b[0m\u001b[0;34m\u001b[0m\u001b[0;34m\u001b[0m\u001b[0m\n\u001b[0m",
            "\u001b[0;31mAssertionError\u001b[0m: "
          ]
        }
      ]
    },
    {
      "cell_type": "code",
      "source": [
        "def add(a, b):\n",
        "    return a - b\n",
        "\n",
        "assert add(10, 20) == 30\n",
        "# assert는 두 수가 같으면 통과이고, 다르면 에러를 출력한다 # AssertionError"
      ],
      "metadata": {
        "colab": {
          "base_uri": "https://localhost:8080/",
          "height": 184
        },
        "id": "LGIn2mbOM8u7",
        "outputId": "4b7a5fd9-eb88-4e5b-e899-fcb5435efac5"
      },
      "execution_count": 79,
      "outputs": [
        {
          "output_type": "error",
          "ename": "AssertionError",
          "evalue": "",
          "traceback": [
            "\u001b[0;31m---------------------------------------------------------------------------\u001b[0m",
            "\u001b[0;31mAssertionError\u001b[0m                            Traceback (most recent call last)",
            "\u001b[0;32m<ipython-input-79-e0e3426389d0>\u001b[0m in \u001b[0;36m<cell line: 0>\u001b[0;34m()\u001b[0m\n\u001b[1;32m      2\u001b[0m     \u001b[0;32mreturn\u001b[0m \u001b[0ma\u001b[0m \u001b[0;34m-\u001b[0m \u001b[0mb\u001b[0m\u001b[0;34m\u001b[0m\u001b[0;34m\u001b[0m\u001b[0m\n\u001b[1;32m      3\u001b[0m \u001b[0;34m\u001b[0m\u001b[0m\n\u001b[0;32m----> 4\u001b[0;31m \u001b[0;32massert\u001b[0m \u001b[0madd\u001b[0m\u001b[0;34m(\u001b[0m\u001b[0;36m10\u001b[0m\u001b[0;34m,\u001b[0m \u001b[0;36m20\u001b[0m\u001b[0;34m)\u001b[0m \u001b[0;34m==\u001b[0m \u001b[0;36m30\u001b[0m\u001b[0;34m\u001b[0m\u001b[0;34m\u001b[0m\u001b[0m\n\u001b[0m",
            "\u001b[0;31mAssertionError\u001b[0m: "
          ]
        }
      ]
    },
    {
      "cell_type": "code",
      "source": [
        "# 이렇게 해야 견고한 코드를 작성할 수 있다.\n",
        "# 오버 엔지니어링도 방어할 수 있다"
      ],
      "metadata": {
        "id": "45GeLn8YNiiz"
      },
      "execution_count": null,
      "outputs": []
    },
    {
      "cell_type": "code",
      "source": [
        "# <콜랩에서 실행은 안된다>\n",
        "\n",
        "# import unittest\n",
        "# def add(x, y):\n",
        "#     return x + y\n",
        "\n",
        "# class TestAdd(unittest.TestCase):\n",
        "#     def test_add(self):\n",
        "#         self.assertEqual(add(1, 2), 3)\n",
        "\n",
        "# if __name__ == '__main__':\n",
        "#     unittest.main()\n",
        "\n",
        "\n",
        "# unittest에서 제공하는 여러가지 메서드\n",
        "self.assertEqual(1 + 2, 3)\n",
        "self.assertTrue(10 == 10)\n",
        "self.assertFalse(1 == 10)\n",
        "self.assertGreater(10, 1)\n",
        "self.assertLess(1, 10)\n",
        "self.assertIn(1, [1, 2, 3, 4, 5])\n",
        "self.assertIsInstance('a', str)\n",
        "\n",
        "# ex) 나는 블로그 서비스를 만들거야.Django로 이것에 대한 test코드를 작성해줘\n"
      ],
      "metadata": {
        "colab": {
          "base_uri": "https://localhost:8080/",
          "height": 221
        },
        "id": "qm8IVT7geTgW",
        "outputId": "8f197825-6157-44be-d91c-471900f21b7d"
      },
      "execution_count": 81,
      "outputs": [
        {
          "output_type": "error",
          "ename": "NameError",
          "evalue": "name 'self' is not defined",
          "traceback": [
            "\u001b[0;31m---------------------------------------------------------------------------\u001b[0m",
            "\u001b[0;31mNameError\u001b[0m                                 Traceback (most recent call last)",
            "\u001b[0;32m<ipython-input-81-892e5825ca4f>\u001b[0m in \u001b[0;36m<cell line: 0>\u001b[0;34m()\u001b[0m\n\u001b[1;32m     17\u001b[0m \u001b[0;34m\u001b[0m\u001b[0m\n\u001b[1;32m     18\u001b[0m \u001b[0;31m# unittest에서 제공하는 여러가지 메서드\u001b[0m\u001b[0;34m\u001b[0m\u001b[0;34m\u001b[0m\u001b[0m\n\u001b[0;32m---> 19\u001b[0;31m \u001b[0mself\u001b[0m\u001b[0;34m.\u001b[0m\u001b[0massertEqual\u001b[0m\u001b[0;34m(\u001b[0m\u001b[0;36m1\u001b[0m \u001b[0;34m+\u001b[0m \u001b[0;36m2\u001b[0m\u001b[0;34m,\u001b[0m \u001b[0;36m3\u001b[0m\u001b[0;34m)\u001b[0m\u001b[0;34m\u001b[0m\u001b[0;34m\u001b[0m\u001b[0m\n\u001b[0m\u001b[1;32m     20\u001b[0m \u001b[0mself\u001b[0m\u001b[0;34m.\u001b[0m\u001b[0massertTrue\u001b[0m\u001b[0;34m(\u001b[0m\u001b[0;36m10\u001b[0m \u001b[0;34m==\u001b[0m \u001b[0;36m10\u001b[0m\u001b[0;34m)\u001b[0m\u001b[0;34m\u001b[0m\u001b[0;34m\u001b[0m\u001b[0m\n\u001b[1;32m     21\u001b[0m \u001b[0mself\u001b[0m\u001b[0;34m.\u001b[0m\u001b[0massertFalse\u001b[0m\u001b[0;34m(\u001b[0m\u001b[0;36m1\u001b[0m \u001b[0;34m==\u001b[0m \u001b[0;36m10\u001b[0m\u001b[0;34m)\u001b[0m\u001b[0;34m\u001b[0m\u001b[0;34m\u001b[0m\u001b[0m\n",
            "\u001b[0;31mNameError\u001b[0m: name 'self' is not defined"
          ]
        }
      ]
    },
    {
      "cell_type": "code",
      "source": [
        "# def add(a, b):\n",
        "#     return a + b\n",
        "\n",
        "# def test():\n",
        "#     for i in range(10):\n",
        "#         x = add(i, 10)\n",
        "#         breakpoint() # 이 키워드도 잘 안쓴다\n",
        "#     for i in range(10):\n",
        "#         y = add(i, 100)\n",
        "#         breakpoint()\n",
        "\n",
        "# test()\n",
        "# n, q: 보고싶은 변수 이름\n",
        "# q: 종료"
      ],
      "metadata": {
        "colab": {
          "base_uri": "https://localhost:8080/"
        },
        "collapsed": true,
        "id": "CoxZTjjugdLx",
        "outputId": "ff8911ee-bf8c-4b03-8674-d43d7c6c00c3"
      },
      "execution_count": 1,
      "outputs": [
        {
          "output_type": "stream",
          "name": "stderr",
          "text": [
            "\n",
            "PYDEV DEBUGGER WARNING:\n",
            "sys.settrace() should not be used when the debugger is being used.\n",
            "This may cause the debugger to stop working correctly.\n",
            "If this is needed, please check: \n",
            "http://pydev.blogspot.com/2007/06/why-cant-pydev-debugger-work-with.html\n",
            "to see how to restore the debug tracing back correctly.\n",
            "Call Location:\n",
            "  File \"/usr/lib/python3.11/bdb.py\", line 336, in set_trace\n",
            "    sys.settrace(self.trace_dispatch)\n",
            "\n"
          ]
        },
        {
          "name": "stdout",
          "output_type": "stream",
          "text": [
            "> \u001b[0;32m<ipython-input-1-1bcad6f495ea>\u001b[0m(5)\u001b[0;36mtest\u001b[0;34m()\u001b[0m\n",
            "\u001b[0;32m      3 \u001b[0;31m\u001b[0;34m\u001b[0m\u001b[0m\n",
            "\u001b[0m\u001b[0;32m      4 \u001b[0;31m\u001b[0;32mdef\u001b[0m \u001b[0mtest\u001b[0m\u001b[0;34m(\u001b[0m\u001b[0;34m)\u001b[0m\u001b[0;34m:\u001b[0m\u001b[0;34m\u001b[0m\u001b[0;34m\u001b[0m\u001b[0m\n",
            "\u001b[0m\u001b[0;32m----> 5 \u001b[0;31m    \u001b[0;32mfor\u001b[0m \u001b[0mi\u001b[0m \u001b[0;32min\u001b[0m \u001b[0mrange\u001b[0m\u001b[0;34m(\u001b[0m\u001b[0;36m10\u001b[0m\u001b[0;34m)\u001b[0m\u001b[0;34m:\u001b[0m\u001b[0;34m\u001b[0m\u001b[0;34m\u001b[0m\u001b[0m\n",
            "\u001b[0m\u001b[0;32m      6 \u001b[0;31m        \u001b[0mx\u001b[0m \u001b[0;34m=\u001b[0m \u001b[0madd\u001b[0m\u001b[0;34m(\u001b[0m\u001b[0mi\u001b[0m\u001b[0;34m,\u001b[0m \u001b[0;36m10\u001b[0m\u001b[0;34m)\u001b[0m\u001b[0;34m\u001b[0m\u001b[0;34m\u001b[0m\u001b[0m\n",
            "\u001b[0m\u001b[0;32m      7 \u001b[0;31m        \u001b[0mbreakpoint\u001b[0m\u001b[0;34m(\u001b[0m\u001b[0;34m)\u001b[0m \u001b[0;31m# 이 키워드도 잘 안쓴다\u001b[0m\u001b[0;34m\u001b[0m\u001b[0;34m\u001b[0m\u001b[0m\n",
            "\u001b[0m\n",
            "ipdb> q\n"
          ]
        },
        {
          "output_type": "stream",
          "name": "stderr",
          "text": [
            "\n",
            "PYDEV DEBUGGER WARNING:\n",
            "sys.settrace() should not be used when the debugger is being used.\n",
            "This may cause the debugger to stop working correctly.\n",
            "If this is needed, please check: \n",
            "http://pydev.blogspot.com/2007/06/why-cant-pydev-debugger-work-with.html\n",
            "to see how to restore the debug tracing back correctly.\n",
            "Call Location:\n",
            "  File \"/usr/lib/python3.11/bdb.py\", line 361, in set_quit\n",
            "    sys.settrace(None)\n",
            "\n"
          ]
        }
      ]
    },
    {
      "cell_type": "markdown",
      "source": [
        "## 정규 표현식 *\n",
        "- 많이 쓸 일은 없다."
      ],
      "metadata": {
        "id": "v_Odh4ExijH-"
      }
    },
    {
      "cell_type": "code",
      "source": [
        "# 데이터 분석 직군: 정규표현식 빡빡하게 가르치신다.\n",
        "# 웹 개발자 직군: 조금은 널널하게 배워도 된다 => 추후에 필요할 때 다시 공부하면 된다.\n",
        "\n",
        "# 정규표현식은 모든 언어 공통"
      ],
      "metadata": {
        "id": "NxGH4Ta1il77"
      },
      "execution_count": 2,
      "outputs": []
    },
    {
      "cell_type": "code",
      "source": [
        "# 컴퓨터 과학은 어렵다 => '그중에서도 정규 표현식이 가장 어렵다'\n",
        "# 정규 표현식은 아주 오랫동안 공부해야 하는 과목!"
      ],
      "metadata": {
        "id": "1qb9_5zli8SB"
      },
      "execution_count": 3,
      "outputs": []
    },
    {
      "cell_type": "code",
      "source": [
        "# https://regexr.com/5nvc2 (실습환경)\n",
        "\n",
        "# 웹 개발자가 정규표현식을 배워하는 이유\n",
        "\n",
        "# 1. 아래와 같은 form 값에 유효성 검증\n",
        "# 010-5044-2903\n",
        "# awehfiahweflaiwfh\n",
        "# 사람인지 아닌지 말해봐\n",
        "# 신세 한탄..\n",
        "# \"SELECT * FROM users WHERE username = '{username}' AND password = '{password}'\"\n",
        "\n",
        "# 2. URL 작성과 같은 것에 사용 - 실제 Django에서도 조금 사용\n",
        "\n",
        "### 정규 표현식 패턴(패턴을 앞에 쓴다)\n",
        "# 1. 일반 문자열\n",
        "# hello\n",
        "\n",
        "# 2. 처음과 끝\n",
        "# ^hello\n",
        "# hello$\n",
        "\n",
        "# 3. 모든 문자열 매칭\n",
        "# h.llo\n",
        "# h.... # h로 시작하는 5개의 문\n",
        "\n",
        "# 4. 택1\n",
        "# h[eao]llo\n",
        "# [김이박]씨\n",
        "# 010[- ][0-9][0-9][0-9][0-9][- ][0-9][0-9][0-9][0-9]\n",
        "# 064[-!]7[0-9][0-9][-!][0-9][0-9][0-9][0-9]\n",
        "\n",
        "# 5. 범위\n",
        "# /h[a-f]llo/gm\n",
        "# /[a-zA-Z0-9]/gm : 모든 알파뱃과 숫자를 찾음\n",
        "# /[^a-zA-Z0-9]/gm : 나머지 문자열을 찾음\n",
        "\n",
        "# 6. 그룹\n",
        "# 김성\n",
        "# 이성\n",
        "# 박성\n",
        "# (김|이|박)(씨|성) 와 같이 사용가능\n",
        "\n",
        "# 7. 수량자\n",
        "# 010[- ][0-9][0-9][0-9][0-9][- ][0-9][0-9][0-9][0-9]\n",
        "# 010[- ][0-9]{4}[- ][0-9]{4}\n",
        "# _* : 앞에 있는 문자가 0개 ~ N개\n",
        "# _+ : 앞에 있는 문자가 1개 ~ N개\n",
        "# _? : 앞에 있는 문자가 0개 ~ 1개\n",
        "# {3} : 3개\n",
        "# 010[- ]?[0-9]{4}[- ]?[0-9]{4}\n",
        "\n",
        "# 8. 캐릭터 클래스\n",
        "# /\\w/gm : 워드\n",
        "# /\\d/gm : 숫자\n",
        "# 010[- ]?\\d{4}[- ]?\\d{4}\n",
        "\n",
        "# 9. 이스케이프 문자\n",
        "# \\[.*] 대괄호 자체를 쓴다\n",
        "# \\[.*] ## 헷갈리면 모든 곳에 다 이스케이프 처리를 하라"
      ],
      "metadata": {
        "id": "6QwxmRlJjkGz"
      },
      "execution_count": null,
      "outputs": []
    },
    {
      "cell_type": "code",
      "source": [
        "print('hello\\nworld')"
      ],
      "metadata": {
        "colab": {
          "base_uri": "https://localhost:8080/"
        },
        "id": "uBnRqmNRsBjn",
        "outputId": "5190a9be-e379-4925-c3c2-6bb091835ef9"
      },
      "execution_count": 4,
      "outputs": [
        {
          "output_type": "stream",
          "name": "stdout",
          "text": [
            "hello\n",
            "world\n"
          ]
        }
      ]
    },
    {
      "cell_type": "code",
      "source": [
        "import re\n",
        "\n",
        "re.findall('[0-9]{2}', 'hello 123 helwldoaldl21 2 saf32rp2ieaslefj903')\n",
        "re.findall('[0-9]{3}', 'hello 123 helwldoaldl21 2 saf32rp2ieaslefj903')"
      ],
      "metadata": {
        "colab": {
          "base_uri": "https://localhost:8080/"
        },
        "id": "ckXncidWuo7x",
        "outputId": "5c14777b-f2eb-448f-ea14-85fa9746502f"
      },
      "execution_count": 13,
      "outputs": [
        {
          "output_type": "execute_result",
          "data": {
            "text/plain": [
              "['123', '903']"
            ]
          },
          "metadata": {},
          "execution_count": 13
        }
      ]
    },
    {
      "cell_type": "code",
      "source": [
        "# S는 1승, 2는 2승, 3은 3승입니다!\n",
        "## 다트게임 3 번 던진다\n",
        "# 앞에는 점수, 뒤에는 승 수\n",
        "# 1S 2D 3T\n",
        "\n",
        "# 1S2D3T 1 ** 1 + 2 ** 2 + 3 ** 3 => 정답\n",
        "# 2D2D3T 2 ** 2 + 2 ** 2 + 3 ** 3 => 정답\n",
        "# 1T3D3T\n",
        "# 2T4D4T\n",
        "\n",
        "\n",
        "result = []\n",
        "for i in '1S2D3T':\n",
        "    if i.isdigit():\n",
        "        result.append(int(i))\n",
        "    elif i == 'S':\n",
        "        result[-1] = result[-1] ** 1\n",
        "    elif i == 'D':\n",
        "        result[-1] = result[-1] ** 2\n",
        "    elif i == 'T':\n",
        "        result[-1] = result[-1] ** 3\n",
        "\n",
        "result"
      ],
      "metadata": {
        "id": "RncZE6k2vHGj"
      },
      "execution_count": null,
      "outputs": []
    },
    {
      "cell_type": "code",
      "source": [
        "# S는 1승, 2는 2승, 3은 3승입니다!\n",
        "## 다트게임 3 번 던진다\n",
        "# 앞에는 점수, 뒤에는 승 수\n",
        "# 1S 2D 3T\n",
        "\n",
        "# 1S2D3T 1 ** 1 + 2 ** 2 + 3 ** 3 => 정답\n",
        "# 2D2D3T 2 ** 2 + 2 ** 2 + 3 ** 3 => 정답\n",
        "# 1T3D3T\n",
        "# 2T4D4T\n",
        "\n",
        "re.findall('(10|[1-9])([SDT])', '1S2D3T')\n"
      ],
      "metadata": {
        "colab": {
          "base_uri": "https://localhost:8080/"
        },
        "id": "YD2Vbuifwp_I",
        "outputId": "13ef5991-7f31-48b5-a702-d63a47bfe2c2"
      },
      "execution_count": 21,
      "outputs": [
        {
          "output_type": "execute_result",
          "data": {
            "text/plain": [
              "[('1', 'S'), ('2', 'D'), ('3', 'T')]"
            ]
          },
          "metadata": {},
          "execution_count": 21
        }
      ]
    },
    {
      "cell_type": "code",
      "source": [
        "# S는 1승, 2는 2승, 3은 3승입니다!\n",
        "# 다트 게임입니다. 3번 던집니다.\n",
        "# 앞에는 점수, 뒤에는 승수입니다.\n",
        "# 1S 2D 3T\n",
        "\n",
        "# 1S2D3T 1 ** 1 + 2 ** 2 + 3 ** 3 => 정답\n",
        "# 2D2D3T 2 ** 2 + 2 ** 2 + 3 ** 3 => 정답\n",
        "# 1T3D3T\n",
        "# 2T4D4T\n",
        "\n",
        "result = []\n",
        "for i in '1S2D3T':\n",
        "    if i.isdigit():\n",
        "        result.append(int(i))\n",
        "    elif i == 'S':\n",
        "        result[-1] = result[-1] ** 1\n",
        "    elif i == 'D':\n",
        "        result[-1] = result[-1] ** 2\n",
        "    elif i == 'T':\n",
        "        result[-1] = result[-1] ** 3\n",
        "\n",
        "result"
      ],
      "metadata": {
        "colab": {
          "base_uri": "https://localhost:8080/"
        },
        "id": "XzB4zQ8Cx1oN",
        "outputId": "f0ac80e9-e7d1-4a89-ff71-0f90b635a2bb"
      },
      "execution_count": 22,
      "outputs": [
        {
          "output_type": "execute_result",
          "data": {
            "text/plain": [
              "[1, 4, 27]"
            ]
          },
          "metadata": {},
          "execution_count": 22
        }
      ]
    },
    {
      "cell_type": "code",
      "source": [
        "# S는 1승, 2는 2승, 3은 3승입니다!\n",
        "# 다트 게임입니다. 3번 던집니다.\n",
        "# 앞에는 점수, 뒤에는 승수입니다.\n",
        "# 1S 2D 3T\n",
        "\n",
        "# 1S2D3T 1 ** 1 + 2 ** 2 + 3 ** 3 => 정답\n",
        "# 2D2D3T 2 ** 2 + 2 ** 2 + 3 ** 3 => 정답\n",
        "# 1T3D3T\n",
        "# 2T4D4T\n",
        "\n",
        "re.findall('(10|[1-9])([SDT])', '1S2D3T')\n",
        "re.findall('(10|[1-9])([SDT])', '10S2D3T')\n",
        "\n",
        "result = []\n",
        "for 점수, 승수 in re.findall('(10|[1-9])([SDT])', '10S2D3T'):\n",
        "    if 승수 == 'S':\n",
        "        result.append(int(점수) ** 1)\n",
        "    elif 승수 == 'D':\n",
        "        result.append(int(점수) ** 2)\n",
        "    elif 승수 == 'T':\n",
        "        result.append(int(점수) ** 3)\n",
        "\n",
        "result"
      ],
      "metadata": {
        "colab": {
          "base_uri": "https://localhost:8080/"
        },
        "id": "ZPpZV5R6x_Xo",
        "outputId": "c07f30ec-d738-4d86-f927-4fd208ed7fbb"
      },
      "execution_count": 23,
      "outputs": [
        {
          "output_type": "execute_result",
          "data": {
            "text/plain": [
              "[10, 4, 27]"
            ]
          },
          "metadata": {},
          "execution_count": 23
        }
      ]
    },
    {
      "cell_type": "code",
      "source": [
        "# findall - 패턴에 매칭되는 것을 모두 찾는 메서드\n",
        "# sub - str에 replace와 같다.\n",
        "\n",
        "'11100011100'.replace('1', '#')\n",
        "# 숫자를 모두 찾아서 모두 띄어쓰기로 바꿔주세요!\n",
        "'aweff2123sdf9a3rjs9fjslks'.replace('1', ' ').replace('2', ' ').replace('3', ' ')\n",
        "\n",
        "re.sub('[0-9]', ' ', 'aweff2123sdf9a3rjs9fjslks')"
      ],
      "metadata": {
        "colab": {
          "base_uri": "https://localhost:8080/",
          "height": 35
        },
        "id": "Ngm8WpJhx2nK",
        "outputId": "bf4f04fd-a192-4c00-c604-a2e77ad3301b"
      },
      "execution_count": 25,
      "outputs": [
        {
          "output_type": "execute_result",
          "data": {
            "text/plain": [
              "'aweff    sdf a rjs fjslks'"
            ],
            "application/vnd.google.colaboratory.intrinsic+json": {
              "type": "string"
            }
          },
          "metadata": {},
          "execution_count": 25
        }
      ]
    },
    {
      "cell_type": "code",
      "source": [
        "# 다음 문자열에서 r, e, v 뒤에 나오는 숫자들을 모두 찾아주세요.\n",
        "# r, e, v에는 1 ~ 10까지의 숫자가 들어갑니다.\n",
        "'a10b9r1ce33uab8wc918v2cv11v9'\n",
        "\n",
        "re.findall('([rev])(10|[0-9])', 'a10b9r1ce33uab8wc918v2cv11v9')"
      ],
      "metadata": {
        "colab": {
          "base_uri": "https://localhost:8080/"
        },
        "id": "0SfLg0VzyjvE",
        "outputId": "21a8d797-b31c-49e8-e202-4af1eb83078d"
      },
      "execution_count": 39,
      "outputs": [
        {
          "output_type": "execute_result",
          "data": {
            "text/plain": [
              "[('r', '1'), ('e', '3'), ('v', '2'), ('v', '1'), ('v', '9')]"
            ]
          },
          "metadata": {},
          "execution_count": 39
        }
      ]
    },
    {
      "cell_type": "markdown",
      "source": [
        "## Random\n",
        "- random은 난수가 아니다. (유사하다)\n",
        "- choice(sequence): 주어진 시퀀스(리스트, 튜플 등)에서 임의의 요소를 선택합니다.\n",
        "- shuffle(sequence): 주어진 시퀀스의 요소 순서를 무작위로 섞습니다.\n",
        "- sample(sequence, k): 주어진 시퀀스에서 k개의 무작위 요소를 선택합니다."
      ],
      "metadata": {
        "id": "1_xH2q5I2Q6F"
      }
    },
    {
      "cell_type": "code",
      "source": [
        "import random\n",
        "\n",
        "random.randint(1, 3)"
      ],
      "metadata": {
        "colab": {
          "base_uri": "https://localhost:8080/"
        },
        "id": "ujG8Gww21Yk0",
        "outputId": "2e38fa44-b0b3-4c04-df89-9e0c29a3e905"
      },
      "execution_count": 54,
      "outputs": [
        {
          "output_type": "execute_result",
          "data": {
            "text/plain": [
              "3"
            ]
          },
          "metadata": {},
          "execution_count": 54
        }
      ]
    },
    {
      "cell_type": "code",
      "source": [
        "def random(seed):\n",
        "    pass"
      ],
      "metadata": {
        "id": "r96ZQi1t2aef"
      },
      "execution_count": null,
      "outputs": []
    },
    {
      "cell_type": "code",
      "source": [
        "import random\n",
        "\n",
        "# random을 고정수로 사용한다면..\n",
        "\n",
        "random.seed(42)\n",
        "\n",
        "random.randint(1, 3)"
      ],
      "metadata": {
        "colab": {
          "base_uri": "https://localhost:8080/"
        },
        "id": "pyiPu6i62T85",
        "outputId": "88a3347f-ef1c-47ad-e61f-240623e280f7"
      },
      "execution_count": 69,
      "outputs": [
        {
          "output_type": "execute_result",
          "data": {
            "text/plain": [
              "3"
            ]
          },
          "metadata": {},
          "execution_count": 69
        }
      ]
    },
    {
      "cell_type": "code",
      "source": [
        "colors = ['red', 'blue', 'green', 'yellow']\n",
        "random.shuffle(colors)\n",
        "print(colors)"
      ],
      "metadata": {
        "colab": {
          "base_uri": "https://localhost:8080/"
        },
        "id": "o8t401KH5kwT",
        "outputId": "76ccb59f-396b-4b88-e2b2-bd7ce22d641e"
      },
      "execution_count": 78,
      "outputs": [
        {
          "output_type": "stream",
          "name": "stdout",
          "text": [
            "['red', 'green', 'blue', 'yellow']\n"
          ]
        }
      ]
    },
    {
      "cell_type": "code",
      "source": [
        "# 생성\n",
        "example = b'hello'\n",
        "\n",
        "# 인덱싱\n",
        "print(example[0])  # 출력: 104 (아스키 코드로 'h')\n",
        "print(example[1])  # 출력: 101 (아스키 코드로 'e')"
      ],
      "metadata": {
        "colab": {
          "base_uri": "https://localhost:8080/"
        },
        "id": "iTEnjQdO51bn",
        "outputId": "35725f96-3e3b-4f7f-8616-248966601784"
      },
      "execution_count": 79,
      "outputs": [
        {
          "output_type": "stream",
          "name": "stdout",
          "text": [
            "104\n",
            "101\n"
          ]
        }
      ]
    },
    {
      "cell_type": "code",
      "source": [
        "# f'': str 생성\n",
        "# b'': bytes값을 주는 시퀀스 생성\n",
        "# r'': raw값을 주는 string 생성\n",
        "# t'': 14버전에 포함될 아직 나오지 않은 문법"
      ],
      "metadata": {
        "id": "CQKwBt7r6CoD"
      },
      "execution_count": 81,
      "outputs": []
    },
    {
      "cell_type": "code",
      "source": [
        "# claude 활용\n",
        "import requests\n",
        "from bs4 import BeautifulSoup\n",
        "\n",
        "# 웹 페이지 요청\n",
        "url = 'https://paullab.co.kr/bookservice'\n",
        "response = requests.get(url)\n",
        "\n",
        "# 응답이 성공적인지 확인\n",
        "if response.status_code == 200:\n",
        "    # HTML 파싱\n",
        "    soup = BeautifulSoup(response.text, 'html.parser')\n",
        "\n",
        "    # 책 컨테이너 선택\n",
        "    book_containers = soup.select('.container.book_contents .row')\n",
        "\n",
        "    # 결과 저장할 리스트\n",
        "    books = []\n",
        "\n",
        "    # 각 책 정보 추출\n",
        "    for container in book_containers:\n",
        "        title = container.select('.book_name')[0].text.strip()\n",
        "\n",
        "        # 가격 정보 추출 (첫 번째 book_info 항목)\n",
        "        price_info = container.select('.book_info')[0].text.strip()\n",
        "        price = price_info.replace('가격: ', '')\n",
        "\n",
        "        # 저자 정보 추출 (두 번째 book_info 항목)\n",
        "        author_info = container.select('.book_info')[1].text.strip()\n",
        "        author = author_info.replace('저자: ', '')\n",
        "\n",
        "        # 결과 딕셔너리에 저장\n",
        "        books.append({\n",
        "            '제목': title,\n",
        "            '가격': price,\n",
        "            '저자': author\n",
        "        })\n",
        "\n",
        "    # 결과 출력\n",
        "    for i, book in enumerate(books, 1):\n",
        "        print(f\"[책 {i}]\")\n",
        "        print(f\"제목: {book['제목']}\")\n",
        "        print(f\"가격: {book['가격']}\")\n",
        "        print(f\"저자: {book['저자']}\")\n",
        "        print('-' * 50)\n",
        "\n",
        "else:\n",
        "    print(f\"웹 페이지 요청 실패: 상태 코드 {response.status_code}\")"
      ],
      "metadata": {
        "colab": {
          "base_uri": "https://localhost:8080/"
        },
        "collapsed": true,
        "id": "qog9hobQ6O38",
        "outputId": "facf2a0e-67e8-4834-e023-9638f407d985"
      },
      "execution_count": 83,
      "outputs": [
        {
          "output_type": "stream",
          "name": "stdout",
          "text": [
            "[책 1]\n",
            "제목: 메모혁신 Notion(노션) 활용 가이드\n",
            "가격: 7,000원\n",
            "저자: 이호준, 이준호, 김혜원, 김유진, 차경림, 김진, 현지연, 정승한\n",
            "--------------------------------------------------\n",
            "[책 2]\n",
            "제목: 이력서 작성 가이드\n",
            "가격: 10,000원\n",
            "저자: 강혜진, 김유진, 김혜원, 김진, 이범재, 이호준, 원유선, 박누리, 차경림, 최원범, 한재현\n",
            "--------------------------------------------------\n",
            "[책 3]\n",
            "제목: 제주코딩베이스캠프 Code Festival: Python 100제 1부\n",
            "가격: 무료\n",
            "저자: 이호준, 강민정, 김유진, 정윤하, 최원범\n",
            "--------------------------------------------------\n",
            "[책 4]\n",
            "제목: 튜토리얼로 배우는 HTML&CSS\n",
            "가격: 4,900원\n",
            "저자: 이호준, 박민균, 양지혜, 정민준, 박소영, 전유빈\n",
            "--------------------------------------------------\n",
            "[책 5]\n",
            "제목: 코딩도장 튜토리얼로 배우는 Python 1편 object\n",
            "가격: 3,000원\n",
            "저자: 이호준, 정민준, 배희성, 김덕주, 한승협\n",
            "--------------------------------------------------\n",
            "[책 6]\n",
            "제목: 코딩도장 튜토리얼로 배우는 python 2편 제어문\n",
            "가격: 4,900원\n",
            "저자: 이호준, 우지훈, 박소영, 허재영\n",
            "--------------------------------------------------\n",
            "[책 7]\n",
            "제목: 코딩도장 튜토리얼로 배우는 Python 문제풀이\n",
            "가격: 무료\n",
            "저자: 이호준, 전유빈, 김태범, 한승협, 김혜원, 강민정\n",
            "--------------------------------------------------\n",
            "[책 8]\n",
            "제목: 타노스의 건틀릿 알고리즘 With Python\n",
            "가격: 무료\n",
            "저자: 이호준, 한승협, 강민정, 신민욱\n",
            "--------------------------------------------------\n",
            "[책 9]\n",
            "제목: xlsxwriter 튜토리얼로 배우는 Python 엑셀 프로그래밍\n",
            "가격: 무료\n",
            "저자: 이호준, 강상권, 오재원, 전진환, 문형철, 이현창\n",
            "--------------------------------------------------\n",
            "[책 10]\n",
            "제목: 러플 튜토리얼로 배우는 Python\n",
            "가격: 4,900\n",
            "저자: 이호준, 배희성, 양지혜, 박소영, 김수연, 정민준\n",
            "--------------------------------------------------\n",
            "[책 11]\n",
            "제목: 인공지능을 활용한 업무자동화 With Google Developers Group JEJU\n",
            "가격: 무료\n",
            "저자: 이호준, 이준호, 현암, 윤현담, 김루비, 이동민, 유승엽, 박서윤, 김채린, 한승협, 안상우, 장성원, 전진환, 강민성, 조민구, 전창삼\n",
            "--------------------------------------------------\n"
          ]
        }
      ]
    },
    {
      "cell_type": "code",
      "source": [
        "def f(x):\n",
        "    return '짝수' if x % 2 == 0 else '홀수'\n",
        "\n",
        "f(2) # 짝수\n",
        "f(3) # 홀수"
      ],
      "metadata": {
        "colab": {
          "base_uri": "https://localhost:8080/",
          "height": 35
        },
        "id": "VYmcdMMb7YPH",
        "outputId": "66156902-5ed6-4f48-85f8-c28acf194acf"
      },
      "execution_count": 88,
      "outputs": [
        {
          "output_type": "execute_result",
          "data": {
            "text/plain": [
              "'짝수'"
            ],
            "application/vnd.google.colaboratory.intrinsic+json": {
              "type": "string"
            }
          },
          "metadata": {},
          "execution_count": 88
        }
      ]
    },
    {
      "cell_type": "code",
      "source": [
        "class A:\n",
        "    def __eq__(self,next):\n",
        "        return True\n",
        "\n",
        "class B:\n",
        "    pass\n",
        "\n",
        "a = A()\n",
        "b = B()\n",
        "\n",
        "a == b\n",
        "a == None\n",
        "a is None # is는 id 값으로 비교한다.None은 항상 id 값이 1개 이다."
      ],
      "metadata": {
        "colab": {
          "base_uri": "https://localhost:8080/"
        },
        "id": "QRB5YE_3-CE1",
        "outputId": "9832d6ee-fd91-4b65-9ea0-5ce36773de0f"
      },
      "execution_count": 92,
      "outputs": [
        {
          "output_type": "execute_result",
          "data": {
            "text/plain": [
              "False"
            ]
          },
          "metadata": {},
          "execution_count": 92
        }
      ]
    },
    {
      "cell_type": "code",
      "source": [
        "x = ('This will build a very long long '\n",
        "     'long long long long long long string')\n",
        "\n",
        "x"
      ],
      "metadata": {
        "colab": {
          "base_uri": "https://localhost:8080/",
          "height": 35
        },
        "id": "oaQakYyZ-2QG",
        "outputId": "33dc6730-1526-41fe-9dea-6beaf7b65c20"
      },
      "execution_count": 93,
      "outputs": [
        {
          "output_type": "execute_result",
          "data": {
            "text/plain": [
              "'This will build a very long long long long long long long long string'"
            ],
            "application/vnd.google.colaboratory.intrinsic+json": {
              "type": "string"
            }
          },
          "metadata": {},
          "execution_count": 93
        }
      ]
    },
    {
      "cell_type": "code",
      "source": [
        "'hello world' 'hi'"
      ],
      "metadata": {
        "colab": {
          "base_uri": "https://localhost:8080/",
          "height": 35
        },
        "id": "eM-ZPunw-4FD",
        "outputId": "d1bd5850-61b9-4f85-9051-6a75c01b167d"
      },
      "execution_count": 94,
      "outputs": [
        {
          "output_type": "execute_result",
          "data": {
            "text/plain": [
              "'hello worldhi'"
            ],
            "application/vnd.google.colaboratory.intrinsic+json": {
              "type": "string"
            }
          },
          "metadata": {},
          "execution_count": 94
        }
      ]
    },
    {
      "cell_type": "code",
      "source": [
        "golomb3 = [0, 1, 3]\n",
        "golomb4 = [\n",
        "    0,\n",
        "    1,\n",
        "    4,\n",
        "    6,\n",
        "]"
      ],
      "metadata": {
        "id": "to9mhDpH_N_c"
      },
      "execution_count": 95,
      "outputs": []
    }
  ]
}